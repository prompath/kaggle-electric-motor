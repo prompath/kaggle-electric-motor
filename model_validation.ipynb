{
 "cells": [
  {
   "cell_type": "markdown",
   "id": "iraqi-charleston",
   "metadata": {},
   "source": [
    "# Libraries "
   ]
  },
  {
   "cell_type": "code",
   "execution_count": null,
   "id": "bulgarian-newfoundland",
   "metadata": {},
   "outputs": [],
   "source": [
    "# trio!\n",
    "import pandas as pd\n",
    "import numpy as np\n",
    "import matplotlib.pyplot as plt\n",
    "\n",
    "import seaborn as sns\n",
    "import timeit\n",
    "\n",
    "# ML\n",
    "from sklearn.preprocessing import MinMaxScaler\n",
    "from sklearn.metrics import mean_squared_error"
   ]
  },
  {
   "cell_type": "markdown",
   "id": "identified-lesson",
   "metadata": {},
   "source": [
    "# Import Train/Test Set"
   ]
  },
  {
   "cell_type": "markdown",
   "id": "nasty-savannah",
   "metadata": {},
   "source": [
    "This time we use sampling to reduce training time."
   ]
  },
  {
   "cell_type": "code",
   "execution_count": null,
   "id": "rural-morris",
   "metadata": {},
   "outputs": [],
   "source": [
    "df_train = pd.read_csv('train.csv').sample(10000, random_state=2021)\n",
    "df_test = pd.read_csv('test.csv').sample(3000, random_state=2021)"
   ]
  },
  {
   "cell_type": "code",
   "execution_count": null,
   "id": "second-luther",
   "metadata": {},
   "outputs": [],
   "source": [
    "features_list = ['ambient', 'coolant', 'u_d', 'u_q', 'motor_speed', 'i_d', 'i_q']\n",
    "target = 'stator_yoke'"
   ]
  },
  {
   "cell_type": "code",
   "execution_count": null,
   "id": "stuffed-groove",
   "metadata": {},
   "outputs": [],
   "source": [
    "X_train = df_train[features_list].to_numpy()\n",
    "y_train = df_train[target].to_numpy()"
   ]
  },
  {
   "cell_type": "code",
   "execution_count": null,
   "id": "solved-gibraltar",
   "metadata": {},
   "outputs": [],
   "source": [
    "X_train.shape, y_train.shape"
   ]
  },
  {
   "cell_type": "code",
   "execution_count": null,
   "id": "genuine-violation",
   "metadata": {},
   "outputs": [],
   "source": [
    "X_test = df_test[features_list].to_numpy()\n",
    "y_test = df_test[target].to_numpy()"
   ]
  },
  {
   "cell_type": "code",
   "execution_count": null,
   "id": "mounted-engineering",
   "metadata": {},
   "outputs": [],
   "source": [
    "X_test.shape, y_test.shape"
   ]
  },
  {
   "cell_type": "markdown",
   "id": "cognitive-evaluation",
   "metadata": {},
   "source": [
    "# Data Preprocessing"
   ]
  },
  {
   "cell_type": "code",
   "execution_count": null,
   "id": "general-bread",
   "metadata": {},
   "outputs": [],
   "source": [
    "X_scaler = MinMaxScaler()"
   ]
  },
  {
   "cell_type": "code",
   "execution_count": null,
   "id": "tender-cooper",
   "metadata": {},
   "outputs": [],
   "source": [
    "X_train_scaled = X_scaler.fit_transform(X_train)\n",
    "X_test_scaled = X_scaler.transform(X_test)"
   ]
  },
  {
   "cell_type": "markdown",
   "id": "wound-induction",
   "metadata": {},
   "source": [
    "#  Predictive Models"
   ]
  },
  {
   "cell_type": "code",
   "execution_count": null,
   "id": "infrared-jason",
   "metadata": {},
   "outputs": [],
   "source": [
    "# Import grid search\n"
   ]
  },
  {
   "cell_type": "code",
   "execution_count": null,
   "id": "nervous-selection",
   "metadata": {},
   "outputs": [],
   "source": [
    "def plot_test(reg, X, y):\n",
    "    y_pred = reg.predict(X)\n",
    "    plt.scatter(y, y_pred)\n",
    "    rmse = mean_squared_error(y, y_pred, squared=False)\n",
    "    print(f'RMSE: {rmse}')"
   ]
  },
  {
   "cell_type": "markdown",
   "id": "formed-spelling",
   "metadata": {},
   "source": [
    "## Ridge "
   ]
  },
  {
   "cell_type": "code",
   "execution_count": null,
   "id": "strategic-giving",
   "metadata": {},
   "outputs": [],
   "source": [
    "from sklearn.linear_model import Ridge"
   ]
  },
  {
   "cell_type": "markdown",
   "id": "afraid-suffering",
   "metadata": {},
   "source": [
    "https://scikit-learn.org/stable/modules/generated/sklearn.linear_model.Ridge.html"
   ]
  },
  {
   "cell_type": "code",
   "execution_count": null,
   "id": "moved-timing",
   "metadata": {},
   "outputs": [],
   "source": [
    "# Make a dictionary of parameters to do a search\n",
    "param_grid_ridge = "
   ]
  },
  {
   "cell_type": "markdown",
   "id": "congressional-blocking",
   "metadata": {},
   "source": [
    "### Grid Search"
   ]
  },
  {
   "cell_type": "code",
   "execution_count": null,
   "id": "verified-valuation",
   "metadata": {},
   "outputs": [],
   "source": [
    "grid_search_ridge = GridSearchCV(________)"
   ]
  },
  {
   "cell_type": "code",
   "execution_count": null,
   "id": "embedded-train",
   "metadata": {},
   "outputs": [],
   "source": [
    "%timeit "
   ]
  },
  {
   "cell_type": "code",
   "execution_count": null,
   "id": "miniature-european",
   "metadata": {},
   "outputs": [],
   "source": []
  },
  {
   "cell_type": "code",
   "execution_count": null,
   "id": "announced-bandwidth",
   "metadata": {},
   "outputs": [],
   "source": [
    "plot_test(grid_search_ridge, X_test_scaled, y_test)"
   ]
  },
  {
   "cell_type": "markdown",
   "id": "favorite-classic",
   "metadata": {},
   "source": [
    "### Randomized Search"
   ]
  },
  {
   "cell_type": "code",
   "execution_count": null,
   "id": "inclusive-seating",
   "metadata": {},
   "outputs": [],
   "source": [
    "rand_search_ridge = RandomizedSearchCV(________)"
   ]
  },
  {
   "cell_type": "code",
   "execution_count": null,
   "id": "analyzed-password",
   "metadata": {},
   "outputs": [],
   "source": [
    "%timeit "
   ]
  },
  {
   "cell_type": "code",
   "execution_count": null,
   "id": "meaningful-lightweight",
   "metadata": {},
   "outputs": [],
   "source": [
    "rand_search_ridge.best_params_"
   ]
  },
  {
   "cell_type": "code",
   "execution_count": null,
   "id": "alive-trunk",
   "metadata": {},
   "outputs": [],
   "source": [
    "rand_search_ridge.cv_results_"
   ]
  },
  {
   "cell_type": "code",
   "execution_count": null,
   "id": "addressed-perspective",
   "metadata": {},
   "outputs": [],
   "source": [
    "df_rand_search_ridge = pd.DataFrame(rand_search_ridge.cv_results_)\n",
    "df_rand_search_ridge.head(5)"
   ]
  },
  {
   "cell_type": "code",
   "execution_count": null,
   "id": "brilliant-imperial",
   "metadata": {},
   "outputs": [],
   "source": [
    "df_rand_search_ridge.sort_values([\"param_solver\", \"param_alpha\", \"mean_test_score\"], inplace=True)"
   ]
  },
  {
   "cell_type": "code",
   "execution_count": null,
   "id": "nasty-american",
   "metadata": {},
   "outputs": [],
   "source": [
    "sns.lineplot(x=\"param_alpha\", y=\"mean_test_score\", hue=\"param_solver\", data=df_rand_search_ridge)"
   ]
  },
  {
   "cell_type": "code",
   "execution_count": null,
   "id": "complimentary-princess",
   "metadata": {},
   "outputs": [],
   "source": [
    "rand_search_ridge.score(X_test_scaled, y_test)"
   ]
  },
  {
   "cell_type": "code",
   "execution_count": null,
   "id": "attempted-coral",
   "metadata": {},
   "outputs": [],
   "source": [
    "plot_test(rand_search_ridge, X_test_scaled, y_test)"
   ]
  },
  {
   "cell_type": "markdown",
   "id": "flexible-equality",
   "metadata": {},
   "source": [
    "## Lasso"
   ]
  },
  {
   "cell_type": "code",
   "execution_count": null,
   "id": "micro-denmark",
   "metadata": {},
   "outputs": [],
   "source": [
    "from sklearn.linear_model import Lasso"
   ]
  },
  {
   "cell_type": "markdown",
   "id": "aboriginal-deposit",
   "metadata": {},
   "source": [
    "https://scikit-learn.org/stable/modules/generated/sklearn.linear_model.Lasso.html"
   ]
  },
  {
   "cell_type": "code",
   "execution_count": null,
   "id": "surface-memorabilia",
   "metadata": {},
   "outputs": [],
   "source": [
    "param_grid_lasso = {\n",
    "    \n",
    "}"
   ]
  },
  {
   "cell_type": "code",
   "execution_count": null,
   "id": "deadly-spare",
   "metadata": {},
   "outputs": [],
   "source": [
    "grid_search_lasso = GridSearchCV(Lasso(), param_grid=param_grid_lasso, cv=5, n_jobs=-1)"
   ]
  },
  {
   "cell_type": "code",
   "execution_count": null,
   "id": "subsequent-sandwich",
   "metadata": {},
   "outputs": [],
   "source": [
    "grid_search_lasso.fit(X_train_scaled, y_train)"
   ]
  },
  {
   "cell_type": "code",
   "execution_count": null,
   "id": "instrumental-renewal",
   "metadata": {},
   "outputs": [],
   "source": [
    "grid_search_lasso.best_params_"
   ]
  },
  {
   "cell_type": "code",
   "execution_count": null,
   "id": "temporal-template",
   "metadata": {},
   "outputs": [],
   "source": [
    "grid_search_lasso.cv_results_"
   ]
  },
  {
   "cell_type": "code",
   "execution_count": null,
   "id": "entitled-planning",
   "metadata": {},
   "outputs": [],
   "source": [
    "df_grid_search_lasso = pd.DataFrame(grid_search_lasso.cv_results_)\n",
    "df_grid_search_lasso.head(5)"
   ]
  },
  {
   "cell_type": "code",
   "execution_count": null,
   "id": "minimal-fountain",
   "metadata": {},
   "outputs": [],
   "source": [
    "df_grid_search_lasso.sort_values([\"param_alpha\", \"mean_test_score\"], inplace=True)"
   ]
  },
  {
   "cell_type": "code",
   "execution_count": null,
   "id": "convinced-johnston",
   "metadata": {},
   "outputs": [],
   "source": [
    "sns.lineplot(x=\"param_alpha\", y=\"mean_test_score\", data=df_grid_search_lasso)"
   ]
  },
  {
   "cell_type": "code",
   "execution_count": null,
   "id": "copyrighted-efficiency",
   "metadata": {},
   "outputs": [],
   "source": [
    "grid_search_lasso.score(X_test_scaled, y_test)"
   ]
  },
  {
   "cell_type": "code",
   "execution_count": null,
   "id": "amazing-stone",
   "metadata": {},
   "outputs": [],
   "source": [
    "plot_test(grid_search_lasso, X_test_scaled, y_test)"
   ]
  },
  {
   "cell_type": "markdown",
   "id": "scheduled-familiar",
   "metadata": {},
   "source": [
    "## Decision Tree Regressor "
   ]
  },
  {
   "cell_type": "code",
   "execution_count": null,
   "id": "optical-handle",
   "metadata": {},
   "outputs": [],
   "source": [
    "from sklearn.tree import DecisionTreeRegressor"
   ]
  },
  {
   "cell_type": "markdown",
   "id": "incomplete-meaning",
   "metadata": {},
   "source": [
    "https://scikit-learn.org/stable/modules/generated/sklearn.tree.DecisionTreeRegressor.html"
   ]
  },
  {
   "cell_type": "code",
   "execution_count": null,
   "id": "responsible-appraisal",
   "metadata": {},
   "outputs": [],
   "source": [
    "param_grid_dt_reg = {\n",
    "    \"max_depth\": [5, 7, 10, 15, 30],\n",
    "    \"min_samples_split\": [2, 5, 10],\n",
    "    \"min_samples_leaf\": [1, 10, 20],\n",
    "}"
   ]
  },
  {
   "cell_type": "code",
   "execution_count": null,
   "id": "controlled-evidence",
   "metadata": {},
   "outputs": [],
   "source": [
    "grid_search_dt_reg = GridSearchCV(DecisionTreeRegressor(), param_grid_dt_reg, cv=5, n_jobs=-1)"
   ]
  },
  {
   "cell_type": "code",
   "execution_count": null,
   "id": "scheduled-charger",
   "metadata": {},
   "outputs": [],
   "source": [
    "grid_search_dt_reg.fit(X_train, y_train)"
   ]
  },
  {
   "cell_type": "code",
   "execution_count": null,
   "id": "opened-australian",
   "metadata": {},
   "outputs": [],
   "source": [
    "grid_search_dt_reg.best_params_"
   ]
  },
  {
   "cell_type": "code",
   "execution_count": null,
   "id": "wrong-curtis",
   "metadata": {},
   "outputs": [],
   "source": [
    "grid_search_dt_reg.cv_results_"
   ]
  },
  {
   "cell_type": "code",
   "execution_count": null,
   "id": "individual-falls",
   "metadata": {},
   "outputs": [],
   "source": [
    "df_grid_search_dt_reg = pd.DataFrame(grid_search_dt_reg.cv_results_)\n",
    "df_grid_search_dt_reg.head(5)"
   ]
  },
  {
   "cell_type": "code",
   "execution_count": null,
   "id": "cutting-sender",
   "metadata": {},
   "outputs": [],
   "source": [
    "df_grid_search_dt_reg.sort_values([\"param_max_depth\", \"param_min_samples_leaf\", \"param_min_samples_split\", \"mean_test_score\"], inplace=True)"
   ]
  },
  {
   "cell_type": "code",
   "execution_count": null,
   "id": "tight-cartoon",
   "metadata": {},
   "outputs": [],
   "source": [
    "fig_dt_reg = sns.FacetGrid(df_grid_search_dt_reg, col=\"param_min_samples_split\")\n",
    "fig_dt_reg.map(sns.lineplot, \"param_max_depth\", \"mean_test_score\", \"param_min_samples_leaf\")\n",
    "plt.plot([], [], ' ', label=\"min_samples_leaf\")\n",
    "plt.legend()\n",
    "plt.show()"
   ]
  },
  {
   "cell_type": "code",
   "execution_count": null,
   "id": "valued-criminal",
   "metadata": {},
   "outputs": [],
   "source": [
    "grid_search_dt_reg.score(X_test, y_test)"
   ]
  },
  {
   "cell_type": "code",
   "execution_count": null,
   "id": "infinite-devices",
   "metadata": {},
   "outputs": [],
   "source": [
    "plot_test(grid_search_dt_reg, X_test, y_test)"
   ]
  },
  {
   "cell_type": "markdown",
   "id": "verified-checklist",
   "metadata": {},
   "source": [
    "## Random Forest Regressor"
   ]
  },
  {
   "cell_type": "code",
   "execution_count": null,
   "id": "sticky-hunter",
   "metadata": {},
   "outputs": [],
   "source": []
  },
  {
   "cell_type": "code",
   "execution_count": null,
   "id": "industrial-graham",
   "metadata": {},
   "outputs": [],
   "source": []
  },
  {
   "cell_type": "code",
   "execution_count": null,
   "id": "educational-nirvana",
   "metadata": {},
   "outputs": [],
   "source": []
  },
  {
   "cell_type": "markdown",
   "id": "welcome-miniature",
   "metadata": {},
   "source": [
    "## AdaBoost Regressor"
   ]
  },
  {
   "cell_type": "code",
   "execution_count": null,
   "id": "municipal-secret",
   "metadata": {},
   "outputs": [],
   "source": []
  },
  {
   "cell_type": "code",
   "execution_count": null,
   "id": "cardiovascular-ending",
   "metadata": {},
   "outputs": [],
   "source": []
  },
  {
   "cell_type": "code",
   "execution_count": null,
   "id": "static-absorption",
   "metadata": {},
   "outputs": [],
   "source": []
  },
  {
   "cell_type": "markdown",
   "id": "killing-workplace",
   "metadata": {},
   "source": [
    "## Gradient Boosting Regressor "
   ]
  },
  {
   "cell_type": "code",
   "execution_count": null,
   "id": "innovative-ridge",
   "metadata": {},
   "outputs": [],
   "source": []
  },
  {
   "cell_type": "code",
   "execution_count": null,
   "id": "proprietary-indiana",
   "metadata": {},
   "outputs": [],
   "source": []
  },
  {
   "cell_type": "code",
   "execution_count": null,
   "id": "circular-scroll",
   "metadata": {},
   "outputs": [],
   "source": []
  },
  {
   "cell_type": "markdown",
   "id": "honest-house",
   "metadata": {},
   "source": [
    "## XGBoost Regressor"
   ]
  },
  {
   "cell_type": "code",
   "execution_count": null,
   "id": "human-newman",
   "metadata": {},
   "outputs": [],
   "source": []
  },
  {
   "cell_type": "code",
   "execution_count": null,
   "id": "developed-mouse",
   "metadata": {},
   "outputs": [],
   "source": []
  },
  {
   "cell_type": "code",
   "execution_count": null,
   "id": "clean-outside",
   "metadata": {},
   "outputs": [],
   "source": []
  }
 ],
 "metadata": {
  "kernelspec": {
   "display_name": "Python 3",
   "language": "python",
   "name": "python3"
  },
  "language_info": {
   "codemirror_mode": {
    "name": "ipython",
    "version": 3
   },
   "file_extension": ".py",
   "mimetype": "text/x-python",
   "name": "python",
   "nbconvert_exporter": "python",
   "pygments_lexer": "ipython3",
   "version": "3.8.5"
  }
 },
 "nbformat": 4,
 "nbformat_minor": 5
}
