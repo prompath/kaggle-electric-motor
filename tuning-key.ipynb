{
 "cells": [
  {
   "cell_type": "markdown",
   "id": "applied-cutting",
   "metadata": {},
   "source": [
    "# Libraries "
   ]
  },
  {
   "cell_type": "code",
   "execution_count": 1,
   "id": "suffering-charger",
   "metadata": {},
   "outputs": [],
   "source": [
    "# trio!\n",
    "import pandas as pd\n",
    "import numpy as np\n",
    "import matplotlib.pyplot as plt\n",
    "\n",
    "import seaborn as sns\n",
    "import timeit\n",
    "\n",
    "# ML\n",
    "from sklearn.preprocessing import MinMaxScaler\n",
    "from sklearn.metrics import mean_squared_error"
   ]
  },
  {
   "cell_type": "markdown",
   "id": "mysterious-wallpaper",
   "metadata": {},
   "source": [
    "# Import Train/Test Set"
   ]
  },
  {
   "cell_type": "markdown",
   "id": "damaged-cheat",
   "metadata": {},
   "source": [
    "This time we use sampling to reduce training time."
   ]
  },
  {
   "cell_type": "code",
   "execution_count": 2,
   "id": "emotional-deviation",
   "metadata": {},
   "outputs": [],
   "source": [
    "df_train = pd.read_csv('train.csv').sample(10000, random_state=2021)\n",
    "df_test = pd.read_csv('test.csv').sample(3000, random_state=2021)"
   ]
  },
  {
   "cell_type": "code",
   "execution_count": 3,
   "id": "virtual-nerve",
   "metadata": {},
   "outputs": [],
   "source": [
    "features_list = ['ambient', 'coolant', 'u_d', 'u_q', 'motor_speed', 'i_d', 'i_q']\n",
    "target = 'stator_yoke'"
   ]
  },
  {
   "cell_type": "code",
   "execution_count": 4,
   "id": "embedded-exercise",
   "metadata": {},
   "outputs": [],
   "source": [
    "X_train = df_train[features_list].to_numpy()\n",
    "y_train = df_train[target].to_numpy()"
   ]
  },
  {
   "cell_type": "code",
   "execution_count": 5,
   "id": "cordless-genetics",
   "metadata": {},
   "outputs": [
    {
     "data": {
      "text/plain": [
       "((10000, 7), (10000,))"
      ]
     },
     "execution_count": 5,
     "metadata": {},
     "output_type": "execute_result"
    }
   ],
   "source": [
    "X_train.shape, y_train.shape"
   ]
  },
  {
   "cell_type": "code",
   "execution_count": 6,
   "id": "integral-craft",
   "metadata": {},
   "outputs": [],
   "source": [
    "X_test = df_test[features_list].to_numpy()\n",
    "y_test = df_test[target].to_numpy()"
   ]
  },
  {
   "cell_type": "code",
   "execution_count": 7,
   "id": "generous-lover",
   "metadata": {},
   "outputs": [
    {
     "data": {
      "text/plain": [
       "((3000, 7), (3000,))"
      ]
     },
     "execution_count": 7,
     "metadata": {},
     "output_type": "execute_result"
    }
   ],
   "source": [
    "X_test.shape, y_test.shape"
   ]
  },
  {
   "cell_type": "markdown",
   "id": "satisfactory-sheet",
   "metadata": {},
   "source": [
    "# Data Preprocessing"
   ]
  },
  {
   "cell_type": "code",
   "execution_count": 8,
   "id": "ahead-silly",
   "metadata": {},
   "outputs": [],
   "source": [
    "X_scaler = MinMaxScaler()"
   ]
  },
  {
   "cell_type": "code",
   "execution_count": 9,
   "id": "serial-tamil",
   "metadata": {},
   "outputs": [],
   "source": [
    "X_train_scaled = X_scaler.fit_transform(X_train)\n",
    "X_test_scaled = X_scaler.transform(X_test)"
   ]
  },
  {
   "cell_type": "markdown",
   "id": "measured-virgin",
   "metadata": {},
   "source": [
    "#  Predictive Models"
   ]
  },
  {
   "cell_type": "code",
   "execution_count": 10,
   "id": "swedish-finding",
   "metadata": {},
   "outputs": [],
   "source": [
    "from sklearn.model_selection import GridSearchCV, RandomizedSearchCV"
   ]
  },
  {
   "cell_type": "code",
   "execution_count": 11,
   "id": "optional-consumption",
   "metadata": {},
   "outputs": [],
   "source": [
    "def plot_test(reg, X, y):\n",
    "    y_pred = reg.predict(X)\n",
    "    plt.scatter(y, y_pred)\n",
    "    rmse = mean_squared_error(y, y_pred, squared=False)\n",
    "    print(f'RMSE: {rmse}')"
   ]
  },
  {
   "cell_type": "markdown",
   "id": "guilty-asian",
   "metadata": {},
   "source": [
    "## Ridge "
   ]
  },
  {
   "cell_type": "code",
   "execution_count": 12,
   "id": "split-partition",
   "metadata": {},
   "outputs": [],
   "source": [
    "from sklearn.linear_model import Ridge"
   ]
  },
  {
   "cell_type": "markdown",
   "id": "increasing-alexander",
   "metadata": {},
   "source": [
    "https://scikit-learn.org/stable/modules/generated/sklearn.linear_model.Ridge.html"
   ]
  },
  {
   "cell_type": "code",
   "execution_count": 13,
   "id": "useful-calculation",
   "metadata": {},
   "outputs": [],
   "source": [
    "param_grid_ridge = {\n",
    "    \"alpha\": [0.01, 0.2, 0.4, 0.6, 0.8, 1],\n",
    "    \"solver\": [\"cholesky\", \"saga\"]\n",
    "}"
   ]
  },
  {
   "cell_type": "markdown",
   "id": "supreme-republic",
   "metadata": {},
   "source": [
    "### Grid Search"
   ]
  },
  {
   "cell_type": "code",
   "execution_count": 14,
   "id": "underlying-snake",
   "metadata": {},
   "outputs": [],
   "source": [
    "grid_search_ridge = GridSearchCV(Ridge(), param_grid_ridge, cv=5, n_jobs=-1)"
   ]
  },
  {
   "cell_type": "code",
   "execution_count": 15,
   "id": "bored-cooperative",
   "metadata": {},
   "outputs": [
    {
     "name": "stdout",
     "output_type": "stream",
     "text": [
      "82.2 ms ± 3.2 ms per loop (mean ± std. dev. of 7 runs, 1 loop each)\n"
     ]
    }
   ],
   "source": [
    "%timeit grid_search_ridge.fit(X_train_scaled, y_train)"
   ]
  },
  {
   "cell_type": "code",
   "execution_count": 16,
   "id": "chronic-festival",
   "metadata": {},
   "outputs": [
    {
     "data": {
      "text/plain": [
       "{'alpha': 0.01, 'solver': 'saga'}"
      ]
     },
     "execution_count": 16,
     "metadata": {},
     "output_type": "execute_result"
    }
   ],
   "source": [
    "grid_search_ridge.best_params_"
   ]
  },
  {
   "cell_type": "code",
   "execution_count": 17,
   "id": "arbitrary-greenhouse",
   "metadata": {
    "collapsed": true,
    "jupyter": {
     "outputs_hidden": true
    }
   },
   "outputs": [
    {
     "data": {
      "text/plain": [
       "{'mean_fit_time': array([0.00180364, 0.01419735, 0.00189962, 0.0124002 , 0.00149956,\n",
       "        0.01289973, 0.0013999 , 0.0124001 , 0.00150065, 0.01219921,\n",
       "        0.00189981, 0.01180024]),\n",
       " 'std_fit_time': array([0.00024967, 0.00075067, 0.00019927, 0.00120006, 0.00031613,\n",
       "        0.00058366, 0.00037369, 0.00096984, 0.00044772, 0.00159969,\n",
       "        0.00037419, 0.00081244]),\n",
       " 'mean_score_time': array([0.00040011, 0.00050535, 0.00060019, 0.00050077, 0.00050006,\n",
       "        0.00050092, 0.00030003, 0.0004003 , 0.00040011, 0.00050092,\n",
       "        0.00019999, 0.00030255]),\n",
       " 'std_score_time': array([2.00381952e-04, 1.06598437e-05, 1.99985959e-04, 9.48893964e-07,\n",
       "        3.23406696e-07, 3.01578299e-07, 2.44970216e-04, 2.00153441e-04,\n",
       "        2.00059608e-04, 1.18731495e-06, 2.44931638e-04, 2.47066353e-04]),\n",
       " 'param_alpha': masked_array(data=[0.01, 0.01, 0.2, 0.2, 0.4, 0.4, 0.6, 0.6, 0.8, 0.8, 1,\n",
       "                    1],\n",
       "              mask=[False, False, False, False, False, False, False, False,\n",
       "                    False, False, False, False],\n",
       "        fill_value='?',\n",
       "             dtype=object),\n",
       " 'param_solver': masked_array(data=['cholesky', 'saga', 'cholesky', 'saga', 'cholesky',\n",
       "                    'saga', 'cholesky', 'saga', 'cholesky', 'saga',\n",
       "                    'cholesky', 'saga'],\n",
       "              mask=[False, False, False, False, False, False, False, False,\n",
       "                    False, False, False, False],\n",
       "        fill_value='?',\n",
       "             dtype=object),\n",
       " 'params': [{'alpha': 0.01, 'solver': 'cholesky'},\n",
       "  {'alpha': 0.01, 'solver': 'saga'},\n",
       "  {'alpha': 0.2, 'solver': 'cholesky'},\n",
       "  {'alpha': 0.2, 'solver': 'saga'},\n",
       "  {'alpha': 0.4, 'solver': 'cholesky'},\n",
       "  {'alpha': 0.4, 'solver': 'saga'},\n",
       "  {'alpha': 0.6, 'solver': 'cholesky'},\n",
       "  {'alpha': 0.6, 'solver': 'saga'},\n",
       "  {'alpha': 0.8, 'solver': 'cholesky'},\n",
       "  {'alpha': 0.8, 'solver': 'saga'},\n",
       "  {'alpha': 1, 'solver': 'cholesky'},\n",
       "  {'alpha': 1, 'solver': 'saga'}],\n",
       " 'split0_test_score': array([0.84259326, 0.84258557, 0.84259853, 0.84259336, 0.84260358,\n",
       "        0.84260618, 0.84260813, 0.84260492, 0.84261221, 0.84262058,\n",
       "        0.8426158 , 0.84261479]),\n",
       " 'split1_test_score': array([0.84573335, 0.84573306, 0.845727  , 0.84571765, 0.84571996,\n",
       "        0.84572343, 0.84571255, 0.8457057 , 0.84570478, 0.84570576,\n",
       "        0.84569666, 0.84569807]),\n",
       " 'split2_test_score': array([0.83223441, 0.8322411 , 0.83223703, 0.83223499, 0.8322394 ,\n",
       "        0.83224276, 0.83224137, 0.83223105, 0.83224296, 0.83222877,\n",
       "        0.83224417, 0.83224338]),\n",
       " 'split3_test_score': array([0.84949559, 0.84949166, 0.8494993 , 0.84950977, 0.8495028 ,\n",
       "        0.84948621, 0.84950589, 0.84950058, 0.84950859, 0.84951069,\n",
       "        0.84951089, 0.8495063 ]),\n",
       " 'split4_test_score': array([0.8502147 , 0.85023298, 0.85021121, 0.85021555, 0.85020713,\n",
       "        0.85020525, 0.85020264, 0.85020931, 0.85019774, 0.85019971,\n",
       "        0.85019245, 0.85019203]),\n",
       " 'mean_test_score': array([0.84405426, 0.84405687, 0.84405461, 0.84405426, 0.84405457,\n",
       "        0.84405277, 0.84405412, 0.84405031, 0.84405326, 0.8440531 ,\n",
       "        0.84405199, 0.84405092]),\n",
       " 'std_test_score': array([0.00651493, 0.00651564, 0.00651338, 0.00651644, 0.00651175,\n",
       "        0.00650746, 0.00651012, 0.00651403, 0.0065085 , 0.00651405,\n",
       "        0.00650688, 0.00650643]),\n",
       " 'rank_test_score': array([ 5,  1,  2,  4,  3,  9,  6, 12,  7,  8, 10, 11])}"
      ]
     },
     "execution_count": 17,
     "metadata": {},
     "output_type": "execute_result"
    }
   ],
   "source": [
    "grid_search_ridge.cv_results_"
   ]
  },
  {
   "cell_type": "code",
   "execution_count": 18,
   "id": "bearing-approach",
   "metadata": {},
   "outputs": [
    {
     "data": {
      "text/html": [
       "<div>\n",
       "<style scoped>\n",
       "    .dataframe tbody tr th:only-of-type {\n",
       "        vertical-align: middle;\n",
       "    }\n",
       "\n",
       "    .dataframe tbody tr th {\n",
       "        vertical-align: top;\n",
       "    }\n",
       "\n",
       "    .dataframe thead th {\n",
       "        text-align: right;\n",
       "    }\n",
       "</style>\n",
       "<table border=\"1\" class=\"dataframe\">\n",
       "  <thead>\n",
       "    <tr style=\"text-align: right;\">\n",
       "      <th></th>\n",
       "      <th>mean_fit_time</th>\n",
       "      <th>std_fit_time</th>\n",
       "      <th>mean_score_time</th>\n",
       "      <th>std_score_time</th>\n",
       "      <th>param_alpha</th>\n",
       "      <th>param_solver</th>\n",
       "      <th>params</th>\n",
       "      <th>split0_test_score</th>\n",
       "      <th>split1_test_score</th>\n",
       "      <th>split2_test_score</th>\n",
       "      <th>split3_test_score</th>\n",
       "      <th>split4_test_score</th>\n",
       "      <th>mean_test_score</th>\n",
       "      <th>std_test_score</th>\n",
       "      <th>rank_test_score</th>\n",
       "    </tr>\n",
       "  </thead>\n",
       "  <tbody>\n",
       "    <tr>\n",
       "      <th>0</th>\n",
       "      <td>0.001804</td>\n",
       "      <td>0.000250</td>\n",
       "      <td>0.000400</td>\n",
       "      <td>2.003820e-04</td>\n",
       "      <td>0.01</td>\n",
       "      <td>cholesky</td>\n",
       "      <td>{'alpha': 0.01, 'solver': 'cholesky'}</td>\n",
       "      <td>0.842593</td>\n",
       "      <td>0.845733</td>\n",
       "      <td>0.832234</td>\n",
       "      <td>0.849496</td>\n",
       "      <td>0.850215</td>\n",
       "      <td>0.844054</td>\n",
       "      <td>0.006515</td>\n",
       "      <td>5</td>\n",
       "    </tr>\n",
       "    <tr>\n",
       "      <th>1</th>\n",
       "      <td>0.014197</td>\n",
       "      <td>0.000751</td>\n",
       "      <td>0.000505</td>\n",
       "      <td>1.065984e-05</td>\n",
       "      <td>0.01</td>\n",
       "      <td>saga</td>\n",
       "      <td>{'alpha': 0.01, 'solver': 'saga'}</td>\n",
       "      <td>0.842586</td>\n",
       "      <td>0.845733</td>\n",
       "      <td>0.832241</td>\n",
       "      <td>0.849492</td>\n",
       "      <td>0.850233</td>\n",
       "      <td>0.844057</td>\n",
       "      <td>0.006516</td>\n",
       "      <td>1</td>\n",
       "    </tr>\n",
       "    <tr>\n",
       "      <th>2</th>\n",
       "      <td>0.001900</td>\n",
       "      <td>0.000199</td>\n",
       "      <td>0.000600</td>\n",
       "      <td>1.999860e-04</td>\n",
       "      <td>0.2</td>\n",
       "      <td>cholesky</td>\n",
       "      <td>{'alpha': 0.2, 'solver': 'cholesky'}</td>\n",
       "      <td>0.842599</td>\n",
       "      <td>0.845727</td>\n",
       "      <td>0.832237</td>\n",
       "      <td>0.849499</td>\n",
       "      <td>0.850211</td>\n",
       "      <td>0.844055</td>\n",
       "      <td>0.006513</td>\n",
       "      <td>2</td>\n",
       "    </tr>\n",
       "    <tr>\n",
       "      <th>3</th>\n",
       "      <td>0.012400</td>\n",
       "      <td>0.001200</td>\n",
       "      <td>0.000501</td>\n",
       "      <td>9.488940e-07</td>\n",
       "      <td>0.2</td>\n",
       "      <td>saga</td>\n",
       "      <td>{'alpha': 0.2, 'solver': 'saga'}</td>\n",
       "      <td>0.842593</td>\n",
       "      <td>0.845718</td>\n",
       "      <td>0.832235</td>\n",
       "      <td>0.849510</td>\n",
       "      <td>0.850216</td>\n",
       "      <td>0.844054</td>\n",
       "      <td>0.006516</td>\n",
       "      <td>4</td>\n",
       "    </tr>\n",
       "    <tr>\n",
       "      <th>4</th>\n",
       "      <td>0.001500</td>\n",
       "      <td>0.000316</td>\n",
       "      <td>0.000500</td>\n",
       "      <td>3.234067e-07</td>\n",
       "      <td>0.4</td>\n",
       "      <td>cholesky</td>\n",
       "      <td>{'alpha': 0.4, 'solver': 'cholesky'}</td>\n",
       "      <td>0.842604</td>\n",
       "      <td>0.845720</td>\n",
       "      <td>0.832239</td>\n",
       "      <td>0.849503</td>\n",
       "      <td>0.850207</td>\n",
       "      <td>0.844055</td>\n",
       "      <td>0.006512</td>\n",
       "      <td>3</td>\n",
       "    </tr>\n",
       "  </tbody>\n",
       "</table>\n",
       "</div>"
      ],
      "text/plain": [
       "   mean_fit_time  std_fit_time  mean_score_time  std_score_time param_alpha  \\\n",
       "0       0.001804      0.000250         0.000400    2.003820e-04        0.01   \n",
       "1       0.014197      0.000751         0.000505    1.065984e-05        0.01   \n",
       "2       0.001900      0.000199         0.000600    1.999860e-04         0.2   \n",
       "3       0.012400      0.001200         0.000501    9.488940e-07         0.2   \n",
       "4       0.001500      0.000316         0.000500    3.234067e-07         0.4   \n",
       "\n",
       "  param_solver                                 params  split0_test_score  \\\n",
       "0     cholesky  {'alpha': 0.01, 'solver': 'cholesky'}           0.842593   \n",
       "1         saga      {'alpha': 0.01, 'solver': 'saga'}           0.842586   \n",
       "2     cholesky   {'alpha': 0.2, 'solver': 'cholesky'}           0.842599   \n",
       "3         saga       {'alpha': 0.2, 'solver': 'saga'}           0.842593   \n",
       "4     cholesky   {'alpha': 0.4, 'solver': 'cholesky'}           0.842604   \n",
       "\n",
       "   split1_test_score  split2_test_score  split3_test_score  split4_test_score  \\\n",
       "0           0.845733           0.832234           0.849496           0.850215   \n",
       "1           0.845733           0.832241           0.849492           0.850233   \n",
       "2           0.845727           0.832237           0.849499           0.850211   \n",
       "3           0.845718           0.832235           0.849510           0.850216   \n",
       "4           0.845720           0.832239           0.849503           0.850207   \n",
       "\n",
       "   mean_test_score  std_test_score  rank_test_score  \n",
       "0         0.844054        0.006515                5  \n",
       "1         0.844057        0.006516                1  \n",
       "2         0.844055        0.006513                2  \n",
       "3         0.844054        0.006516                4  \n",
       "4         0.844055        0.006512                3  "
      ]
     },
     "execution_count": 18,
     "metadata": {},
     "output_type": "execute_result"
    }
   ],
   "source": [
    "df_grid_search_ridge = pd.DataFrame(grid_search_ridge.cv_results_)\n",
    "df_grid_search_ridge.head(5)"
   ]
  },
  {
   "cell_type": "code",
   "execution_count": 19,
   "id": "threaded-bahrain",
   "metadata": {},
   "outputs": [],
   "source": [
    "df_grid_search_ridge.sort_values([\"param_solver\", \"param_alpha\", \"mean_test_score\"], inplace=True)"
   ]
  },
  {
   "cell_type": "code",
   "execution_count": 20,
   "id": "least-kuwait",
   "metadata": {},
   "outputs": [
    {
     "data": {
      "text/plain": [
       "<AxesSubplot:xlabel='param_alpha', ylabel='mean_test_score'>"
      ]
     },
     "execution_count": 20,
     "metadata": {},
     "output_type": "execute_result"
    },
    {
     "data": {
      "image/png": "[encoded data removed]",
      "text/plain": [
       "<Figure size 432x288 with 1 Axes>"
      ]
     },
     "metadata": {
      "needs_background": "light"
     },
     "output_type": "display_data"
    }
   ],
   "source": [
    "sns.lineplot(x=\"param_alpha\", y=\"mean_test_score\", hue=\"param_solver\", data=df_grid_search_ridge)"
   ]
  },
  {
   "cell_type": "code",
   "execution_count": 21,
   "id": "documentary-criminal",
   "metadata": {},
   "outputs": [
    {
     "data": {
      "text/plain": [
       "0.833076742409584"
      ]
     },
     "execution_count": 21,
     "metadata": {},
     "output_type": "execute_result"
    }
   ],
   "source": [
    "grid_search_ridge.score(X_test_scaled, y_test)"
   ]
  },
  {
   "cell_type": "code",
   "execution_count": 22,
   "id": "supported-horizon",
   "metadata": {},
   "outputs": [
    {
     "name": "stdout",
     "output_type": "stream",
     "text": [
      "RMSE: 0.3862999261057888\n"
     ]
    },
    {
     "data": {
      "image/png": "[encoded data removed]",
      "text/plain": [
       "<Figure size 432x288 with 1 Axes>"
      ]
     },
     "metadata": {
      "needs_background": "light"
     },
     "output_type": "display_data"
    }
   ],
   "source": [
    "plot_test(grid_search_ridge, X_test_scaled, y_test)"
   ]
  },
  {
   "cell_type": "markdown",
   "id": "martial-vacuum",
   "metadata": {},
   "source": [
    "### Randomized Search"
   ]
  },
  {
   "cell_type": "code",
   "execution_count": 23,
   "id": "laughing-musical",
   "metadata": {},
   "outputs": [],
   "source": [
    "rand_search_ridge = RandomizedSearchCV(Ridge(), param_grid_ridge, cv=5, n_jobs=-1)"
   ]
  },
  {
   "cell_type": "code",
   "execution_count": 24,
   "id": "above-footage",
   "metadata": {},
   "outputs": [
    {
     "name": "stdout",
     "output_type": "stream",
     "text": [
      "69.6 ms ± 1.83 ms per loop (mean ± std. dev. of 7 runs, 10 loops each)\n"
     ]
    }
   ],
   "source": [
    "%timeit rand_search_ridge.fit(X_train_scaled, y_train)"
   ]
  },
  {
   "cell_type": "code",
   "execution_count": 25,
   "id": "combined-south",
   "metadata": {},
   "outputs": [
    {
     "data": {
      "text/plain": [
       "{'solver': 'saga', 'alpha': 0.2}"
      ]
     },
     "execution_count": 25,
     "metadata": {},
     "output_type": "execute_result"
    }
   ],
   "source": [
    "rand_search_ridge.best_params_"
   ]
  },
  {
   "cell_type": "code",
   "execution_count": 26,
   "id": "cardiovascular-string",
   "metadata": {
    "collapsed": true,
    "jupyter": {
     "outputs_hidden": true
    }
   },
   "outputs": [
    {
     "data": {
      "text/plain": [
       "{'mean_fit_time': array([0.00150027, 0.00129995, 0.01339989, 0.01389656, 0.00170064,\n",
       "        0.00119867, 0.00139985, 0.00959787, 0.00139832, 0.01010256]),\n",
       " 'std_fit_time': array([0.00031651, 0.00024507, 0.00086055, 0.00158596, 0.00040031,\n",
       "        0.00024586, 0.00019996, 0.00152849, 0.00037617, 0.00127546]),\n",
       " 'mean_score_time': array([0.00030007, 0.00030031, 0.00050039, 0.00059977, 0.00040026,\n",
       "        0.00030141, 0.00040379, 0.00039983, 0.00038414, 0.0001966 ]),\n",
       " 'std_score_time': array([2.45010031e-04, 2.45205162e-04, 2.78041453e-07, 2.00081213e-04,\n",
       "        5.83429104e-04, 2.46111747e-04, 2.01933561e-04, 1.99914171e-04,\n",
       "        1.94501193e-04, 2.40834659e-04]),\n",
       " 'param_solver': masked_array(data=['cholesky', 'cholesky', 'saga', 'saga', 'cholesky',\n",
       "                    'cholesky', 'cholesky', 'saga', 'cholesky', 'saga'],\n",
       "              mask=[False, False, False, False, False, False, False, False,\n",
       "                    False, False],\n",
       "        fill_value='?',\n",
       "             dtype=object),\n",
       " 'param_alpha': masked_array(data=[0.6, 0.4, 0.2, 0.01, 0.2, 0.01, 0.8, 0.6, 1, 0.8],\n",
       "              mask=[False, False, False, False, False, False, False, False,\n",
       "                    False, False],\n",
       "        fill_value='?',\n",
       "             dtype=object),\n",
       " 'params': [{'solver': 'cholesky', 'alpha': 0.6},\n",
       "  {'solver': 'cholesky', 'alpha': 0.4},\n",
       "  {'solver': 'saga', 'alpha': 0.2},\n",
       "  {'solver': 'saga', 'alpha': 0.01},\n",
       "  {'solver': 'cholesky', 'alpha': 0.2},\n",
       "  {'solver': 'cholesky', 'alpha': 0.01},\n",
       "  {'solver': 'cholesky', 'alpha': 0.8},\n",
       "  {'solver': 'saga', 'alpha': 0.6},\n",
       "  {'solver': 'cholesky', 'alpha': 1},\n",
       "  {'solver': 'saga', 'alpha': 0.8}],\n",
       " 'split0_test_score': array([0.84260813, 0.84260358, 0.84260163, 0.84259212, 0.84259853,\n",
       "        0.84259326, 0.84261221, 0.84261131, 0.8426158 , 0.84262006]),\n",
       " 'split1_test_score': array([0.84571255, 0.84571996, 0.84572455, 0.84574089, 0.845727  ,\n",
       "        0.84573335, 0.84570478, 0.8457075 , 0.84569666, 0.84570164]),\n",
       " 'split2_test_score': array([0.83224137, 0.8322394 , 0.83223466, 0.83223851, 0.83223703,\n",
       "        0.83223441, 0.83224296, 0.83223771, 0.83224417, 0.83223905]),\n",
       " 'split3_test_score': array([0.84950589, 0.8495028 , 0.84951128, 0.84948529, 0.8494993 ,\n",
       "        0.84949559, 0.84950859, 0.84949303, 0.84951089, 0.84950659]),\n",
       " 'split4_test_score': array([0.85020264, 0.85020713, 0.85022868, 0.85020478, 0.85021121,\n",
       "        0.8502147 , 0.85019774, 0.85020896, 0.85019245, 0.85018468]),\n",
       " 'mean_test_score': array([0.84405412, 0.84405457, 0.84406016, 0.84405232, 0.84405461,\n",
       "        0.84405426, 0.84405326, 0.8440517 , 0.84405199, 0.8440504 ]),\n",
       " 'std_test_score': array([0.00651012, 0.00651175, 0.00651928, 0.00651029, 0.00651338,\n",
       "        0.00651493, 0.0065085 , 0.00651009, 0.00650688, 0.00650661]),\n",
       " 'rank_test_score': array([ 5,  3,  1,  7,  2,  4,  6,  9,  8, 10])}"
      ]
     },
     "execution_count": 26,
     "metadata": {},
     "output_type": "execute_result"
    }
   ],
   "source": [
    "rand_search_ridge.cv_results_"
   ]
  },
  {
   "cell_type": "code",
   "execution_count": 27,
   "id": "palestinian-faith",
   "metadata": {},
   "outputs": [
    {
     "data": {
      "text/html": [
       "<div>\n",
       "<style scoped>\n",
       "    .dataframe tbody tr th:only-of-type {\n",
       "        vertical-align: middle;\n",
       "    }\n",
       "\n",
       "    .dataframe tbody tr th {\n",
       "        vertical-align: top;\n",
       "    }\n",
       "\n",
       "    .dataframe thead th {\n",
       "        text-align: right;\n",
       "    }\n",
       "</style>\n",
       "<table border=\"1\" class=\"dataframe\">\n",
       "  <thead>\n",
       "    <tr style=\"text-align: right;\">\n",
       "      <th></th>\n",
       "      <th>mean_fit_time</th>\n",
       "      <th>std_fit_time</th>\n",
       "      <th>mean_score_time</th>\n",
       "      <th>std_score_time</th>\n",
       "      <th>param_solver</th>\n",
       "      <th>param_alpha</th>\n",
       "      <th>params</th>\n",
       "      <th>split0_test_score</th>\n",
       "      <th>split1_test_score</th>\n",
       "      <th>split2_test_score</th>\n",
       "      <th>split3_test_score</th>\n",
       "      <th>split4_test_score</th>\n",
       "      <th>mean_test_score</th>\n",
       "      <th>std_test_score</th>\n",
       "      <th>rank_test_score</th>\n",
       "    </tr>\n",
       "  </thead>\n",
       "  <tbody>\n",
       "    <tr>\n",
       "      <th>0</th>\n",
       "      <td>0.001500</td>\n",
       "      <td>0.000317</td>\n",
       "      <td>0.0003</td>\n",
       "      <td>2.450100e-04</td>\n",
       "      <td>cholesky</td>\n",
       "      <td>0.6</td>\n",
       "      <td>{'solver': 'cholesky', 'alpha': 0.6}</td>\n",
       "      <td>0.842608</td>\n",
       "      <td>0.845713</td>\n",
       "      <td>0.832241</td>\n",
       "      <td>0.849506</td>\n",
       "      <td>0.850203</td>\n",
       "      <td>0.844054</td>\n",
       "      <td>0.006510</td>\n",
       "      <td>5</td>\n",
       "    </tr>\n",
       "    <tr>\n",
       "      <th>1</th>\n",
       "      <td>0.001300</td>\n",
       "      <td>0.000245</td>\n",
       "      <td>0.0003</td>\n",
       "      <td>2.452052e-04</td>\n",
       "      <td>cholesky</td>\n",
       "      <td>0.4</td>\n",
       "      <td>{'solver': 'cholesky', 'alpha': 0.4}</td>\n",
       "      <td>0.842604</td>\n",
       "      <td>0.845720</td>\n",
       "      <td>0.832239</td>\n",
       "      <td>0.849503</td>\n",
       "      <td>0.850207</td>\n",
       "      <td>0.844055</td>\n",
       "      <td>0.006512</td>\n",
       "      <td>3</td>\n",
       "    </tr>\n",
       "    <tr>\n",
       "      <th>2</th>\n",
       "      <td>0.013400</td>\n",
       "      <td>0.000861</td>\n",
       "      <td>0.0005</td>\n",
       "      <td>2.780415e-07</td>\n",
       "      <td>saga</td>\n",
       "      <td>0.2</td>\n",
       "      <td>{'solver': 'saga', 'alpha': 0.2}</td>\n",
       "      <td>0.842602</td>\n",
       "      <td>0.845725</td>\n",
       "      <td>0.832235</td>\n",
       "      <td>0.849511</td>\n",
       "      <td>0.850229</td>\n",
       "      <td>0.844060</td>\n",
       "      <td>0.006519</td>\n",
       "      <td>1</td>\n",
       "    </tr>\n",
       "    <tr>\n",
       "      <th>3</th>\n",
       "      <td>0.013897</td>\n",
       "      <td>0.001586</td>\n",
       "      <td>0.0006</td>\n",
       "      <td>2.000812e-04</td>\n",
       "      <td>saga</td>\n",
       "      <td>0.01</td>\n",
       "      <td>{'solver': 'saga', 'alpha': 0.01}</td>\n",
       "      <td>0.842592</td>\n",
       "      <td>0.845741</td>\n",
       "      <td>0.832239</td>\n",
       "      <td>0.849485</td>\n",
       "      <td>0.850205</td>\n",
       "      <td>0.844052</td>\n",
       "      <td>0.006510</td>\n",
       "      <td>7</td>\n",
       "    </tr>\n",
       "    <tr>\n",
       "      <th>4</th>\n",
       "      <td>0.001701</td>\n",
       "      <td>0.000400</td>\n",
       "      <td>0.0004</td>\n",
       "      <td>5.834291e-04</td>\n",
       "      <td>cholesky</td>\n",
       "      <td>0.2</td>\n",
       "      <td>{'solver': 'cholesky', 'alpha': 0.2}</td>\n",
       "      <td>0.842599</td>\n",
       "      <td>0.845727</td>\n",
       "      <td>0.832237</td>\n",
       "      <td>0.849499</td>\n",
       "      <td>0.850211</td>\n",
       "      <td>0.844055</td>\n",
       "      <td>0.006513</td>\n",
       "      <td>2</td>\n",
       "    </tr>\n",
       "  </tbody>\n",
       "</table>\n",
       "</div>"
      ],
      "text/plain": [
       "   mean_fit_time  std_fit_time  mean_score_time  std_score_time param_solver  \\\n",
       "0       0.001500      0.000317           0.0003    2.450100e-04     cholesky   \n",
       "1       0.001300      0.000245           0.0003    2.452052e-04     cholesky   \n",
       "2       0.013400      0.000861           0.0005    2.780415e-07         saga   \n",
       "3       0.013897      0.001586           0.0006    2.000812e-04         saga   \n",
       "4       0.001701      0.000400           0.0004    5.834291e-04     cholesky   \n",
       "\n",
       "  param_alpha                                params  split0_test_score  \\\n",
       "0         0.6  {'solver': 'cholesky', 'alpha': 0.6}           0.842608   \n",
       "1         0.4  {'solver': 'cholesky', 'alpha': 0.4}           0.842604   \n",
       "2         0.2      {'solver': 'saga', 'alpha': 0.2}           0.842602   \n",
       "3        0.01     {'solver': 'saga', 'alpha': 0.01}           0.842592   \n",
       "4         0.2  {'solver': 'cholesky', 'alpha': 0.2}           0.842599   \n",
       "\n",
       "   split1_test_score  split2_test_score  split3_test_score  split4_test_score  \\\n",
       "0           0.845713           0.832241           0.849506           0.850203   \n",
       "1           0.845720           0.832239           0.849503           0.850207   \n",
       "2           0.845725           0.832235           0.849511           0.850229   \n",
       "3           0.845741           0.832239           0.849485           0.850205   \n",
       "4           0.845727           0.832237           0.849499           0.850211   \n",
       "\n",
       "   mean_test_score  std_test_score  rank_test_score  \n",
       "0         0.844054        0.006510                5  \n",
       "1         0.844055        0.006512                3  \n",
       "2         0.844060        0.006519                1  \n",
       "3         0.844052        0.006510                7  \n",
       "4         0.844055        0.006513                2  "
      ]
     },
     "execution_count": 27,
     "metadata": {},
     "output_type": "execute_result"
    }
   ],
   "source": [
    "df_rand_search_ridge = pd.DataFrame(rand_search_ridge.cv_results_)\n",
    "df_rand_search_ridge.head(5)"
   ]
  },
  {
   "cell_type": "code",
   "execution_count": 28,
   "id": "neither-toilet",
   "metadata": {},
   "outputs": [],
   "source": [
    "df_rand_search_ridge.sort_values([\"param_solver\", \"param_alpha\", \"mean_test_score\"], inplace=True)"
   ]
  },
  {
   "cell_type": "code",
   "execution_count": 29,
   "id": "marine-preview",
   "metadata": {},
   "outputs": [
    {
     "data": {
      "text/plain": [
       "<AxesSubplot:xlabel='param_alpha', ylabel='mean_test_score'>"
      ]
     },
     "execution_count": 29,
     "metadata": {},
     "output_type": "execute_result"
    },
    {
     "data": {
      "image/png": "[encoded data removed]",
      "text/plain": [
       "<Figure size 432x288 with 1 Axes>"
      ]
     },
     "metadata": {
      "needs_background": "light"
     },
     "output_type": "display_data"
    }
   ],
   "source": [
    "sns.lineplot(x=\"param_alpha\", y=\"mean_test_score\", hue=\"param_solver\", data=df_rand_search_ridge)"
   ]
  },
  {
   "cell_type": "code",
   "execution_count": 30,
   "id": "printable-wellington",
   "metadata": {},
   "outputs": [
    {
     "data": {
      "text/plain": [
       "0.833041235569606"
      ]
     },
     "execution_count": 30,
     "metadata": {},
     "output_type": "execute_result"
    }
   ],
   "source": [
    "rand_search_ridge.score(X_test_scaled, y_test)"
   ]
  },
  {
   "cell_type": "code",
   "execution_count": 31,
   "id": "spectacular-greenhouse",
   "metadata": {},
   "outputs": [
    {
     "name": "stdout",
     "output_type": "stream",
     "text": [
      "RMSE: 0.38634100953695677\n"
     ]
    },
    {
     "data": {
      "image/png": "[encoded data removed]",
      "text/plain": [
       "<Figure size 432x288 with 1 Axes>"
      ]
     },
     "metadata": {
      "needs_background": "light"
     },
     "output_type": "display_data"
    }
   ],
   "source": [
    "plot_test(rand_search_ridge, X_test_scaled, y_test)"
   ]
  },
  {
   "cell_type": "markdown",
   "id": "bored-microwave",
   "metadata": {},
   "source": [
    "## Lasso"
   ]
  },
  {
   "cell_type": "code",
   "execution_count": 32,
   "id": "emotional-warrior",
   "metadata": {},
   "outputs": [],
   "source": [
    "from sklearn.linear_model import Lasso"
   ]
  },
  {
   "cell_type": "markdown",
   "id": "regulated-cliff",
   "metadata": {},
   "source": [
    "https://scikit-learn.org/stable/modules/generated/sklearn.linear_model.Lasso.html"
   ]
  },
  {
   "cell_type": "code",
   "execution_count": 33,
   "id": "unlikely-premium",
   "metadata": {},
   "outputs": [],
   "source": [
    "param_grid_lasso = {\n",
    "    \"alpha\": [0.01, 0.2, 0.4, 0.6, 0.8, 1]\n",
    "}"
   ]
  },
  {
   "cell_type": "code",
   "execution_count": 34,
   "id": "informal-switch",
   "metadata": {},
   "outputs": [],
   "source": [
    "grid_search_lasso = GridSearchCV(Lasso(), param_grid=param_grid_lasso, cv=5, n_jobs=-1)"
   ]
  },
  {
   "cell_type": "code",
   "execution_count": 35,
   "id": "complicated-owner",
   "metadata": {},
   "outputs": [
    {
     "data": {
      "text/plain": [
       "GridSearchCV(cv=5, estimator=Lasso(), n_jobs=-1,\n",
       "             param_grid={'alpha': [0.01, 0.2, 0.4, 0.6, 0.8, 1]})"
      ]
     },
     "execution_count": 35,
     "metadata": {},
     "output_type": "execute_result"
    }
   ],
   "source": [
    "grid_search_lasso.fit(X_train_scaled, y_train)"
   ]
  },
  {
   "cell_type": "code",
   "execution_count": 36,
   "id": "mathematical-gates",
   "metadata": {},
   "outputs": [
    {
     "data": {
      "text/plain": [
       "{'alpha': 0.01}"
      ]
     },
     "execution_count": 36,
     "metadata": {},
     "output_type": "execute_result"
    }
   ],
   "source": [
    "grid_search_lasso.best_params_"
   ]
  },
  {
   "cell_type": "code",
   "execution_count": 37,
   "id": "photographic-method",
   "metadata": {
    "collapsed": true,
    "jupyter": {
     "outputs_hidden": true
    }
   },
   "outputs": [
    {
     "data": {
      "text/plain": [
       "{'mean_fit_time': array([0.00189977, 0.00140057, 0.00170093, 0.00149927, 0.00130095,\n",
       "        0.00096698]),\n",
       " 'std_fit_time': array([0.0002003 , 0.00020139, 0.00051025, 0.00031681, 0.00039883,\n",
       "        0.00031821]),\n",
       " 'mean_score_time': array([0.00030208, 0.00039802, 0.00040026, 0.0001996 , 0.00039983,\n",
       "        0.00039907]),\n",
       " 'std_score_time': array([0.00024668, 0.00019904, 0.00020013, 0.00024446, 0.00019992,\n",
       "        0.00019954]),\n",
       " 'param_alpha': masked_array(data=[0.01, 0.2, 0.4, 0.6, 0.8, 1],\n",
       "              mask=[False, False, False, False, False, False],\n",
       "        fill_value='?',\n",
       "             dtype=object),\n",
       " 'params': [{'alpha': 0.01},\n",
       "  {'alpha': 0.2},\n",
       "  {'alpha': 0.4},\n",
       "  {'alpha': 0.6},\n",
       "  {'alpha': 0.8},\n",
       "  {'alpha': 1}],\n",
       " 'split0_test_score': array([ 8.31758611e-01,  1.99375939e-01, -1.58310342e-05, -1.58310342e-05,\n",
       "        -1.58310342e-05, -1.58310342e-05]),\n",
       " 'split1_test_score': array([ 0.83686056,  0.20393506, -0.00144456, -0.00144456, -0.00144456,\n",
       "        -0.00144456]),\n",
       " 'split2_test_score': array([ 0.82503798,  0.2135546 , -0.00173945, -0.00173945, -0.00173945,\n",
       "        -0.00173945]),\n",
       " 'split3_test_score': array([ 8.43773498e-01,  2.07348361e-01, -4.23970452e-06, -4.23970452e-06,\n",
       "        -4.23970452e-06, -4.23970452e-06]),\n",
       " 'split4_test_score': array([ 8.45184022e-01,  2.03507762e-01, -1.02007693e-06, -1.02007693e-06,\n",
       "        -1.02007693e-06, -1.02007693e-06]),\n",
       " 'mean_test_score': array([ 8.36522935e-01,  2.05544345e-01, -6.41020172e-04, -6.41020172e-04,\n",
       "        -6.41020172e-04, -6.41020172e-04]),\n",
       " 'std_test_score': array([0.00751401, 0.0047372 , 0.00078207, 0.00078207, 0.00078207,\n",
       "        0.00078207]),\n",
       " 'rank_test_score': array([1, 2, 3, 3, 3, 3])}"
      ]
     },
     "execution_count": 37,
     "metadata": {},
     "output_type": "execute_result"
    }
   ],
   "source": [
    "grid_search_lasso.cv_results_"
   ]
  },
  {
   "cell_type": "code",
   "execution_count": 38,
   "id": "sudden-stick",
   "metadata": {},
   "outputs": [
    {
     "data": {
      "text/html": [
       "<div>\n",
       "<style scoped>\n",
       "    .dataframe tbody tr th:only-of-type {\n",
       "        vertical-align: middle;\n",
       "    }\n",
       "\n",
       "    .dataframe tbody tr th {\n",
       "        vertical-align: top;\n",
       "    }\n",
       "\n",
       "    .dataframe thead th {\n",
       "        text-align: right;\n",
       "    }\n",
       "</style>\n",
       "<table border=\"1\" class=\"dataframe\">\n",
       "  <thead>\n",
       "    <tr style=\"text-align: right;\">\n",
       "      <th></th>\n",
       "      <th>mean_fit_time</th>\n",
       "      <th>std_fit_time</th>\n",
       "      <th>mean_score_time</th>\n",
       "      <th>std_score_time</th>\n",
       "      <th>param_alpha</th>\n",
       "      <th>params</th>\n",
       "      <th>split0_test_score</th>\n",
       "      <th>split1_test_score</th>\n",
       "      <th>split2_test_score</th>\n",
       "      <th>split3_test_score</th>\n",
       "      <th>split4_test_score</th>\n",
       "      <th>mean_test_score</th>\n",
       "      <th>std_test_score</th>\n",
       "      <th>rank_test_score</th>\n",
       "    </tr>\n",
       "  </thead>\n",
       "  <tbody>\n",
       "    <tr>\n",
       "      <th>0</th>\n",
       "      <td>0.001900</td>\n",
       "      <td>0.000200</td>\n",
       "      <td>0.000302</td>\n",
       "      <td>0.000247</td>\n",
       "      <td>0.01</td>\n",
       "      <td>{'alpha': 0.01}</td>\n",
       "      <td>0.831759</td>\n",
       "      <td>0.836861</td>\n",
       "      <td>0.825038</td>\n",
       "      <td>0.843773</td>\n",
       "      <td>0.845184</td>\n",
       "      <td>0.836523</td>\n",
       "      <td>0.007514</td>\n",
       "      <td>1</td>\n",
       "    </tr>\n",
       "    <tr>\n",
       "      <th>1</th>\n",
       "      <td>0.001401</td>\n",
       "      <td>0.000201</td>\n",
       "      <td>0.000398</td>\n",
       "      <td>0.000199</td>\n",
       "      <td>0.2</td>\n",
       "      <td>{'alpha': 0.2}</td>\n",
       "      <td>0.199376</td>\n",
       "      <td>0.203935</td>\n",
       "      <td>0.213555</td>\n",
       "      <td>0.207348</td>\n",
       "      <td>0.203508</td>\n",
       "      <td>0.205544</td>\n",
       "      <td>0.004737</td>\n",
       "      <td>2</td>\n",
       "    </tr>\n",
       "    <tr>\n",
       "      <th>2</th>\n",
       "      <td>0.001701</td>\n",
       "      <td>0.000510</td>\n",
       "      <td>0.000400</td>\n",
       "      <td>0.000200</td>\n",
       "      <td>0.4</td>\n",
       "      <td>{'alpha': 0.4}</td>\n",
       "      <td>-0.000016</td>\n",
       "      <td>-0.001445</td>\n",
       "      <td>-0.001739</td>\n",
       "      <td>-0.000004</td>\n",
       "      <td>-0.000001</td>\n",
       "      <td>-0.000641</td>\n",
       "      <td>0.000782</td>\n",
       "      <td>3</td>\n",
       "    </tr>\n",
       "    <tr>\n",
       "      <th>3</th>\n",
       "      <td>0.001499</td>\n",
       "      <td>0.000317</td>\n",
       "      <td>0.000200</td>\n",
       "      <td>0.000244</td>\n",
       "      <td>0.6</td>\n",
       "      <td>{'alpha': 0.6}</td>\n",
       "      <td>-0.000016</td>\n",
       "      <td>-0.001445</td>\n",
       "      <td>-0.001739</td>\n",
       "      <td>-0.000004</td>\n",
       "      <td>-0.000001</td>\n",
       "      <td>-0.000641</td>\n",
       "      <td>0.000782</td>\n",
       "      <td>3</td>\n",
       "    </tr>\n",
       "    <tr>\n",
       "      <th>4</th>\n",
       "      <td>0.001301</td>\n",
       "      <td>0.000399</td>\n",
       "      <td>0.000400</td>\n",
       "      <td>0.000200</td>\n",
       "      <td>0.8</td>\n",
       "      <td>{'alpha': 0.8}</td>\n",
       "      <td>-0.000016</td>\n",
       "      <td>-0.001445</td>\n",
       "      <td>-0.001739</td>\n",
       "      <td>-0.000004</td>\n",
       "      <td>-0.000001</td>\n",
       "      <td>-0.000641</td>\n",
       "      <td>0.000782</td>\n",
       "      <td>3</td>\n",
       "    </tr>\n",
       "  </tbody>\n",
       "</table>\n",
       "</div>"
      ],
      "text/plain": [
       "   mean_fit_time  std_fit_time  mean_score_time  std_score_time param_alpha  \\\n",
       "0       0.001900      0.000200         0.000302        0.000247        0.01   \n",
       "1       0.001401      0.000201         0.000398        0.000199         0.2   \n",
       "2       0.001701      0.000510         0.000400        0.000200         0.4   \n",
       "3       0.001499      0.000317         0.000200        0.000244         0.6   \n",
       "4       0.001301      0.000399         0.000400        0.000200         0.8   \n",
       "\n",
       "            params  split0_test_score  split1_test_score  split2_test_score  \\\n",
       "0  {'alpha': 0.01}           0.831759           0.836861           0.825038   \n",
       "1   {'alpha': 0.2}           0.199376           0.203935           0.213555   \n",
       "2   {'alpha': 0.4}          -0.000016          -0.001445          -0.001739   \n",
       "3   {'alpha': 0.6}          -0.000016          -0.001445          -0.001739   \n",
       "4   {'alpha': 0.8}          -0.000016          -0.001445          -0.001739   \n",
       "\n",
       "   split3_test_score  split4_test_score  mean_test_score  std_test_score  \\\n",
       "0           0.843773           0.845184         0.836523        0.007514   \n",
       "1           0.207348           0.203508         0.205544        0.004737   \n",
       "2          -0.000004          -0.000001        -0.000641        0.000782   \n",
       "3          -0.000004          -0.000001        -0.000641        0.000782   \n",
       "4          -0.000004          -0.000001        -0.000641        0.000782   \n",
       "\n",
       "   rank_test_score  \n",
       "0                1  \n",
       "1                2  \n",
       "2                3  \n",
       "3                3  \n",
       "4                3  "
      ]
     },
     "execution_count": 38,
     "metadata": {},
     "output_type": "execute_result"
    }
   ],
   "source": [
    "df_grid_search_lasso = pd.DataFrame(grid_search_lasso.cv_results_)\n",
    "df_grid_search_lasso.head(5)"
   ]
  },
  {
   "cell_type": "code",
   "execution_count": 39,
   "id": "straight-fifth",
   "metadata": {},
   "outputs": [],
   "source": [
    "df_grid_search_lasso.sort_values([\"param_alpha\", \"mean_test_score\"], inplace=True)"
   ]
  },
  {
   "cell_type": "code",
   "execution_count": 40,
   "id": "special-logan",
   "metadata": {},
   "outputs": [
    {
     "data": {
      "text/plain": [
       "<AxesSubplot:xlabel='param_alpha', ylabel='mean_test_score'>"
      ]
     },
     "execution_count": 40,
     "metadata": {},
     "output_type": "execute_result"
    },
    {
     "data": {
      "image/png": "[encoded data removed]",
      "text/plain": [
       "<Figure size 432x288 with 1 Axes>"
      ]
     },
     "metadata": {
      "needs_background": "light"
     },
     "output_type": "display_data"
    }
   ],
   "source": [
    "sns.lineplot(x=\"param_alpha\", y=\"mean_test_score\", data=df_grid_search_lasso)"
   ]
  },
  {
   "cell_type": "code",
   "execution_count": 41,
   "id": "starting-knock",
   "metadata": {},
   "outputs": [
    {
     "data": {
      "text/plain": [
       "0.8262217629318773"
      ]
     },
     "execution_count": 41,
     "metadata": {},
     "output_type": "execute_result"
    }
   ],
   "source": [
    "grid_search_lasso.score(X_test_scaled, y_test)"
   ]
  },
  {
   "cell_type": "code",
   "execution_count": 42,
   "id": "inside-miller",
   "metadata": {},
   "outputs": [
    {
     "name": "stdout",
     "output_type": "stream",
     "text": [
      "RMSE: 0.3941521436079015\n"
     ]
    },
    {
     "data": {
      "image/png": "[encoded data removed]",
      "text/plain": [
       "<Figure size 432x288 with 1 Axes>"
      ]
     },
     "metadata": {
      "needs_background": "light"
     },
     "output_type": "display_data"
    }
   ],
   "source": [
    "plot_test(grid_search_lasso, X_test_scaled, y_test)"
   ]
  },
  {
   "cell_type": "markdown",
   "id": "binary-croatia",
   "metadata": {},
   "source": [
    "## Decision Tree Regressor "
   ]
  },
  {
   "cell_type": "code",
   "execution_count": 43,
   "id": "competitive-calgary",
   "metadata": {},
   "outputs": [],
   "source": [
    "from sklearn.tree import DecisionTreeRegressor"
   ]
  },
  {
   "cell_type": "markdown",
   "id": "floppy-burst",
   "metadata": {},
   "source": [
    "https://scikit-learn.org/stable/modules/generated/sklearn.tree.DecisionTreeRegressor.html"
   ]
  },
  {
   "cell_type": "code",
   "execution_count": 44,
   "id": "active-worse",
   "metadata": {},
   "outputs": [],
   "source": [
    "param_grid_dt_reg = {\n",
    "    \"max_depth\": [5, 7, 10, 15, 30],\n",
    "    \"min_samples_split\": [2, 5, 10],\n",
    "    \"min_samples_leaf\": [1, 10, 20],\n",
    "}"
   ]
  },
  {
   "cell_type": "code",
   "execution_count": 45,
   "id": "motivated-better",
   "metadata": {},
   "outputs": [],
   "source": [
    "grid_search_dt_reg = GridSearchCV(DecisionTreeRegressor(), param_grid_dt_reg, cv=5, n_jobs=-1)"
   ]
  },
  {
   "cell_type": "code",
   "execution_count": 46,
   "id": "liable-wealth",
   "metadata": {},
   "outputs": [
    {
     "data": {
      "text/plain": [
       "GridSearchCV(cv=5, estimator=DecisionTreeRegressor(), n_jobs=-1,\n",
       "             param_grid={'max_depth': [5, 7, 10, 15, 30],\n",
       "                         'min_samples_leaf': [1, 10, 20],\n",
       "                         'min_samples_split': [2, 5, 10]})"
      ]
     },
     "execution_count": 46,
     "metadata": {},
     "output_type": "execute_result"
    }
   ],
   "source": [
    "grid_search_dt_reg.fit(X_train, y_train)"
   ]
  },
  {
   "cell_type": "code",
   "execution_count": 47,
   "id": "funded-journalism",
   "metadata": {},
   "outputs": [
    {
     "data": {
      "text/plain": [
       "{'max_depth': 30, 'min_samples_leaf': 10, 'min_samples_split': 10}"
      ]
     },
     "execution_count": 47,
     "metadata": {},
     "output_type": "execute_result"
    }
   ],
   "source": [
    "grid_search_dt_reg.best_params_"
   ]
  },
  {
   "cell_type": "code",
   "execution_count": 48,
   "id": "completed-purchase",
   "metadata": {
    "collapsed": true,
    "jupyter": {
     "outputs_hidden": true
    }
   },
   "outputs": [
    {
     "data": {
      "text/plain": [
       "{'mean_fit_time': array([0.02379827, 0.02299809, 0.02259917, 0.02229972, 0.02330012,\n",
       "        0.02360005, 0.0236999 , 0.0229003 , 0.02329965, 0.03029861,\n",
       "        0.03059907, 0.03080006, 0.02989998, 0.03140035, 0.02949963,\n",
       "        0.03200006, 0.0297997 , 0.03078876, 0.0400001 , 0.03869991,\n",
       "        0.03890004, 0.03769894, 0.03749981, 0.03750019, 0.03599949,\n",
       "        0.03559918, 0.03459983, 0.05530005, 0.05069976, 0.04859943,\n",
       "        0.04119935, 0.04229941, 0.04150038, 0.03699989, 0.03749986,\n",
       "        0.03669963, 0.06200018, 0.05689974, 0.06530032, 0.04400001,\n",
       "        0.04279461, 0.04710059, 0.03840008, 0.03789945, 0.03539982]),\n",
       " 'std_fit_time': array([0.00102912, 0.00077439, 0.0003738 , 0.00024427, 0.00081311,\n",
       "        0.00177109, 0.00136364, 0.00037511, 0.00040022, 0.00169106,\n",
       "        0.00156135, 0.00239964, 0.001828  , 0.00332323, 0.00054725,\n",
       "        0.00376798, 0.0011227 , 0.00238411, 0.0010493 , 0.00024515,\n",
       "        0.00037389, 0.00067783, 0.00122501, 0.00126514, 0.00130424,\n",
       "        0.00156108, 0.00020001, 0.00486505, 0.00067812, 0.00079933,\n",
       "        0.00024448, 0.00051009, 0.00089415, 0.00176084, 0.00104866,\n",
       "        0.00074824, 0.00240833, 0.00159342, 0.02261573, 0.003822  ,\n",
       "        0.00153072, 0.00287081, 0.00210771, 0.00182754, 0.00058277]),\n",
       " 'mean_score_time': array([0.00060034, 0.00080037, 0.00060015, 0.0005002 , 0.00070066,\n",
       "        0.00050025, 0.00049982, 0.00050001, 0.00050044, 0.00050025,\n",
       "        0.00050054, 0.0005002 , 0.00059991, 0.00070019, 0.00049987,\n",
       "        0.00039992, 0.00050011, 0.00040684, 0.00060024, 0.00070057,\n",
       "        0.0005002 , 0.0005012 , 0.00059958, 0.00050011, 0.00060048,\n",
       "        0.00050015, 0.00050001, 0.00070014, 0.00060019, 0.00080037,\n",
       "        0.00060039, 0.00080028, 0.00049953, 0.00060015, 0.0006001 ,\n",
       "        0.00070491, 0.00100012, 0.00080056, 0.00059962, 0.00140009,\n",
       "        0.00089998, 0.00110011, 0.00120034, 0.00060053, 0.00070028]),\n",
       " 'std_score_time': array([2.00033273e-04, 2.45282782e-04, 1.99652487e-04, 4.76837158e-07,\n",
       "        2.45320850e-04, 3.16808484e-04, 4.15696997e-07, 3.16297988e-07,\n",
       "        9.17214587e-07, 5.72204590e-07, 1.07261866e-06, 1.04469787e-06,\n",
       "        1.99770949e-04, 2.45028814e-04, 5.76164530e-07, 1.99962366e-04,\n",
       "        2.43140197e-07, 1.87446052e-04, 1.99724973e-04, 2.45885490e-04,\n",
       "        8.92080638e-07, 6.46813391e-07, 2.00415196e-04, 1.16800773e-07,\n",
       "        1.99724745e-04, 5.91739352e-07, 4.10190833e-07, 2.44970355e-04,\n",
       "        2.00224632e-04, 2.45379725e-04, 1.99771916e-04, 2.44231207e-04,\n",
       "        4.37028474e-07, 2.00367371e-04, 1.99794940e-04, 2.50504966e-04,\n",
       "        4.37028474e-07, 2.44757750e-04, 2.00033955e-04, 1.32003994e-03,\n",
       "        3.73896904e-04, 7.35157237e-04, 9.79734794e-04, 1.99937963e-04,\n",
       "        2.45438114e-04]),\n",
       " 'param_max_depth': masked_array(data=[5, 5, 5, 5, 5, 5, 5, 5, 5, 7, 7, 7, 7, 7, 7, 7, 7, 7,\n",
       "                    10, 10, 10, 10, 10, 10, 10, 10, 10, 15, 15, 15, 15, 15,\n",
       "                    15, 15, 15, 15, 30, 30, 30, 30, 30, 30, 30, 30, 30],\n",
       "              mask=[False, False, False, False, False, False, False, False,\n",
       "                    False, False, False, False, False, False, False, False,\n",
       "                    False, False, False, False, False, False, False, False,\n",
       "                    False, False, False, False, False, False, False, False,\n",
       "                    False, False, False, False, False, False, False, False,\n",
       "                    False, False, False, False, False],\n",
       "        fill_value='?',\n",
       "             dtype=object),\n",
       " 'param_min_samples_leaf': masked_array(data=[1, 1, 1, 10, 10, 10, 20, 20, 20, 1, 1, 1, 10, 10, 10,\n",
       "                    20, 20, 20, 1, 1, 1, 10, 10, 10, 20, 20, 20, 1, 1, 1,\n",
       "                    10, 10, 10, 20, 20, 20, 1, 1, 1, 10, 10, 10, 20, 20,\n",
       "                    20],\n",
       "              mask=[False, False, False, False, False, False, False, False,\n",
       "                    False, False, False, False, False, False, False, False,\n",
       "                    False, False, False, False, False, False, False, False,\n",
       "                    False, False, False, False, False, False, False, False,\n",
       "                    False, False, False, False, False, False, False, False,\n",
       "                    False, False, False, False, False],\n",
       "        fill_value='?',\n",
       "             dtype=object),\n",
       " 'param_min_samples_split': masked_array(data=[2, 5, 10, 2, 5, 10, 2, 5, 10, 2, 5, 10, 2, 5, 10, 2, 5,\n",
       "                    10, 2, 5, 10, 2, 5, 10, 2, 5, 10, 2, 5, 10, 2, 5, 10,\n",
       "                    2, 5, 10, 2, 5, 10, 2, 5, 10, 2, 5, 10],\n",
       "              mask=[False, False, False, False, False, False, False, False,\n",
       "                    False, False, False, False, False, False, False, False,\n",
       "                    False, False, False, False, False, False, False, False,\n",
       "                    False, False, False, False, False, False, False, False,\n",
       "                    False, False, False, False, False, False, False, False,\n",
       "                    False, False, False, False, False],\n",
       "        fill_value='?',\n",
       "             dtype=object),\n",
       " 'params': [{'max_depth': 5, 'min_samples_leaf': 1, 'min_samples_split': 2},\n",
       "  {'max_depth': 5, 'min_samples_leaf': 1, 'min_samples_split': 5},\n",
       "  {'max_depth': 5, 'min_samples_leaf': 1, 'min_samples_split': 10},\n",
       "  {'max_depth': 5, 'min_samples_leaf': 10, 'min_samples_split': 2},\n",
       "  {'max_depth': 5, 'min_samples_leaf': 10, 'min_samples_split': 5},\n",
       "  {'max_depth': 5, 'min_samples_leaf': 10, 'min_samples_split': 10},\n",
       "  {'max_depth': 5, 'min_samples_leaf': 20, 'min_samples_split': 2},\n",
       "  {'max_depth': 5, 'min_samples_leaf': 20, 'min_samples_split': 5},\n",
       "  {'max_depth': 5, 'min_samples_leaf': 20, 'min_samples_split': 10},\n",
       "  {'max_depth': 7, 'min_samples_leaf': 1, 'min_samples_split': 2},\n",
       "  {'max_depth': 7, 'min_samples_leaf': 1, 'min_samples_split': 5},\n",
       "  {'max_depth': 7, 'min_samples_leaf': 1, 'min_samples_split': 10},\n",
       "  {'max_depth': 7, 'min_samples_leaf': 10, 'min_samples_split': 2},\n",
       "  {'max_depth': 7, 'min_samples_leaf': 10, 'min_samples_split': 5},\n",
       "  {'max_depth': 7, 'min_samples_leaf': 10, 'min_samples_split': 10},\n",
       "  {'max_depth': 7, 'min_samples_leaf': 20, 'min_samples_split': 2},\n",
       "  {'max_depth': 7, 'min_samples_leaf': 20, 'min_samples_split': 5},\n",
       "  {'max_depth': 7, 'min_samples_leaf': 20, 'min_samples_split': 10},\n",
       "  {'max_depth': 10, 'min_samples_leaf': 1, 'min_samples_split': 2},\n",
       "  {'max_depth': 10, 'min_samples_leaf': 1, 'min_samples_split': 5},\n",
       "  {'max_depth': 10, 'min_samples_leaf': 1, 'min_samples_split': 10},\n",
       "  {'max_depth': 10, 'min_samples_leaf': 10, 'min_samples_split': 2},\n",
       "  {'max_depth': 10, 'min_samples_leaf': 10, 'min_samples_split': 5},\n",
       "  {'max_depth': 10, 'min_samples_leaf': 10, 'min_samples_split': 10},\n",
       "  {'max_depth': 10, 'min_samples_leaf': 20, 'min_samples_split': 2},\n",
       "  {'max_depth': 10, 'min_samples_leaf': 20, 'min_samples_split': 5},\n",
       "  {'max_depth': 10, 'min_samples_leaf': 20, 'min_samples_split': 10},\n",
       "  {'max_depth': 15, 'min_samples_leaf': 1, 'min_samples_split': 2},\n",
       "  {'max_depth': 15, 'min_samples_leaf': 1, 'min_samples_split': 5},\n",
       "  {'max_depth': 15, 'min_samples_leaf': 1, 'min_samples_split': 10},\n",
       "  {'max_depth': 15, 'min_samples_leaf': 10, 'min_samples_split': 2},\n",
       "  {'max_depth': 15, 'min_samples_leaf': 10, 'min_samples_split': 5},\n",
       "  {'max_depth': 15, 'min_samples_leaf': 10, 'min_samples_split': 10},\n",
       "  {'max_depth': 15, 'min_samples_leaf': 20, 'min_samples_split': 2},\n",
       "  {'max_depth': 15, 'min_samples_leaf': 20, 'min_samples_split': 5},\n",
       "  {'max_depth': 15, 'min_samples_leaf': 20, 'min_samples_split': 10},\n",
       "  {'max_depth': 30, 'min_samples_leaf': 1, 'min_samples_split': 2},\n",
       "  {'max_depth': 30, 'min_samples_leaf': 1, 'min_samples_split': 5},\n",
       "  {'max_depth': 30, 'min_samples_leaf': 1, 'min_samples_split': 10},\n",
       "  {'max_depth': 30, 'min_samples_leaf': 10, 'min_samples_split': 2},\n",
       "  {'max_depth': 30, 'min_samples_leaf': 10, 'min_samples_split': 5},\n",
       "  {'max_depth': 30, 'min_samples_leaf': 10, 'min_samples_split': 10},\n",
       "  {'max_depth': 30, 'min_samples_leaf': 20, 'min_samples_split': 2},\n",
       "  {'max_depth': 30, 'min_samples_leaf': 20, 'min_samples_split': 5},\n",
       "  {'max_depth': 30, 'min_samples_leaf': 20, 'min_samples_split': 10}],\n",
       " 'split0_test_score': array([0.86538371, 0.86538371, 0.86538371, 0.86461593, 0.86461593,\n",
       "        0.86461593, 0.8636333 , 0.8636333 , 0.8636333 , 0.88598054,\n",
       "        0.88680009, 0.88706735, 0.88566673, 0.88566673, 0.88566673,\n",
       "        0.88338776, 0.88338776, 0.88338776, 0.89418744, 0.89500317,\n",
       "        0.89430181, 0.89235074, 0.89235074, 0.89235074, 0.89129835,\n",
       "        0.89129835, 0.89129835, 0.87836477, 0.88252688, 0.89155485,\n",
       "        0.89455934, 0.8945488 , 0.89450059, 0.89370858, 0.89370858,\n",
       "        0.89370858, 0.87930114, 0.88473836, 0.89318428, 0.89518819,\n",
       "        0.89524694, 0.89518819, 0.89380738, 0.89380738, 0.89380738]),\n",
       " 'split1_test_score': array([0.8593845 , 0.8593845 , 0.8593845 , 0.85909814, 0.85909814,\n",
       "        0.85909814, 0.85924801, 0.85924801, 0.85924801, 0.87308138,\n",
       "        0.87309029, 0.873708  , 0.87655443, 0.87655443, 0.87655443,\n",
       "        0.87355148, 0.87355148, 0.87355148, 0.87847747, 0.87908389,\n",
       "        0.87974849, 0.88793848, 0.8879145 , 0.88789235, 0.8834731 ,\n",
       "        0.8834731 , 0.8834731 , 0.87705312, 0.87109197, 0.87723947,\n",
       "        0.8895504 , 0.88955258, 0.88939801, 0.88368788, 0.88368788,\n",
       "        0.88368788, 0.87420515, 0.87523872, 0.87747628, 0.88967475,\n",
       "        0.88983092, 0.88977016, 0.88373406, 0.88373406, 0.88373406]),\n",
       " 'split2_test_score': array([0.85029033, 0.85029033, 0.85029033, 0.84972859, 0.84972859,\n",
       "        0.84972859, 0.84847886, 0.84847886, 0.84847886, 0.87242222,\n",
       "        0.87251771, 0.87217823, 0.86832825, 0.86832825, 0.86832825,\n",
       "        0.86592834, 0.86592834, 0.86592834, 0.87836621, 0.87911706,\n",
       "        0.88053412, 0.88781307, 0.88767898, 0.88775472, 0.88176362,\n",
       "        0.88176362, 0.88176362, 0.86632493, 0.87414278, 0.87454263,\n",
       "        0.89184722, 0.89205697, 0.89195389, 0.88520236, 0.8852791 ,\n",
       "        0.88520236, 0.87103139, 0.87119186, 0.87561792, 0.8921228 ,\n",
       "        0.89217224, 0.89214214, 0.88522216, 0.88522216, 0.88522216]),\n",
       " 'split3_test_score': array([0.86231241, 0.86231241, 0.86231241, 0.86693846, 0.86693846,\n",
       "        0.86693846, 0.86698711, 0.86698711, 0.86698711, 0.87646564,\n",
       "        0.87646564, 0.87636772, 0.88003484, 0.88003484, 0.88003484,\n",
       "        0.88211402, 0.88211402, 0.88211402, 0.8756401 , 0.87831744,\n",
       "        0.87896843, 0.89269527, 0.89269527, 0.89276996, 0.89404456,\n",
       "        0.89404456, 0.89404456, 0.86465069, 0.87133228, 0.87701643,\n",
       "        0.89339725, 0.89332404, 0.89344405, 0.89620402, 0.89620402,\n",
       "        0.89620402, 0.85891175, 0.86835712, 0.87501035, 0.89337934,\n",
       "        0.89333253, 0.89336545, 0.89620017, 0.89620017, 0.89620017]),\n",
       " 'split4_test_score': array([0.86990798, 0.86990798, 0.86990798, 0.86998648, 0.86998648,\n",
       "        0.86998648, 0.86852325, 0.86852325, 0.86852325, 0.8867977 ,\n",
       "        0.8868246 , 0.88723416, 0.88941073, 0.88941073, 0.88932731,\n",
       "        0.88619278, 0.88619278, 0.88659917, 0.89208375, 0.89706098,\n",
       "        0.8963068 , 0.89997288, 0.9000614 , 0.89991202, 0.89317638,\n",
       "        0.89348089, 0.89321884, 0.88508442, 0.88850345, 0.89589269,\n",
       "        0.90418601, 0.90426286, 0.90428247, 0.89743995, 0.89739748,\n",
       "        0.89743995, 0.88575649, 0.89277131, 0.89685359, 0.90507145,\n",
       "        0.90507627, 0.90525479, 0.89739748, 0.89743995, 0.89713544]),\n",
       " 'mean_test_score': array([0.86145579, 0.86145579, 0.86145579, 0.86207352, 0.86207352,\n",
       "        0.86207352, 0.86137411, 0.86137411, 0.86137411, 0.8789495 ,\n",
       "        0.87913967, 0.87931109, 0.879999  , 0.879999  , 0.87998231,\n",
       "        0.87823487, 0.87823487, 0.87831615, 0.88375099, 0.88571651,\n",
       "        0.88597193, 0.89215409, 0.89214018, 0.89213596, 0.8887512 ,\n",
       "        0.8888121 , 0.88875969, 0.87429558, 0.87751947, 0.88324921,\n",
       "        0.89470804, 0.89474905, 0.8947158 , 0.89124856, 0.89125541,\n",
       "        0.89124856, 0.87384118, 0.87845947, 0.88362849, 0.8950873 ,\n",
       "        0.89513178, 0.89514415, 0.89127225, 0.89128074, 0.89121984]),\n",
       " 'std_test_score': array([0.00658118, 0.00658118, 0.00658118, 0.00712736, 0.00712736,\n",
       "        0.00712736, 0.00719065, 0.00719065, 0.00719065, 0.00623281,\n",
       "        0.00640837, 0.00654019, 0.0073318 , 0.0073318 , 0.00731043,\n",
       "        0.00746074, 0.00746074, 0.00754869, 0.00775818, 0.00845257,\n",
       "        0.0076622 , 0.00442901, 0.00449125, 0.00442987, 0.00511419,\n",
       "        0.00516805, 0.00512156, 0.00770865, 0.00688067, 0.00871333,\n",
       "        0.00502708, 0.00503654, 0.00508118, 0.00570372, 0.0056783 ,\n",
       "        0.00570372, 0.00897442, 0.00904988, 0.00940752, 0.00530461,\n",
       "        0.0052726 , 0.00535318, 0.00568608, 0.00569525, 0.00563032]),\n",
       " 'rank_test_score': array([40, 40, 40, 37, 37, 37, 43, 45, 43, 29, 28, 27, 24, 24, 26, 32, 32,\n",
       "        31, 21, 20, 19,  7,  8,  9, 18, 16, 17, 35, 34, 23,  6,  4,  5, 13,\n",
       "        12, 13, 36, 30, 22,  3,  2,  1, 11, 10, 15])}"
      ]
     },
     "execution_count": 48,
     "metadata": {},
     "output_type": "execute_result"
    }
   ],
   "source": [
    "grid_search_dt_reg.cv_results_"
   ]
  },
  {
   "cell_type": "code",
   "execution_count": 49,
   "id": "upset-hardwood",
   "metadata": {},
   "outputs": [
    {
     "data": {
      "text/html": [
       "<div>\n",
       "<style scoped>\n",
       "    .dataframe tbody tr th:only-of-type {\n",
       "        vertical-align: middle;\n",
       "    }\n",
       "\n",
       "    .dataframe tbody tr th {\n",
       "        vertical-align: top;\n",
       "    }\n",
       "\n",
       "    .dataframe thead th {\n",
       "        text-align: right;\n",
       "    }\n",
       "</style>\n",
       "<table border=\"1\" class=\"dataframe\">\n",
       "  <thead>\n",
       "    <tr style=\"text-align: right;\">\n",
       "      <th></th>\n",
       "      <th>mean_fit_time</th>\n",
       "      <th>std_fit_time</th>\n",
       "      <th>mean_score_time</th>\n",
       "      <th>std_score_time</th>\n",
       "      <th>param_max_depth</th>\n",
       "      <th>param_min_samples_leaf</th>\n",
       "      <th>param_min_samples_split</th>\n",
       "      <th>params</th>\n",
       "      <th>split0_test_score</th>\n",
       "      <th>split1_test_score</th>\n",
       "      <th>split2_test_score</th>\n",
       "      <th>split3_test_score</th>\n",
       "      <th>split4_test_score</th>\n",
       "      <th>mean_test_score</th>\n",
       "      <th>std_test_score</th>\n",
       "      <th>rank_test_score</th>\n",
       "    </tr>\n",
       "  </thead>\n",
       "  <tbody>\n",
       "    <tr>\n",
       "      <th>0</th>\n",
       "      <td>0.023798</td>\n",
       "      <td>0.001029</td>\n",
       "      <td>0.000600</td>\n",
       "      <td>2.000333e-04</td>\n",
       "      <td>5</td>\n",
       "      <td>1</td>\n",
       "      <td>2</td>\n",
       "      <td>{'max_depth': 5, 'min_samples_leaf': 1, 'min_s...</td>\n",
       "      <td>0.865384</td>\n",
       "      <td>0.859384</td>\n",
       "      <td>0.850290</td>\n",
       "      <td>0.862312</td>\n",
       "      <td>0.869908</td>\n",
       "      <td>0.861456</td>\n",
       "      <td>0.006581</td>\n",
       "      <td>40</td>\n",
       "    </tr>\n",
       "    <tr>\n",
       "      <th>1</th>\n",
       "      <td>0.022998</td>\n",
       "      <td>0.000774</td>\n",
       "      <td>0.000800</td>\n",
       "      <td>2.452828e-04</td>\n",
       "      <td>5</td>\n",
       "      <td>1</td>\n",
       "      <td>5</td>\n",
       "      <td>{'max_depth': 5, 'min_samples_leaf': 1, 'min_s...</td>\n",
       "      <td>0.865384</td>\n",
       "      <td>0.859384</td>\n",
       "      <td>0.850290</td>\n",
       "      <td>0.862312</td>\n",
       "      <td>0.869908</td>\n",
       "      <td>0.861456</td>\n",
       "      <td>0.006581</td>\n",
       "      <td>40</td>\n",
       "    </tr>\n",
       "    <tr>\n",
       "      <th>2</th>\n",
       "      <td>0.022599</td>\n",
       "      <td>0.000374</td>\n",
       "      <td>0.000600</td>\n",
       "      <td>1.996525e-04</td>\n",
       "      <td>5</td>\n",
       "      <td>1</td>\n",
       "      <td>10</td>\n",
       "      <td>{'max_depth': 5, 'min_samples_leaf': 1, 'min_s...</td>\n",
       "      <td>0.865384</td>\n",
       "      <td>0.859384</td>\n",
       "      <td>0.850290</td>\n",
       "      <td>0.862312</td>\n",
       "      <td>0.869908</td>\n",
       "      <td>0.861456</td>\n",
       "      <td>0.006581</td>\n",
       "      <td>40</td>\n",
       "    </tr>\n",
       "    <tr>\n",
       "      <th>3</th>\n",
       "      <td>0.022300</td>\n",
       "      <td>0.000244</td>\n",
       "      <td>0.000500</td>\n",
       "      <td>4.768372e-07</td>\n",
       "      <td>5</td>\n",
       "      <td>10</td>\n",
       "      <td>2</td>\n",
       "      <td>{'max_depth': 5, 'min_samples_leaf': 10, 'min_...</td>\n",
       "      <td>0.864616</td>\n",
       "      <td>0.859098</td>\n",
       "      <td>0.849729</td>\n",
       "      <td>0.866938</td>\n",
       "      <td>0.869986</td>\n",
       "      <td>0.862074</td>\n",
       "      <td>0.007127</td>\n",
       "      <td>37</td>\n",
       "    </tr>\n",
       "    <tr>\n",
       "      <th>4</th>\n",
       "      <td>0.023300</td>\n",
       "      <td>0.000813</td>\n",
       "      <td>0.000701</td>\n",
       "      <td>2.453208e-04</td>\n",
       "      <td>5</td>\n",
       "      <td>10</td>\n",
       "      <td>5</td>\n",
       "      <td>{'max_depth': 5, 'min_samples_leaf': 10, 'min_...</td>\n",
       "      <td>0.864616</td>\n",
       "      <td>0.859098</td>\n",
       "      <td>0.849729</td>\n",
       "      <td>0.866938</td>\n",
       "      <td>0.869986</td>\n",
       "      <td>0.862074</td>\n",
       "      <td>0.007127</td>\n",
       "      <td>37</td>\n",
       "    </tr>\n",
       "  </tbody>\n",
       "</table>\n",
       "</div>"
      ],
      "text/plain": [
       "   mean_fit_time  std_fit_time  mean_score_time  std_score_time  \\\n",
       "0       0.023798      0.001029         0.000600    2.000333e-04   \n",
       "1       0.022998      0.000774         0.000800    2.452828e-04   \n",
       "2       0.022599      0.000374         0.000600    1.996525e-04   \n",
       "3       0.022300      0.000244         0.000500    4.768372e-07   \n",
       "4       0.023300      0.000813         0.000701    2.453208e-04   \n",
       "\n",
       "  param_max_depth param_min_samples_leaf param_min_samples_split  \\\n",
       "0               5                      1                       2   \n",
       "1               5                      1                       5   \n",
       "2               5                      1                      10   \n",
       "3               5                     10                       2   \n",
       "4               5                     10                       5   \n",
       "\n",
       "                                              params  split0_test_score  \\\n",
       "0  {'max_depth': 5, 'min_samples_leaf': 1, 'min_s...           0.865384   \n",
       "1  {'max_depth': 5, 'min_samples_leaf': 1, 'min_s...           0.865384   \n",
       "2  {'max_depth': 5, 'min_samples_leaf': 1, 'min_s...           0.865384   \n",
       "3  {'max_depth': 5, 'min_samples_leaf': 10, 'min_...           0.864616   \n",
       "4  {'max_depth': 5, 'min_samples_leaf': 10, 'min_...           0.864616   \n",
       "\n",
       "   split1_test_score  split2_test_score  split3_test_score  split4_test_score  \\\n",
       "0           0.859384           0.850290           0.862312           0.869908   \n",
       "1           0.859384           0.850290           0.862312           0.869908   \n",
       "2           0.859384           0.850290           0.862312           0.869908   \n",
       "3           0.859098           0.849729           0.866938           0.869986   \n",
       "4           0.859098           0.849729           0.866938           0.869986   \n",
       "\n",
       "   mean_test_score  std_test_score  rank_test_score  \n",
       "0         0.861456        0.006581               40  \n",
       "1         0.861456        0.006581               40  \n",
       "2         0.861456        0.006581               40  \n",
       "3         0.862074        0.007127               37  \n",
       "4         0.862074        0.007127               37  "
      ]
     },
     "execution_count": 49,
     "metadata": {},
     "output_type": "execute_result"
    }
   ],
   "source": [
    "df_grid_search_dt_reg = pd.DataFrame(grid_search_dt_reg.cv_results_)\n",
    "df_grid_search_dt_reg.head(5)"
   ]
  },
  {
   "cell_type": "code",
   "execution_count": 50,
   "id": "adult-pharmacy",
   "metadata": {},
   "outputs": [],
   "source": [
    "df_grid_search_dt_reg.sort_values([\"param_max_depth\", \"param_min_samples_leaf\", \"param_min_samples_split\", \"mean_test_score\"], inplace=True)"
   ]
  },
  {
   "cell_type": "code",
   "execution_count": 51,
   "id": "educational-spiritual",
   "metadata": {},
   "outputs": [
    {
     "data": {
      "image/png": "[encoded data removed]",
      "text/plain": [
       "<Figure size 648x216 with 3 Axes>"
      ]
     },
     "metadata": {
      "needs_background": "light"
     },
     "output_type": "display_data"
    }
   ],
   "source": [
    "fig_dt_reg = sns.FacetGrid(df_grid_search_dt_reg, col=\"param_min_samples_split\")\n",
    "fig_dt_reg.map(sns.lineplot, \"param_max_depth\", \"mean_test_score\", \"param_min_samples_leaf\")\n",
    "plt.plot([], [], ' ', label=\"min_samples_leaf\")\n",
    "plt.legend()\n",
    "plt.show()"
   ]
  },
  {
   "cell_type": "code",
   "execution_count": 52,
   "id": "leading-printing",
   "metadata": {},
   "outputs": [
    {
     "data": {
      "text/plain": [
       "0.6620990074762222"
      ]
     },
     "execution_count": 52,
     "metadata": {},
     "output_type": "execute_result"
    }
   ],
   "source": [
    "grid_search_dt_reg.score(X_test, y_test)"
   ]
  },
  {
   "cell_type": "code",
   "execution_count": 53,
   "id": "stupid-shoulder",
   "metadata": {},
   "outputs": [
    {
     "name": "stdout",
     "output_type": "stream",
     "text": [
      "RMSE: 0.5496179817190734\n"
     ]
    },
    {
     "data": {
      "image/png": "[encoded data removed]",
      "text/plain": [
       "<Figure size 432x288 with 1 Axes>"
      ]
     },
     "metadata": {
      "needs_background": "light"
     },
     "output_type": "display_data"
    }
   ],
   "source": [
    "plot_test(grid_search_dt_reg, X_test, y_test)"
   ]
  },
  {
   "cell_type": "markdown",
   "id": "negative-inside",
   "metadata": {},
   "source": [
    "## Random Forest Regressor"
   ]
  },
  {
   "cell_type": "code",
   "execution_count": 54,
   "id": "wired-level",
   "metadata": {},
   "outputs": [],
   "source": [
    "from sklearn.ensemble import RandomForestRegressor"
   ]
  },
  {
   "cell_type": "code",
   "execution_count": 55,
   "id": "chicken-value",
   "metadata": {},
   "outputs": [],
   "source": [
    "param_grid_rf_reg = {\n",
    "    \"max_depth\": [5, 7, 10, 20],\n",
    "    \"min_samples_split\": [2, 5, 10],\n",
    "    \"min_samples_leaf\": [1, 10, 20],\n",
    "}"
   ]
  },
  {
   "cell_type": "code",
   "execution_count": 56,
   "id": "inappropriate-citizen",
   "metadata": {},
   "outputs": [],
   "source": [
    "grid_search_rf_reg = GridSearchCV(RandomForestRegressor(), param_grid_rf_reg, cv=5, n_jobs=-1)"
   ]
  },
  {
   "cell_type": "code",
   "execution_count": 57,
   "id": "bigger-nigeria",
   "metadata": {},
   "outputs": [
    {
     "data": {
      "text/plain": [
       "GridSearchCV(cv=5, estimator=RandomForestRegressor(), n_jobs=-1,\n",
       "             param_grid={'max_depth': [5, 7, 10, 20],\n",
       "                         'min_samples_leaf': [1, 10, 20],\n",
       "                         'min_samples_split': [2, 5, 10]})"
      ]
     },
     "execution_count": 57,
     "metadata": {},
     "output_type": "execute_result"
    }
   ],
   "source": [
    "grid_search_rf_reg.fit(X_train, y_train)"
   ]
  },
  {
   "cell_type": "code",
   "execution_count": 58,
   "id": "sexual-marker",
   "metadata": {},
   "outputs": [
    {
     "data": {
      "text/plain": [
       "{'max_depth': 20, 'min_samples_leaf': 1, 'min_samples_split': 2}"
      ]
     },
     "execution_count": 58,
     "metadata": {},
     "output_type": "execute_result"
    }
   ],
   "source": [
    "grid_search_rf_reg.best_params_"
   ]
  },
  {
   "cell_type": "code",
   "execution_count": 59,
   "id": "terminal-kruger",
   "metadata": {
    "collapsed": true,
    "jupyter": {
     "outputs_hidden": true
    }
   },
   "outputs": [
    {
     "data": {
      "text/plain": [
       "{'mean_fit_time': array([1.52249899, 1.53209825, 1.53569736, 1.5067996 , 1.5681942 ,\n",
       "        1.54659915, 1.57989964, 1.52890711, 1.55839996, 2.01799946,\n",
       "        2.00869927, 2.0527997 , 1.94060082, 2.1208992 , 1.98769984,\n",
       "        1.91119967, 1.89979916, 1.88979859, 2.66119781, 2.57790027,\n",
       "        2.66849451, 2.45129962, 2.41109934, 2.38370028, 2.21929998,\n",
       "        2.30339675, 2.18279839, 3.9271997 , 3.53239608, 3.64110012,\n",
       "        2.62729988, 2.6968997 , 2.75669966, 2.38369927, 2.11059999,\n",
       "        1.94909968]),\n",
       " 'std_fit_time': array([0.02536309, 0.04107507, 0.04458161, 0.01854099, 0.03947243,\n",
       "        0.02118941, 0.05891301, 0.03229336, 0.0611651 , 0.04360572,\n",
       "        0.08234512, 0.07918685, 0.02771039, 0.13438627, 0.11665007,\n",
       "        0.02191706, 0.02322437, 0.02676651, 0.07993766, 0.04875155,\n",
       "        0.10888386, 0.09166779, 0.08167632, 0.07327634, 0.09006798,\n",
       "        0.09921319, 0.06752358, 0.22475762, 0.10645657, 0.14508097,\n",
       "        0.0806045 , 0.14424309, 0.12538206, 0.12701586, 0.10572265,\n",
       "        0.02944714]),\n",
       " 'mean_score_time': array([0.01329989, 0.01380024, 0.01520028, 0.01369991, 0.01739988,\n",
       "        0.01420012, 0.01590805, 0.01379256, 0.01379962, 0.01639977,\n",
       "        0.01650023, 0.01680059, 0.0171001 , 0.01659966, 0.01760011,\n",
       "        0.0165    , 0.01670041, 0.01769948, 0.02610044, 0.02290058,\n",
       "        0.02329965, 0.02110052, 0.02370048, 0.02270064, 0.01939998,\n",
       "        0.01950097, 0.01910019, 0.05080013, 0.03899975, 0.03579993,\n",
       "        0.02400064, 0.02449946, 0.02350049, 0.02040071, 0.01780009,\n",
       "        0.01540022]),\n",
       " 'std_score_time': array([0.0005095 , 0.00067837, 0.00246164, 0.00024487, 0.00416375,\n",
       "        0.00074842, 0.00173707, 0.00039667, 0.0007487 , 0.0005822 ,\n",
       "        0.00077439, 0.00067795, 0.00073458, 0.00048983, 0.00177142,\n",
       "        0.00063245, 0.00143521, 0.00246151, 0.00375995, 0.00119966,\n",
       "        0.00242069, 0.00058282, 0.00460056, 0.00276728, 0.00086017,\n",
       "        0.00202501, 0.00020015, 0.00478165, 0.00501053, 0.00741326,\n",
       "        0.00189689, 0.00304974, 0.00094867, 0.00139245, 0.00116663,\n",
       "        0.00020042]),\n",
       " 'param_max_depth': masked_array(data=[5, 5, 5, 5, 5, 5, 5, 5, 5, 7, 7, 7, 7, 7, 7, 7, 7, 7,\n",
       "                    10, 10, 10, 10, 10, 10, 10, 10, 10, 20, 20, 20, 20, 20,\n",
       "                    20, 20, 20, 20],\n",
       "              mask=[False, False, False, False, False, False, False, False,\n",
       "                    False, False, False, False, False, False, False, False,\n",
       "                    False, False, False, False, False, False, False, False,\n",
       "                    False, False, False, False, False, False, False, False,\n",
       "                    False, False, False, False],\n",
       "        fill_value='?',\n",
       "             dtype=object),\n",
       " 'param_min_samples_leaf': masked_array(data=[1, 1, 1, 10, 10, 10, 20, 20, 20, 1, 1, 1, 10, 10, 10,\n",
       "                    20, 20, 20, 1, 1, 1, 10, 10, 10, 20, 20, 20, 1, 1, 1,\n",
       "                    10, 10, 10, 20, 20, 20],\n",
       "              mask=[False, False, False, False, False, False, False, False,\n",
       "                    False, False, False, False, False, False, False, False,\n",
       "                    False, False, False, False, False, False, False, False,\n",
       "                    False, False, False, False, False, False, False, False,\n",
       "                    False, False, False, False],\n",
       "        fill_value='?',\n",
       "             dtype=object),\n",
       " 'param_min_samples_split': masked_array(data=[2, 5, 10, 2, 5, 10, 2, 5, 10, 2, 5, 10, 2, 5, 10, 2, 5,\n",
       "                    10, 2, 5, 10, 2, 5, 10, 2, 5, 10, 2, 5, 10, 2, 5, 10,\n",
       "                    2, 5, 10],\n",
       "              mask=[False, False, False, False, False, False, False, False,\n",
       "                    False, False, False, False, False, False, False, False,\n",
       "                    False, False, False, False, False, False, False, False,\n",
       "                    False, False, False, False, False, False, False, False,\n",
       "                    False, False, False, False],\n",
       "        fill_value='?',\n",
       "             dtype=object),\n",
       " 'params': [{'max_depth': 5, 'min_samples_leaf': 1, 'min_samples_split': 2},\n",
       "  {'max_depth': 5, 'min_samples_leaf': 1, 'min_samples_split': 5},\n",
       "  {'max_depth': 5, 'min_samples_leaf': 1, 'min_samples_split': 10},\n",
       "  {'max_depth': 5, 'min_samples_leaf': 10, 'min_samples_split': 2},\n",
       "  {'max_depth': 5, 'min_samples_leaf': 10, 'min_samples_split': 5},\n",
       "  {'max_depth': 5, 'min_samples_leaf': 10, 'min_samples_split': 10},\n",
       "  {'max_depth': 5, 'min_samples_leaf': 20, 'min_samples_split': 2},\n",
       "  {'max_depth': 5, 'min_samples_leaf': 20, 'min_samples_split': 5},\n",
       "  {'max_depth': 5, 'min_samples_leaf': 20, 'min_samples_split': 10},\n",
       "  {'max_depth': 7, 'min_samples_leaf': 1, 'min_samples_split': 2},\n",
       "  {'max_depth': 7, 'min_samples_leaf': 1, 'min_samples_split': 5},\n",
       "  {'max_depth': 7, 'min_samples_leaf': 1, 'min_samples_split': 10},\n",
       "  {'max_depth': 7, 'min_samples_leaf': 10, 'min_samples_split': 2},\n",
       "  {'max_depth': 7, 'min_samples_leaf': 10, 'min_samples_split': 5},\n",
       "  {'max_depth': 7, 'min_samples_leaf': 10, 'min_samples_split': 10},\n",
       "  {'max_depth': 7, 'min_samples_leaf': 20, 'min_samples_split': 2},\n",
       "  {'max_depth': 7, 'min_samples_leaf': 20, 'min_samples_split': 5},\n",
       "  {'max_depth': 7, 'min_samples_leaf': 20, 'min_samples_split': 10},\n",
       "  {'max_depth': 10, 'min_samples_leaf': 1, 'min_samples_split': 2},\n",
       "  {'max_depth': 10, 'min_samples_leaf': 1, 'min_samples_split': 5},\n",
       "  {'max_depth': 10, 'min_samples_leaf': 1, 'min_samples_split': 10},\n",
       "  {'max_depth': 10, 'min_samples_leaf': 10, 'min_samples_split': 2},\n",
       "  {'max_depth': 10, 'min_samples_leaf': 10, 'min_samples_split': 5},\n",
       "  {'max_depth': 10, 'min_samples_leaf': 10, 'min_samples_split': 10},\n",
       "  {'max_depth': 10, 'min_samples_leaf': 20, 'min_samples_split': 2},\n",
       "  {'max_depth': 10, 'min_samples_leaf': 20, 'min_samples_split': 5},\n",
       "  {'max_depth': 10, 'min_samples_leaf': 20, 'min_samples_split': 10},\n",
       "  {'max_depth': 20, 'min_samples_leaf': 1, 'min_samples_split': 2},\n",
       "  {'max_depth': 20, 'min_samples_leaf': 1, 'min_samples_split': 5},\n",
       "  {'max_depth': 20, 'min_samples_leaf': 1, 'min_samples_split': 10},\n",
       "  {'max_depth': 20, 'min_samples_leaf': 10, 'min_samples_split': 2},\n",
       "  {'max_depth': 20, 'min_samples_leaf': 10, 'min_samples_split': 5},\n",
       "  {'max_depth': 20, 'min_samples_leaf': 10, 'min_samples_split': 10},\n",
       "  {'max_depth': 20, 'min_samples_leaf': 20, 'min_samples_split': 2},\n",
       "  {'max_depth': 20, 'min_samples_leaf': 20, 'min_samples_split': 5},\n",
       "  {'max_depth': 20, 'min_samples_leaf': 20, 'min_samples_split': 10}],\n",
       " 'split0_test_score': array([0.87441659, 0.8740857 , 0.87406268, 0.8746017 , 0.87410852,\n",
       "        0.87405655, 0.87398379, 0.87359502, 0.87405514, 0.89838764,\n",
       "        0.89819374, 0.8982024 , 0.89693952, 0.8968938 , 0.89660986,\n",
       "        0.89341365, 0.89389976, 0.89314935, 0.92075605, 0.92004615,\n",
       "        0.91700453, 0.91119195, 0.91160686, 0.91178809, 0.90113749,\n",
       "        0.90099102, 0.9012337 , 0.93407516, 0.93238318, 0.92947113,\n",
       "        0.91491159, 0.91518988, 0.91545675, 0.90291706, 0.90274672,\n",
       "        0.90252091]),\n",
       " 'split1_test_score': array([0.87090668, 0.87126962, 0.87117179, 0.87114072, 0.87120748,\n",
       "        0.87111371, 0.87132483, 0.87109402, 0.87098847, 0.89392839,\n",
       "        0.89331841, 0.89403617, 0.8913333 , 0.89202814, 0.89167904,\n",
       "        0.88935939, 0.88937965, 0.88917952, 0.91568253, 0.91469563,\n",
       "        0.91297931, 0.90759922, 0.90674204, 0.90713298, 0.89690282,\n",
       "        0.89765946, 0.89769397, 0.92977705, 0.92805065, 0.92467515,\n",
       "        0.91094802, 0.91072539, 0.90980756, 0.89835932, 0.89764763,\n",
       "        0.89815605]),\n",
       " 'split2_test_score': array([0.86272518, 0.8631335 , 0.86263889, 0.8613898 , 0.86213514,\n",
       "        0.8617822 , 0.86181494, 0.86135272, 0.86072907, 0.88875183,\n",
       "        0.88734709, 0.88788894, 0.88600029, 0.88643649, 0.88578404,\n",
       "        0.88186654, 0.88159304, 0.88162252, 0.91361601, 0.91250999,\n",
       "        0.91196175, 0.90465782, 0.90418763, 0.90395558, 0.89325544,\n",
       "        0.89334299, 0.89412039, 0.93146962, 0.93007711, 0.92560764,\n",
       "        0.9093102 , 0.90946106, 0.90922068, 0.89492414, 0.89448772,\n",
       "        0.89460268]),\n",
       " 'split3_test_score': array([0.87874289, 0.87840831, 0.87886511, 0.88014063, 0.87908888,\n",
       "        0.87858904, 0.8797737 , 0.8802351 , 0.8792827 , 0.89687132,\n",
       "        0.89769627, 0.89695038, 0.89899245, 0.89808854, 0.89841982,\n",
       "        0.89797625, 0.89782016, 0.89737495, 0.91912753, 0.91844224,\n",
       "        0.91702182, 0.9136846 , 0.91390546, 0.91457401, 0.90716029,\n",
       "        0.90743582, 0.90672088, 0.9338355 , 0.93243326, 0.92903813,\n",
       "        0.91820127, 0.91773228, 0.91821336, 0.90849784, 0.90792815,\n",
       "        0.90858482]),\n",
       " 'split4_test_score': array([0.8778361 , 0.87847156, 0.87862556, 0.87834745, 0.87797303,\n",
       "        0.87820677, 0.87796238, 0.87784656, 0.87796109, 0.9015983 ,\n",
       "        0.90133897, 0.9015328 , 0.89945086, 0.89908045, 0.89907521,\n",
       "        0.89520632, 0.89554875, 0.89525506, 0.92533148, 0.92496382,\n",
       "        0.92321906, 0.91528409, 0.91511013, 0.9151363 , 0.90535954,\n",
       "        0.90449175, 0.90489842, 0.94274734, 0.94080646, 0.93772875,\n",
       "        0.92029196, 0.91953896, 0.9198646 , 0.9061736 , 0.90634013,\n",
       "        0.90692076]),\n",
       " 'mean_test_score': array([0.87292549, 0.87307374, 0.87307281, 0.87312406, 0.87290261,\n",
       "        0.87274965, 0.87297193, 0.87282469, 0.87260329, 0.8959075 ,\n",
       "        0.8955789 , 0.89572214, 0.89454328, 0.89450548, 0.89431359,\n",
       "        0.89156443, 0.89164827, 0.89131628, 0.91890272, 0.91813156,\n",
       "        0.9164373 , 0.91048353, 0.91031043, 0.91051739, 0.90076312,\n",
       "        0.90078421, 0.90093347, 0.93438094, 0.93275013, 0.92930416,\n",
       "        0.91473261, 0.91452951, 0.91451259, 0.90217439, 0.90183007,\n",
       "        0.90215704]),\n",
       " 'std_test_score': array([0.00580175, 0.00566889, 0.00596396, 0.00663816, 0.00607034,\n",
       "        0.00614081, 0.00631481, 0.00656244, 0.00661866, 0.00434938,\n",
       "        0.00484503, 0.0045962 , 0.00515574, 0.00470571, 0.00499001,\n",
       "        0.00559832, 0.00573811, 0.00555187, 0.00407758, 0.00433243,\n",
       "        0.00396595, 0.00390006, 0.004192  , 0.00433398, 0.0051664 ,\n",
       "        0.00496323, 0.00460907, 0.00447346, 0.00434441, 0.00460791,\n",
       "        0.00416403, 0.00389741, 0.00432141, 0.00497297, 0.00509451,\n",
       "        0.00523866]),\n",
       " 'rank_test_score': array([32, 29, 30, 28, 33, 35, 31, 34, 36, 19, 21, 20, 22, 23, 24, 26, 25,\n",
       "        27,  4,  5,  6, 11, 12, 10, 18, 17, 16,  1,  2,  3,  7,  8,  9, 13,\n",
       "        15, 14])}"
      ]
     },
     "execution_count": 59,
     "metadata": {},
     "output_type": "execute_result"
    }
   ],
   "source": [
    "grid_search_rf_reg.cv_results_"
   ]
  },
  {
   "cell_type": "code",
   "execution_count": 60,
   "id": "accredited-nebraska",
   "metadata": {},
   "outputs": [
    {
     "data": {
      "text/html": [
       "<div>\n",
       "<style scoped>\n",
       "    .dataframe tbody tr th:only-of-type {\n",
       "        vertical-align: middle;\n",
       "    }\n",
       "\n",
       "    .dataframe tbody tr th {\n",
       "        vertical-align: top;\n",
       "    }\n",
       "\n",
       "    .dataframe thead th {\n",
       "        text-align: right;\n",
       "    }\n",
       "</style>\n",
       "<table border=\"1\" class=\"dataframe\">\n",
       "  <thead>\n",
       "    <tr style=\"text-align: right;\">\n",
       "      <th></th>\n",
       "      <th>mean_fit_time</th>\n",
       "      <th>std_fit_time</th>\n",
       "      <th>mean_score_time</th>\n",
       "      <th>std_score_time</th>\n",
       "      <th>param_max_depth</th>\n",
       "      <th>param_min_samples_leaf</th>\n",
       "      <th>param_min_samples_split</th>\n",
       "      <th>params</th>\n",
       "      <th>split0_test_score</th>\n",
       "      <th>split1_test_score</th>\n",
       "      <th>split2_test_score</th>\n",
       "      <th>split3_test_score</th>\n",
       "      <th>split4_test_score</th>\n",
       "      <th>mean_test_score</th>\n",
       "      <th>std_test_score</th>\n",
       "      <th>rank_test_score</th>\n",
       "    </tr>\n",
       "  </thead>\n",
       "  <tbody>\n",
       "    <tr>\n",
       "      <th>0</th>\n",
       "      <td>1.522499</td>\n",
       "      <td>0.025363</td>\n",
       "      <td>0.0133</td>\n",
       "      <td>0.000510</td>\n",
       "      <td>5</td>\n",
       "      <td>1</td>\n",
       "      <td>2</td>\n",
       "      <td>{'max_depth': 5, 'min_samples_leaf': 1, 'min_s...</td>\n",
       "      <td>0.874417</td>\n",
       "      <td>0.870907</td>\n",
       "      <td>0.862725</td>\n",
       "      <td>0.878743</td>\n",
       "      <td>0.877836</td>\n",
       "      <td>0.872925</td>\n",
       "      <td>0.005802</td>\n",
       "      <td>32</td>\n",
       "    </tr>\n",
       "    <tr>\n",
       "      <th>1</th>\n",
       "      <td>1.532098</td>\n",
       "      <td>0.041075</td>\n",
       "      <td>0.0138</td>\n",
       "      <td>0.000678</td>\n",
       "      <td>5</td>\n",
       "      <td>1</td>\n",
       "      <td>5</td>\n",
       "      <td>{'max_depth': 5, 'min_samples_leaf': 1, 'min_s...</td>\n",
       "      <td>0.874086</td>\n",
       "      <td>0.871270</td>\n",
       "      <td>0.863133</td>\n",
       "      <td>0.878408</td>\n",
       "      <td>0.878472</td>\n",
       "      <td>0.873074</td>\n",
       "      <td>0.005669</td>\n",
       "      <td>29</td>\n",
       "    </tr>\n",
       "    <tr>\n",
       "      <th>2</th>\n",
       "      <td>1.535697</td>\n",
       "      <td>0.044582</td>\n",
       "      <td>0.0152</td>\n",
       "      <td>0.002462</td>\n",
       "      <td>5</td>\n",
       "      <td>1</td>\n",
       "      <td>10</td>\n",
       "      <td>{'max_depth': 5, 'min_samples_leaf': 1, 'min_s...</td>\n",
       "      <td>0.874063</td>\n",
       "      <td>0.871172</td>\n",
       "      <td>0.862639</td>\n",
       "      <td>0.878865</td>\n",
       "      <td>0.878626</td>\n",
       "      <td>0.873073</td>\n",
       "      <td>0.005964</td>\n",
       "      <td>30</td>\n",
       "    </tr>\n",
       "    <tr>\n",
       "      <th>3</th>\n",
       "      <td>1.506800</td>\n",
       "      <td>0.018541</td>\n",
       "      <td>0.0137</td>\n",
       "      <td>0.000245</td>\n",
       "      <td>5</td>\n",
       "      <td>10</td>\n",
       "      <td>2</td>\n",
       "      <td>{'max_depth': 5, 'min_samples_leaf': 10, 'min_...</td>\n",
       "      <td>0.874602</td>\n",
       "      <td>0.871141</td>\n",
       "      <td>0.861390</td>\n",
       "      <td>0.880141</td>\n",
       "      <td>0.878347</td>\n",
       "      <td>0.873124</td>\n",
       "      <td>0.006638</td>\n",
       "      <td>28</td>\n",
       "    </tr>\n",
       "    <tr>\n",
       "      <th>4</th>\n",
       "      <td>1.568194</td>\n",
       "      <td>0.039472</td>\n",
       "      <td>0.0174</td>\n",
       "      <td>0.004164</td>\n",
       "      <td>5</td>\n",
       "      <td>10</td>\n",
       "      <td>5</td>\n",
       "      <td>{'max_depth': 5, 'min_samples_leaf': 10, 'min_...</td>\n",
       "      <td>0.874109</td>\n",
       "      <td>0.871207</td>\n",
       "      <td>0.862135</td>\n",
       "      <td>0.879089</td>\n",
       "      <td>0.877973</td>\n",
       "      <td>0.872903</td>\n",
       "      <td>0.006070</td>\n",
       "      <td>33</td>\n",
       "    </tr>\n",
       "  </tbody>\n",
       "</table>\n",
       "</div>"
      ],
      "text/plain": [
       "   mean_fit_time  std_fit_time  mean_score_time  std_score_time  \\\n",
       "0       1.522499      0.025363           0.0133        0.000510   \n",
       "1       1.532098      0.041075           0.0138        0.000678   \n",
       "2       1.535697      0.044582           0.0152        0.002462   \n",
       "3       1.506800      0.018541           0.0137        0.000245   \n",
       "4       1.568194      0.039472           0.0174        0.004164   \n",
       "\n",
       "  param_max_depth param_min_samples_leaf param_min_samples_split  \\\n",
       "0               5                      1                       2   \n",
       "1               5                      1                       5   \n",
       "2               5                      1                      10   \n",
       "3               5                     10                       2   \n",
       "4               5                     10                       5   \n",
       "\n",
       "                                              params  split0_test_score  \\\n",
       "0  {'max_depth': 5, 'min_samples_leaf': 1, 'min_s...           0.874417   \n",
       "1  {'max_depth': 5, 'min_samples_leaf': 1, 'min_s...           0.874086   \n",
       "2  {'max_depth': 5, 'min_samples_leaf': 1, 'min_s...           0.874063   \n",
       "3  {'max_depth': 5, 'min_samples_leaf': 10, 'min_...           0.874602   \n",
       "4  {'max_depth': 5, 'min_samples_leaf': 10, 'min_...           0.874109   \n",
       "\n",
       "   split1_test_score  split2_test_score  split3_test_score  split4_test_score  \\\n",
       "0           0.870907           0.862725           0.878743           0.877836   \n",
       "1           0.871270           0.863133           0.878408           0.878472   \n",
       "2           0.871172           0.862639           0.878865           0.878626   \n",
       "3           0.871141           0.861390           0.880141           0.878347   \n",
       "4           0.871207           0.862135           0.879089           0.877973   \n",
       "\n",
       "   mean_test_score  std_test_score  rank_test_score  \n",
       "0         0.872925        0.005802               32  \n",
       "1         0.873074        0.005669               29  \n",
       "2         0.873073        0.005964               30  \n",
       "3         0.873124        0.006638               28  \n",
       "4         0.872903        0.006070               33  "
      ]
     },
     "execution_count": 60,
     "metadata": {},
     "output_type": "execute_result"
    }
   ],
   "source": [
    "df_grid_search_rf_reg = pd.DataFrame(grid_search_rf_reg.cv_results_)\n",
    "df_grid_search_rf_reg.head(5)"
   ]
  },
  {
   "cell_type": "code",
   "execution_count": 61,
   "id": "italic-specific",
   "metadata": {},
   "outputs": [],
   "source": [
    "df_grid_search_rf_reg.sort_values([\"param_max_depth\", \"param_min_samples_leaf\", \"param_min_samples_split\", \"mean_test_score\"], inplace=True)"
   ]
  },
  {
   "cell_type": "code",
   "execution_count": 62,
   "id": "optional-rochester",
   "metadata": {},
   "outputs": [
    {
     "data": {
      "image/png": "[encoded data removed]",
      "text/plain": [
       "<Figure size 648x216 with 3 Axes>"
      ]
     },
     "metadata": {
      "needs_background": "light"
     },
     "output_type": "display_data"
    }
   ],
   "source": [
    "fig_rf_reg = sns.FacetGrid(df_grid_search_rf_reg, col=\"param_min_samples_split\")\n",
    "fig_rf_reg.map(sns.lineplot, \"param_max_depth\", \"mean_test_score\", \"param_min_samples_leaf\")\n",
    "plt.plot([], [], ' ', label=\"min_samples_leaf\")\n",
    "plt.legend()\n",
    "plt.show()"
   ]
  },
  {
   "cell_type": "code",
   "execution_count": 63,
   "id": "refined-perspective",
   "metadata": {},
   "outputs": [
    {
     "data": {
      "text/plain": [
       "0.7517875459417157"
      ]
     },
     "execution_count": 63,
     "metadata": {},
     "output_type": "execute_result"
    }
   ],
   "source": [
    "grid_search_rf_reg.score(X_test, y_test)"
   ]
  },
  {
   "cell_type": "code",
   "execution_count": 64,
   "id": "brilliant-industry",
   "metadata": {},
   "outputs": [
    {
     "name": "stdout",
     "output_type": "stream",
     "text": [
      "RMSE: 0.47106190438292866\n"
     ]
    },
    {
     "data": {
      "image/png": "[encoded data removed]",
      "text/plain": [
       "<Figure size 432x288 with 1 Axes>"
      ]
     },
     "metadata": {
      "needs_background": "light"
     },
     "output_type": "display_data"
    }
   ],
   "source": [
    "plot_test(grid_search_rf_reg, X_test, y_test)"
   ]
  },
  {
   "cell_type": "markdown",
   "id": "blank-hepatitis",
   "metadata": {},
   "source": [
    "## AdaBoost Regressor"
   ]
  },
  {
   "cell_type": "code",
   "execution_count": 65,
   "id": "mechanical-hours",
   "metadata": {},
   "outputs": [],
   "source": [
    "from sklearn.ensemble import AdaBoostRegressor"
   ]
  },
  {
   "cell_type": "code",
   "execution_count": 66,
   "id": "meaning-invention",
   "metadata": {},
   "outputs": [],
   "source": [
    "param_grid_adb_reg = {\n",
    "    'n_estimators': [50, 100],\n",
    "    'learning_rate' : [0.01, 0.2, 0.5, 1],\n",
    "    'loss' : ['linear', 'square', 'exponential']\n",
    " }"
   ]
  },
  {
   "cell_type": "code",
   "execution_count": 67,
   "id": "desperate-jungle",
   "metadata": {},
   "outputs": [],
   "source": [
    "grid_search_adb_reg = GridSearchCV(AdaBoostRegressor(), param_grid_adb_reg, cv=5, n_jobs=-1)"
   ]
  },
  {
   "cell_type": "code",
   "execution_count": 68,
   "id": "pressing-crystal",
   "metadata": {},
   "outputs": [
    {
     "data": {
      "text/plain": [
       "GridSearchCV(cv=5, estimator=AdaBoostRegressor(), n_jobs=-1,\n",
       "             param_grid={'learning_rate': [0.01, 0.2, 0.5, 1],\n",
       "                         'loss': ['linear', 'square', 'exponential'],\n",
       "                         'n_estimators': [50, 100]})"
      ]
     },
     "execution_count": 68,
     "metadata": {},
     "output_type": "execute_result"
    }
   ],
   "source": [
    "grid_search_adb_reg.fit(X_train, y_train)"
   ]
  },
  {
   "cell_type": "code",
   "execution_count": 69,
   "id": "intended-michigan",
   "metadata": {},
   "outputs": [
    {
     "data": {
      "text/plain": [
       "{'learning_rate': 0.2, 'loss': 'exponential', 'n_estimators': 50}"
      ]
     },
     "execution_count": 69,
     "metadata": {},
     "output_type": "execute_result"
    }
   ],
   "source": [
    "grid_search_adb_reg.best_params_"
   ]
  },
  {
   "cell_type": "code",
   "execution_count": 70,
   "id": "opened-charleston",
   "metadata": {
    "collapsed": true,
    "jupyter": {
     "outputs_hidden": true
    }
   },
   "outputs": [
    {
     "data": {
      "text/plain": [
       "{'mean_fit_time': array([0.79000072, 1.60368714, 0.78950281, 1.60140004, 0.80910158,\n",
       "        1.60040021, 0.72939982, 1.32300062, 0.6767983 , 1.13419733,\n",
       "        0.75730028, 1.36140347, 0.64239783, 0.87599902, 0.53370037,\n",
       "        0.89099236, 0.64870377, 1.10429969, 0.43000445, 0.54439979,\n",
       "        0.44459896, 0.77970409, 0.5526001 , 0.72659936]),\n",
       " 'std_fit_time': array([0.0057806 , 0.01062892, 0.00540361, 0.03070403, 0.01897477,\n",
       "        0.01780312, 0.00480968, 0.00983948, 0.00381611, 0.0179889 ,\n",
       "        0.01224252, 0.01740368, 0.01461027, 0.14136623, 0.00715934,\n",
       "        0.00999132, 0.0021077 , 0.0136008 , 0.04221984, 0.19753602,\n",
       "        0.00608613, 0.02425182, 0.00609359, 0.08193954]),\n",
       " 'mean_score_time': array([0.00959864, 0.02060065, 0.00959802, 0.01950207, 0.01290064,\n",
       "        0.01990018, 0.01050043, 0.02180057, 0.01030045, 0.02159982,\n",
       "        0.01010022, 0.02229671, 0.01060109, 0.01610327, 0.01200061,\n",
       "        0.02229395, 0.01089611, 0.02329946, 0.00749507, 0.01080055,\n",
       "        0.01120057, 0.02080059, 0.01110005, 0.01570044]),\n",
       " 'std_score_time': array([0.00020117, 0.00177276, 0.0004913 , 0.00126983, 0.00387797,\n",
       "        0.00115795, 0.00031673, 0.0009267 , 0.00024503, 0.00048958,\n",
       "        0.00037516, 0.00081372, 0.0003746 , 0.00365059, 0.00225809,\n",
       "        0.00068048, 0.00058658, 0.00081245, 0.00129633, 0.0059553 ,\n",
       "        0.00051002, 0.00180504, 0.00037353, 0.00039978]),\n",
       " 'param_learning_rate': masked_array(data=[0.01, 0.01, 0.01, 0.01, 0.01, 0.01, 0.2, 0.2, 0.2, 0.2,\n",
       "                    0.2, 0.2, 0.5, 0.5, 0.5, 0.5, 0.5, 0.5, 1, 1, 1, 1, 1,\n",
       "                    1],\n",
       "              mask=[False, False, False, False, False, False, False, False,\n",
       "                    False, False, False, False, False, False, False, False,\n",
       "                    False, False, False, False, False, False, False, False],\n",
       "        fill_value='?',\n",
       "             dtype=object),\n",
       " 'param_loss': masked_array(data=['linear', 'linear', 'square', 'square', 'exponential',\n",
       "                    'exponential', 'linear', 'linear', 'square', 'square',\n",
       "                    'exponential', 'exponential', 'linear', 'linear',\n",
       "                    'square', 'square', 'exponential', 'exponential',\n",
       "                    'linear', 'linear', 'square', 'square', 'exponential',\n",
       "                    'exponential'],\n",
       "              mask=[False, False, False, False, False, False, False, False,\n",
       "                    False, False, False, False, False, False, False, False,\n",
       "                    False, False, False, False, False, False, False, False],\n",
       "        fill_value='?',\n",
       "             dtype=object),\n",
       " 'param_n_estimators': masked_array(data=[50, 100, 50, 100, 50, 100, 50, 100, 50, 100, 50, 100,\n",
       "                    50, 100, 50, 100, 50, 100, 50, 100, 50, 100, 50, 100],\n",
       "              mask=[False, False, False, False, False, False, False, False,\n",
       "                    False, False, False, False, False, False, False, False,\n",
       "                    False, False, False, False, False, False, False, False],\n",
       "        fill_value='?',\n",
       "             dtype=object),\n",
       " 'params': [{'learning_rate': 0.01, 'loss': 'linear', 'n_estimators': 50},\n",
       "  {'learning_rate': 0.01, 'loss': 'linear', 'n_estimators': 100},\n",
       "  {'learning_rate': 0.01, 'loss': 'square', 'n_estimators': 50},\n",
       "  {'learning_rate': 0.01, 'loss': 'square', 'n_estimators': 100},\n",
       "  {'learning_rate': 0.01, 'loss': 'exponential', 'n_estimators': 50},\n",
       "  {'learning_rate': 0.01, 'loss': 'exponential', 'n_estimators': 100},\n",
       "  {'learning_rate': 0.2, 'loss': 'linear', 'n_estimators': 50},\n",
       "  {'learning_rate': 0.2, 'loss': 'linear', 'n_estimators': 100},\n",
       "  {'learning_rate': 0.2, 'loss': 'square', 'n_estimators': 50},\n",
       "  {'learning_rate': 0.2, 'loss': 'square', 'n_estimators': 100},\n",
       "  {'learning_rate': 0.2, 'loss': 'exponential', 'n_estimators': 50},\n",
       "  {'learning_rate': 0.2, 'loss': 'exponential', 'n_estimators': 100},\n",
       "  {'learning_rate': 0.5, 'loss': 'linear', 'n_estimators': 50},\n",
       "  {'learning_rate': 0.5, 'loss': 'linear', 'n_estimators': 100},\n",
       "  {'learning_rate': 0.5, 'loss': 'square', 'n_estimators': 50},\n",
       "  {'learning_rate': 0.5, 'loss': 'square', 'n_estimators': 100},\n",
       "  {'learning_rate': 0.5, 'loss': 'exponential', 'n_estimators': 50},\n",
       "  {'learning_rate': 0.5, 'loss': 'exponential', 'n_estimators': 100},\n",
       "  {'learning_rate': 1, 'loss': 'linear', 'n_estimators': 50},\n",
       "  {'learning_rate': 1, 'loss': 'linear', 'n_estimators': 100},\n",
       "  {'learning_rate': 1, 'loss': 'square', 'n_estimators': 50},\n",
       "  {'learning_rate': 1, 'loss': 'square', 'n_estimators': 100},\n",
       "  {'learning_rate': 1, 'loss': 'exponential', 'n_estimators': 50},\n",
       "  {'learning_rate': 1, 'loss': 'exponential', 'n_estimators': 100}],\n",
       " 'split0_test_score': array([0.82126103, 0.82419887, 0.8205272 , 0.82419813, 0.82102621,\n",
       "        0.82271064, 0.81999316, 0.81265575, 0.8018502 , 0.78340385,\n",
       "        0.82685715, 0.81315143, 0.80554915, 0.79825212, 0.78601123,\n",
       "        0.77874023, 0.80833721, 0.78632575, 0.80264623, 0.80047153,\n",
       "        0.77510452, 0.77613675, 0.78271383, 0.76215943]),\n",
       " 'split1_test_score': array([0.80901737, 0.8179827 , 0.81001946, 0.81016051, 0.80886126,\n",
       "        0.82152726, 0.81667907, 0.81358854, 0.8062977 , 0.79548308,\n",
       "        0.82324184, 0.8155266 , 0.81248791, 0.81070679, 0.79204113,\n",
       "        0.79355451, 0.81365377, 0.78854114, 0.79713169, 0.77604343,\n",
       "        0.79494797, 0.78004306, 0.78725654, 0.77349947]),\n",
       " 'split2_test_score': array([0.80848111, 0.81635889, 0.80819593, 0.801991  , 0.79951761,\n",
       "        0.81061997, 0.80896966, 0.80059379, 0.78859146, 0.77980831,\n",
       "        0.81359147, 0.80425317, 0.79405799, 0.79208734, 0.78639031,\n",
       "        0.78473067, 0.7996747 , 0.77624325, 0.7930858 , 0.78792532,\n",
       "        0.78651635, 0.77609641, 0.78231341, 0.7679047 ]),\n",
       " 'split3_test_score': array([0.80972604, 0.81075469, 0.80907115, 0.81285191, 0.80777015,\n",
       "        0.81280403, 0.82525267, 0.81594385, 0.80567931, 0.80384798,\n",
       "        0.82764335, 0.81910099, 0.81447944, 0.8017955 , 0.79790081,\n",
       "        0.79652217, 0.8176109 , 0.79180156, 0.81058069, 0.81402598,\n",
       "        0.80235874, 0.79552275, 0.79328065, 0.78549749]),\n",
       " 'split4_test_score': array([0.82200501, 0.82277861, 0.82140358, 0.82268136, 0.82136282,\n",
       "        0.82265231, 0.82069308, 0.81558986, 0.8056328 , 0.80752443,\n",
       "        0.82694939, 0.81829401, 0.81250637, 0.81198664, 0.80523348,\n",
       "        0.79860406, 0.81356825, 0.80200665, 0.81184828, 0.8084306 ,\n",
       "        0.80333789, 0.8055059 , 0.79725309, 0.77928526]),\n",
       " 'mean_test_score': array([0.81409811, 0.81841475, 0.81384347, 0.81437658, 0.81170761,\n",
       "        0.81806284, 0.81831753, 0.81167436, 0.80161029, 0.79401353,\n",
       "        0.82365664, 0.81406524, 0.80781617, 0.80296568, 0.79351539,\n",
       "        0.79043033, 0.81056897, 0.78898367, 0.80305854, 0.79737937,\n",
       "        0.79245309, 0.78666098, 0.7885635 , 0.77366927]),\n",
       " 'std_test_score': array([0.00616938, 0.0048081 , 0.00585013, 0.00823328, 0.00839358,\n",
       "        0.00524822, 0.00541506, 0.00567391, 0.00669711, 0.0109158 ,\n",
       "        0.0052623 , 0.00533832, 0.00751863, 0.00752632, 0.00729106,\n",
       "        0.00752098, 0.006193  , 0.00833207, 0.00732933, 0.01380871,\n",
       "        0.01057396, 0.01183071, 0.00587794, 0.00821196]),\n",
       " 'rank_test_score': array([ 6,  2,  8,  5,  9,  4,  3, 10, 15, 17,  1,  7, 12, 14, 18, 20, 11,\n",
       "        21, 13, 16, 19, 23, 22, 24])}"
      ]
     },
     "execution_count": 70,
     "metadata": {},
     "output_type": "execute_result"
    }
   ],
   "source": [
    "grid_search_adb_reg.cv_results_"
   ]
  },
  {
   "cell_type": "code",
   "execution_count": 71,
   "id": "subsequent-resolution",
   "metadata": {},
   "outputs": [
    {
     "data": {
      "text/html": [
       "<div>\n",
       "<style scoped>\n",
       "    .dataframe tbody tr th:only-of-type {\n",
       "        vertical-align: middle;\n",
       "    }\n",
       "\n",
       "    .dataframe tbody tr th {\n",
       "        vertical-align: top;\n",
       "    }\n",
       "\n",
       "    .dataframe thead th {\n",
       "        text-align: right;\n",
       "    }\n",
       "</style>\n",
       "<table border=\"1\" class=\"dataframe\">\n",
       "  <thead>\n",
       "    <tr style=\"text-align: right;\">\n",
       "      <th></th>\n",
       "      <th>mean_fit_time</th>\n",
       "      <th>std_fit_time</th>\n",
       "      <th>mean_score_time</th>\n",
       "      <th>std_score_time</th>\n",
       "      <th>param_learning_rate</th>\n",
       "      <th>param_loss</th>\n",
       "      <th>param_n_estimators</th>\n",
       "      <th>params</th>\n",
       "      <th>split0_test_score</th>\n",
       "      <th>split1_test_score</th>\n",
       "      <th>split2_test_score</th>\n",
       "      <th>split3_test_score</th>\n",
       "      <th>split4_test_score</th>\n",
       "      <th>mean_test_score</th>\n",
       "      <th>std_test_score</th>\n",
       "      <th>rank_test_score</th>\n",
       "    </tr>\n",
       "  </thead>\n",
       "  <tbody>\n",
       "    <tr>\n",
       "      <th>0</th>\n",
       "      <td>0.790001</td>\n",
       "      <td>0.005781</td>\n",
       "      <td>0.009599</td>\n",
       "      <td>0.000201</td>\n",
       "      <td>0.01</td>\n",
       "      <td>linear</td>\n",
       "      <td>50</td>\n",
       "      <td>{'learning_rate': 0.01, 'loss': 'linear', 'n_e...</td>\n",
       "      <td>0.821261</td>\n",
       "      <td>0.809017</td>\n",
       "      <td>0.808481</td>\n",
       "      <td>0.809726</td>\n",
       "      <td>0.822005</td>\n",
       "      <td>0.814098</td>\n",
       "      <td>0.006169</td>\n",
       "      <td>6</td>\n",
       "    </tr>\n",
       "    <tr>\n",
       "      <th>1</th>\n",
       "      <td>1.603687</td>\n",
       "      <td>0.010629</td>\n",
       "      <td>0.020601</td>\n",
       "      <td>0.001773</td>\n",
       "      <td>0.01</td>\n",
       "      <td>linear</td>\n",
       "      <td>100</td>\n",
       "      <td>{'learning_rate': 0.01, 'loss': 'linear', 'n_e...</td>\n",
       "      <td>0.824199</td>\n",
       "      <td>0.817983</td>\n",
       "      <td>0.816359</td>\n",
       "      <td>0.810755</td>\n",
       "      <td>0.822779</td>\n",
       "      <td>0.818415</td>\n",
       "      <td>0.004808</td>\n",
       "      <td>2</td>\n",
       "    </tr>\n",
       "    <tr>\n",
       "      <th>2</th>\n",
       "      <td>0.789503</td>\n",
       "      <td>0.005404</td>\n",
       "      <td>0.009598</td>\n",
       "      <td>0.000491</td>\n",
       "      <td>0.01</td>\n",
       "      <td>square</td>\n",
       "      <td>50</td>\n",
       "      <td>{'learning_rate': 0.01, 'loss': 'square', 'n_e...</td>\n",
       "      <td>0.820527</td>\n",
       "      <td>0.810019</td>\n",
       "      <td>0.808196</td>\n",
       "      <td>0.809071</td>\n",
       "      <td>0.821404</td>\n",
       "      <td>0.813843</td>\n",
       "      <td>0.005850</td>\n",
       "      <td>8</td>\n",
       "    </tr>\n",
       "    <tr>\n",
       "      <th>3</th>\n",
       "      <td>1.601400</td>\n",
       "      <td>0.030704</td>\n",
       "      <td>0.019502</td>\n",
       "      <td>0.001270</td>\n",
       "      <td>0.01</td>\n",
       "      <td>square</td>\n",
       "      <td>100</td>\n",
       "      <td>{'learning_rate': 0.01, 'loss': 'square', 'n_e...</td>\n",
       "      <td>0.824198</td>\n",
       "      <td>0.810161</td>\n",
       "      <td>0.801991</td>\n",
       "      <td>0.812852</td>\n",
       "      <td>0.822681</td>\n",
       "      <td>0.814377</td>\n",
       "      <td>0.008233</td>\n",
       "      <td>5</td>\n",
       "    </tr>\n",
       "    <tr>\n",
       "      <th>4</th>\n",
       "      <td>0.809102</td>\n",
       "      <td>0.018975</td>\n",
       "      <td>0.012901</td>\n",
       "      <td>0.003878</td>\n",
       "      <td>0.01</td>\n",
       "      <td>exponential</td>\n",
       "      <td>50</td>\n",
       "      <td>{'learning_rate': 0.01, 'loss': 'exponential',...</td>\n",
       "      <td>0.821026</td>\n",
       "      <td>0.808861</td>\n",
       "      <td>0.799518</td>\n",
       "      <td>0.807770</td>\n",
       "      <td>0.821363</td>\n",
       "      <td>0.811708</td>\n",
       "      <td>0.008394</td>\n",
       "      <td>9</td>\n",
       "    </tr>\n",
       "  </tbody>\n",
       "</table>\n",
       "</div>"
      ],
      "text/plain": [
       "   mean_fit_time  std_fit_time  mean_score_time  std_score_time  \\\n",
       "0       0.790001      0.005781         0.009599        0.000201   \n",
       "1       1.603687      0.010629         0.020601        0.001773   \n",
       "2       0.789503      0.005404         0.009598        0.000491   \n",
       "3       1.601400      0.030704         0.019502        0.001270   \n",
       "4       0.809102      0.018975         0.012901        0.003878   \n",
       "\n",
       "  param_learning_rate   param_loss param_n_estimators  \\\n",
       "0                0.01       linear                 50   \n",
       "1                0.01       linear                100   \n",
       "2                0.01       square                 50   \n",
       "3                0.01       square                100   \n",
       "4                0.01  exponential                 50   \n",
       "\n",
       "                                              params  split0_test_score  \\\n",
       "0  {'learning_rate': 0.01, 'loss': 'linear', 'n_e...           0.821261   \n",
       "1  {'learning_rate': 0.01, 'loss': 'linear', 'n_e...           0.824199   \n",
       "2  {'learning_rate': 0.01, 'loss': 'square', 'n_e...           0.820527   \n",
       "3  {'learning_rate': 0.01, 'loss': 'square', 'n_e...           0.824198   \n",
       "4  {'learning_rate': 0.01, 'loss': 'exponential',...           0.821026   \n",
       "\n",
       "   split1_test_score  split2_test_score  split3_test_score  split4_test_score  \\\n",
       "0           0.809017           0.808481           0.809726           0.822005   \n",
       "1           0.817983           0.816359           0.810755           0.822779   \n",
       "2           0.810019           0.808196           0.809071           0.821404   \n",
       "3           0.810161           0.801991           0.812852           0.822681   \n",
       "4           0.808861           0.799518           0.807770           0.821363   \n",
       "\n",
       "   mean_test_score  std_test_score  rank_test_score  \n",
       "0         0.814098        0.006169                6  \n",
       "1         0.818415        0.004808                2  \n",
       "2         0.813843        0.005850                8  \n",
       "3         0.814377        0.008233                5  \n",
       "4         0.811708        0.008394                9  "
      ]
     },
     "execution_count": 71,
     "metadata": {},
     "output_type": "execute_result"
    }
   ],
   "source": [
    "df_grid_search_adb_reg = pd.DataFrame(grid_search_adb_reg.cv_results_)\n",
    "df_grid_search_adb_reg.head(5)"
   ]
  },
  {
   "cell_type": "code",
   "execution_count": 72,
   "id": "concrete-hello",
   "metadata": {},
   "outputs": [],
   "source": [
    "df_grid_search_adb_reg.sort_values([\"param_loss\", \"param_learning_rate\", \"param_n_estimators\", \"mean_test_score\"], inplace=True)"
   ]
  },
  {
   "cell_type": "code",
   "execution_count": 73,
   "id": "about-toddler",
   "metadata": {},
   "outputs": [
    {
     "data": {
      "image/png": "[encoded data removed]",
      "text/plain": [
       "<Figure size 648x216 with 3 Axes>"
      ]
     },
     "metadata": {
      "needs_background": "light"
     },
     "output_type": "display_data"
    }
   ],
   "source": [
    "fig_adb_reg = sns.FacetGrid(df_grid_search_adb_reg, col=\"param_loss\")\n",
    "fig_adb_reg.map(sns.lineplot, \"param_learning_rate\", \"mean_test_score\", \"param_n_estimators\")\n",
    "plt.plot([], [], ' ', label=\"param_n_estimators\")\n",
    "plt.legend()\n",
    "plt.show()"
   ]
  },
  {
   "cell_type": "code",
   "execution_count": 74,
   "id": "correct-alfred",
   "metadata": {},
   "outputs": [
    {
     "data": {
      "text/plain": [
       "0.6845350179683014"
      ]
     },
     "execution_count": 74,
     "metadata": {},
     "output_type": "execute_result"
    }
   ],
   "source": [
    "grid_search_adb_reg.score(X_test, y_test)"
   ]
  },
  {
   "cell_type": "code",
   "execution_count": 75,
   "id": "military-aggregate",
   "metadata": {},
   "outputs": [
    {
     "name": "stdout",
     "output_type": "stream",
     "text": [
      "RMSE: 0.5310577830380606\n"
     ]
    },
    {
     "data": {
      "image/png": "[encoded data removed]",
      "text/plain": [
       "<Figure size 432x288 with 1 Axes>"
      ]
     },
     "metadata": {
      "needs_background": "light"
     },
     "output_type": "display_data"
    }
   ],
   "source": [
    "plot_test(grid_search_adb_reg, X_test, y_test)"
   ]
  },
  {
   "cell_type": "markdown",
   "id": "domestic-globe",
   "metadata": {},
   "source": [
    "## Gradient Boosting Regressor "
   ]
  },
  {
   "cell_type": "code",
   "execution_count": 76,
   "id": "union-logistics",
   "metadata": {},
   "outputs": [],
   "source": [
    "from sklearn.ensemble import GradientBoostingRegressor"
   ]
  },
  {
   "cell_type": "code",
   "execution_count": 77,
   "id": "relative-conversion",
   "metadata": {},
   "outputs": [],
   "source": [
    "param_grid_gb_reg = {\n",
    "    \"n_estimators\": [50, 100, 200, 500],\n",
    "    \"max_depth\": [5, 7, 10]\n",
    "}"
   ]
  },
  {
   "cell_type": "code",
   "execution_count": 78,
   "id": "adequate-iraqi",
   "metadata": {},
   "outputs": [],
   "source": [
    "grid_search_gb_reg = GridSearchCV(GradientBoostingRegressor(), param_grid_gb_reg, cv=5, n_jobs=-1)"
   ]
  },
  {
   "cell_type": "code",
   "execution_count": 79,
   "id": "declared-principal",
   "metadata": {},
   "outputs": [
    {
     "data": {
      "text/plain": [
       "GridSearchCV(cv=5, estimator=GradientBoostingRegressor(), n_jobs=-1,\n",
       "             param_grid={'max_depth': [5, 7, 10],\n",
       "                         'n_estimators': [50, 100, 200, 500]})"
      ]
     },
     "execution_count": 79,
     "metadata": {},
     "output_type": "execute_result"
    }
   ],
   "source": [
    "grid_search_gb_reg.fit(X_train, y_train)"
   ]
  },
  {
   "cell_type": "code",
   "execution_count": 80,
   "id": "soviet-litigation",
   "metadata": {},
   "outputs": [
    {
     "data": {
      "text/plain": [
       "{'max_depth': 10, 'n_estimators': 500}"
      ]
     },
     "execution_count": 80,
     "metadata": {},
     "output_type": "execute_result"
    }
   ],
   "source": [
    "grid_search_gb_reg.best_params_"
   ]
  },
  {
   "cell_type": "code",
   "execution_count": 81,
   "id": "herbal-highland",
   "metadata": {
    "collapsed": true,
    "jupyter": {
     "outputs_hidden": true
    }
   },
   "outputs": [
    {
     "data": {
      "text/plain": [
       "{'mean_fit_time': array([ 1.26369672,  2.66749864,  5.33839998, 13.44509912,  1.67019296,\n",
       "         3.57749224,  7.13569765, 17.74539943,  2.16529894,  4.55579867,\n",
       "         9.72470026, 20.44989977]),\n",
       " 'std_fit_time': array([0.04889008, 0.14653241, 0.11209539, 0.34441737, 0.06999218,\n",
       "        0.21369128, 0.33493979, 0.27030723, 0.07661394, 0.03829249,\n",
       "        0.12207987, 0.73474261]),\n",
       " 'mean_score_time': array([0.0027    , 0.00410004, 0.00689974, 0.01479993, 0.00389986,\n",
       "        0.00600028, 0.00999985, 0.02200041, 0.00809941, 0.00980024,\n",
       "        0.01540003, 0.02349977]),\n",
       " 'std_score_time': array([0.00024526, 0.00019994, 0.0003742 , 0.00024478, 0.00020006,\n",
       "        0.00054803, 0.00077485, 0.00572699, 0.0027089 , 0.00024493,\n",
       "        0.00066345, 0.00031628]),\n",
       " 'param_max_depth': masked_array(data=[5, 5, 5, 5, 7, 7, 7, 7, 10, 10, 10, 10],\n",
       "              mask=[False, False, False, False, False, False, False, False,\n",
       "                    False, False, False, False],\n",
       "        fill_value='?',\n",
       "             dtype=object),\n",
       " 'param_n_estimators': masked_array(data=[50, 100, 200, 500, 50, 100, 200, 500, 50, 100, 200,\n",
       "                    500],\n",
       "              mask=[False, False, False, False, False, False, False, False,\n",
       "                    False, False, False, False],\n",
       "        fill_value='?',\n",
       "             dtype=object),\n",
       " 'params': [{'max_depth': 5, 'n_estimators': 50},\n",
       "  {'max_depth': 5, 'n_estimators': 100},\n",
       "  {'max_depth': 5, 'n_estimators': 200},\n",
       "  {'max_depth': 5, 'n_estimators': 500},\n",
       "  {'max_depth': 7, 'n_estimators': 50},\n",
       "  {'max_depth': 7, 'n_estimators': 100},\n",
       "  {'max_depth': 7, 'n_estimators': 200},\n",
       "  {'max_depth': 7, 'n_estimators': 500},\n",
       "  {'max_depth': 10, 'n_estimators': 50},\n",
       "  {'max_depth': 10, 'n_estimators': 100},\n",
       "  {'max_depth': 10, 'n_estimators': 200},\n",
       "  {'max_depth': 10, 'n_estimators': 500}],\n",
       " 'split0_test_score': array([0.89990151, 0.90860922, 0.91643814, 0.92485289, 0.91901598,\n",
       "        0.92433106, 0.92988453, 0.93401084, 0.93193789, 0.93376167,\n",
       "        0.93502984, 0.93654687]),\n",
       " 'split1_test_score': array([0.89682129, 0.90376082, 0.91124063, 0.91890004, 0.91303586,\n",
       "        0.91774576, 0.92311333, 0.92696346, 0.92519953, 0.92758621,\n",
       "        0.92896632, 0.93023152]),\n",
       " 'split2_test_score': array([0.89022284, 0.89898522, 0.90865844, 0.91874697, 0.91208385,\n",
       "        0.91784884, 0.92365142, 0.92886368, 0.92730666, 0.92986125,\n",
       "        0.93126675, 0.93264902]),\n",
       " 'split3_test_score': array([0.90203863, 0.90738362, 0.91371953, 0.92147677, 0.91516533,\n",
       "        0.92034142, 0.9256076 , 0.93022876, 0.92601483, 0.92694189,\n",
       "        0.92893455, 0.92941138]),\n",
       " 'split4_test_score': array([0.90352045, 0.91076902, 0.92119333, 0.92964993, 0.92414264,\n",
       "        0.93143941, 0.93538567, 0.93856936, 0.9413425 , 0.94340013,\n",
       "        0.94346771, 0.94397777]),\n",
       " 'mean_test_score': array([0.89850094, 0.90590158, 0.91425001, 0.92272532, 0.91668873,\n",
       "        0.9223413 , 0.92752851, 0.93172722, 0.93036028, 0.93231023,\n",
       "        0.93353303, 0.93456331]),\n",
       " 'std_test_score': array([0.00471212, 0.00413856, 0.00432669, 0.00411086, 0.00442371,\n",
       "        0.00513878, 0.0045935 , 0.00412719, 0.00596555, 0.00603698,\n",
       "        0.00544197, 0.00532049]),\n",
       " 'rank_test_score': array([12, 11, 10,  7,  9,  8,  6,  4,  5,  3,  2,  1])}"
      ]
     },
     "execution_count": 81,
     "metadata": {},
     "output_type": "execute_result"
    }
   ],
   "source": [
    "grid_search_gb_reg.cv_results_"
   ]
  },
  {
   "cell_type": "code",
   "execution_count": 82,
   "id": "critical-dealing",
   "metadata": {},
   "outputs": [
    {
     "data": {
      "text/html": [
       "<div>\n",
       "<style scoped>\n",
       "    .dataframe tbody tr th:only-of-type {\n",
       "        vertical-align: middle;\n",
       "    }\n",
       "\n",
       "    .dataframe tbody tr th {\n",
       "        vertical-align: top;\n",
       "    }\n",
       "\n",
       "    .dataframe thead th {\n",
       "        text-align: right;\n",
       "    }\n",
       "</style>\n",
       "<table border=\"1\" class=\"dataframe\">\n",
       "  <thead>\n",
       "    <tr style=\"text-align: right;\">\n",
       "      <th></th>\n",
       "      <th>mean_fit_time</th>\n",
       "      <th>std_fit_time</th>\n",
       "      <th>mean_score_time</th>\n",
       "      <th>std_score_time</th>\n",
       "      <th>param_max_depth</th>\n",
       "      <th>param_n_estimators</th>\n",
       "      <th>params</th>\n",
       "      <th>split0_test_score</th>\n",
       "      <th>split1_test_score</th>\n",
       "      <th>split2_test_score</th>\n",
       "      <th>split3_test_score</th>\n",
       "      <th>split4_test_score</th>\n",
       "      <th>mean_test_score</th>\n",
       "      <th>std_test_score</th>\n",
       "      <th>rank_test_score</th>\n",
       "    </tr>\n",
       "  </thead>\n",
       "  <tbody>\n",
       "    <tr>\n",
       "      <th>0</th>\n",
       "      <td>1.263697</td>\n",
       "      <td>0.048890</td>\n",
       "      <td>0.0027</td>\n",
       "      <td>0.000245</td>\n",
       "      <td>5</td>\n",
       "      <td>50</td>\n",
       "      <td>{'max_depth': 5, 'n_estimators': 50}</td>\n",
       "      <td>0.899902</td>\n",
       "      <td>0.896821</td>\n",
       "      <td>0.890223</td>\n",
       "      <td>0.902039</td>\n",
       "      <td>0.903520</td>\n",
       "      <td>0.898501</td>\n",
       "      <td>0.004712</td>\n",
       "      <td>12</td>\n",
       "    </tr>\n",
       "    <tr>\n",
       "      <th>1</th>\n",
       "      <td>2.667499</td>\n",
       "      <td>0.146532</td>\n",
       "      <td>0.0041</td>\n",
       "      <td>0.000200</td>\n",
       "      <td>5</td>\n",
       "      <td>100</td>\n",
       "      <td>{'max_depth': 5, 'n_estimators': 100}</td>\n",
       "      <td>0.908609</td>\n",
       "      <td>0.903761</td>\n",
       "      <td>0.898985</td>\n",
       "      <td>0.907384</td>\n",
       "      <td>0.910769</td>\n",
       "      <td>0.905902</td>\n",
       "      <td>0.004139</td>\n",
       "      <td>11</td>\n",
       "    </tr>\n",
       "    <tr>\n",
       "      <th>2</th>\n",
       "      <td>5.338400</td>\n",
       "      <td>0.112095</td>\n",
       "      <td>0.0069</td>\n",
       "      <td>0.000374</td>\n",
       "      <td>5</td>\n",
       "      <td>200</td>\n",
       "      <td>{'max_depth': 5, 'n_estimators': 200}</td>\n",
       "      <td>0.916438</td>\n",
       "      <td>0.911241</td>\n",
       "      <td>0.908658</td>\n",
       "      <td>0.913720</td>\n",
       "      <td>0.921193</td>\n",
       "      <td>0.914250</td>\n",
       "      <td>0.004327</td>\n",
       "      <td>10</td>\n",
       "    </tr>\n",
       "    <tr>\n",
       "      <th>3</th>\n",
       "      <td>13.445099</td>\n",
       "      <td>0.344417</td>\n",
       "      <td>0.0148</td>\n",
       "      <td>0.000245</td>\n",
       "      <td>5</td>\n",
       "      <td>500</td>\n",
       "      <td>{'max_depth': 5, 'n_estimators': 500}</td>\n",
       "      <td>0.924853</td>\n",
       "      <td>0.918900</td>\n",
       "      <td>0.918747</td>\n",
       "      <td>0.921477</td>\n",
       "      <td>0.929650</td>\n",
       "      <td>0.922725</td>\n",
       "      <td>0.004111</td>\n",
       "      <td>7</td>\n",
       "    </tr>\n",
       "    <tr>\n",
       "      <th>4</th>\n",
       "      <td>1.670193</td>\n",
       "      <td>0.069992</td>\n",
       "      <td>0.0039</td>\n",
       "      <td>0.000200</td>\n",
       "      <td>7</td>\n",
       "      <td>50</td>\n",
       "      <td>{'max_depth': 7, 'n_estimators': 50}</td>\n",
       "      <td>0.919016</td>\n",
       "      <td>0.913036</td>\n",
       "      <td>0.912084</td>\n",
       "      <td>0.915165</td>\n",
       "      <td>0.924143</td>\n",
       "      <td>0.916689</td>\n",
       "      <td>0.004424</td>\n",
       "      <td>9</td>\n",
       "    </tr>\n",
       "  </tbody>\n",
       "</table>\n",
       "</div>"
      ],
      "text/plain": [
       "   mean_fit_time  std_fit_time  mean_score_time  std_score_time  \\\n",
       "0       1.263697      0.048890           0.0027        0.000245   \n",
       "1       2.667499      0.146532           0.0041        0.000200   \n",
       "2       5.338400      0.112095           0.0069        0.000374   \n",
       "3      13.445099      0.344417           0.0148        0.000245   \n",
       "4       1.670193      0.069992           0.0039        0.000200   \n",
       "\n",
       "  param_max_depth param_n_estimators                                 params  \\\n",
       "0               5                 50   {'max_depth': 5, 'n_estimators': 50}   \n",
       "1               5                100  {'max_depth': 5, 'n_estimators': 100}   \n",
       "2               5                200  {'max_depth': 5, 'n_estimators': 200}   \n",
       "3               5                500  {'max_depth': 5, 'n_estimators': 500}   \n",
       "4               7                 50   {'max_depth': 7, 'n_estimators': 50}   \n",
       "\n",
       "   split0_test_score  split1_test_score  split2_test_score  split3_test_score  \\\n",
       "0           0.899902           0.896821           0.890223           0.902039   \n",
       "1           0.908609           0.903761           0.898985           0.907384   \n",
       "2           0.916438           0.911241           0.908658           0.913720   \n",
       "3           0.924853           0.918900           0.918747           0.921477   \n",
       "4           0.919016           0.913036           0.912084           0.915165   \n",
       "\n",
       "   split4_test_score  mean_test_score  std_test_score  rank_test_score  \n",
       "0           0.903520         0.898501        0.004712               12  \n",
       "1           0.910769         0.905902        0.004139               11  \n",
       "2           0.921193         0.914250        0.004327               10  \n",
       "3           0.929650         0.922725        0.004111                7  \n",
       "4           0.924143         0.916689        0.004424                9  "
      ]
     },
     "execution_count": 82,
     "metadata": {},
     "output_type": "execute_result"
    }
   ],
   "source": [
    "df_grid_search_gb_reg = pd.DataFrame(grid_search_gb_reg.cv_results_)\n",
    "df_grid_search_gb_reg.head(5)"
   ]
  },
  {
   "cell_type": "code",
   "execution_count": 83,
   "id": "annoying-drawing",
   "metadata": {},
   "outputs": [],
   "source": [
    "df_grid_search_gb_reg.sort_values([\"param_max_depth\", \"param_n_estimators\", \"mean_test_score\"], inplace=True)"
   ]
  },
  {
   "cell_type": "code",
   "execution_count": 84,
   "id": "spread-greene",
   "metadata": {},
   "outputs": [
    {
     "data": {
      "image/png": "[encoded data removed]",
      "text/plain": [
       "<Figure size 432x288 with 1 Axes>"
      ]
     },
     "metadata": {
      "needs_background": "light"
     },
     "output_type": "display_data"
    }
   ],
   "source": [
    "sns.lineplot(x=\"param_max_depth\", y=\"mean_test_score\", hue=\"param_n_estimators\", data=df_grid_search_gb_reg);"
   ]
  },
  {
   "cell_type": "code",
   "execution_count": 85,
   "id": "protected-dealer",
   "metadata": {},
   "outputs": [
    {
     "data": {
      "text/plain": [
       "0.76879138448159"
      ]
     },
     "execution_count": 85,
     "metadata": {},
     "output_type": "execute_result"
    }
   ],
   "source": [
    "grid_search_gb_reg.score(X_test, y_test)"
   ]
  },
  {
   "cell_type": "code",
   "execution_count": 86,
   "id": "endless-consent",
   "metadata": {},
   "outputs": [
    {
     "name": "stdout",
     "output_type": "stream",
     "text": [
      "RMSE: 0.45464058917702005\n"
     ]
    },
    {
     "data": {
      "image/png": "[encoded data removed]",
      "text/plain": [
       "<Figure size 432x288 with 1 Axes>"
      ]
     },
     "metadata": {
      "needs_background": "light"
     },
     "output_type": "display_data"
    }
   ],
   "source": [
    "plot_test(grid_search_gb_reg, X_test, y_test)"
   ]
  },
  {
   "cell_type": "markdown",
   "id": "legendary-sullivan",
   "metadata": {},
   "source": [
    "## XGBoost Regressor"
   ]
  },
  {
   "cell_type": "code",
   "execution_count": 87,
   "id": "voluntary-julian",
   "metadata": {},
   "outputs": [],
   "source": [
    "from xgboost import XGBRegressor"
   ]
  },
  {
   "cell_type": "code",
   "execution_count": 88,
   "id": "invisible-characteristic",
   "metadata": {},
   "outputs": [],
   "source": [
    "param_grid_xgb_reg = {\n",
    "    'min_child_weight': [1, 5, 10],\n",
    "    'subsample': [0.6, 0.8, 1.0],\n",
    "    'max_depth': [3, 4, 5]\n",
    "}"
   ]
  },
  {
   "cell_type": "code",
   "execution_count": 89,
   "id": "absolute-integration",
   "metadata": {},
   "outputs": [],
   "source": [
    "grid_search_xgb_reg = GridSearchCV(XGBRegressor(), param_grid_xgb_reg, cv=5, n_jobs=-1)"
   ]
  },
  {
   "cell_type": "code",
   "execution_count": 90,
   "id": "mediterranean-slovakia",
   "metadata": {},
   "outputs": [
    {
     "data": {
      "text/plain": [
       "GridSearchCV(cv=5,\n",
       "             estimator=XGBRegressor(base_score=None, booster=None,\n",
       "                                    colsample_bylevel=None,\n",
       "                                    colsample_bynode=None,\n",
       "                                    colsample_bytree=None, gamma=None,\n",
       "                                    gpu_id=None, importance_type='gain',\n",
       "                                    interaction_constraints=None,\n",
       "                                    learning_rate=None, max_delta_step=None,\n",
       "                                    max_depth=None, min_child_weight=None,\n",
       "                                    missing=nan, monotone_constraints=None,\n",
       "                                    n_estimators=100, n_jobs=None,\n",
       "                                    num_parallel_tree=None, random_state=None,\n",
       "                                    reg_alpha=None, reg_lambda=None,\n",
       "                                    scale_pos_weight=None, subsample=None,\n",
       "                                    tree_method=None, validate_parameters=None,\n",
       "                                    verbosity=None),\n",
       "             n_jobs=-1,\n",
       "             param_grid={'max_depth': [3, 4, 5], 'min_child_weight': [1, 5, 10],\n",
       "                         'subsample': [0.6, 0.8, 1.0]})"
      ]
     },
     "execution_count": 90,
     "metadata": {},
     "output_type": "execute_result"
    }
   ],
   "source": [
    "grid_search_xgb_reg.fit(X_train, y_train)"
   ]
  },
  {
   "cell_type": "code",
   "execution_count": 91,
   "id": "stock-trust",
   "metadata": {},
   "outputs": [
    {
     "data": {
      "text/plain": [
       "{'max_depth': 5, 'min_child_weight': 5, 'subsample': 1.0}"
      ]
     },
     "execution_count": 91,
     "metadata": {},
     "output_type": "execute_result"
    }
   ],
   "source": [
    "grid_search_xgb_reg.best_params_"
   ]
  },
  {
   "cell_type": "code",
   "execution_count": 92,
   "id": "revolutionary-weekly",
   "metadata": {
    "collapsed": true,
    "jupyter": {
     "outputs_hidden": true
    }
   },
   "outputs": [
    {
     "data": {
      "text/plain": [
       "{'mean_fit_time': array([1.03559456, 1.1254992 , 0.94079933, 0.85979967, 0.82989941,\n",
       "        0.86549973, 0.89519992, 0.91209941, 0.84280057, 1.16443639,\n",
       "        1.19229908, 1.14439964, 1.10539932, 1.13729424, 1.09300051,\n",
       "        1.06310019, 1.0828999 , 1.02879963, 1.41279931, 1.39239917,\n",
       "        1.39280052, 1.53399997, 1.59430022, 1.52589955, 1.35809932,\n",
       "        1.23409977, 0.90402789]),\n",
       " 'std_fit_time': array([0.04703792, 0.02219236, 0.08327763, 0.02686752, 0.02203238,\n",
       "        0.01161491, 0.01625942, 0.01693035, 0.0105102 , 0.0129986 ,\n",
       "        0.02313134, 0.03869866, 0.01354751, 0.02117399, 0.04049989,\n",
       "        0.00813868, 0.01818265, 0.01234377, 0.00951094, 0.01460655,\n",
       "        0.03664695, 0.0338561 , 0.0555435 , 0.07040339, 0.01054732,\n",
       "        0.07638204, 0.14820218]),\n",
       " 'mean_score_time': array([0.00760078, 0.0107007 , 0.00410075, 0.00369997, 0.00340014,\n",
       "        0.00310025, 0.00430064, 0.00330091, 0.00329986, 0.00546436,\n",
       "        0.00850024, 0.00520072, 0.01330047, 0.00380001, 0.00589981,\n",
       "        0.00380054, 0.00330019, 0.00360074, 0.00290036, 0.00370069,\n",
       "        0.00780044, 0.00670114, 0.00840116, 0.00330076, 0.00420041,\n",
       "        0.0030004 , 0.00197196]),\n",
       " 'std_score_time': array([0.00726182, 0.0072842 , 0.00185507, 0.00128867, 0.00048975,\n",
       "        0.00020082, 0.00092817, 0.00040019, 0.00067846, 0.00234209,\n",
       "        0.00785495, 0.00252272, 0.01072197, 0.00087233, 0.00556265,\n",
       "        0.0006786 , 0.00050961, 0.00058255, 0.00037442, 0.0008127 ,\n",
       "        0.00616844, 0.00188732, 0.00597796, 0.00051016, 0.00102937,\n",
       "        0.00054842, 0.00027321]),\n",
       " 'param_max_depth': masked_array(data=[3, 3, 3, 3, 3, 3, 3, 3, 3, 4, 4, 4, 4, 4, 4, 4, 4, 4,\n",
       "                    5, 5, 5, 5, 5, 5, 5, 5, 5],\n",
       "              mask=[False, False, False, False, False, False, False, False,\n",
       "                    False, False, False, False, False, False, False, False,\n",
       "                    False, False, False, False, False, False, False, False,\n",
       "                    False, False, False],\n",
       "        fill_value='?',\n",
       "             dtype=object),\n",
       " 'param_min_child_weight': masked_array(data=[1, 1, 1, 5, 5, 5, 10, 10, 10, 1, 1, 1, 5, 5, 5, 10, 10,\n",
       "                    10, 1, 1, 1, 5, 5, 5, 10, 10, 10],\n",
       "              mask=[False, False, False, False, False, False, False, False,\n",
       "                    False, False, False, False, False, False, False, False,\n",
       "                    False, False, False, False, False, False, False, False,\n",
       "                    False, False, False],\n",
       "        fill_value='?',\n",
       "             dtype=object),\n",
       " 'param_subsample': masked_array(data=[0.6, 0.8, 1.0, 0.6, 0.8, 1.0, 0.6, 0.8, 1.0, 0.6, 0.8,\n",
       "                    1.0, 0.6, 0.8, 1.0, 0.6, 0.8, 1.0, 0.6, 0.8, 1.0, 0.6,\n",
       "                    0.8, 1.0, 0.6, 0.8, 1.0],\n",
       "              mask=[False, False, False, False, False, False, False, False,\n",
       "                    False, False, False, False, False, False, False, False,\n",
       "                    False, False, False, False, False, False, False, False,\n",
       "                    False, False, False],\n",
       "        fill_value='?',\n",
       "             dtype=object),\n",
       " 'params': [{'max_depth': 3, 'min_child_weight': 1, 'subsample': 0.6},\n",
       "  {'max_depth': 3, 'min_child_weight': 1, 'subsample': 0.8},\n",
       "  {'max_depth': 3, 'min_child_weight': 1, 'subsample': 1.0},\n",
       "  {'max_depth': 3, 'min_child_weight': 5, 'subsample': 0.6},\n",
       "  {'max_depth': 3, 'min_child_weight': 5, 'subsample': 0.8},\n",
       "  {'max_depth': 3, 'min_child_weight': 5, 'subsample': 1.0},\n",
       "  {'max_depth': 3, 'min_child_weight': 10, 'subsample': 0.6},\n",
       "  {'max_depth': 3, 'min_child_weight': 10, 'subsample': 0.8},\n",
       "  {'max_depth': 3, 'min_child_weight': 10, 'subsample': 1.0},\n",
       "  {'max_depth': 4, 'min_child_weight': 1, 'subsample': 0.6},\n",
       "  {'max_depth': 4, 'min_child_weight': 1, 'subsample': 0.8},\n",
       "  {'max_depth': 4, 'min_child_weight': 1, 'subsample': 1.0},\n",
       "  {'max_depth': 4, 'min_child_weight': 5, 'subsample': 0.6},\n",
       "  {'max_depth': 4, 'min_child_weight': 5, 'subsample': 0.8},\n",
       "  {'max_depth': 4, 'min_child_weight': 5, 'subsample': 1.0},\n",
       "  {'max_depth': 4, 'min_child_weight': 10, 'subsample': 0.6},\n",
       "  {'max_depth': 4, 'min_child_weight': 10, 'subsample': 0.8},\n",
       "  {'max_depth': 4, 'min_child_weight': 10, 'subsample': 1.0},\n",
       "  {'max_depth': 5, 'min_child_weight': 1, 'subsample': 0.6},\n",
       "  {'max_depth': 5, 'min_child_weight': 1, 'subsample': 0.8},\n",
       "  {'max_depth': 5, 'min_child_weight': 1, 'subsample': 1.0},\n",
       "  {'max_depth': 5, 'min_child_weight': 5, 'subsample': 0.6},\n",
       "  {'max_depth': 5, 'min_child_weight': 5, 'subsample': 0.8},\n",
       "  {'max_depth': 5, 'min_child_weight': 5, 'subsample': 1.0},\n",
       "  {'max_depth': 5, 'min_child_weight': 10, 'subsample': 0.6},\n",
       "  {'max_depth': 5, 'min_child_weight': 10, 'subsample': 0.8},\n",
       "  {'max_depth': 5, 'min_child_weight': 10, 'subsample': 1.0}],\n",
       " 'split0_test_score': array([0.89613973, 0.89876577, 0.89994822, 0.89640239, 0.89895019,\n",
       "        0.89853705, 0.89479711, 0.89942298, 0.8991922 , 0.90814284,\n",
       "        0.91041573, 0.90891563, 0.90600024, 0.91108092, 0.9097514 ,\n",
       "        0.90356196, 0.90613009, 0.90938791, 0.91639103, 0.91898253,\n",
       "        0.91789166, 0.91502943, 0.92259122, 0.92054472, 0.91627531,\n",
       "        0.91801501, 0.91676091]),\n",
       " 'split1_test_score': array([0.89627889, 0.89629529, 0.89478864, 0.8972044 , 0.89512194,\n",
       "        0.89767298, 0.8952079 , 0.89719689, 0.89588545, 0.90528261,\n",
       "        0.90975262, 0.90672863, 0.90868733, 0.90703801, 0.90734711,\n",
       "        0.9026172 , 0.90983724, 0.9085162 , 0.91386322, 0.91433971,\n",
       "        0.91067165, 0.91256246, 0.91803788, 0.91831246, 0.91165628,\n",
       "        0.91329828, 0.91381133]),\n",
       " 'split2_test_score': array([0.89120881, 0.89038185, 0.88852059, 0.88915677, 0.88991117,\n",
       "        0.88872671, 0.89027796, 0.88913918, 0.88995078, 0.90194321,\n",
       "        0.89988846, 0.90224519, 0.8998774 , 0.90146191, 0.90039173,\n",
       "        0.89832443, 0.9000532 , 0.90253431, 0.90728228, 0.90988351,\n",
       "        0.9124695 , 0.90660176, 0.9127138 , 0.91589369, 0.90892356,\n",
       "        0.91043015, 0.91161863]),\n",
       " 'split3_test_score': array([0.89501992, 0.90069912, 0.89994146, 0.89677674, 0.89891403,\n",
       "        0.89837446, 0.89625371, 0.90056817, 0.90021984, 0.90834276,\n",
       "        0.91033522, 0.91010162, 0.90748975, 0.90959813, 0.9083854 ,\n",
       "        0.9030438 , 0.90660639, 0.90977041, 0.91379323, 0.9144201 ,\n",
       "        0.91627076, 0.91443758, 0.91462563, 0.91544605, 0.91051309,\n",
       "        0.91719255, 0.91265494]),\n",
       " 'split4_test_score': array([0.90231894, 0.90314647, 0.90073402, 0.90463047, 0.9048627 ,\n",
       "        0.90398638, 0.90306706, 0.90234889, 0.90043561, 0.91437907,\n",
       "        0.91510397, 0.91499994, 0.9116995 , 0.91403782, 0.91567181,\n",
       "        0.91155807, 0.91208802, 0.91396106, 0.92359763, 0.92384881,\n",
       "        0.9252351 , 0.91863827, 0.92065745, 0.9210668 , 0.91691188,\n",
       "        0.91802432, 0.92401934]),\n",
       " 'mean_test_score': array([0.89619326, 0.8978577 , 0.89678659, 0.89683415, 0.89755201,\n",
       "        0.89745952, 0.89592075, 0.89773522, 0.89713677, 0.9076181 ,\n",
       "        0.9090992 , 0.9085982 , 0.90675084, 0.90864336, 0.90830949,\n",
       "        0.90382109, 0.90694299, 0.90883398, 0.91498548, 0.91629493,\n",
       "        0.91650773, 0.9134539 , 0.91772519, 0.91825274, 0.91285602,\n",
       "        0.91539206, 0.91577303]),\n",
       " 'std_test_score': array([0.00357087, 0.00436346, 0.00464435, 0.00490003, 0.00493039,\n",
       "        0.00491743, 0.00411807, 0.00461176, 0.00394504, 0.00410293,\n",
       "        0.00499165, 0.00417611, 0.00391389, 0.00424509, 0.00489705,\n",
       "        0.00429406, 0.00407655, 0.00366763, 0.00525671, 0.00474823,\n",
       "        0.00506963, 0.00395156, 0.00366321, 0.00230731, 0.00317913,\n",
       "        0.00303496, 0.00446783]),\n",
       " 'rank_test_score': array([26, 19, 25, 24, 21, 22, 27, 20, 23, 15, 10, 13, 17, 12, 14, 18, 16,\n",
       "        11,  7,  4,  3,  8,  2,  1,  9,  6,  5])}"
      ]
     },
     "execution_count": 92,
     "metadata": {},
     "output_type": "execute_result"
    }
   ],
   "source": [
    "grid_search_xgb_reg.cv_results_"
   ]
  },
  {
   "cell_type": "code",
   "execution_count": 93,
   "id": "interested-character",
   "metadata": {},
   "outputs": [
    {
     "data": {
      "text/html": [
       "<div>\n",
       "<style scoped>\n",
       "    .dataframe tbody tr th:only-of-type {\n",
       "        vertical-align: middle;\n",
       "    }\n",
       "\n",
       "    .dataframe tbody tr th {\n",
       "        vertical-align: top;\n",
       "    }\n",
       "\n",
       "    .dataframe thead th {\n",
       "        text-align: right;\n",
       "    }\n",
       "</style>\n",
       "<table border=\"1\" class=\"dataframe\">\n",
       "  <thead>\n",
       "    <tr style=\"text-align: right;\">\n",
       "      <th></th>\n",
       "      <th>mean_fit_time</th>\n",
       "      <th>std_fit_time</th>\n",
       "      <th>mean_score_time</th>\n",
       "      <th>std_score_time</th>\n",
       "      <th>param_max_depth</th>\n",
       "      <th>param_min_child_weight</th>\n",
       "      <th>param_subsample</th>\n",
       "      <th>params</th>\n",
       "      <th>split0_test_score</th>\n",
       "      <th>split1_test_score</th>\n",
       "      <th>split2_test_score</th>\n",
       "      <th>split3_test_score</th>\n",
       "      <th>split4_test_score</th>\n",
       "      <th>mean_test_score</th>\n",
       "      <th>std_test_score</th>\n",
       "      <th>rank_test_score</th>\n",
       "    </tr>\n",
       "  </thead>\n",
       "  <tbody>\n",
       "    <tr>\n",
       "      <th>0</th>\n",
       "      <td>1.035595</td>\n",
       "      <td>0.047038</td>\n",
       "      <td>0.007601</td>\n",
       "      <td>0.007262</td>\n",
       "      <td>3</td>\n",
       "      <td>1</td>\n",
       "      <td>0.6</td>\n",
       "      <td>{'max_depth': 3, 'min_child_weight': 1, 'subsa...</td>\n",
       "      <td>0.896140</td>\n",
       "      <td>0.896279</td>\n",
       "      <td>0.891209</td>\n",
       "      <td>0.895020</td>\n",
       "      <td>0.902319</td>\n",
       "      <td>0.896193</td>\n",
       "      <td>0.003571</td>\n",
       "      <td>26</td>\n",
       "    </tr>\n",
       "    <tr>\n",
       "      <th>1</th>\n",
       "      <td>1.125499</td>\n",
       "      <td>0.022192</td>\n",
       "      <td>0.010701</td>\n",
       "      <td>0.007284</td>\n",
       "      <td>3</td>\n",
       "      <td>1</td>\n",
       "      <td>0.8</td>\n",
       "      <td>{'max_depth': 3, 'min_child_weight': 1, 'subsa...</td>\n",
       "      <td>0.898766</td>\n",
       "      <td>0.896295</td>\n",
       "      <td>0.890382</td>\n",
       "      <td>0.900699</td>\n",
       "      <td>0.903146</td>\n",
       "      <td>0.897858</td>\n",
       "      <td>0.004363</td>\n",
       "      <td>19</td>\n",
       "    </tr>\n",
       "    <tr>\n",
       "      <th>2</th>\n",
       "      <td>0.940799</td>\n",
       "      <td>0.083278</td>\n",
       "      <td>0.004101</td>\n",
       "      <td>0.001855</td>\n",
       "      <td>3</td>\n",
       "      <td>1</td>\n",
       "      <td>1.0</td>\n",
       "      <td>{'max_depth': 3, 'min_child_weight': 1, 'subsa...</td>\n",
       "      <td>0.899948</td>\n",
       "      <td>0.894789</td>\n",
       "      <td>0.888521</td>\n",
       "      <td>0.899941</td>\n",
       "      <td>0.900734</td>\n",
       "      <td>0.896787</td>\n",
       "      <td>0.004644</td>\n",
       "      <td>25</td>\n",
       "    </tr>\n",
       "    <tr>\n",
       "      <th>3</th>\n",
       "      <td>0.859800</td>\n",
       "      <td>0.026868</td>\n",
       "      <td>0.003700</td>\n",
       "      <td>0.001289</td>\n",
       "      <td>3</td>\n",
       "      <td>5</td>\n",
       "      <td>0.6</td>\n",
       "      <td>{'max_depth': 3, 'min_child_weight': 5, 'subsa...</td>\n",
       "      <td>0.896402</td>\n",
       "      <td>0.897204</td>\n",
       "      <td>0.889157</td>\n",
       "      <td>0.896777</td>\n",
       "      <td>0.904630</td>\n",
       "      <td>0.896834</td>\n",
       "      <td>0.004900</td>\n",
       "      <td>24</td>\n",
       "    </tr>\n",
       "    <tr>\n",
       "      <th>4</th>\n",
       "      <td>0.829899</td>\n",
       "      <td>0.022032</td>\n",
       "      <td>0.003400</td>\n",
       "      <td>0.000490</td>\n",
       "      <td>3</td>\n",
       "      <td>5</td>\n",
       "      <td>0.8</td>\n",
       "      <td>{'max_depth': 3, 'min_child_weight': 5, 'subsa...</td>\n",
       "      <td>0.898950</td>\n",
       "      <td>0.895122</td>\n",
       "      <td>0.889911</td>\n",
       "      <td>0.898914</td>\n",
       "      <td>0.904863</td>\n",
       "      <td>0.897552</td>\n",
       "      <td>0.004930</td>\n",
       "      <td>21</td>\n",
       "    </tr>\n",
       "  </tbody>\n",
       "</table>\n",
       "</div>"
      ],
      "text/plain": [
       "   mean_fit_time  std_fit_time  mean_score_time  std_score_time  \\\n",
       "0       1.035595      0.047038         0.007601        0.007262   \n",
       "1       1.125499      0.022192         0.010701        0.007284   \n",
       "2       0.940799      0.083278         0.004101        0.001855   \n",
       "3       0.859800      0.026868         0.003700        0.001289   \n",
       "4       0.829899      0.022032         0.003400        0.000490   \n",
       "\n",
       "  param_max_depth param_min_child_weight param_subsample  \\\n",
       "0               3                      1             0.6   \n",
       "1               3                      1             0.8   \n",
       "2               3                      1             1.0   \n",
       "3               3                      5             0.6   \n",
       "4               3                      5             0.8   \n",
       "\n",
       "                                              params  split0_test_score  \\\n",
       "0  {'max_depth': 3, 'min_child_weight': 1, 'subsa...           0.896140   \n",
       "1  {'max_depth': 3, 'min_child_weight': 1, 'subsa...           0.898766   \n",
       "2  {'max_depth': 3, 'min_child_weight': 1, 'subsa...           0.899948   \n",
       "3  {'max_depth': 3, 'min_child_weight': 5, 'subsa...           0.896402   \n",
       "4  {'max_depth': 3, 'min_child_weight': 5, 'subsa...           0.898950   \n",
       "\n",
       "   split1_test_score  split2_test_score  split3_test_score  split4_test_score  \\\n",
       "0           0.896279           0.891209           0.895020           0.902319   \n",
       "1           0.896295           0.890382           0.900699           0.903146   \n",
       "2           0.894789           0.888521           0.899941           0.900734   \n",
       "3           0.897204           0.889157           0.896777           0.904630   \n",
       "4           0.895122           0.889911           0.898914           0.904863   \n",
       "\n",
       "   mean_test_score  std_test_score  rank_test_score  \n",
       "0         0.896193        0.003571               26  \n",
       "1         0.897858        0.004363               19  \n",
       "2         0.896787        0.004644               25  \n",
       "3         0.896834        0.004900               24  \n",
       "4         0.897552        0.004930               21  "
      ]
     },
     "execution_count": 93,
     "metadata": {},
     "output_type": "execute_result"
    }
   ],
   "source": [
    "df_grid_search_xgb_reg = pd.DataFrame(grid_search_xgb_reg.cv_results_)\n",
    "df_grid_search_xgb_reg.head(5)"
   ]
  },
  {
   "cell_type": "code",
   "execution_count": 94,
   "id": "exotic-adult",
   "metadata": {},
   "outputs": [],
   "source": [
    "df_grid_search_xgb_reg.sort_values([\"param_min_child_weight\", \"param_subsample\", \"param_max_depth\", \"mean_test_score\"], inplace=True)"
   ]
  },
  {
   "cell_type": "code",
   "execution_count": 95,
   "id": "enclosed-anthony",
   "metadata": {},
   "outputs": [
    {
     "data": {
      "image/png": "[encoded data removed]",
      "text/plain": [
       "<Figure size 648x216 with 3 Axes>"
      ]
     },
     "metadata": {
      "needs_background": "light"
     },
     "output_type": "display_data"
    }
   ],
   "source": [
    "fig_xgb_reg = sns.FacetGrid(df_grid_search_xgb_reg, col=\"param_min_child_weight\")\n",
    "fig_xgb_reg.map(sns.lineplot, \"param_subsample\", \"mean_test_score\", \"param_max_depth\")\n",
    "plt.plot([], [], ' ', label=\"param_max_depth\")\n",
    "plt.legend()\n",
    "plt.show()"
   ]
  },
  {
   "cell_type": "code",
   "execution_count": 96,
   "id": "standard-birthday",
   "metadata": {},
   "outputs": [
    {
     "data": {
      "text/plain": [
       "0.8103144834477073"
      ]
     },
     "execution_count": 96,
     "metadata": {},
     "output_type": "execute_result"
    }
   ],
   "source": [
    "grid_search_xgb_reg.score(X_test, y_test)"
   ]
  },
  {
   "cell_type": "code",
   "execution_count": 97,
   "id": "selective-british",
   "metadata": {},
   "outputs": [
    {
     "name": "stdout",
     "output_type": "stream",
     "text": [
      "RMSE: 0.41179710113879536\n"
     ]
    },
    {
     "data": {
      "image/png": "[encoded data removed]",
      "text/plain": [
       "<Figure size 432x288 with 1 Axes>"
      ]
     },
     "metadata": {
      "needs_background": "light"
     },
     "output_type": "display_data"
    }
   ],
   "source": [
    "plot_test(grid_search_xgb_reg, X_test, y_test)"
   ]
  }
 ],
 "metadata": {
  "kernelspec": {
   "display_name": "Python 3",
   "language": "python",
   "name": "python3"
  },
  "language_info": {
   "codemirror_mode": {
    "name": "ipython",
    "version": 3
   },
   "file_extension": ".py",
   "mimetype": "text/x-python",
   "name": "python",
   "nbconvert_exporter": "python",
   "pygments_lexer": "ipython3",
   "version": "3.8.6"
  }
 },
 "nbformat": 4,
 "nbformat_minor": 5
}
