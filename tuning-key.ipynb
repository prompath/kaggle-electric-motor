{
 "cells": [
  {
   "cell_type": "markdown",
   "id": "overhead-advantage",
   "metadata": {},
   "source": [
    "# Libraries "
   ]
  },
  {
   "cell_type": "code",
   "execution_count": null,
   "id": "driven-legend",
   "metadata": {},
   "outputs": [],
   "source": [
    "# trio!\n",
    "import pandas as pd\n",
    "import numpy as np\n",
    "import matplotlib.pyplot as plt\n",
    "import seaborn as sns\n",
    "\n",
    "# ML\n",
    "from sklearn.preprocessing import MinMaxScaler\n",
    "from sklearn.metrics import mean_squared_error"
   ]
  },
  {
   "cell_type": "markdown",
   "id": "southwest-concentrate",
   "metadata": {},
   "source": [
    "# Import Train/Test Set"
   ]
  },
  {
   "cell_type": "markdown",
   "id": "increasing-tomorrow",
   "metadata": {},
   "source": [
    "This time we use sampling to reduce training time."
   ]
  },
  {
   "cell_type": "code",
   "execution_count": null,
   "id": "senior-conservation",
   "metadata": {},
   "outputs": [],
   "source": [
    "df_train = pd.read_csv('train.csv').sample(10000, random_state=2021)\n",
    "df_test = pd.read_csv('test.csv').sample(3000, random_state=2021)"
   ]
  },
  {
   "cell_type": "code",
   "execution_count": null,
   "id": "unexpected-event",
   "metadata": {},
   "outputs": [],
   "source": [
    "features_list = ['ambient', 'coolant', 'u_d', 'u_q', 'motor_speed', 'i_d', 'i_q']\n",
    "target = 'stator_yoke'"
   ]
  },
  {
   "cell_type": "code",
   "execution_count": null,
   "id": "official-bernard",
   "metadata": {},
   "outputs": [],
   "source": [
    "X_train = df_train[features_list].to_numpy()\n",
    "y_train = df_train[target].to_numpy()"
   ]
  },
  {
   "cell_type": "code",
   "execution_count": null,
   "id": "color-mattress",
   "metadata": {},
   "outputs": [],
   "source": [
    "X_train.shape, y_train.shape"
   ]
  },
  {
   "cell_type": "code",
   "execution_count": null,
   "id": "expanded-avatar",
   "metadata": {},
   "outputs": [],
   "source": [
    "X_test = df_test[features_list].to_numpy()\n",
    "y_test = df_test[target].to_numpy()"
   ]
  },
  {
   "cell_type": "code",
   "execution_count": null,
   "id": "incorporate-salon",
   "metadata": {},
   "outputs": [],
   "source": [
    "X_test.shape, y_test.shape"
   ]
  },
  {
   "cell_type": "markdown",
   "id": "checked-henry",
   "metadata": {},
   "source": [
    "# Data Preprocessing"
   ]
  },
  {
   "cell_type": "code",
   "execution_count": null,
   "id": "minus-positive",
   "metadata": {},
   "outputs": [],
   "source": [
    "X_scaler = MinMaxScaler()"
   ]
  },
  {
   "cell_type": "code",
   "execution_count": null,
   "id": "amended-chocolate",
   "metadata": {},
   "outputs": [],
   "source": [
    "X_train_scaled = X_scaler.fit_transform(X_train)\n",
    "X_test_scaled = X_scaler.transform(X_test)"
   ]
  },
  {
   "cell_type": "markdown",
   "id": "employed-velvet",
   "metadata": {},
   "source": [
    "#  Predictive Models"
   ]
  },
  {
   "cell_type": "code",
   "execution_count": null,
   "id": "wireless-wagon",
   "metadata": {},
   "outputs": [],
   "source": [
    "from sklearn.model_selection import GridSearchCV"
   ]
  },
  {
   "cell_type": "code",
   "execution_count": null,
   "id": "preceding-fusion",
   "metadata": {},
   "outputs": [],
   "source": [
    "def plot_test(reg, X, y):\n",
    "    y_pred = reg.predict(X)\n",
    "    plt.plot(y, alpha=0.5)\n",
    "    plt.plot(y_pred, alpha=0.5)\n",
    "    rmse = mean_squared_error(y_test, y_pred, squared=False)\n",
    "    print(f'RMSE: {rmse}')"
   ]
  },
  {
   "cell_type": "markdown",
   "id": "moved-barrier",
   "metadata": {},
   "source": [
    "## Ridge "
   ]
  },
  {
   "cell_type": "code",
   "execution_count": null,
   "id": "speaking-passenger",
   "metadata": {},
   "outputs": [],
   "source": [
    "from sklearn.linear_model import Ridge\n",
    "ridge = Ridge()"
   ]
  },
  {
   "cell_type": "markdown",
   "id": "accessory-level",
   "metadata": {},
   "source": [
    "https://scikit-learn.org/stable/modules/generated/sklearn.linear_model.Ridge.html"
   ]
  },
  {
   "cell_type": "code",
   "execution_count": null,
   "id": "wrapped-particle",
   "metadata": {},
   "outputs": [],
   "source": [
    "param_grid_ridge = {\n",
    "    \"alpha\": [0.01, 0.2, 0.4, 0.6, 0.8, 1],\n",
    "    \"solver\": [\"cholesky\", \"saga\"]\n",
    "}"
   ]
  },
  {
   "cell_type": "code",
   "execution_count": null,
   "id": "abstract-necklace",
   "metadata": {},
   "outputs": [],
   "source": [
    "grid_search_ridge = GridSearchCV(ridge, param_grid_ridge, cv=5)"
   ]
  },
  {
   "cell_type": "code",
   "execution_count": null,
   "id": "confused-indianapolis",
   "metadata": {},
   "outputs": [],
   "source": [
    "grid_search_ridge.fit(X_train_scaled, y_train)"
   ]
  },
  {
   "cell_type": "code",
   "execution_count": null,
   "id": "gothic-indonesia",
   "metadata": {},
   "outputs": [],
   "source": [
    "grid_search_ridge.best_params_"
   ]
  },
  {
   "cell_type": "code",
   "execution_count": null,
   "id": "preliminary-optimum",
   "metadata": {},
   "outputs": [],
   "source": [
    "grid_search_ridge.cv_results_"
   ]
  },
  {
   "cell_type": "code",
   "execution_count": null,
   "id": "brilliant-mainstream",
   "metadata": {},
   "outputs": [],
   "source": [
    "df_grid_search_ridge = pd.DataFrame(grid_search_ridge.cv_results_)\n",
    "df_grid_search_ridge.head(5)"
   ]
  },
  {
   "cell_type": "code",
   "execution_count": null,
   "id": "amber-implement",
   "metadata": {},
   "outputs": [],
   "source": [
    "df_grid_search_ridge.sort_values([\"param_solver\", \"param_alpha\", \"mean_test_score\"], inplace=True)"
   ]
  },
  {
   "cell_type": "code",
   "execution_count": null,
   "id": "dominant-swimming",
   "metadata": {},
   "outputs": [],
   "source": [
    "sns.lineplot(x=\"param_alpha\", y=\"mean_test_score\", hue=\"param_solver\", data=df_grid_search_ridge)"
   ]
  },
  {
   "cell_type": "code",
   "execution_count": null,
   "id": "boxed-television",
   "metadata": {},
   "outputs": [],
   "source": [
    "grid_search_ridge.score(X_test_scaled, y_test)"
   ]
  },
  {
   "cell_type": "code",
   "execution_count": null,
   "id": "personalized-hamburg",
   "metadata": {},
   "outputs": [],
   "source": [
    "plot_test(grid_search_ridge, X_test_scaled, y_test)"
   ]
  },
  {
   "cell_type": "markdown",
   "id": "assumed-cinema",
   "metadata": {},
   "source": [
    "## Lasso"
   ]
  },
  {
   "cell_type": "code",
   "execution_count": null,
   "id": "urban-victor",
   "metadata": {},
   "outputs": [],
   "source": [
    "from sklearn.linear_model import Lasso\n",
    "lasso = Lasso()"
   ]
  },
  {
   "cell_type": "markdown",
   "id": "false-sapphire",
   "metadata": {},
   "source": [
    "https://scikit-learn.org/stable/modules/generated/sklearn.linear_model.Lasso.html"
   ]
  },
  {
   "cell_type": "code",
   "execution_count": null,
   "id": "postal-vegetation",
   "metadata": {},
   "outputs": [],
   "source": [
    "param_grid_lasso = {\n",
    "    \"alpha\": [0.01, 0.2, 0.4, 0.6, 0.8, 1]\n",
    "}"
   ]
  },
  {
   "cell_type": "code",
   "execution_count": null,
   "id": "comic-tonight",
   "metadata": {},
   "outputs": [],
   "source": [
    "grid_search_lasso = GridSearchCV(lasso, param_grid=param_grid_lasso, cv=5)"
   ]
  },
  {
   "cell_type": "code",
   "execution_count": null,
   "id": "prompt-detroit",
   "metadata": {},
   "outputs": [],
   "source": [
    "grid_search_lasso.fit(X_train_scaled, y_train)"
   ]
  },
  {
   "cell_type": "code",
   "execution_count": null,
   "id": "tough-register",
   "metadata": {},
   "outputs": [],
   "source": [
    "grid_search_lasso.best_params_"
   ]
  },
  {
   "cell_type": "code",
   "execution_count": null,
   "id": "significant-florida",
   "metadata": {},
   "outputs": [],
   "source": [
    "grid_search_lasso.cv_results_"
   ]
  },
  {
   "cell_type": "code",
   "execution_count": null,
   "id": "thousand-harrison",
   "metadata": {},
   "outputs": [],
   "source": [
    "df_grid_search_lasso = pd.DataFrame(grid_search_lasso.cv_results_)\n",
    "df_grid_search_lasso.head(5)"
   ]
  },
  {
   "cell_type": "code",
   "execution_count": null,
   "id": "warming-vertical",
   "metadata": {},
   "outputs": [],
   "source": [
    "df_grid_search_lasso.sort_values([\"param_alpha\", \"mean_test_score\"], inplace=True)"
   ]
  },
  {
   "cell_type": "code",
   "execution_count": null,
   "id": "opening-blast",
   "metadata": {},
   "outputs": [],
   "source": [
    "sns.lineplot(x=\"param_alpha\", y=\"mean_test_score\", data=df_grid_search_lasso)"
   ]
  },
  {
   "cell_type": "code",
   "execution_count": null,
   "id": "clear-passport",
   "metadata": {},
   "outputs": [],
   "source": [
    "grid_search_lasso.score(X_test_scaled, y_test)"
   ]
  },
  {
   "cell_type": "code",
   "execution_count": null,
   "id": "radio-trader",
   "metadata": {},
   "outputs": [],
   "source": [
    "plot_test(grid_search_lasso, X_test_scaled, y_test)"
   ]
  },
  {
   "cell_type": "markdown",
   "id": "desirable-typing",
   "metadata": {},
   "source": [
    "## Decision Tree Regressor "
   ]
  },
  {
   "cell_type": "code",
   "execution_count": null,
   "id": "representative-methodology",
   "metadata": {},
   "outputs": [],
   "source": [
    "from sklearn.tree import DecisionTreeRegressor\n",
    "dt_reg = DecisionTreeRegressor()"
   ]
  },
  {
   "cell_type": "markdown",
   "id": "convenient-racing",
   "metadata": {},
   "source": [
    "https://scikit-learn.org/stable/modules/generated/sklearn.tree.DecisionTreeRegressor.html"
   ]
  },
  {
   "cell_type": "code",
   "execution_count": null,
   "id": "hairy-circulation",
   "metadata": {},
   "outputs": [],
   "source": [
    "param_grid_dt_reg = {\n",
    "    \"max_depth\": [5, 7, 10, 15, 30],\n",
    "    \"min_samples_split\": [2, 5, 10],\n",
    "    \"min_samples_leaf\": [1, 10, 20],\n",
    "}"
   ]
  },
  {
   "cell_type": "code",
   "execution_count": null,
   "id": "arabic-essex",
   "metadata": {},
   "outputs": [],
   "source": [
    "grid_search_dt_reg = GridSearchCV(dt_reg, param_grid_dt_reg, cv=5)"
   ]
  },
  {
   "cell_type": "code",
   "execution_count": null,
   "id": "caroline-pharmacy",
   "metadata": {},
   "outputs": [],
   "source": [
    "grid_search_dt_reg.fit(X_train, y_train)"
   ]
  },
  {
   "cell_type": "code",
   "execution_count": null,
   "id": "dynamic-evans",
   "metadata": {},
   "outputs": [],
   "source": [
    "grid_search_dt_reg.best_params_"
   ]
  },
  {
   "cell_type": "code",
   "execution_count": null,
   "id": "ambient-federal",
   "metadata": {},
   "outputs": [],
   "source": [
    "grid_search_dt_reg.cv_results_"
   ]
  },
  {
   "cell_type": "code",
   "execution_count": null,
   "id": "billion-cleanup",
   "metadata": {},
   "outputs": [],
   "source": [
    "df_grid_search_dt_reg = pd.DataFrame(grid_search_dt_reg.cv_results_)\n",
    "df_grid_search_dt_reg.head(5)"
   ]
  },
  {
   "cell_type": "code",
   "execution_count": null,
   "id": "hungry-patio",
   "metadata": {},
   "outputs": [],
   "source": [
    "df_grid_search_dt_reg.sort_values([\"param_max_depth\", \"param_min_samples_leaf\", \"param_min_samples_split\", \"mean_test_score\"], inplace=True)"
   ]
  },
  {
   "cell_type": "code",
   "execution_count": null,
   "id": "running-north",
   "metadata": {},
   "outputs": [],
   "source": [
    "g = sns.FacetGrid(df_grid_search_dt_reg, col=\"param_min_samples_split\")\n",
    "g.map(sns.lineplot, \"param_max_depth\", \"mean_test_score\", \"param_min_samples_leaf\");"
   ]
  },
  {
   "cell_type": "code",
   "execution_count": null,
   "id": "single-oliver",
   "metadata": {},
   "outputs": [],
   "source": [
    "grid_search_dt_reg.score(X_test, y_test)"
   ]
  },
  {
   "cell_type": "code",
   "execution_count": null,
   "id": "adequate-escape",
   "metadata": {},
   "outputs": [],
   "source": [
    "plot_test(grid_search_dt_reg, X_test, y_test)"
   ]
  },
  {
   "cell_type": "markdown",
   "id": "creative-plymouth",
   "metadata": {},
   "source": [
    "## Random Forest Regressor"
   ]
  },
  {
   "cell_type": "code",
   "execution_count": null,
   "id": "conscious-familiar",
   "metadata": {},
   "outputs": [],
   "source": [
    "from sklearn.ensemble import RandomForestRegressor\n",
    "rf_reg = RandomForestRegressor()"
   ]
  },
  {
   "cell_type": "code",
   "execution_count": null,
   "id": "processed-bearing",
   "metadata": {},
   "outputs": [],
   "source": [
    "param_grid_rf_reg = {\n",
    "    \"max_depth\": [5, 7, 10],\n",
    "    \"min_samples_split\": [2, 5, 10],\n",
    "    \"min_samples_leaf\": [1, 10, 20],\n",
    "}"
   ]
  },
  {
   "cell_type": "code",
   "execution_count": null,
   "id": "standing-arctic",
   "metadata": {},
   "outputs": [],
   "source": [
    "grid_search_rf_reg = GridSearchCV(rf_reg, param_grid_rf_reg, cv=5)"
   ]
  },
  {
   "cell_type": "code",
   "execution_count": null,
   "id": "human-buffalo",
   "metadata": {},
   "outputs": [],
   "source": [
    "grid_search_rf_reg.fit(X_train, y_train)"
   ]
  },
  {
   "cell_type": "code",
   "execution_count": null,
   "id": "confused-tongue",
   "metadata": {},
   "outputs": [],
   "source": [
    "grid_search_rf_reg.best_params_"
   ]
  },
  {
   "cell_type": "code",
   "execution_count": null,
   "id": "british-capture",
   "metadata": {},
   "outputs": [],
   "source": [
    "grid_search_rf_reg.cv_results_"
   ]
  },
  {
   "cell_type": "code",
   "execution_count": null,
   "id": "furnished-savannah",
   "metadata": {},
   "outputs": [],
   "source": [
    "df_grid_search_rf_reg = pd.DataFrame(grid_search_rf_reg.cv_results_)\n",
    "df_grid_search_rf_reg.head(5)"
   ]
  },
  {
   "cell_type": "code",
   "execution_count": null,
   "id": "excess-omaha",
   "metadata": {},
   "outputs": [],
   "source": [
    "df_grid_search_rf_reg.sort_values([\"param_max_depth\", \"param_min_samples_leaf\", \"param_min_samples_split\", \"mean_test_score\"], inplace=True)"
   ]
  },
  {
   "cell_type": "code",
   "execution_count": null,
   "id": "brief-metadata",
   "metadata": {},
   "outputs": [],
   "source": [
    "g = sns.FacetGrid(df_grid_search_rf_reg, col=\"param_min_samples_split\")\n",
    "g.map(sns.lineplot, \"param_max_depth\", \"mean_test_score\", \"param_min_samples_leaf\");"
   ]
  },
  {
   "cell_type": "code",
   "execution_count": null,
   "id": "honey-settle",
   "metadata": {},
   "outputs": [],
   "source": [
    "grid_search_rf_reg.score(X_test, y_test)"
   ]
  },
  {
   "cell_type": "code",
   "execution_count": null,
   "id": "guided-marble",
   "metadata": {},
   "outputs": [],
   "source": [
    "plot_test(grid_search_rf_reg, X_test, y_test)"
   ]
  },
  {
   "cell_type": "markdown",
   "id": "prompt-hardware",
   "metadata": {},
   "source": [
    "## AdaBoost Regressor"
   ]
  },
  {
   "cell_type": "code",
   "execution_count": null,
   "id": "unauthorized-emission",
   "metadata": {},
   "outputs": [],
   "source": [
    "from sklearn.ensemble import RandomForestRegressor\n",
    "rf_reg = RandomForestRegressor()"
   ]
  },
  {
   "cell_type": "code",
   "execution_count": null,
   "id": "brown-dance",
   "metadata": {},
   "outputs": [],
   "source": [
    "param_grid_rf_reg = {\n",
    "    \"max_depth\": [5, 7, 10],\n",
    "    \"min_samples_split\": [2, 5, 10],\n",
    "    \"min_samples_leaf\": [1, 10, 20],\n",
    "}"
   ]
  },
  {
   "cell_type": "code",
   "execution_count": null,
   "id": "finite-daniel",
   "metadata": {},
   "outputs": [],
   "source": [
    "grid_search_rf_reg = GridSearchCV(rf_reg, param_grid_rf_reg, cv=5)"
   ]
  },
  {
   "cell_type": "code",
   "execution_count": null,
   "id": "marine-corrections",
   "metadata": {},
   "outputs": [],
   "source": [
    "grid_search_rf_reg.fit(X_train, y_train)"
   ]
  },
  {
   "cell_type": "code",
   "execution_count": null,
   "id": "empty-lawrence",
   "metadata": {},
   "outputs": [],
   "source": [
    "grid_search_rf_reg.best_params_"
   ]
  },
  {
   "cell_type": "code",
   "execution_count": null,
   "id": "lesbian-cyprus",
   "metadata": {},
   "outputs": [],
   "source": [
    "grid_search_rf_reg.cv_results_"
   ]
  },
  {
   "cell_type": "code",
   "execution_count": null,
   "id": "current-scene",
   "metadata": {},
   "outputs": [],
   "source": [
    "df_grid_search_rf_reg = pd.DataFrame(grid_search_rf_reg.cv_results_)\n",
    "df_grid_search_rf_reg.head(5)"
   ]
  },
  {
   "cell_type": "code",
   "execution_count": null,
   "id": "indonesian-voice",
   "metadata": {},
   "outputs": [],
   "source": [
    "df_grid_search_rf_reg.sort_values([\"param_max_depth\", \"param_min_samples_leaf\", \"param_min_samples_split\", \"mean_test_score\"], inplace=True)"
   ]
  },
  {
   "cell_type": "code",
   "execution_count": null,
   "id": "arbitrary-gabriel",
   "metadata": {},
   "outputs": [],
   "source": [
    "g = sns.FacetGrid(df_grid_search_rf_reg, col=\"param_min_samples_split\")\n",
    "g.map(sns.lineplot, \"param_max_depth\", \"mean_test_score\", \"param_min_samples_leaf\");"
   ]
  },
  {
   "cell_type": "code",
   "execution_count": null,
   "id": "banned-obligation",
   "metadata": {},
   "outputs": [],
   "source": [
    "grid_search_rf_reg.score(X_test, y_test)"
   ]
  },
  {
   "cell_type": "code",
   "execution_count": null,
   "id": "alternate-spouse",
   "metadata": {},
   "outputs": [],
   "source": [
    "plot_test(grid_search_rf_reg, X_test, y_test)"
   ]
  },
  {
   "cell_type": "markdown",
   "id": "animated-pantyhose",
   "metadata": {},
   "source": [
    "## Gradient Boosting Regressor "
   ]
  },
  {
   "cell_type": "code",
   "execution_count": null,
   "id": "ethical-weight",
   "metadata": {},
   "outputs": [],
   "source": [
    "from sklearn.ensemble import RandomForestRegressor\n",
    "rf_reg = RandomForestRegressor()"
   ]
  },
  {
   "cell_type": "code",
   "execution_count": null,
   "id": "radical-object",
   "metadata": {},
   "outputs": [],
   "source": [
    "param_grid_rf_reg = {\n",
    "    \"max_depth\": [5, 7, 10],\n",
    "    \"min_samples_split\": [2, 5, 10],\n",
    "    \"min_samples_leaf\": [1, 10, 20],\n",
    "}"
   ]
  },
  {
   "cell_type": "code",
   "execution_count": null,
   "id": "provincial-mainland",
   "metadata": {},
   "outputs": [],
   "source": [
    "grid_search_rf_reg = GridSearchCV(rf_reg, param_grid_rf_reg, cv=5)"
   ]
  },
  {
   "cell_type": "code",
   "execution_count": null,
   "id": "greenhouse-nickname",
   "metadata": {},
   "outputs": [],
   "source": [
    "grid_search_rf_reg.fit(X_train, y_train)"
   ]
  },
  {
   "cell_type": "code",
   "execution_count": null,
   "id": "addressed-dollar",
   "metadata": {},
   "outputs": [],
   "source": [
    "grid_search_rf_reg.best_params_"
   ]
  },
  {
   "cell_type": "code",
   "execution_count": null,
   "id": "speaking-hawaiian",
   "metadata": {},
   "outputs": [],
   "source": [
    "grid_search_rf_reg.cv_results_"
   ]
  },
  {
   "cell_type": "code",
   "execution_count": null,
   "id": "designing-accommodation",
   "metadata": {},
   "outputs": [],
   "source": [
    "df_grid_search_rf_reg = pd.DataFrame(grid_search_rf_reg.cv_results_)\n",
    "df_grid_search_rf_reg.head(5)"
   ]
  },
  {
   "cell_type": "code",
   "execution_count": null,
   "id": "coordinate-layer",
   "metadata": {},
   "outputs": [],
   "source": [
    "df_grid_search_rf_reg.sort_values([\"param_max_depth\", \"param_min_samples_leaf\", \"param_min_samples_split\", \"mean_test_score\"], inplace=True)"
   ]
  },
  {
   "cell_type": "code",
   "execution_count": null,
   "id": "adjacent-nicholas",
   "metadata": {},
   "outputs": [],
   "source": [
    "g = sns.FacetGrid(df_grid_search_rf_reg, col=\"param_min_samples_split\")\n",
    "g.map(sns.lineplot, \"param_max_depth\", \"mean_test_score\", \"param_min_samples_leaf\");"
   ]
  },
  {
   "cell_type": "code",
   "execution_count": null,
   "id": "suburban-patch",
   "metadata": {},
   "outputs": [],
   "source": [
    "grid_search_rf_reg.score(X_test, y_test)"
   ]
  },
  {
   "cell_type": "code",
   "execution_count": null,
   "id": "electoral-sunset",
   "metadata": {},
   "outputs": [],
   "source": [
    "plot_test(grid_search_rf_reg, X_test, y_test)"
   ]
  },
  {
   "cell_type": "markdown",
   "id": "through-airline",
   "metadata": {},
   "source": [
    "## XGBoost Regressor"
   ]
  },
  {
   "cell_type": "code",
   "execution_count": null,
   "id": "sweet-ownership",
   "metadata": {},
   "outputs": [],
   "source": [
    "from sklearn.ensemble import RandomForestRegressor\n",
    "rf_reg = RandomForestRegressor()"
   ]
  },
  {
   "cell_type": "code",
   "execution_count": null,
   "id": "revolutionary-georgia",
   "metadata": {},
   "outputs": [],
   "source": [
    "param_grid_rf_reg = {\n",
    "    \"max_depth\": [5, 7, 10],\n",
    "    \"min_samples_split\": [2, 5, 10],\n",
    "    \"min_samples_leaf\": [1, 10, 20],\n",
    "}"
   ]
  },
  {
   "cell_type": "code",
   "execution_count": null,
   "id": "atmospheric-furniture",
   "metadata": {},
   "outputs": [],
   "source": [
    "grid_search_rf_reg = GridSearchCV(rf_reg, param_grid_rf_reg, cv=5)"
   ]
  },
  {
   "cell_type": "code",
   "execution_count": null,
   "id": "figured-bicycle",
   "metadata": {},
   "outputs": [],
   "source": [
    "grid_search_rf_reg.fit(X_train, y_train)"
   ]
  },
  {
   "cell_type": "code",
   "execution_count": null,
   "id": "concrete-correspondence",
   "metadata": {},
   "outputs": [],
   "source": [
    "grid_search_rf_reg.best_params_"
   ]
  },
  {
   "cell_type": "code",
   "execution_count": null,
   "id": "passive-moldova",
   "metadata": {},
   "outputs": [],
   "source": [
    "grid_search_rf_reg.cv_results_"
   ]
  },
  {
   "cell_type": "code",
   "execution_count": null,
   "id": "precious-civilization",
   "metadata": {},
   "outputs": [],
   "source": [
    "df_grid_search_rf_reg = pd.DataFrame(grid_search_rf_reg.cv_results_)\n",
    "df_grid_search_rf_reg.head(5)"
   ]
  },
  {
   "cell_type": "code",
   "execution_count": null,
   "id": "bright-payment",
   "metadata": {},
   "outputs": [],
   "source": [
    "df_grid_search_rf_reg.sort_values([\"param_max_depth\", \"param_min_samples_leaf\", \"param_min_samples_split\", \"mean_test_score\"], inplace=True)"
   ]
  },
  {
   "cell_type": "code",
   "execution_count": null,
   "id": "lucky-timeline",
   "metadata": {},
   "outputs": [],
   "source": [
    "g = sns.FacetGrid(df_grid_search_rf_reg, col=\"param_min_samples_split\")\n",
    "g.map(sns.lineplot, \"param_max_depth\", \"mean_test_score\", \"param_min_samples_leaf\");"
   ]
  },
  {
   "cell_type": "code",
   "execution_count": null,
   "id": "accompanied-indiana",
   "metadata": {},
   "outputs": [],
   "source": [
    "grid_search_rf_reg.score(X_test, y_test)"
   ]
  },
  {
   "cell_type": "code",
   "execution_count": null,
   "id": "juvenile-species",
   "metadata": {},
   "outputs": [],
   "source": [
    "plot_test(grid_search_rf_reg, X_test, y_test)"
   ]
  }
 ],
 "metadata": {
  "kernelspec": {
   "display_name": "Python 3",
   "language": "python",
   "name": "python3"
  },
  "language_info": {
   "codemirror_mode": {
    "name": "ipython",
    "version": 3
   },
   "file_extension": ".py",
   "mimetype": "text/x-python",
   "name": "python",
   "nbconvert_exporter": "python",
   "pygments_lexer": "ipython3",
   "version": "3.8.5"
  }
 },
 "nbformat": 4,
 "nbformat_minor": 5
}
