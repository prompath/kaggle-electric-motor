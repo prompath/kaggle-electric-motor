{
 "cells": [
  {
   "cell_type": "markdown",
   "id": "specific-blame",
   "metadata": {},
   "source": [
    "# Libraries "
   ]
  },
  {
   "cell_type": "code",
   "execution_count": 1,
   "id": "agricultural-brass",
   "metadata": {},
   "outputs": [],
   "source": [
    "# trio!\n",
    "import pandas as pd\n",
    "import numpy as np\n",
    "import matplotlib.pyplot as plt\n",
    "import seaborn as sns\n",
    "\n",
    "# ML\n",
    "from sklearn.preprocessing import MinMaxScaler\n",
    "from sklearn.metrics import mean_squared_error"
   ]
  },
  {
   "cell_type": "markdown",
   "id": "computational-knife",
   "metadata": {},
   "source": [
    "# Import Train/Test Set"
   ]
  },
  {
   "cell_type": "markdown",
   "id": "macro-definition",
   "metadata": {},
   "source": [
    "This time we use sampling to reduce training time."
   ]
  },
  {
   "cell_type": "code",
   "execution_count": 2,
   "id": "beautiful-fence",
   "metadata": {},
   "outputs": [],
   "source": [
    "df_train = pd.read_csv('train.csv').sample(10000, random_state=2021)\n",
    "df_test = pd.read_csv('test.csv').sample(3000, random_state=2021)"
   ]
  },
  {
   "cell_type": "code",
   "execution_count": 3,
   "id": "enabling-nigeria",
   "metadata": {},
   "outputs": [],
   "source": [
    "features_list = ['ambient', 'coolant', 'u_d', 'u_q', 'motor_speed', 'i_d', 'i_q']\n",
    "target = 'stator_yoke'"
   ]
  },
  {
   "cell_type": "code",
   "execution_count": 4,
   "id": "funny-spencer",
   "metadata": {},
   "outputs": [],
   "source": [
    "X_train = df_train[features_list].to_numpy()\n",
    "y_train = df_train[target].to_numpy()"
   ]
  },
  {
   "cell_type": "code",
   "execution_count": 5,
   "id": "boxed-collins",
   "metadata": {},
   "outputs": [
    {
     "data": {
      "text/plain": [
       "((10000, 7), (10000,))"
      ]
     },
     "execution_count": 5,
     "metadata": {},
     "output_type": "execute_result"
    }
   ],
   "source": [
    "X_train.shape, y_train.shape"
   ]
  },
  {
   "cell_type": "code",
   "execution_count": 6,
   "id": "rolled-cathedral",
   "metadata": {},
   "outputs": [],
   "source": [
    "X_test = df_test[features_list].to_numpy()\n",
    "y_test = df_test[target].to_numpy()"
   ]
  },
  {
   "cell_type": "code",
   "execution_count": 7,
   "id": "through-consultancy",
   "metadata": {},
   "outputs": [
    {
     "data": {
      "text/plain": [
       "((3000, 7), (3000,))"
      ]
     },
     "execution_count": 7,
     "metadata": {},
     "output_type": "execute_result"
    }
   ],
   "source": [
    "X_test.shape, y_test.shape"
   ]
  },
  {
   "cell_type": "markdown",
   "id": "nervous-locking",
   "metadata": {},
   "source": [
    "# Data Preprocessing"
   ]
  },
  {
   "cell_type": "code",
   "execution_count": 8,
   "id": "civil-robert",
   "metadata": {},
   "outputs": [],
   "source": [
    "X_scaler = MinMaxScaler()"
   ]
  },
  {
   "cell_type": "code",
   "execution_count": 9,
   "id": "grateful-discipline",
   "metadata": {},
   "outputs": [],
   "source": [
    "X_train_scaled = X_scaler.fit_transform(X_train)\n",
    "X_test_scaled = X_scaler.transform(X_test)"
   ]
  },
  {
   "cell_type": "markdown",
   "id": "detected-diving",
   "metadata": {},
   "source": [
    "#  Predictive Models"
   ]
  },
  {
   "cell_type": "code",
   "execution_count": 10,
   "id": "understood-petite",
   "metadata": {},
   "outputs": [],
   "source": [
    "from sklearn.model_selection import GridSearchCV"
   ]
  },
  {
   "cell_type": "code",
   "execution_count": 11,
   "id": "quiet-settle",
   "metadata": {},
   "outputs": [],
   "source": [
    "def plot_test(reg, X, y):\n",
    "    y_pred = reg.predict(X)\n",
    "    plt.scatter(y, y_pred)\n",
    "    rmse = mean_squared_error(y, y_pred, squared=False)\n",
    "    print(f'RMSE: {rmse}')"
   ]
  },
  {
   "cell_type": "markdown",
   "id": "promising-citizenship",
   "metadata": {},
   "source": [
    "## Ridge "
   ]
  },
  {
   "cell_type": "code",
   "execution_count": 12,
   "id": "enhanced-locking",
   "metadata": {},
   "outputs": [],
   "source": [
    "from sklearn.linear_model import Ridge"
   ]
  },
  {
   "cell_type": "markdown",
   "id": "breathing-guatemala",
   "metadata": {},
   "source": [
    "https://scikit-learn.org/stable/modules/generated/sklearn.linear_model.Ridge.html"
   ]
  },
  {
   "cell_type": "code",
   "execution_count": 13,
   "id": "qualified-bracelet",
   "metadata": {},
   "outputs": [],
   "source": [
    "param_grid_ridge = {\n",
    "    \"alpha\": [0.01, 0.2, 0.4, 0.6, 0.8, 1],\n",
    "    \"solver\": [\"cholesky\", \"saga\"]\n",
    "}"
   ]
  },
  {
   "cell_type": "code",
   "execution_count": 14,
   "id": "banner-newton",
   "metadata": {},
   "outputs": [],
   "source": [
    "grid_search_ridge = GridSearchCV(Ridge(), param_grid_ridge, cv=5, n_jobs=-1)"
   ]
  },
  {
   "cell_type": "code",
   "execution_count": 15,
   "id": "rotary-concrete",
   "metadata": {},
   "outputs": [
    {
     "data": {
      "text/plain": [
       "GridSearchCV(cv=5, estimator=Ridge(), n_jobs=-1,\n",
       "             param_grid={'alpha': [0.01, 0.2, 0.4, 0.6, 0.8, 1],\n",
       "                         'solver': ['cholesky', 'saga']})"
      ]
     },
     "execution_count": 15,
     "metadata": {},
     "output_type": "execute_result"
    }
   ],
   "source": [
    "grid_search_ridge.fit(X_train_scaled, y_train)"
   ]
  },
  {
   "cell_type": "code",
   "execution_count": 16,
   "id": "determined-flesh",
   "metadata": {},
   "outputs": [
    {
     "data": {
      "text/plain": [
       "{'alpha': 0.4, 'solver': 'saga'}"
      ]
     },
     "execution_count": 16,
     "metadata": {},
     "output_type": "execute_result"
    }
   ],
   "source": [
    "grid_search_ridge.best_params_"
   ]
  },
  {
   "cell_type": "code",
   "execution_count": 17,
   "id": "violent-frame",
   "metadata": {
    "collapsed": true,
    "jupyter": {
     "outputs_hidden": true
    }
   },
   "outputs": [
    {
     "data": {
      "text/plain": [
       "{'mean_fit_time': array([0.00250793, 0.01520042, 0.00219908, 0.0145092 , 0.00229959,\n",
       "        0.01279955, 0.00229969, 0.01410007, 0.00230002, 0.01289983,\n",
       "        0.00210061, 0.01059976]),\n",
       " 'std_fit_time': array([0.00056187, 0.00224909, 0.00067767, 0.00167655, 0.00040021,\n",
       "        0.00180585, 0.00024462, 0.00241669, 0.00040072, 0.0011575 ,\n",
       "        0.0002002 , 0.00124105]),\n",
       " 'mean_score_time': array([0.00039229, 0.00069966, 0.00020003, 0.00059061, 0.00030031,\n",
       "        0.00070076, 0.00040064, 0.00109992, 0.0004005 , 0.00050039,\n",
       "        0.00049958, 0.0004003 ]),\n",
       " 'std_score_time': array([1.96757053e-04, 2.45262369e-04, 2.44989725e-04, 1.82727545e-04,\n",
       "        2.45203957e-04, 2.44854158e-04, 2.00320794e-04, 2.00821745e-04,\n",
       "        2.00248354e-04, 2.78041453e-07, 5.47334632e-04, 2.00152816e-04]),\n",
       " 'param_alpha': masked_array(data=[0.01, 0.01, 0.2, 0.2, 0.4, 0.4, 0.6, 0.6, 0.8, 0.8, 1,\n",
       "                    1],\n",
       "              mask=[False, False, False, False, False, False, False, False,\n",
       "                    False, False, False, False],\n",
       "        fill_value='?',\n",
       "             dtype=object),\n",
       " 'param_solver': masked_array(data=['cholesky', 'saga', 'cholesky', 'saga', 'cholesky',\n",
       "                    'saga', 'cholesky', 'saga', 'cholesky', 'saga',\n",
       "                    'cholesky', 'saga'],\n",
       "              mask=[False, False, False, False, False, False, False, False,\n",
       "                    False, False, False, False],\n",
       "        fill_value='?',\n",
       "             dtype=object),\n",
       " 'params': [{'alpha': 0.01, 'solver': 'cholesky'},\n",
       "  {'alpha': 0.01, 'solver': 'saga'},\n",
       "  {'alpha': 0.2, 'solver': 'cholesky'},\n",
       "  {'alpha': 0.2, 'solver': 'saga'},\n",
       "  {'alpha': 0.4, 'solver': 'cholesky'},\n",
       "  {'alpha': 0.4, 'solver': 'saga'},\n",
       "  {'alpha': 0.6, 'solver': 'cholesky'},\n",
       "  {'alpha': 0.6, 'solver': 'saga'},\n",
       "  {'alpha': 0.8, 'solver': 'cholesky'},\n",
       "  {'alpha': 0.8, 'solver': 'saga'},\n",
       "  {'alpha': 1, 'solver': 'cholesky'},\n",
       "  {'alpha': 1, 'solver': 'saga'}],\n",
       " 'split0_test_score': array([0.84259326, 0.84259465, 0.84259853, 0.84259151, 0.84260358,\n",
       "        0.84260476, 0.84260813, 0.84260302, 0.84261221, 0.84261335,\n",
       "        0.8426158 , 0.84259824]),\n",
       " 'split1_test_score': array([0.84573335, 0.84573272, 0.845727  , 0.84572765, 0.84571996,\n",
       "        0.84571831, 0.84571255, 0.84571284, 0.84570478, 0.84571035,\n",
       "        0.84569666, 0.84569288]),\n",
       " 'split2_test_score': array([0.83223441, 0.83223692, 0.83223703, 0.83223803, 0.8322394 ,\n",
       "        0.83223375, 0.83224137, 0.83223785, 0.83224296, 0.8322461 ,\n",
       "        0.83224417, 0.83223931]),\n",
       " 'split3_test_score': array([0.84949559, 0.84949491, 0.8494993 , 0.84949886, 0.8495028 ,\n",
       "        0.84949944, 0.84950589, 0.8495051 , 0.84950859, 0.84949654,\n",
       "        0.84951089, 0.84950667]),\n",
       " 'split4_test_score': array([0.8502147 , 0.8502119 , 0.85021121, 0.85021057, 0.85020713,\n",
       "        0.85022544, 0.85020264, 0.85020141, 0.85019774, 0.85020728,\n",
       "        0.85019245, 0.85018504]),\n",
       " 'mean_test_score': array([0.84405426, 0.84405422, 0.84405461, 0.84405332, 0.84405457,\n",
       "        0.84405634, 0.84405412, 0.84405204, 0.84405326, 0.84405472,\n",
       "        0.84405199, 0.84404443]),\n",
       " 'std_test_score': array([0.00651493, 0.00651329, 0.00651338, 0.00651317, 0.00651175,\n",
       "        0.00651656, 0.00651012, 0.00651128, 0.0065085 , 0.00650737,\n",
       "        0.00650688, 0.00650712]),\n",
       " 'rank_test_score': array([ 5,  6,  3,  8,  4,  1,  7, 10,  9,  2, 11, 12])}"
      ]
     },
     "execution_count": 17,
     "metadata": {},
     "output_type": "execute_result"
    }
   ],
   "source": [
    "grid_search_ridge.cv_results_"
   ]
  },
  {
   "cell_type": "code",
   "execution_count": 18,
   "id": "thrown-charter",
   "metadata": {},
   "outputs": [
    {
     "data": {
      "text/html": [
       "<div>\n",
       "<style scoped>\n",
       "    .dataframe tbody tr th:only-of-type {\n",
       "        vertical-align: middle;\n",
       "    }\n",
       "\n",
       "    .dataframe tbody tr th {\n",
       "        vertical-align: top;\n",
       "    }\n",
       "\n",
       "    .dataframe thead th {\n",
       "        text-align: right;\n",
       "    }\n",
       "</style>\n",
       "<table border=\"1\" class=\"dataframe\">\n",
       "  <thead>\n",
       "    <tr style=\"text-align: right;\">\n",
       "      <th></th>\n",
       "      <th>mean_fit_time</th>\n",
       "      <th>std_fit_time</th>\n",
       "      <th>mean_score_time</th>\n",
       "      <th>std_score_time</th>\n",
       "      <th>param_alpha</th>\n",
       "      <th>param_solver</th>\n",
       "      <th>params</th>\n",
       "      <th>split0_test_score</th>\n",
       "      <th>split1_test_score</th>\n",
       "      <th>split2_test_score</th>\n",
       "      <th>split3_test_score</th>\n",
       "      <th>split4_test_score</th>\n",
       "      <th>mean_test_score</th>\n",
       "      <th>std_test_score</th>\n",
       "      <th>rank_test_score</th>\n",
       "    </tr>\n",
       "  </thead>\n",
       "  <tbody>\n",
       "    <tr>\n",
       "      <th>0</th>\n",
       "      <td>0.002508</td>\n",
       "      <td>0.000562</td>\n",
       "      <td>0.000392</td>\n",
       "      <td>0.000197</td>\n",
       "      <td>0.01</td>\n",
       "      <td>cholesky</td>\n",
       "      <td>{'alpha': 0.01, 'solver': 'cholesky'}</td>\n",
       "      <td>0.842593</td>\n",
       "      <td>0.845733</td>\n",
       "      <td>0.832234</td>\n",
       "      <td>0.849496</td>\n",
       "      <td>0.850215</td>\n",
       "      <td>0.844054</td>\n",
       "      <td>0.006515</td>\n",
       "      <td>5</td>\n",
       "    </tr>\n",
       "    <tr>\n",
       "      <th>1</th>\n",
       "      <td>0.015200</td>\n",
       "      <td>0.002249</td>\n",
       "      <td>0.000700</td>\n",
       "      <td>0.000245</td>\n",
       "      <td>0.01</td>\n",
       "      <td>saga</td>\n",
       "      <td>{'alpha': 0.01, 'solver': 'saga'}</td>\n",
       "      <td>0.842595</td>\n",
       "      <td>0.845733</td>\n",
       "      <td>0.832237</td>\n",
       "      <td>0.849495</td>\n",
       "      <td>0.850212</td>\n",
       "      <td>0.844054</td>\n",
       "      <td>0.006513</td>\n",
       "      <td>6</td>\n",
       "    </tr>\n",
       "    <tr>\n",
       "      <th>2</th>\n",
       "      <td>0.002199</td>\n",
       "      <td>0.000678</td>\n",
       "      <td>0.000200</td>\n",
       "      <td>0.000245</td>\n",
       "      <td>0.2</td>\n",
       "      <td>cholesky</td>\n",
       "      <td>{'alpha': 0.2, 'solver': 'cholesky'}</td>\n",
       "      <td>0.842599</td>\n",
       "      <td>0.845727</td>\n",
       "      <td>0.832237</td>\n",
       "      <td>0.849499</td>\n",
       "      <td>0.850211</td>\n",
       "      <td>0.844055</td>\n",
       "      <td>0.006513</td>\n",
       "      <td>3</td>\n",
       "    </tr>\n",
       "    <tr>\n",
       "      <th>3</th>\n",
       "      <td>0.014509</td>\n",
       "      <td>0.001677</td>\n",
       "      <td>0.000591</td>\n",
       "      <td>0.000183</td>\n",
       "      <td>0.2</td>\n",
       "      <td>saga</td>\n",
       "      <td>{'alpha': 0.2, 'solver': 'saga'}</td>\n",
       "      <td>0.842592</td>\n",
       "      <td>0.845728</td>\n",
       "      <td>0.832238</td>\n",
       "      <td>0.849499</td>\n",
       "      <td>0.850211</td>\n",
       "      <td>0.844053</td>\n",
       "      <td>0.006513</td>\n",
       "      <td>8</td>\n",
       "    </tr>\n",
       "    <tr>\n",
       "      <th>4</th>\n",
       "      <td>0.002300</td>\n",
       "      <td>0.000400</td>\n",
       "      <td>0.000300</td>\n",
       "      <td>0.000245</td>\n",
       "      <td>0.4</td>\n",
       "      <td>cholesky</td>\n",
       "      <td>{'alpha': 0.4, 'solver': 'cholesky'}</td>\n",
       "      <td>0.842604</td>\n",
       "      <td>0.845720</td>\n",
       "      <td>0.832239</td>\n",
       "      <td>0.849503</td>\n",
       "      <td>0.850207</td>\n",
       "      <td>0.844055</td>\n",
       "      <td>0.006512</td>\n",
       "      <td>4</td>\n",
       "    </tr>\n",
       "  </tbody>\n",
       "</table>\n",
       "</div>"
      ],
      "text/plain": [
       "   mean_fit_time  std_fit_time  mean_score_time  std_score_time param_alpha  \\\n",
       "0       0.002508      0.000562         0.000392        0.000197        0.01   \n",
       "1       0.015200      0.002249         0.000700        0.000245        0.01   \n",
       "2       0.002199      0.000678         0.000200        0.000245         0.2   \n",
       "3       0.014509      0.001677         0.000591        0.000183         0.2   \n",
       "4       0.002300      0.000400         0.000300        0.000245         0.4   \n",
       "\n",
       "  param_solver                                 params  split0_test_score  \\\n",
       "0     cholesky  {'alpha': 0.01, 'solver': 'cholesky'}           0.842593   \n",
       "1         saga      {'alpha': 0.01, 'solver': 'saga'}           0.842595   \n",
       "2     cholesky   {'alpha': 0.2, 'solver': 'cholesky'}           0.842599   \n",
       "3         saga       {'alpha': 0.2, 'solver': 'saga'}           0.842592   \n",
       "4     cholesky   {'alpha': 0.4, 'solver': 'cholesky'}           0.842604   \n",
       "\n",
       "   split1_test_score  split2_test_score  split3_test_score  split4_test_score  \\\n",
       "0           0.845733           0.832234           0.849496           0.850215   \n",
       "1           0.845733           0.832237           0.849495           0.850212   \n",
       "2           0.845727           0.832237           0.849499           0.850211   \n",
       "3           0.845728           0.832238           0.849499           0.850211   \n",
       "4           0.845720           0.832239           0.849503           0.850207   \n",
       "\n",
       "   mean_test_score  std_test_score  rank_test_score  \n",
       "0         0.844054        0.006515                5  \n",
       "1         0.844054        0.006513                6  \n",
       "2         0.844055        0.006513                3  \n",
       "3         0.844053        0.006513                8  \n",
       "4         0.844055        0.006512                4  "
      ]
     },
     "execution_count": 18,
     "metadata": {},
     "output_type": "execute_result"
    }
   ],
   "source": [
    "df_grid_search_ridge = pd.DataFrame(grid_search_ridge.cv_results_)\n",
    "df_grid_search_ridge.head(5)"
   ]
  },
  {
   "cell_type": "code",
   "execution_count": 19,
   "id": "computational-playback",
   "metadata": {},
   "outputs": [],
   "source": [
    "df_grid_search_ridge.sort_values([\"param_solver\", \"param_alpha\", \"mean_test_score\"], inplace=True)"
   ]
  },
  {
   "cell_type": "code",
   "execution_count": 20,
   "id": "strategic-appraisal",
   "metadata": {},
   "outputs": [
    {
     "data": {
      "text/plain": [
       "<AxesSubplot:xlabel='param_alpha', ylabel='mean_test_score'>"
      ]
     },
     "execution_count": 20,
     "metadata": {},
     "output_type": "execute_result"
    },
    {
     "data": {
      "image/png": "[encoded data removed]",
      "text/plain": [
       "<Figure size 432x288 with 1 Axes>"
      ]
     },
     "metadata": {
      "needs_background": "light"
     },
     "output_type": "display_data"
    }
   ],
   "source": [
    "sns.lineplot(x=\"param_alpha\", y=\"mean_test_score\", hue=\"param_solver\", data=df_grid_search_ridge)"
   ]
  },
  {
   "cell_type": "code",
   "execution_count": 21,
   "id": "reliable-appeal",
   "metadata": {},
   "outputs": [
    {
     "data": {
      "text/plain": [
       "0.8329175523456336"
      ]
     },
     "execution_count": 21,
     "metadata": {},
     "output_type": "execute_result"
    }
   ],
   "source": [
    "grid_search_ridge.score(X_test_scaled, y_test)"
   ]
  },
  {
   "cell_type": "code",
   "execution_count": 22,
   "id": "satellite-replication",
   "metadata": {},
   "outputs": [
    {
     "name": "stdout",
     "output_type": "stream",
     "text": [
      "RMSE: 0.38648408395254913\n"
     ]
    },
    {
     "data": {
      "image/png": "[encoded data removed]",
      "text/plain": [
       "<Figure size 432x288 with 1 Axes>"
      ]
     },
     "metadata": {
      "needs_background": "light"
     },
     "output_type": "display_data"
    }
   ],
   "source": [
    "plot_test(grid_search_ridge, X_test_scaled, y_test)"
   ]
  },
  {
   "cell_type": "markdown",
   "id": "talented-college",
   "metadata": {},
   "source": [
    "## Lasso"
   ]
  },
  {
   "cell_type": "code",
   "execution_count": 23,
   "id": "quiet-amazon",
   "metadata": {},
   "outputs": [],
   "source": [
    "from sklearn.linear_model import Lasso"
   ]
  },
  {
   "cell_type": "markdown",
   "id": "catholic-syndrome",
   "metadata": {},
   "source": [
    "https://scikit-learn.org/stable/modules/generated/sklearn.linear_model.Lasso.html"
   ]
  },
  {
   "cell_type": "code",
   "execution_count": 24,
   "id": "iraqi-pavilion",
   "metadata": {},
   "outputs": [],
   "source": [
    "param_grid_lasso = {\n",
    "    \"alpha\": [0.01, 0.2, 0.4, 0.6, 0.8, 1]\n",
    "}"
   ]
  },
  {
   "cell_type": "code",
   "execution_count": 25,
   "id": "consistent-source",
   "metadata": {},
   "outputs": [],
   "source": [
    "grid_search_lasso = GridSearchCV(Lasso(), param_grid=param_grid_lasso, cv=5, n_jobs=-1)"
   ]
  },
  {
   "cell_type": "code",
   "execution_count": 26,
   "id": "negative-slovakia",
   "metadata": {},
   "outputs": [
    {
     "data": {
      "text/plain": [
       "GridSearchCV(cv=5, estimator=Lasso(), n_jobs=-1,\n",
       "             param_grid={'alpha': [0.01, 0.2, 0.4, 0.6, 0.8, 1]})"
      ]
     },
     "execution_count": 26,
     "metadata": {},
     "output_type": "execute_result"
    }
   ],
   "source": [
    "grid_search_lasso.fit(X_train_scaled, y_train)"
   ]
  },
  {
   "cell_type": "code",
   "execution_count": 27,
   "id": "metropolitan-shipping",
   "metadata": {},
   "outputs": [
    {
     "data": {
      "text/plain": [
       "{'alpha': 0.01}"
      ]
     },
     "execution_count": 27,
     "metadata": {},
     "output_type": "execute_result"
    }
   ],
   "source": [
    "grid_search_lasso.best_params_"
   ]
  },
  {
   "cell_type": "code",
   "execution_count": 28,
   "id": "broke-conservative",
   "metadata": {
    "collapsed": true,
    "jupyter": {
     "outputs_hidden": true
    }
   },
   "outputs": [
    {
     "data": {
      "text/plain": [
       "{'mean_fit_time': array([0.00169187, 0.0021018 , 0.0020998 , 0.00209956, 0.001998  ,\n",
       "        0.00189958]),\n",
       " 'std_fit_time': array([0.00023454, 0.00019961, 0.00020025, 0.00020061, 0.00031637,\n",
       "        0.00019937]),\n",
       " 'mean_score_time': array([0.00030785, 0.00029879, 0.00029988, 0.00030022, 0.00050411,\n",
       "        0.00049982]),\n",
       " 'std_score_time': array([2.51876310e-04, 2.43962603e-04, 2.44854019e-04, 2.45126368e-04,\n",
       "        3.63648910e-06, 9.12243198e-07]),\n",
       " 'param_alpha': masked_array(data=[0.01, 0.2, 0.4, 0.6, 0.8, 1],\n",
       "              mask=[False, False, False, False, False, False],\n",
       "        fill_value='?',\n",
       "             dtype=object),\n",
       " 'params': [{'alpha': 0.01},\n",
       "  {'alpha': 0.2},\n",
       "  {'alpha': 0.4},\n",
       "  {'alpha': 0.6},\n",
       "  {'alpha': 0.8},\n",
       "  {'alpha': 1}],\n",
       " 'split0_test_score': array([ 8.31758611e-01,  1.99375939e-01, -1.58310342e-05, -1.58310342e-05,\n",
       "        -1.58310342e-05, -1.58310342e-05]),\n",
       " 'split1_test_score': array([ 0.83686056,  0.20393506, -0.00144456, -0.00144456, -0.00144456,\n",
       "        -0.00144456]),\n",
       " 'split2_test_score': array([ 0.82503798,  0.2135546 , -0.00173945, -0.00173945, -0.00173945,\n",
       "        -0.00173945]),\n",
       " 'split3_test_score': array([ 8.43773498e-01,  2.07348361e-01, -4.23970452e-06, -4.23970452e-06,\n",
       "        -4.23970452e-06, -4.23970452e-06]),\n",
       " 'split4_test_score': array([ 8.45184022e-01,  2.03507762e-01, -1.02007693e-06, -1.02007693e-06,\n",
       "        -1.02007693e-06, -1.02007693e-06]),\n",
       " 'mean_test_score': array([ 8.36522935e-01,  2.05544345e-01, -6.41020172e-04, -6.41020172e-04,\n",
       "        -6.41020172e-04, -6.41020172e-04]),\n",
       " 'std_test_score': array([0.00751401, 0.0047372 , 0.00078207, 0.00078207, 0.00078207,\n",
       "        0.00078207]),\n",
       " 'rank_test_score': array([1, 2, 3, 3, 3, 3])}"
      ]
     },
     "execution_count": 28,
     "metadata": {},
     "output_type": "execute_result"
    }
   ],
   "source": [
    "grid_search_lasso.cv_results_"
   ]
  },
  {
   "cell_type": "code",
   "execution_count": 29,
   "id": "leading-pottery",
   "metadata": {},
   "outputs": [
    {
     "data": {
      "text/html": [
       "<div>\n",
       "<style scoped>\n",
       "    .dataframe tbody tr th:only-of-type {\n",
       "        vertical-align: middle;\n",
       "    }\n",
       "\n",
       "    .dataframe tbody tr th {\n",
       "        vertical-align: top;\n",
       "    }\n",
       "\n",
       "    .dataframe thead th {\n",
       "        text-align: right;\n",
       "    }\n",
       "</style>\n",
       "<table border=\"1\" class=\"dataframe\">\n",
       "  <thead>\n",
       "    <tr style=\"text-align: right;\">\n",
       "      <th></th>\n",
       "      <th>mean_fit_time</th>\n",
       "      <th>std_fit_time</th>\n",
       "      <th>mean_score_time</th>\n",
       "      <th>std_score_time</th>\n",
       "      <th>param_alpha</th>\n",
       "      <th>params</th>\n",
       "      <th>split0_test_score</th>\n",
       "      <th>split1_test_score</th>\n",
       "      <th>split2_test_score</th>\n",
       "      <th>split3_test_score</th>\n",
       "      <th>split4_test_score</th>\n",
       "      <th>mean_test_score</th>\n",
       "      <th>std_test_score</th>\n",
       "      <th>rank_test_score</th>\n",
       "    </tr>\n",
       "  </thead>\n",
       "  <tbody>\n",
       "    <tr>\n",
       "      <th>0</th>\n",
       "      <td>0.001692</td>\n",
       "      <td>0.000235</td>\n",
       "      <td>0.000308</td>\n",
       "      <td>0.000252</td>\n",
       "      <td>0.01</td>\n",
       "      <td>{'alpha': 0.01}</td>\n",
       "      <td>0.831759</td>\n",
       "      <td>0.836861</td>\n",
       "      <td>0.825038</td>\n",
       "      <td>0.843773</td>\n",
       "      <td>0.845184</td>\n",
       "      <td>0.836523</td>\n",
       "      <td>0.007514</td>\n",
       "      <td>1</td>\n",
       "    </tr>\n",
       "    <tr>\n",
       "      <th>1</th>\n",
       "      <td>0.002102</td>\n",
       "      <td>0.000200</td>\n",
       "      <td>0.000299</td>\n",
       "      <td>0.000244</td>\n",
       "      <td>0.2</td>\n",
       "      <td>{'alpha': 0.2}</td>\n",
       "      <td>0.199376</td>\n",
       "      <td>0.203935</td>\n",
       "      <td>0.213555</td>\n",
       "      <td>0.207348</td>\n",
       "      <td>0.203508</td>\n",
       "      <td>0.205544</td>\n",
       "      <td>0.004737</td>\n",
       "      <td>2</td>\n",
       "    </tr>\n",
       "    <tr>\n",
       "      <th>2</th>\n",
       "      <td>0.002100</td>\n",
       "      <td>0.000200</td>\n",
       "      <td>0.000300</td>\n",
       "      <td>0.000245</td>\n",
       "      <td>0.4</td>\n",
       "      <td>{'alpha': 0.4}</td>\n",
       "      <td>-0.000016</td>\n",
       "      <td>-0.001445</td>\n",
       "      <td>-0.001739</td>\n",
       "      <td>-0.000004</td>\n",
       "      <td>-0.000001</td>\n",
       "      <td>-0.000641</td>\n",
       "      <td>0.000782</td>\n",
       "      <td>3</td>\n",
       "    </tr>\n",
       "    <tr>\n",
       "      <th>3</th>\n",
       "      <td>0.002100</td>\n",
       "      <td>0.000201</td>\n",
       "      <td>0.000300</td>\n",
       "      <td>0.000245</td>\n",
       "      <td>0.6</td>\n",
       "      <td>{'alpha': 0.6}</td>\n",
       "      <td>-0.000016</td>\n",
       "      <td>-0.001445</td>\n",
       "      <td>-0.001739</td>\n",
       "      <td>-0.000004</td>\n",
       "      <td>-0.000001</td>\n",
       "      <td>-0.000641</td>\n",
       "      <td>0.000782</td>\n",
       "      <td>3</td>\n",
       "    </tr>\n",
       "    <tr>\n",
       "      <th>4</th>\n",
       "      <td>0.001998</td>\n",
       "      <td>0.000316</td>\n",
       "      <td>0.000504</td>\n",
       "      <td>0.000004</td>\n",
       "      <td>0.8</td>\n",
       "      <td>{'alpha': 0.8}</td>\n",
       "      <td>-0.000016</td>\n",
       "      <td>-0.001445</td>\n",
       "      <td>-0.001739</td>\n",
       "      <td>-0.000004</td>\n",
       "      <td>-0.000001</td>\n",
       "      <td>-0.000641</td>\n",
       "      <td>0.000782</td>\n",
       "      <td>3</td>\n",
       "    </tr>\n",
       "  </tbody>\n",
       "</table>\n",
       "</div>"
      ],
      "text/plain": [
       "   mean_fit_time  std_fit_time  mean_score_time  std_score_time param_alpha  \\\n",
       "0       0.001692      0.000235         0.000308        0.000252        0.01   \n",
       "1       0.002102      0.000200         0.000299        0.000244         0.2   \n",
       "2       0.002100      0.000200         0.000300        0.000245         0.4   \n",
       "3       0.002100      0.000201         0.000300        0.000245         0.6   \n",
       "4       0.001998      0.000316         0.000504        0.000004         0.8   \n",
       "\n",
       "            params  split0_test_score  split1_test_score  split2_test_score  \\\n",
       "0  {'alpha': 0.01}           0.831759           0.836861           0.825038   \n",
       "1   {'alpha': 0.2}           0.199376           0.203935           0.213555   \n",
       "2   {'alpha': 0.4}          -0.000016          -0.001445          -0.001739   \n",
       "3   {'alpha': 0.6}          -0.000016          -0.001445          -0.001739   \n",
       "4   {'alpha': 0.8}          -0.000016          -0.001445          -0.001739   \n",
       "\n",
       "   split3_test_score  split4_test_score  mean_test_score  std_test_score  \\\n",
       "0           0.843773           0.845184         0.836523        0.007514   \n",
       "1           0.207348           0.203508         0.205544        0.004737   \n",
       "2          -0.000004          -0.000001        -0.000641        0.000782   \n",
       "3          -0.000004          -0.000001        -0.000641        0.000782   \n",
       "4          -0.000004          -0.000001        -0.000641        0.000782   \n",
       "\n",
       "   rank_test_score  \n",
       "0                1  \n",
       "1                2  \n",
       "2                3  \n",
       "3                3  \n",
       "4                3  "
      ]
     },
     "execution_count": 29,
     "metadata": {},
     "output_type": "execute_result"
    }
   ],
   "source": [
    "df_grid_search_lasso = pd.DataFrame(grid_search_lasso.cv_results_)\n",
    "df_grid_search_lasso.head(5)"
   ]
  },
  {
   "cell_type": "code",
   "execution_count": 30,
   "id": "human-harvard",
   "metadata": {},
   "outputs": [],
   "source": [
    "df_grid_search_lasso.sort_values([\"param_alpha\", \"mean_test_score\"], inplace=True)"
   ]
  },
  {
   "cell_type": "code",
   "execution_count": 31,
   "id": "positive-therapy",
   "metadata": {},
   "outputs": [
    {
     "data": {
      "text/plain": [
       "<AxesSubplot:xlabel='param_alpha', ylabel='mean_test_score'>"
      ]
     },
     "execution_count": 31,
     "metadata": {},
     "output_type": "execute_result"
    },
    {
     "data": {
      "image/png": "[encoded data removed]",
      "text/plain": [
       "<Figure size 432x288 with 1 Axes>"
      ]
     },
     "metadata": {
      "needs_background": "light"
     },
     "output_type": "display_data"
    }
   ],
   "source": [
    "sns.lineplot(x=\"param_alpha\", y=\"mean_test_score\", data=df_grid_search_lasso)"
   ]
  },
  {
   "cell_type": "code",
   "execution_count": 32,
   "id": "included-section",
   "metadata": {},
   "outputs": [
    {
     "data": {
      "text/plain": [
       "0.8262217629318773"
      ]
     },
     "execution_count": 32,
     "metadata": {},
     "output_type": "execute_result"
    }
   ],
   "source": [
    "grid_search_lasso.score(X_test_scaled, y_test)"
   ]
  },
  {
   "cell_type": "code",
   "execution_count": 33,
   "id": "ethical-causing",
   "metadata": {},
   "outputs": [
    {
     "name": "stdout",
     "output_type": "stream",
     "text": [
      "RMSE: 0.3941521436079015\n"
     ]
    },
    {
     "data": {
      "image/png": "[encoded data removed]",
      "text/plain": [
       "<Figure size 432x288 with 1 Axes>"
      ]
     },
     "metadata": {
      "needs_background": "light"
     },
     "output_type": "display_data"
    }
   ],
   "source": [
    "plot_test(grid_search_lasso, X_test_scaled, y_test)"
   ]
  },
  {
   "cell_type": "markdown",
   "id": "delayed-fitness",
   "metadata": {},
   "source": [
    "## Decision Tree Regressor "
   ]
  },
  {
   "cell_type": "code",
   "execution_count": 34,
   "id": "interesting-directive",
   "metadata": {},
   "outputs": [],
   "source": [
    "from sklearn.tree import DecisionTreeRegressor"
   ]
  },
  {
   "cell_type": "markdown",
   "id": "further-shooting",
   "metadata": {},
   "source": [
    "https://scikit-learn.org/stable/modules/generated/sklearn.tree.DecisionTreeRegressor.html"
   ]
  },
  {
   "cell_type": "code",
   "execution_count": 35,
   "id": "respiratory-rings",
   "metadata": {},
   "outputs": [],
   "source": [
    "param_grid_dt_reg = {\n",
    "    \"max_depth\": [5, 7, 10, 15, 30],\n",
    "    \"min_samples_split\": [2, 5, 10],\n",
    "    \"min_samples_leaf\": [1, 10, 20],\n",
    "}"
   ]
  },
  {
   "cell_type": "code",
   "execution_count": 36,
   "id": "sticky-mountain",
   "metadata": {},
   "outputs": [],
   "source": [
    "grid_search_dt_reg = GridSearchCV(DecisionTreeRegressor(), param_grid_dt_reg, cv=5, n_jobs=-1)"
   ]
  },
  {
   "cell_type": "code",
   "execution_count": 37,
   "id": "higher-theater",
   "metadata": {},
   "outputs": [
    {
     "data": {
      "text/plain": [
       "GridSearchCV(cv=5, estimator=DecisionTreeRegressor(), n_jobs=-1,\n",
       "             param_grid={'max_depth': [5, 7, 10, 15, 30],\n",
       "                         'min_samples_leaf': [1, 10, 20],\n",
       "                         'min_samples_split': [2, 5, 10]})"
      ]
     },
     "execution_count": 37,
     "metadata": {},
     "output_type": "execute_result"
    }
   ],
   "source": [
    "grid_search_dt_reg.fit(X_train, y_train)"
   ]
  },
  {
   "cell_type": "code",
   "execution_count": 38,
   "id": "appreciated-integral",
   "metadata": {},
   "outputs": [
    {
     "data": {
      "text/plain": [
       "{'max_depth': 30, 'min_samples_leaf': 10, 'min_samples_split': 10}"
      ]
     },
     "execution_count": 38,
     "metadata": {},
     "output_type": "execute_result"
    }
   ],
   "source": [
    "grid_search_dt_reg.best_params_"
   ]
  },
  {
   "cell_type": "code",
   "execution_count": 39,
   "id": "expressed-scanning",
   "metadata": {
    "collapsed": true,
    "jupyter": {
     "outputs_hidden": true
    }
   },
   "outputs": [
    {
     "data": {
      "text/plain": [
       "{'mean_fit_time': array([0.02379861, 0.02319918, 0.0240994 , 0.02599969, 0.02319951,\n",
       "        0.02429924, 0.03200016, 0.02239943, 0.02579966, 0.03439889,\n",
       "        0.03479881, 0.03339958, 0.03180008, 0.03119988, 0.03059921,\n",
       "        0.03139935, 0.03089943, 0.03019953, 0.04309978, 0.0434001 ,\n",
       "        0.04290023, 0.0407999 , 0.03909965, 0.03829942, 0.03719983,\n",
       "        0.03690014, 0.03799963, 0.05579991, 0.05281496, 0.05069981,\n",
       "        0.04760103, 0.04630008, 0.04850039, 0.03899879, 0.03679962,\n",
       "        0.03799939, 0.06429954, 0.05849934, 0.0671999 , 0.05469904,\n",
       "        0.04330001, 0.04350038, 0.03809924, 0.03589897, 0.03489819]),\n",
       " 'std_fit_time': array([0.00107699, 0.00051   , 0.00159397, 0.0037812 , 0.00074834,\n",
       "        0.00203985, 0.01043045, 0.00037442, 0.00271337, 0.00831493,\n",
       "        0.006486  , 0.00396737, 0.00067832, 0.00261848, 0.00086062,\n",
       "        0.00198504, 0.00179942, 0.00196448, 0.00135709, 0.00174366,\n",
       "        0.00231052, 0.00402019, 0.00208349, 0.000927  , 0.00097999,\n",
       "        0.00270963, 0.00392385, 0.0036823 , 0.00293031, 0.00332598,\n",
       "        0.00612618, 0.00331094, 0.00661749, 0.00253035, 0.00024554,\n",
       "        0.00232394, 0.00246139, 0.00158137, 0.00555431, 0.00977053,\n",
       "        0.00092697, 0.00189763, 0.00131957, 0.00048936, 0.00037293]),\n",
       " 'mean_score_time': array([0.00080094, 0.00069976, 0.00070028, 0.00064278, 0.00060034,\n",
       "        0.00060015, 0.00050006, 0.00060005, 0.00060039, 0.00060091,\n",
       "        0.00050025, 0.00060034, 0.00060005, 0.00070004, 0.00050001,\n",
       "        0.00050087, 0.00049987, 0.00060034, 0.00100055, 0.00070024,\n",
       "        0.00069957, 0.00049987, 0.00060039, 0.00070009, 0.00050001,\n",
       "        0.00069985, 0.00059962, 0.00069976, 0.00069995, 0.00059986,\n",
       "        0.00079894, 0.0007997 , 0.00059991, 0.00050049, 0.0006    ,\n",
       "        0.00070052, 0.0012001 , 0.00080009, 0.00069981, 0.00051107,\n",
       "        0.00060034, 0.00060048, 0.00050082, 0.00060053, 0.00050063]),\n",
       " 'std_score_time': array([4.00235268e-04, 2.44892952e-04, 2.45145800e-04, 1.96889117e-04,\n",
       "        2.00033330e-04, 1.99771119e-04, 3.87384339e-07, 2.00534285e-04,\n",
       "        2.00128641e-04, 2.00344061e-04, 6.97552626e-07, 2.00392142e-04,\n",
       "        1.99461924e-04, 2.44951364e-04, 8.84401178e-07, 5.91739352e-07,\n",
       "        7.16843432e-07, 2.00748557e-04, 7.75033383e-04, 2.44795166e-04,\n",
       "        2.44950900e-04, 6.84390073e-07, 2.00724850e-04, 3.99661160e-04,\n",
       "        5.51978917e-07, 2.44717113e-04, 1.99318560e-04, 2.45476492e-04,\n",
       "        2.45029324e-04, 2.00033330e-04, 2.46159719e-04, 2.44834099e-04,\n",
       "        1.99891672e-04, 5.91739352e-07, 1.99843221e-04, 2.45243586e-04,\n",
       "        3.99756926e-04, 2.45243539e-04, 2.45048903e-04, 2.11554543e-05,\n",
       "        1.99795395e-04, 1.99727762e-04, 1.08316581e-06, 2.00892768e-04,\n",
       "        1.29186794e-06]),\n",
       " 'param_max_depth': masked_array(data=[5, 5, 5, 5, 5, 5, 5, 5, 5, 7, 7, 7, 7, 7, 7, 7, 7, 7,\n",
       "                    10, 10, 10, 10, 10, 10, 10, 10, 10, 15, 15, 15, 15, 15,\n",
       "                    15, 15, 15, 15, 30, 30, 30, 30, 30, 30, 30, 30, 30],\n",
       "              mask=[False, False, False, False, False, False, False, False,\n",
       "                    False, False, False, False, False, False, False, False,\n",
       "                    False, False, False, False, False, False, False, False,\n",
       "                    False, False, False, False, False, False, False, False,\n",
       "                    False, False, False, False, False, False, False, False,\n",
       "                    False, False, False, False, False],\n",
       "        fill_value='?',\n",
       "             dtype=object),\n",
       " 'param_min_samples_leaf': masked_array(data=[1, 1, 1, 10, 10, 10, 20, 20, 20, 1, 1, 1, 10, 10, 10,\n",
       "                    20, 20, 20, 1, 1, 1, 10, 10, 10, 20, 20, 20, 1, 1, 1,\n",
       "                    10, 10, 10, 20, 20, 20, 1, 1, 1, 10, 10, 10, 20, 20,\n",
       "                    20],\n",
       "              mask=[False, False, False, False, False, False, False, False,\n",
       "                    False, False, False, False, False, False, False, False,\n",
       "                    False, False, False, False, False, False, False, False,\n",
       "                    False, False, False, False, False, False, False, False,\n",
       "                    False, False, False, False, False, False, False, False,\n",
       "                    False, False, False, False, False],\n",
       "        fill_value='?',\n",
       "             dtype=object),\n",
       " 'param_min_samples_split': masked_array(data=[2, 5, 10, 2, 5, 10, 2, 5, 10, 2, 5, 10, 2, 5, 10, 2, 5,\n",
       "                    10, 2, 5, 10, 2, 5, 10, 2, 5, 10, 2, 5, 10, 2, 5, 10,\n",
       "                    2, 5, 10, 2, 5, 10, 2, 5, 10, 2, 5, 10],\n",
       "              mask=[False, False, False, False, False, False, False, False,\n",
       "                    False, False, False, False, False, False, False, False,\n",
       "                    False, False, False, False, False, False, False, False,\n",
       "                    False, False, False, False, False, False, False, False,\n",
       "                    False, False, False, False, False, False, False, False,\n",
       "                    False, False, False, False, False],\n",
       "        fill_value='?',\n",
       "             dtype=object),\n",
       " 'params': [{'max_depth': 5, 'min_samples_leaf': 1, 'min_samples_split': 2},\n",
       "  {'max_depth': 5, 'min_samples_leaf': 1, 'min_samples_split': 5},\n",
       "  {'max_depth': 5, 'min_samples_leaf': 1, 'min_samples_split': 10},\n",
       "  {'max_depth': 5, 'min_samples_leaf': 10, 'min_samples_split': 2},\n",
       "  {'max_depth': 5, 'min_samples_leaf': 10, 'min_samples_split': 5},\n",
       "  {'max_depth': 5, 'min_samples_leaf': 10, 'min_samples_split': 10},\n",
       "  {'max_depth': 5, 'min_samples_leaf': 20, 'min_samples_split': 2},\n",
       "  {'max_depth': 5, 'min_samples_leaf': 20, 'min_samples_split': 5},\n",
       "  {'max_depth': 5, 'min_samples_leaf': 20, 'min_samples_split': 10},\n",
       "  {'max_depth': 7, 'min_samples_leaf': 1, 'min_samples_split': 2},\n",
       "  {'max_depth': 7, 'min_samples_leaf': 1, 'min_samples_split': 5},\n",
       "  {'max_depth': 7, 'min_samples_leaf': 1, 'min_samples_split': 10},\n",
       "  {'max_depth': 7, 'min_samples_leaf': 10, 'min_samples_split': 2},\n",
       "  {'max_depth': 7, 'min_samples_leaf': 10, 'min_samples_split': 5},\n",
       "  {'max_depth': 7, 'min_samples_leaf': 10, 'min_samples_split': 10},\n",
       "  {'max_depth': 7, 'min_samples_leaf': 20, 'min_samples_split': 2},\n",
       "  {'max_depth': 7, 'min_samples_leaf': 20, 'min_samples_split': 5},\n",
       "  {'max_depth': 7, 'min_samples_leaf': 20, 'min_samples_split': 10},\n",
       "  {'max_depth': 10, 'min_samples_leaf': 1, 'min_samples_split': 2},\n",
       "  {'max_depth': 10, 'min_samples_leaf': 1, 'min_samples_split': 5},\n",
       "  {'max_depth': 10, 'min_samples_leaf': 1, 'min_samples_split': 10},\n",
       "  {'max_depth': 10, 'min_samples_leaf': 10, 'min_samples_split': 2},\n",
       "  {'max_depth': 10, 'min_samples_leaf': 10, 'min_samples_split': 5},\n",
       "  {'max_depth': 10, 'min_samples_leaf': 10, 'min_samples_split': 10},\n",
       "  {'max_depth': 10, 'min_samples_leaf': 20, 'min_samples_split': 2},\n",
       "  {'max_depth': 10, 'min_samples_leaf': 20, 'min_samples_split': 5},\n",
       "  {'max_depth': 10, 'min_samples_leaf': 20, 'min_samples_split': 10},\n",
       "  {'max_depth': 15, 'min_samples_leaf': 1, 'min_samples_split': 2},\n",
       "  {'max_depth': 15, 'min_samples_leaf': 1, 'min_samples_split': 5},\n",
       "  {'max_depth': 15, 'min_samples_leaf': 1, 'min_samples_split': 10},\n",
       "  {'max_depth': 15, 'min_samples_leaf': 10, 'min_samples_split': 2},\n",
       "  {'max_depth': 15, 'min_samples_leaf': 10, 'min_samples_split': 5},\n",
       "  {'max_depth': 15, 'min_samples_leaf': 10, 'min_samples_split': 10},\n",
       "  {'max_depth': 15, 'min_samples_leaf': 20, 'min_samples_split': 2},\n",
       "  {'max_depth': 15, 'min_samples_leaf': 20, 'min_samples_split': 5},\n",
       "  {'max_depth': 15, 'min_samples_leaf': 20, 'min_samples_split': 10},\n",
       "  {'max_depth': 30, 'min_samples_leaf': 1, 'min_samples_split': 2},\n",
       "  {'max_depth': 30, 'min_samples_leaf': 1, 'min_samples_split': 5},\n",
       "  {'max_depth': 30, 'min_samples_leaf': 1, 'min_samples_split': 10},\n",
       "  {'max_depth': 30, 'min_samples_leaf': 10, 'min_samples_split': 2},\n",
       "  {'max_depth': 30, 'min_samples_leaf': 10, 'min_samples_split': 5},\n",
       "  {'max_depth': 30, 'min_samples_leaf': 10, 'min_samples_split': 10},\n",
       "  {'max_depth': 30, 'min_samples_leaf': 20, 'min_samples_split': 2},\n",
       "  {'max_depth': 30, 'min_samples_leaf': 20, 'min_samples_split': 5},\n",
       "  {'max_depth': 30, 'min_samples_leaf': 20, 'min_samples_split': 10}],\n",
       " 'split0_test_score': array([0.86538371, 0.86538371, 0.86538371, 0.86461593, 0.86461593,\n",
       "        0.86461593, 0.8636333 , 0.8636333 , 0.8636333 , 0.88606097,\n",
       "        0.88724057, 0.88778519, 0.88566673, 0.88566673, 0.88566673,\n",
       "        0.88338776, 0.88338776, 0.88338776, 0.89559491, 0.89532761,\n",
       "        0.89502818, 0.89235074, 0.89235074, 0.89235074, 0.89129835,\n",
       "        0.89129835, 0.89129835, 0.87628814, 0.88560196, 0.89035815,\n",
       "        0.89455934, 0.89449004, 0.89449004, 0.89370858, 0.89370858,\n",
       "        0.89370858, 0.87484826, 0.88333468, 0.89377946, 0.89517764,\n",
       "        0.89524694, 0.89518819, 0.89380738, 0.89380738, 0.89380738]),\n",
       " 'split1_test_score': array([0.8593845 , 0.8593845 , 0.8593845 , 0.85909814, 0.85909814,\n",
       "        0.85909814, 0.85924801, 0.85924801, 0.85924801, 0.87308138,\n",
       "        0.87309029, 0.873708  , 0.87655443, 0.87655443, 0.87655443,\n",
       "        0.87355148, 0.87355148, 0.87355148, 0.88005636, 0.88003494,\n",
       "        0.87917795, 0.88796241, 0.88794027, 0.88803568, 0.8834731 ,\n",
       "        0.8834731 , 0.8834731 , 0.8759335 , 0.87926642, 0.87859368,\n",
       "        0.88940887, 0.88946426, 0.88944393, 0.88368788, 0.88368788,\n",
       "        0.88368788, 0.86938338, 0.87273362, 0.87680899, 0.88967296,\n",
       "        0.88992494, 0.88993958, 0.88373406, 0.88373406, 0.88373406]),\n",
       " 'split2_test_score': array([0.85029033, 0.85029033, 0.85029033, 0.84972859, 0.84972859,\n",
       "        0.84972859, 0.84847886, 0.84847886, 0.84847886, 0.87275484,\n",
       "        0.87251771, 0.87217823, 0.86832825, 0.86832825, 0.86832825,\n",
       "        0.86592834, 0.86592834, 0.86592834, 0.87774282, 0.87897087,\n",
       "        0.88053104, 0.88781307, 0.88785116, 0.88773057, 0.88176362,\n",
       "        0.88184036, 0.88176362, 0.87360839, 0.87081492, 0.87431229,\n",
       "        0.89193421, 0.89195389, 0.89203458, 0.88520236, 0.88520236,\n",
       "        0.88520236, 0.87162459, 0.87414218, 0.87423247, 0.89219229,\n",
       "        0.89199689, 0.89210801, 0.88522216, 0.8852989 , 0.88522216]),\n",
       " 'split3_test_score': array([0.86231241, 0.86231241, 0.86231241, 0.86693846, 0.86693846,\n",
       "        0.86693846, 0.86698711, 0.86698711, 0.86698711, 0.87640294,\n",
       "        0.87640294, 0.87636772, 0.88003484, 0.88003484, 0.88003484,\n",
       "        0.88211402, 0.88211402, 0.88211402, 0.87422383, 0.87707169,\n",
       "        0.87896738, 0.89268715, 0.89269527, 0.89277808, 0.89404456,\n",
       "        0.89404456, 0.89404456, 0.86729745, 0.87147159, 0.87770867,\n",
       "        0.89332404, 0.89340536, 0.89340097, 0.89620402, 0.89620402,\n",
       "        0.89620402, 0.86212667, 0.87020512, 0.87407329, 0.8933256 ,\n",
       "        0.8933256 , 0.89329652, 0.89620017, 0.89620017, 0.89620017]),\n",
       " 'split4_test_score': array([0.86990798, 0.86990798, 0.86990798, 0.86998648, 0.86998648,\n",
       "        0.86998648, 0.86852325, 0.86852325, 0.86852325, 0.88671473,\n",
       "        0.88674118, 0.88731759, 0.88941073, 0.88932731, 0.88941073,\n",
       "        0.88619278, 0.88659917, 0.88659917, 0.89486393, 0.89496823,\n",
       "        0.89646936, 0.9000614 , 0.90011241, 0.9000614 , 0.89343842,\n",
       "        0.89343842, 0.89348089, 0.88891101, 0.89030751, 0.89696281,\n",
       "        0.90420669, 0.90409046, 0.9040921 , 0.89743995, 0.89739748,\n",
       "        0.89739748, 0.885195  , 0.88893867, 0.89583231, 0.90520543,\n",
       "        0.90511526, 0.90522374, 0.89739748, 0.89743995, 0.89713544]),\n",
       " 'mean_test_score': array([0.86145579, 0.86145579, 0.86145579, 0.86207352, 0.86207352,\n",
       "        0.86207352, 0.86137411, 0.86137411, 0.86137411, 0.87900297,\n",
       "        0.87919854, 0.87947134, 0.879999  , 0.87998231, 0.879999  ,\n",
       "        0.87823487, 0.87831615, 0.87831615, 0.88449637, 0.88527467,\n",
       "        0.88603478, 0.89217495, 0.89218997, 0.89219129, 0.88880361,\n",
       "        0.88881896, 0.8888121 , 0.8764077 , 0.87949248, 0.88358712,\n",
       "        0.89468663, 0.8946808 , 0.89469232, 0.89124856, 0.89124007,\n",
       "        0.89124007, 0.87263558, 0.87787085, 0.8829453 , 0.89511479,\n",
       "        0.89512193, 0.89515121, 0.89127225, 0.89129609, 0.89121984]),\n",
       " 'std_test_score': array([0.00658118, 0.00658118, 0.00658118, 0.00712736, 0.00712736,\n",
       "        0.00712736, 0.00719065, 0.00719065, 0.00719065, 0.00616686,\n",
       "        0.00650116, 0.00673382, 0.0073318 , 0.00731043, 0.0073318 ,\n",
       "        0.00746074, 0.00754869, 0.00754869, 0.00896117, 0.00811798,\n",
       "        0.00796263, 0.00445558, 0.0044706 , 0.00446039, 0.0051604 ,\n",
       "        0.00513951, 0.00516805, 0.00703427, 0.00766781, 0.00860545,\n",
       "        0.00505836, 0.00499706, 0.00499347, 0.00570372, 0.00569452,\n",
       "        0.00569452, 0.00754548, 0.00709095, 0.00975433, 0.00535127,\n",
       "        0.0052893 , 0.00531638, 0.00568608, 0.00567898, 0.00563032]),\n",
       " 'rank_test_score': array([40, 40, 40, 37, 37, 37, 43, 45, 43, 30, 29, 28, 24, 26, 24, 33, 31,\n",
       "        31, 21, 20, 19,  9,  8,  7, 18, 16, 17, 35, 27, 22,  5,  6,  4, 12,\n",
       "        13, 13, 36, 34, 23,  3,  2,  1, 11, 10, 15])}"
      ]
     },
     "execution_count": 39,
     "metadata": {},
     "output_type": "execute_result"
    }
   ],
   "source": [
    "grid_search_dt_reg.cv_results_"
   ]
  },
  {
   "cell_type": "code",
   "execution_count": 40,
   "id": "demonstrated-warehouse",
   "metadata": {},
   "outputs": [
    {
     "data": {
      "text/html": [
       "<div>\n",
       "<style scoped>\n",
       "    .dataframe tbody tr th:only-of-type {\n",
       "        vertical-align: middle;\n",
       "    }\n",
       "\n",
       "    .dataframe tbody tr th {\n",
       "        vertical-align: top;\n",
       "    }\n",
       "\n",
       "    .dataframe thead th {\n",
       "        text-align: right;\n",
       "    }\n",
       "</style>\n",
       "<table border=\"1\" class=\"dataframe\">\n",
       "  <thead>\n",
       "    <tr style=\"text-align: right;\">\n",
       "      <th></th>\n",
       "      <th>mean_fit_time</th>\n",
       "      <th>std_fit_time</th>\n",
       "      <th>mean_score_time</th>\n",
       "      <th>std_score_time</th>\n",
       "      <th>param_max_depth</th>\n",
       "      <th>param_min_samples_leaf</th>\n",
       "      <th>param_min_samples_split</th>\n",
       "      <th>params</th>\n",
       "      <th>split0_test_score</th>\n",
       "      <th>split1_test_score</th>\n",
       "      <th>split2_test_score</th>\n",
       "      <th>split3_test_score</th>\n",
       "      <th>split4_test_score</th>\n",
       "      <th>mean_test_score</th>\n",
       "      <th>std_test_score</th>\n",
       "      <th>rank_test_score</th>\n",
       "    </tr>\n",
       "  </thead>\n",
       "  <tbody>\n",
       "    <tr>\n",
       "      <th>0</th>\n",
       "      <td>0.023799</td>\n",
       "      <td>0.001077</td>\n",
       "      <td>0.000801</td>\n",
       "      <td>0.000400</td>\n",
       "      <td>5</td>\n",
       "      <td>1</td>\n",
       "      <td>2</td>\n",
       "      <td>{'max_depth': 5, 'min_samples_leaf': 1, 'min_s...</td>\n",
       "      <td>0.865384</td>\n",
       "      <td>0.859384</td>\n",
       "      <td>0.850290</td>\n",
       "      <td>0.862312</td>\n",
       "      <td>0.869908</td>\n",
       "      <td>0.861456</td>\n",
       "      <td>0.006581</td>\n",
       "      <td>40</td>\n",
       "    </tr>\n",
       "    <tr>\n",
       "      <th>1</th>\n",
       "      <td>0.023199</td>\n",
       "      <td>0.000510</td>\n",
       "      <td>0.000700</td>\n",
       "      <td>0.000245</td>\n",
       "      <td>5</td>\n",
       "      <td>1</td>\n",
       "      <td>5</td>\n",
       "      <td>{'max_depth': 5, 'min_samples_leaf': 1, 'min_s...</td>\n",
       "      <td>0.865384</td>\n",
       "      <td>0.859384</td>\n",
       "      <td>0.850290</td>\n",
       "      <td>0.862312</td>\n",
       "      <td>0.869908</td>\n",
       "      <td>0.861456</td>\n",
       "      <td>0.006581</td>\n",
       "      <td>40</td>\n",
       "    </tr>\n",
       "    <tr>\n",
       "      <th>2</th>\n",
       "      <td>0.024099</td>\n",
       "      <td>0.001594</td>\n",
       "      <td>0.000700</td>\n",
       "      <td>0.000245</td>\n",
       "      <td>5</td>\n",
       "      <td>1</td>\n",
       "      <td>10</td>\n",
       "      <td>{'max_depth': 5, 'min_samples_leaf': 1, 'min_s...</td>\n",
       "      <td>0.865384</td>\n",
       "      <td>0.859384</td>\n",
       "      <td>0.850290</td>\n",
       "      <td>0.862312</td>\n",
       "      <td>0.869908</td>\n",
       "      <td>0.861456</td>\n",
       "      <td>0.006581</td>\n",
       "      <td>40</td>\n",
       "    </tr>\n",
       "    <tr>\n",
       "      <th>3</th>\n",
       "      <td>0.026000</td>\n",
       "      <td>0.003781</td>\n",
       "      <td>0.000643</td>\n",
       "      <td>0.000197</td>\n",
       "      <td>5</td>\n",
       "      <td>10</td>\n",
       "      <td>2</td>\n",
       "      <td>{'max_depth': 5, 'min_samples_leaf': 10, 'min_...</td>\n",
       "      <td>0.864616</td>\n",
       "      <td>0.859098</td>\n",
       "      <td>0.849729</td>\n",
       "      <td>0.866938</td>\n",
       "      <td>0.869986</td>\n",
       "      <td>0.862074</td>\n",
       "      <td>0.007127</td>\n",
       "      <td>37</td>\n",
       "    </tr>\n",
       "    <tr>\n",
       "      <th>4</th>\n",
       "      <td>0.023200</td>\n",
       "      <td>0.000748</td>\n",
       "      <td>0.000600</td>\n",
       "      <td>0.000200</td>\n",
       "      <td>5</td>\n",
       "      <td>10</td>\n",
       "      <td>5</td>\n",
       "      <td>{'max_depth': 5, 'min_samples_leaf': 10, 'min_...</td>\n",
       "      <td>0.864616</td>\n",
       "      <td>0.859098</td>\n",
       "      <td>0.849729</td>\n",
       "      <td>0.866938</td>\n",
       "      <td>0.869986</td>\n",
       "      <td>0.862074</td>\n",
       "      <td>0.007127</td>\n",
       "      <td>37</td>\n",
       "    </tr>\n",
       "  </tbody>\n",
       "</table>\n",
       "</div>"
      ],
      "text/plain": [
       "   mean_fit_time  std_fit_time  mean_score_time  std_score_time  \\\n",
       "0       0.023799      0.001077         0.000801        0.000400   \n",
       "1       0.023199      0.000510         0.000700        0.000245   \n",
       "2       0.024099      0.001594         0.000700        0.000245   \n",
       "3       0.026000      0.003781         0.000643        0.000197   \n",
       "4       0.023200      0.000748         0.000600        0.000200   \n",
       "\n",
       "  param_max_depth param_min_samples_leaf param_min_samples_split  \\\n",
       "0               5                      1                       2   \n",
       "1               5                      1                       5   \n",
       "2               5                      1                      10   \n",
       "3               5                     10                       2   \n",
       "4               5                     10                       5   \n",
       "\n",
       "                                              params  split0_test_score  \\\n",
       "0  {'max_depth': 5, 'min_samples_leaf': 1, 'min_s...           0.865384   \n",
       "1  {'max_depth': 5, 'min_samples_leaf': 1, 'min_s...           0.865384   \n",
       "2  {'max_depth': 5, 'min_samples_leaf': 1, 'min_s...           0.865384   \n",
       "3  {'max_depth': 5, 'min_samples_leaf': 10, 'min_...           0.864616   \n",
       "4  {'max_depth': 5, 'min_samples_leaf': 10, 'min_...           0.864616   \n",
       "\n",
       "   split1_test_score  split2_test_score  split3_test_score  split4_test_score  \\\n",
       "0           0.859384           0.850290           0.862312           0.869908   \n",
       "1           0.859384           0.850290           0.862312           0.869908   \n",
       "2           0.859384           0.850290           0.862312           0.869908   \n",
       "3           0.859098           0.849729           0.866938           0.869986   \n",
       "4           0.859098           0.849729           0.866938           0.869986   \n",
       "\n",
       "   mean_test_score  std_test_score  rank_test_score  \n",
       "0         0.861456        0.006581               40  \n",
       "1         0.861456        0.006581               40  \n",
       "2         0.861456        0.006581               40  \n",
       "3         0.862074        0.007127               37  \n",
       "4         0.862074        0.007127               37  "
      ]
     },
     "execution_count": 40,
     "metadata": {},
     "output_type": "execute_result"
    }
   ],
   "source": [
    "df_grid_search_dt_reg = pd.DataFrame(grid_search_dt_reg.cv_results_)\n",
    "df_grid_search_dt_reg.head(5)"
   ]
  },
  {
   "cell_type": "code",
   "execution_count": 41,
   "id": "pleased-captain",
   "metadata": {},
   "outputs": [],
   "source": [
    "df_grid_search_dt_reg.sort_values([\"param_max_depth\", \"param_min_samples_leaf\", \"param_min_samples_split\", \"mean_test_score\"], inplace=True)"
   ]
  },
  {
   "cell_type": "code",
   "execution_count": 42,
   "id": "incomplete-filename",
   "metadata": {},
   "outputs": [
    {
     "data": {
      "image/png": "[encoded data removed]",
      "text/plain": [
       "<Figure size 648x216 with 3 Axes>"
      ]
     },
     "metadata": {
      "needs_background": "light"
     },
     "output_type": "display_data"
    }
   ],
   "source": [
    "fig_dt_reg = sns.FacetGrid(df_grid_search_dt_reg, col=\"param_min_samples_split\")\n",
    "fig_dt_reg.map(sns.lineplot, \"param_max_depth\", \"mean_test_score\", \"param_min_samples_leaf\")\n",
    "plt.plot([], [], ' ', label=\"min_samples_leaf\")\n",
    "plt.legend()\n",
    "plt.show()"
   ]
  },
  {
   "cell_type": "code",
   "execution_count": 43,
   "id": "selective-geology",
   "metadata": {},
   "outputs": [
    {
     "data": {
      "text/plain": [
       "0.6621693386890183"
      ]
     },
     "execution_count": 43,
     "metadata": {},
     "output_type": "execute_result"
    }
   ],
   "source": [
    "grid_search_dt_reg.score(X_test, y_test)"
   ]
  },
  {
   "cell_type": "code",
   "execution_count": 44,
   "id": "former-missile",
   "metadata": {},
   "outputs": [
    {
     "name": "stdout",
     "output_type": "stream",
     "text": [
      "RMSE: 0.5495607795922133\n"
     ]
    },
    {
     "data": {
      "image/png": "[encoded data removed]",
      "text/plain": [
       "<Figure size 432x288 with 1 Axes>"
      ]
     },
     "metadata": {
      "needs_background": "light"
     },
     "output_type": "display_data"
    }
   ],
   "source": [
    "plot_test(grid_search_dt_reg, X_test, y_test)"
   ]
  },
  {
   "cell_type": "markdown",
   "id": "experienced-process",
   "metadata": {},
   "source": [
    "## Random Forest Regressor"
   ]
  },
  {
   "cell_type": "code",
   "execution_count": 45,
   "id": "hollywood-surface",
   "metadata": {},
   "outputs": [],
   "source": [
    "from sklearn.ensemble import RandomForestRegressor"
   ]
  },
  {
   "cell_type": "code",
   "execution_count": 46,
   "id": "behavioral-removal",
   "metadata": {},
   "outputs": [],
   "source": [
    "param_grid_rf_reg = {\n",
    "    \"max_depth\": [5, 7, 10, 20],\n",
    "    \"min_samples_split\": [2, 5, 10],\n",
    "    \"min_samples_leaf\": [1, 10, 20],\n",
    "}"
   ]
  },
  {
   "cell_type": "code",
   "execution_count": 47,
   "id": "headed-clearance",
   "metadata": {},
   "outputs": [],
   "source": [
    "grid_search_rf_reg = GridSearchCV(RandomForestRegressor(), param_grid_rf_reg, cv=5, n_jobs=-1)"
   ]
  },
  {
   "cell_type": "code",
   "execution_count": 48,
   "id": "muslim-acquisition",
   "metadata": {},
   "outputs": [
    {
     "data": {
      "text/plain": [
       "GridSearchCV(cv=5, estimator=RandomForestRegressor(), n_jobs=-1,\n",
       "             param_grid={'max_depth': [5, 7, 10, 20],\n",
       "                         'min_samples_leaf': [1, 10, 20],\n",
       "                         'min_samples_split': [2, 5, 10]})"
      ]
     },
     "execution_count": 48,
     "metadata": {},
     "output_type": "execute_result"
    }
   ],
   "source": [
    "grid_search_rf_reg.fit(X_train, y_train)"
   ]
  },
  {
   "cell_type": "code",
   "execution_count": 49,
   "id": "chronic-creativity",
   "metadata": {},
   "outputs": [
    {
     "data": {
      "text/plain": [
       "{'max_depth': 20, 'min_samples_leaf': 1, 'min_samples_split': 2}"
      ]
     },
     "execution_count": 49,
     "metadata": {},
     "output_type": "execute_result"
    }
   ],
   "source": [
    "grid_search_rf_reg.best_params_"
   ]
  },
  {
   "cell_type": "code",
   "execution_count": 50,
   "id": "polar-mandate",
   "metadata": {
    "collapsed": true,
    "jupyter": {
     "outputs_hidden": true
    }
   },
   "outputs": [
    {
     "data": {
      "text/plain": [
       "{'mean_fit_time': array([1.56729832, 1.58319926, 1.51469922, 1.52878966, 1.63950005,\n",
       "        1.52539892, 1.5704998 , 1.51379857, 1.50060024, 1.97979937,\n",
       "        1.96760006, 2.00519924, 1.93680058, 1.96539912, 1.98250012,\n",
       "        1.97219944, 1.95029783, 1.99069915, 2.54719787, 2.59419513,\n",
       "        2.58859911, 2.40370436, 2.56869931, 2.51759377, 2.3282968 ,\n",
       "        2.24329276, 2.3964992 , 3.89660006, 3.66949973, 3.32549834,\n",
       "        2.59199877, 2.63349986, 2.62089934, 2.39989915, 2.12679954,\n",
       "        2.03699937]),\n",
       " 'std_fit_time': array([0.06136196, 0.07267566, 0.02327854, 0.02728947, 0.07887156,\n",
       "        0.02412532, 0.05046313, 0.06157458, 0.02087181, 0.05303648,\n",
       "        0.04402855, 0.05649146, 0.04388445, 0.05223439, 0.05495888,\n",
       "        0.05234863, 0.03411893, 0.07204597, 0.01265495, 0.06419066,\n",
       "        0.05981787, 0.04505006, 0.1107034 , 0.06987988, 0.09585077,\n",
       "        0.07242908, 0.15239213, 0.09977615, 0.10120125, 0.1250896 ,\n",
       "        0.05279691, 0.05167487, 0.04595602, 0.07397884, 0.0502249 ,\n",
       "        0.06661147]),\n",
       " 'mean_score_time': array([0.01409998, 0.01909957, 0.01410074, 0.01540065, 0.01479936,\n",
       "        0.01379986, 0.01370158, 0.01410103, 0.01389914, 0.0184    ,\n",
       "        0.01719995, 0.01619978, 0.01819978, 0.01840024, 0.01799979,\n",
       "        0.0169004 , 0.01660013, 0.01900024, 0.02340045, 0.02410035,\n",
       "        0.02150021, 0.02780228, 0.02480035, 0.02460046, 0.02119994,\n",
       "        0.02130046, 0.02120032, 0.04939957, 0.03749976, 0.03000069,\n",
       "        0.02340002, 0.02480044, 0.02380013, 0.02540059, 0.01820021,\n",
       "        0.01580043]),\n",
       " 'std_score_time': array([0.00058333, 0.00926494, 0.00085963, 0.00203547, 0.000927  ,\n",
       "        0.00050983, 0.000244  , 0.00049134, 0.00037495, 0.00198505,\n",
       "        0.00143656, 0.00040081, 0.00224937, 0.00222189, 0.00184445,\n",
       "        0.00066374, 0.00049032, 0.00104864, 0.00019999, 0.00345488,\n",
       "        0.0004475 , 0.00807874, 0.00337049, 0.00630407, 0.0053997 ,\n",
       "        0.00229363, 0.00213602, 0.00233249, 0.00626881, 0.00070685,\n",
       "        0.00162481, 0.00313894, 0.00193915, 0.00916732, 0.00102963,\n",
       "        0.00024446]),\n",
       " 'param_max_depth': masked_array(data=[5, 5, 5, 5, 5, 5, 5, 5, 5, 7, 7, 7, 7, 7, 7, 7, 7, 7,\n",
       "                    10, 10, 10, 10, 10, 10, 10, 10, 10, 20, 20, 20, 20, 20,\n",
       "                    20, 20, 20, 20],\n",
       "              mask=[False, False, False, False, False, False, False, False,\n",
       "                    False, False, False, False, False, False, False, False,\n",
       "                    False, False, False, False, False, False, False, False,\n",
       "                    False, False, False, False, False, False, False, False,\n",
       "                    False, False, False, False],\n",
       "        fill_value='?',\n",
       "             dtype=object),\n",
       " 'param_min_samples_leaf': masked_array(data=[1, 1, 1, 10, 10, 10, 20, 20, 20, 1, 1, 1, 10, 10, 10,\n",
       "                    20, 20, 20, 1, 1, 1, 10, 10, 10, 20, 20, 20, 1, 1, 1,\n",
       "                    10, 10, 10, 20, 20, 20],\n",
       "              mask=[False, False, False, False, False, False, False, False,\n",
       "                    False, False, False, False, False, False, False, False,\n",
       "                    False, False, False, False, False, False, False, False,\n",
       "                    False, False, False, False, False, False, False, False,\n",
       "                    False, False, False, False],\n",
       "        fill_value='?',\n",
       "             dtype=object),\n",
       " 'param_min_samples_split': masked_array(data=[2, 5, 10, 2, 5, 10, 2, 5, 10, 2, 5, 10, 2, 5, 10, 2, 5,\n",
       "                    10, 2, 5, 10, 2, 5, 10, 2, 5, 10, 2, 5, 10, 2, 5, 10,\n",
       "                    2, 5, 10],\n",
       "              mask=[False, False, False, False, False, False, False, False,\n",
       "                    False, False, False, False, False, False, False, False,\n",
       "                    False, False, False, False, False, False, False, False,\n",
       "                    False, False, False, False, False, False, False, False,\n",
       "                    False, False, False, False],\n",
       "        fill_value='?',\n",
       "             dtype=object),\n",
       " 'params': [{'max_depth': 5, 'min_samples_leaf': 1, 'min_samples_split': 2},\n",
       "  {'max_depth': 5, 'min_samples_leaf': 1, 'min_samples_split': 5},\n",
       "  {'max_depth': 5, 'min_samples_leaf': 1, 'min_samples_split': 10},\n",
       "  {'max_depth': 5, 'min_samples_leaf': 10, 'min_samples_split': 2},\n",
       "  {'max_depth': 5, 'min_samples_leaf': 10, 'min_samples_split': 5},\n",
       "  {'max_depth': 5, 'min_samples_leaf': 10, 'min_samples_split': 10},\n",
       "  {'max_depth': 5, 'min_samples_leaf': 20, 'min_samples_split': 2},\n",
       "  {'max_depth': 5, 'min_samples_leaf': 20, 'min_samples_split': 5},\n",
       "  {'max_depth': 5, 'min_samples_leaf': 20, 'min_samples_split': 10},\n",
       "  {'max_depth': 7, 'min_samples_leaf': 1, 'min_samples_split': 2},\n",
       "  {'max_depth': 7, 'min_samples_leaf': 1, 'min_samples_split': 5},\n",
       "  {'max_depth': 7, 'min_samples_leaf': 1, 'min_samples_split': 10},\n",
       "  {'max_depth': 7, 'min_samples_leaf': 10, 'min_samples_split': 2},\n",
       "  {'max_depth': 7, 'min_samples_leaf': 10, 'min_samples_split': 5},\n",
       "  {'max_depth': 7, 'min_samples_leaf': 10, 'min_samples_split': 10},\n",
       "  {'max_depth': 7, 'min_samples_leaf': 20, 'min_samples_split': 2},\n",
       "  {'max_depth': 7, 'min_samples_leaf': 20, 'min_samples_split': 5},\n",
       "  {'max_depth': 7, 'min_samples_leaf': 20, 'min_samples_split': 10},\n",
       "  {'max_depth': 10, 'min_samples_leaf': 1, 'min_samples_split': 2},\n",
       "  {'max_depth': 10, 'min_samples_leaf': 1, 'min_samples_split': 5},\n",
       "  {'max_depth': 10, 'min_samples_leaf': 1, 'min_samples_split': 10},\n",
       "  {'max_depth': 10, 'min_samples_leaf': 10, 'min_samples_split': 2},\n",
       "  {'max_depth': 10, 'min_samples_leaf': 10, 'min_samples_split': 5},\n",
       "  {'max_depth': 10, 'min_samples_leaf': 10, 'min_samples_split': 10},\n",
       "  {'max_depth': 10, 'min_samples_leaf': 20, 'min_samples_split': 2},\n",
       "  {'max_depth': 10, 'min_samples_leaf': 20, 'min_samples_split': 5},\n",
       "  {'max_depth': 10, 'min_samples_leaf': 20, 'min_samples_split': 10},\n",
       "  {'max_depth': 20, 'min_samples_leaf': 1, 'min_samples_split': 2},\n",
       "  {'max_depth': 20, 'min_samples_leaf': 1, 'min_samples_split': 5},\n",
       "  {'max_depth': 20, 'min_samples_leaf': 1, 'min_samples_split': 10},\n",
       "  {'max_depth': 20, 'min_samples_leaf': 10, 'min_samples_split': 2},\n",
       "  {'max_depth': 20, 'min_samples_leaf': 10, 'min_samples_split': 5},\n",
       "  {'max_depth': 20, 'min_samples_leaf': 10, 'min_samples_split': 10},\n",
       "  {'max_depth': 20, 'min_samples_leaf': 20, 'min_samples_split': 2},\n",
       "  {'max_depth': 20, 'min_samples_leaf': 20, 'min_samples_split': 5},\n",
       "  {'max_depth': 20, 'min_samples_leaf': 20, 'min_samples_split': 10}],\n",
       " 'split0_test_score': array([0.87445449, 0.87352174, 0.87405995, 0.87460554, 0.87425066,\n",
       "        0.87415157, 0.87372278, 0.87359623, 0.87395876, 0.8989878 ,\n",
       "        0.898105  , 0.89778652, 0.89686555, 0.89699136, 0.89658192,\n",
       "        0.8933633 , 0.89358546, 0.8934353 , 0.91931569, 0.91986123,\n",
       "        0.91843016, 0.91157233, 0.91110933, 0.91131696, 0.9012593 ,\n",
       "        0.90151114, 0.90136969, 0.93409397, 0.93288814, 0.92970651,\n",
       "        0.91519013, 0.9154744 , 0.91430629, 0.90299072, 0.90235587,\n",
       "        0.90231866]),\n",
       " 'split1_test_score': array([0.87123282, 0.8711756 , 0.87076378, 0.87104445, 0.87128423,\n",
       "        0.87151177, 0.87085402, 0.8711614 , 0.87149678, 0.89407272,\n",
       "        0.89358483, 0.8930534 , 0.8921391 , 0.8921876 , 0.89207084,\n",
       "        0.88877837, 0.8894081 , 0.88890432, 0.91654064, 0.91531861,\n",
       "        0.91429073, 0.90656265, 0.90622365, 0.90616736, 0.89711571,\n",
       "        0.89714573, 0.89733774, 0.92933788, 0.92754403, 0.92458226,\n",
       "        0.90992088, 0.91085965, 0.9109356 , 0.89868885, 0.89794604,\n",
       "        0.89811614]),\n",
       " 'split2_test_score': array([0.86153712, 0.86209636, 0.86294728, 0.86274054, 0.8613909 ,\n",
       "        0.86237074, 0.86146988, 0.8615346 , 0.86083331, 0.88827931,\n",
       "        0.88832938, 0.88753784, 0.8859785 , 0.88645376, 0.88565746,\n",
       "        0.88273463, 0.88236079, 0.88190257, 0.91322584, 0.91364658,\n",
       "        0.91188401, 0.9033248 , 0.90514383, 0.90489074, 0.89299401,\n",
       "        0.89416705, 0.89348674, 0.93018158, 0.92940536, 0.92571779,\n",
       "        0.90849716, 0.90966644, 0.90893922, 0.89509918, 0.89494875,\n",
       "        0.89476849]),\n",
       " 'split3_test_score': array([0.87857085, 0.87902373, 0.87882417, 0.87912572, 0.87890622,\n",
       "        0.87908741, 0.88021617, 0.87927899, 0.87953717, 0.89791892,\n",
       "        0.89764502, 0.89642746, 0.89854429, 0.89844337, 0.89835788,\n",
       "        0.89821515, 0.89738895, 0.89789498, 0.91964319, 0.91731367,\n",
       "        0.91720695, 0.91435835, 0.91402949, 0.91403034, 0.90675777,\n",
       "        0.90654071, 0.90643859, 0.93379352, 0.93337865, 0.92933015,\n",
       "        0.91740238, 0.91767976, 0.91751167, 0.90836557, 0.90853979,\n",
       "        0.90769261]),\n",
       " 'split4_test_score': array([0.87856855, 0.87857385, 0.8788314 , 0.87817851, 0.87806248,\n",
       "        0.87776278, 0.87799171, 0.87814506, 0.87823261, 0.90191404,\n",
       "        0.90192732, 0.9008823 , 0.89920173, 0.89934841, 0.89903868,\n",
       "        0.89591732, 0.89488138, 0.89535957, 0.92524174, 0.9249398 ,\n",
       "        0.92259718, 0.91475494, 0.91553789, 0.91552278, 0.90493328,\n",
       "        0.90499774, 0.9049696 , 0.94213049, 0.94037398, 0.93753917,\n",
       "        0.92045563, 0.91991975, 0.92066169, 0.90676853, 0.90659201,\n",
       "        0.90579731]),\n",
       " 'mean_test_score': array([0.87287277, 0.87287826, 0.87308532, 0.87313895, 0.8727789 ,\n",
       "        0.87297685, 0.87285091, 0.87274326, 0.87281172, 0.89623456,\n",
       "        0.89591831, 0.8951375 , 0.89454583, 0.8946849 , 0.89434136,\n",
       "        0.89180175, 0.89152493, 0.89149935, 0.91879342, 0.91821598,\n",
       "        0.91688181, 0.91011461, 0.91040884, 0.91038564, 0.90061201,\n",
       "        0.90087247, 0.90072047, 0.93390749, 0.93271803, 0.92937518,\n",
       "        0.91429324, 0.91472   , 0.91447089, 0.90238257, 0.90207649,\n",
       "        0.90173864]),\n",
       " 'std_test_score': array([0.00630235, 0.00616067, 0.00591728, 0.00593133, 0.00631739,\n",
       "        0.00593734, 0.00655668, 0.00633655, 0.00665049, 0.0047039 ,\n",
       "        0.00462403, 0.00455593, 0.00494445, 0.00479963, 0.00497559,\n",
       "        0.00551111, 0.00526043, 0.00562824, 0.00396607, 0.00394981,\n",
       "        0.00365678, 0.00448073, 0.00412657, 0.00420783, 0.00504224,\n",
       "        0.00465631, 0.00479465, 0.00452613, 0.00440052, 0.00454117,\n",
       "        0.00449796, 0.00391937, 0.00425904, 0.00494154, 0.00510113,\n",
       "        0.00477419]),\n",
       " 'rank_test_score': array([32, 31, 29, 28, 35, 30, 33, 36, 34, 19, 20, 21, 23, 22, 24, 25, 26,\n",
       "        27,  4,  5,  6, 12, 10, 11, 18, 16, 17,  1,  2,  3,  9,  7,  8, 13,\n",
       "        14, 15])}"
      ]
     },
     "execution_count": 50,
     "metadata": {},
     "output_type": "execute_result"
    }
   ],
   "source": [
    "grid_search_rf_reg.cv_results_"
   ]
  },
  {
   "cell_type": "code",
   "execution_count": 51,
   "id": "expensive-amplifier",
   "metadata": {},
   "outputs": [
    {
     "data": {
      "text/html": [
       "<div>\n",
       "<style scoped>\n",
       "    .dataframe tbody tr th:only-of-type {\n",
       "        vertical-align: middle;\n",
       "    }\n",
       "\n",
       "    .dataframe tbody tr th {\n",
       "        vertical-align: top;\n",
       "    }\n",
       "\n",
       "    .dataframe thead th {\n",
       "        text-align: right;\n",
       "    }\n",
       "</style>\n",
       "<table border=\"1\" class=\"dataframe\">\n",
       "  <thead>\n",
       "    <tr style=\"text-align: right;\">\n",
       "      <th></th>\n",
       "      <th>mean_fit_time</th>\n",
       "      <th>std_fit_time</th>\n",
       "      <th>mean_score_time</th>\n",
       "      <th>std_score_time</th>\n",
       "      <th>param_max_depth</th>\n",
       "      <th>param_min_samples_leaf</th>\n",
       "      <th>param_min_samples_split</th>\n",
       "      <th>params</th>\n",
       "      <th>split0_test_score</th>\n",
       "      <th>split1_test_score</th>\n",
       "      <th>split2_test_score</th>\n",
       "      <th>split3_test_score</th>\n",
       "      <th>split4_test_score</th>\n",
       "      <th>mean_test_score</th>\n",
       "      <th>std_test_score</th>\n",
       "      <th>rank_test_score</th>\n",
       "    </tr>\n",
       "  </thead>\n",
       "  <tbody>\n",
       "    <tr>\n",
       "      <th>0</th>\n",
       "      <td>1.567298</td>\n",
       "      <td>0.061362</td>\n",
       "      <td>0.014100</td>\n",
       "      <td>0.000583</td>\n",
       "      <td>5</td>\n",
       "      <td>1</td>\n",
       "      <td>2</td>\n",
       "      <td>{'max_depth': 5, 'min_samples_leaf': 1, 'min_s...</td>\n",
       "      <td>0.874454</td>\n",
       "      <td>0.871233</td>\n",
       "      <td>0.861537</td>\n",
       "      <td>0.878571</td>\n",
       "      <td>0.878569</td>\n",
       "      <td>0.872873</td>\n",
       "      <td>0.006302</td>\n",
       "      <td>32</td>\n",
       "    </tr>\n",
       "    <tr>\n",
       "      <th>1</th>\n",
       "      <td>1.583199</td>\n",
       "      <td>0.072676</td>\n",
       "      <td>0.019100</td>\n",
       "      <td>0.009265</td>\n",
       "      <td>5</td>\n",
       "      <td>1</td>\n",
       "      <td>5</td>\n",
       "      <td>{'max_depth': 5, 'min_samples_leaf': 1, 'min_s...</td>\n",
       "      <td>0.873522</td>\n",
       "      <td>0.871176</td>\n",
       "      <td>0.862096</td>\n",
       "      <td>0.879024</td>\n",
       "      <td>0.878574</td>\n",
       "      <td>0.872878</td>\n",
       "      <td>0.006161</td>\n",
       "      <td>31</td>\n",
       "    </tr>\n",
       "    <tr>\n",
       "      <th>2</th>\n",
       "      <td>1.514699</td>\n",
       "      <td>0.023279</td>\n",
       "      <td>0.014101</td>\n",
       "      <td>0.000860</td>\n",
       "      <td>5</td>\n",
       "      <td>1</td>\n",
       "      <td>10</td>\n",
       "      <td>{'max_depth': 5, 'min_samples_leaf': 1, 'min_s...</td>\n",
       "      <td>0.874060</td>\n",
       "      <td>0.870764</td>\n",
       "      <td>0.862947</td>\n",
       "      <td>0.878824</td>\n",
       "      <td>0.878831</td>\n",
       "      <td>0.873085</td>\n",
       "      <td>0.005917</td>\n",
       "      <td>29</td>\n",
       "    </tr>\n",
       "    <tr>\n",
       "      <th>3</th>\n",
       "      <td>1.528790</td>\n",
       "      <td>0.027289</td>\n",
       "      <td>0.015401</td>\n",
       "      <td>0.002035</td>\n",
       "      <td>5</td>\n",
       "      <td>10</td>\n",
       "      <td>2</td>\n",
       "      <td>{'max_depth': 5, 'min_samples_leaf': 10, 'min_...</td>\n",
       "      <td>0.874606</td>\n",
       "      <td>0.871044</td>\n",
       "      <td>0.862741</td>\n",
       "      <td>0.879126</td>\n",
       "      <td>0.878179</td>\n",
       "      <td>0.873139</td>\n",
       "      <td>0.005931</td>\n",
       "      <td>28</td>\n",
       "    </tr>\n",
       "    <tr>\n",
       "      <th>4</th>\n",
       "      <td>1.639500</td>\n",
       "      <td>0.078872</td>\n",
       "      <td>0.014799</td>\n",
       "      <td>0.000927</td>\n",
       "      <td>5</td>\n",
       "      <td>10</td>\n",
       "      <td>5</td>\n",
       "      <td>{'max_depth': 5, 'min_samples_leaf': 10, 'min_...</td>\n",
       "      <td>0.874251</td>\n",
       "      <td>0.871284</td>\n",
       "      <td>0.861391</td>\n",
       "      <td>0.878906</td>\n",
       "      <td>0.878062</td>\n",
       "      <td>0.872779</td>\n",
       "      <td>0.006317</td>\n",
       "      <td>35</td>\n",
       "    </tr>\n",
       "  </tbody>\n",
       "</table>\n",
       "</div>"
      ],
      "text/plain": [
       "   mean_fit_time  std_fit_time  mean_score_time  std_score_time  \\\n",
       "0       1.567298      0.061362         0.014100        0.000583   \n",
       "1       1.583199      0.072676         0.019100        0.009265   \n",
       "2       1.514699      0.023279         0.014101        0.000860   \n",
       "3       1.528790      0.027289         0.015401        0.002035   \n",
       "4       1.639500      0.078872         0.014799        0.000927   \n",
       "\n",
       "  param_max_depth param_min_samples_leaf param_min_samples_split  \\\n",
       "0               5                      1                       2   \n",
       "1               5                      1                       5   \n",
       "2               5                      1                      10   \n",
       "3               5                     10                       2   \n",
       "4               5                     10                       5   \n",
       "\n",
       "                                              params  split0_test_score  \\\n",
       "0  {'max_depth': 5, 'min_samples_leaf': 1, 'min_s...           0.874454   \n",
       "1  {'max_depth': 5, 'min_samples_leaf': 1, 'min_s...           0.873522   \n",
       "2  {'max_depth': 5, 'min_samples_leaf': 1, 'min_s...           0.874060   \n",
       "3  {'max_depth': 5, 'min_samples_leaf': 10, 'min_...           0.874606   \n",
       "4  {'max_depth': 5, 'min_samples_leaf': 10, 'min_...           0.874251   \n",
       "\n",
       "   split1_test_score  split2_test_score  split3_test_score  split4_test_score  \\\n",
       "0           0.871233           0.861537           0.878571           0.878569   \n",
       "1           0.871176           0.862096           0.879024           0.878574   \n",
       "2           0.870764           0.862947           0.878824           0.878831   \n",
       "3           0.871044           0.862741           0.879126           0.878179   \n",
       "4           0.871284           0.861391           0.878906           0.878062   \n",
       "\n",
       "   mean_test_score  std_test_score  rank_test_score  \n",
       "0         0.872873        0.006302               32  \n",
       "1         0.872878        0.006161               31  \n",
       "2         0.873085        0.005917               29  \n",
       "3         0.873139        0.005931               28  \n",
       "4         0.872779        0.006317               35  "
      ]
     },
     "execution_count": 51,
     "metadata": {},
     "output_type": "execute_result"
    }
   ],
   "source": [
    "df_grid_search_rf_reg = pd.DataFrame(grid_search_rf_reg.cv_results_)\n",
    "df_grid_search_rf_reg.head(5)"
   ]
  },
  {
   "cell_type": "code",
   "execution_count": 52,
   "id": "buried-papua",
   "metadata": {},
   "outputs": [],
   "source": [
    "df_grid_search_rf_reg.sort_values([\"param_max_depth\", \"param_min_samples_leaf\", \"param_min_samples_split\", \"mean_test_score\"], inplace=True)"
   ]
  },
  {
   "cell_type": "code",
   "execution_count": 53,
   "id": "suitable-arlington",
   "metadata": {},
   "outputs": [
    {
     "data": {
      "image/png": "[encoded data removed]",
      "text/plain": [
       "<Figure size 648x216 with 3 Axes>"
      ]
     },
     "metadata": {
      "needs_background": "light"
     },
     "output_type": "display_data"
    }
   ],
   "source": [
    "fig_rf_reg = sns.FacetGrid(df_grid_search_rf_reg, col=\"param_min_samples_split\")\n",
    "fig_rf_reg.map(sns.lineplot, \"param_max_depth\", \"mean_test_score\", \"param_min_samples_leaf\")\n",
    "plt.plot([], [], ' ', label=\"min_samples_leaf\")\n",
    "plt.legend()\n",
    "plt.show()"
   ]
  },
  {
   "cell_type": "code",
   "execution_count": 54,
   "id": "suspended-assurance",
   "metadata": {},
   "outputs": [
    {
     "data": {
      "text/plain": [
       "0.7702887034305035"
      ]
     },
     "execution_count": 54,
     "metadata": {},
     "output_type": "execute_result"
    }
   ],
   "source": [
    "grid_search_rf_reg.score(X_test, y_test)"
   ]
  },
  {
   "cell_type": "code",
   "execution_count": 55,
   "id": "electoral-concentration",
   "metadata": {},
   "outputs": [
    {
     "name": "stdout",
     "output_type": "stream",
     "text": [
      "RMSE: 0.45316606003615173\n"
     ]
    },
    {
     "data": {
      "image/png": "[encoded data removed]",
      "text/plain": [
       "<Figure size 432x288 with 1 Axes>"
      ]
     },
     "metadata": {
      "needs_background": "light"
     },
     "output_type": "display_data"
    }
   ],
   "source": [
    "plot_test(grid_search_rf_reg, X_test, y_test)"
   ]
  },
  {
   "cell_type": "markdown",
   "id": "geographic-adolescent",
   "metadata": {},
   "source": [
    "## AdaBoost Regressor"
   ]
  },
  {
   "cell_type": "code",
   "execution_count": 56,
   "id": "surface-chocolate",
   "metadata": {},
   "outputs": [],
   "source": [
    "from sklearn.ensemble import AdaBoostRegressor"
   ]
  },
  {
   "cell_type": "code",
   "execution_count": 57,
   "id": "cultural-compilation",
   "metadata": {},
   "outputs": [],
   "source": [
    "param_grid_adb_reg = {\n",
    "    'n_estimators': [50, 100],\n",
    "    'learning_rate' : [0.01, 0.2, 0.5, 1],\n",
    "    'loss' : ['linear', 'square', 'exponential']\n",
    " }"
   ]
  },
  {
   "cell_type": "code",
   "execution_count": 58,
   "id": "unlikely-device",
   "metadata": {},
   "outputs": [],
   "source": [
    "grid_search_adb_reg = GridSearchCV(AdaBoostRegressor(), param_grid_adb_reg, cv=5, n_jobs=-1)"
   ]
  },
  {
   "cell_type": "code",
   "execution_count": 59,
   "id": "local-hampton",
   "metadata": {},
   "outputs": [
    {
     "data": {
      "text/plain": [
       "GridSearchCV(cv=5, estimator=AdaBoostRegressor(), n_jobs=-1,\n",
       "             param_grid={'learning_rate': [0.01, 0.2, 0.5, 1],\n",
       "                         'loss': ['linear', 'square', 'exponential'],\n",
       "                         'n_estimators': [50, 100]})"
      ]
     },
     "execution_count": 59,
     "metadata": {},
     "output_type": "execute_result"
    }
   ],
   "source": [
    "grid_search_adb_reg.fit(X_train, y_train)"
   ]
  },
  {
   "cell_type": "code",
   "execution_count": 60,
   "id": "abroad-courage",
   "metadata": {},
   "outputs": [
    {
     "data": {
      "text/plain": [
       "{'learning_rate': 0.2, 'loss': 'exponential', 'n_estimators': 50}"
      ]
     },
     "execution_count": 60,
     "metadata": {},
     "output_type": "execute_result"
    }
   ],
   "source": [
    "grid_search_adb_reg.best_params_"
   ]
  },
  {
   "cell_type": "code",
   "execution_count": 61,
   "id": "processed-accordance",
   "metadata": {
    "collapsed": true,
    "jupyter": {
     "outputs_hidden": true
    }
   },
   "outputs": [
    {
     "data": {
      "text/plain": [
       "{'mean_fit_time': array([0.87789922, 1.70169969, 0.85970073, 1.7395997 , 0.87369933,\n",
       "        1.66699991, 0.82379532, 1.44029965, 0.71770549, 1.19209471,\n",
       "        0.81329923, 1.47320046, 0.66699982, 0.94879384, 0.63309994,\n",
       "        0.91659908, 0.65009823, 1.12919898, 0.42059565, 0.64750009,\n",
       "        0.52539115, 0.81595268, 0.58184757, 0.75279932]),\n",
       " 'std_fit_time': array([0.05652095, 0.05058666, 0.05884291, 0.08165819, 0.06260767,\n",
       "        0.02861343, 0.07353784, 0.06469103, 0.02081541, 0.01140554,\n",
       "        0.03192301, 0.05296513, 0.02082301, 0.17439009, 0.04634447,\n",
       "        0.00596935, 0.01074486, 0.01811023, 0.08411703, 0.2406035 ,\n",
       "        0.02825071, 0.01637011, 0.01511635, 0.05307291]),\n",
       " 'mean_score_time': array([0.01049972, 0.02010016, 0.01059866, 0.01959996, 0.00989938,\n",
       "        0.02120047, 0.0150001 , 0.02830052, 0.01169419, 0.02200079,\n",
       "        0.0117002 , 0.02289896, 0.01150036, 0.01760721, 0.01129913,\n",
       "        0.0217001 , 0.01139975, 0.02620869, 0.00830488, 0.0141995 ,\n",
       "        0.01520081, 0.02014937, 0.01119976, 0.01640844]),\n",
       " 'std_score_time': array([0.00089396, 0.00111356, 0.00096997, 0.00058359, 0.00037397,\n",
       "        0.00282133, 0.00565624, 0.0075278 , 0.00119671, 0.00109524,\n",
       "        0.00116582, 0.00124106, 0.00054781, 0.00359617, 0.00039941,\n",
       "        0.00051019, 0.00020063, 0.00253017, 0.00332417, 0.00489415,\n",
       "        0.00347352, 0.00179679, 0.00092763, 0.00171777]),\n",
       " 'param_learning_rate': masked_array(data=[0.01, 0.01, 0.01, 0.01, 0.01, 0.01, 0.2, 0.2, 0.2, 0.2,\n",
       "                    0.2, 0.2, 0.5, 0.5, 0.5, 0.5, 0.5, 0.5, 1, 1, 1, 1, 1,\n",
       "                    1],\n",
       "              mask=[False, False, False, False, False, False, False, False,\n",
       "                    False, False, False, False, False, False, False, False,\n",
       "                    False, False, False, False, False, False, False, False],\n",
       "        fill_value='?',\n",
       "             dtype=object),\n",
       " 'param_loss': masked_array(data=['linear', 'linear', 'square', 'square', 'exponential',\n",
       "                    'exponential', 'linear', 'linear', 'square', 'square',\n",
       "                    'exponential', 'exponential', 'linear', 'linear',\n",
       "                    'square', 'square', 'exponential', 'exponential',\n",
       "                    'linear', 'linear', 'square', 'square', 'exponential',\n",
       "                    'exponential'],\n",
       "              mask=[False, False, False, False, False, False, False, False,\n",
       "                    False, False, False, False, False, False, False, False,\n",
       "                    False, False, False, False, False, False, False, False],\n",
       "        fill_value='?',\n",
       "             dtype=object),\n",
       " 'param_n_estimators': masked_array(data=[50, 100, 50, 100, 50, 100, 50, 100, 50, 100, 50, 100,\n",
       "                    50, 100, 50, 100, 50, 100, 50, 100, 50, 100, 50, 100],\n",
       "              mask=[False, False, False, False, False, False, False, False,\n",
       "                    False, False, False, False, False, False, False, False,\n",
       "                    False, False, False, False, False, False, False, False],\n",
       "        fill_value='?',\n",
       "             dtype=object),\n",
       " 'params': [{'learning_rate': 0.01, 'loss': 'linear', 'n_estimators': 50},\n",
       "  {'learning_rate': 0.01, 'loss': 'linear', 'n_estimators': 100},\n",
       "  {'learning_rate': 0.01, 'loss': 'square', 'n_estimators': 50},\n",
       "  {'learning_rate': 0.01, 'loss': 'square', 'n_estimators': 100},\n",
       "  {'learning_rate': 0.01, 'loss': 'exponential', 'n_estimators': 50},\n",
       "  {'learning_rate': 0.01, 'loss': 'exponential', 'n_estimators': 100},\n",
       "  {'learning_rate': 0.2, 'loss': 'linear', 'n_estimators': 50},\n",
       "  {'learning_rate': 0.2, 'loss': 'linear', 'n_estimators': 100},\n",
       "  {'learning_rate': 0.2, 'loss': 'square', 'n_estimators': 50},\n",
       "  {'learning_rate': 0.2, 'loss': 'square', 'n_estimators': 100},\n",
       "  {'learning_rate': 0.2, 'loss': 'exponential', 'n_estimators': 50},\n",
       "  {'learning_rate': 0.2, 'loss': 'exponential', 'n_estimators': 100},\n",
       "  {'learning_rate': 0.5, 'loss': 'linear', 'n_estimators': 50},\n",
       "  {'learning_rate': 0.5, 'loss': 'linear', 'n_estimators': 100},\n",
       "  {'learning_rate': 0.5, 'loss': 'square', 'n_estimators': 50},\n",
       "  {'learning_rate': 0.5, 'loss': 'square', 'n_estimators': 100},\n",
       "  {'learning_rate': 0.5, 'loss': 'exponential', 'n_estimators': 50},\n",
       "  {'learning_rate': 0.5, 'loss': 'exponential', 'n_estimators': 100},\n",
       "  {'learning_rate': 1, 'loss': 'linear', 'n_estimators': 50},\n",
       "  {'learning_rate': 1, 'loss': 'linear', 'n_estimators': 100},\n",
       "  {'learning_rate': 1, 'loss': 'square', 'n_estimators': 50},\n",
       "  {'learning_rate': 1, 'loss': 'square', 'n_estimators': 100},\n",
       "  {'learning_rate': 1, 'loss': 'exponential', 'n_estimators': 50},\n",
       "  {'learning_rate': 1, 'loss': 'exponential', 'n_estimators': 100}],\n",
       " 'split0_test_score': array([0.82117646, 0.82352196, 0.81641289, 0.82247978, 0.8227723 ,\n",
       "        0.82346714, 0.81489058, 0.80979349, 0.80018321, 0.78663161,\n",
       "        0.82694828, 0.81149759, 0.81018954, 0.80835467, 0.78691449,\n",
       "        0.76781631, 0.80793522, 0.78237902, 0.8011037 , 0.79382315,\n",
       "        0.77676306, 0.77759947, 0.78010695, 0.76175094]),\n",
       " 'split1_test_score': array([0.81217536, 0.81742885, 0.81058813, 0.82241762, 0.81592679,\n",
       "        0.81200551, 0.81350286, 0.81472429, 0.80428723, 0.79665823,\n",
       "        0.82404433, 0.81647026, 0.80740209, 0.79948421, 0.789995  ,\n",
       "        0.78951503, 0.80839657, 0.78437751, 0.81246994, 0.79720748,\n",
       "        0.78388414, 0.79699092, 0.78950476, 0.75662048]),\n",
       " 'split2_test_score': array([0.80532154, 0.80979106, 0.80562911, 0.8075259 , 0.80582686,\n",
       "        0.81372012, 0.80998432, 0.79771791, 0.78573016, 0.77930182,\n",
       "        0.81444247, 0.80305782, 0.79704658, 0.78896379, 0.78100089,\n",
       "        0.77130088, 0.80156417, 0.78207012, 0.79770544, 0.77202864,\n",
       "        0.77100717, 0.76593321, 0.78026435, 0.7655404 ]),\n",
       " 'split3_test_score': array([0.80793691, 0.81070394, 0.8085178 , 0.8122863 , 0.80797522,\n",
       "        0.81072854, 0.81968739, 0.81600103, 0.80613901, 0.80192381,\n",
       "        0.82813848, 0.8171236 , 0.81528954, 0.80227742, 0.8010112 ,\n",
       "        0.79646604, 0.81415514, 0.79373088, 0.81140186, 0.78808687,\n",
       "        0.79665374, 0.79343342, 0.80048134, 0.7767247 ]),\n",
       " 'split4_test_score': array([0.8209134 , 0.82289342, 0.8199152 , 0.82155842, 0.82111919,\n",
       "        0.82214671, 0.82059509, 0.81431096, 0.80964967, 0.80881573,\n",
       "        0.82873595, 0.81792834, 0.81250855, 0.80913658, 0.80396285,\n",
       "        0.79322772, 0.81232637, 0.80037055, 0.8117584 , 0.80476272,\n",
       "        0.80481515, 0.81400176, 0.80233419, 0.78191476]),\n",
       " 'mean_test_score': array([0.81350473, 0.81686785, 0.81221263, 0.8172536 , 0.81472407,\n",
       "        0.8164136 , 0.81573205, 0.81050954, 0.80119786, 0.79466624,\n",
       "        0.8244619 , 0.81321552, 0.80848726, 0.80164333, 0.79257689,\n",
       "        0.7836652 , 0.80887549, 0.78858562, 0.80688787, 0.79118177,\n",
       "        0.78662465, 0.78959175, 0.79053832, 0.76851026]),\n",
       " 'std_test_score': array([0.00653416, 0.00581333, 0.00522695, 0.00619377, 0.00680919,\n",
       "        0.00532216, 0.00394988, 0.00673068, 0.0083147 , 0.01055906,\n",
       "        0.00526365, 0.00555351, 0.00628341, 0.00730788, 0.00864304,\n",
       "        0.01177784, 0.00434401, 0.00726691, 0.00621339, 0.01099226,\n",
       "        0.01249115, 0.01654628, 0.00952305, 0.00941311]),\n",
       " 'rank_test_score': array([ 7,  3,  9,  2,  6,  4,  5, 10, 15, 16,  1,  8, 12, 14, 17, 23, 11,\n",
       "        21, 13, 18, 22, 20, 19, 24])}"
      ]
     },
     "execution_count": 61,
     "metadata": {},
     "output_type": "execute_result"
    }
   ],
   "source": [
    "grid_search_adb_reg.cv_results_"
   ]
  },
  {
   "cell_type": "code",
   "execution_count": 62,
   "id": "particular-cambridge",
   "metadata": {},
   "outputs": [
    {
     "data": {
      "text/html": [
       "<div>\n",
       "<style scoped>\n",
       "    .dataframe tbody tr th:only-of-type {\n",
       "        vertical-align: middle;\n",
       "    }\n",
       "\n",
       "    .dataframe tbody tr th {\n",
       "        vertical-align: top;\n",
       "    }\n",
       "\n",
       "    .dataframe thead th {\n",
       "        text-align: right;\n",
       "    }\n",
       "</style>\n",
       "<table border=\"1\" class=\"dataframe\">\n",
       "  <thead>\n",
       "    <tr style=\"text-align: right;\">\n",
       "      <th></th>\n",
       "      <th>mean_fit_time</th>\n",
       "      <th>std_fit_time</th>\n",
       "      <th>mean_score_time</th>\n",
       "      <th>std_score_time</th>\n",
       "      <th>param_learning_rate</th>\n",
       "      <th>param_loss</th>\n",
       "      <th>param_n_estimators</th>\n",
       "      <th>params</th>\n",
       "      <th>split0_test_score</th>\n",
       "      <th>split1_test_score</th>\n",
       "      <th>split2_test_score</th>\n",
       "      <th>split3_test_score</th>\n",
       "      <th>split4_test_score</th>\n",
       "      <th>mean_test_score</th>\n",
       "      <th>std_test_score</th>\n",
       "      <th>rank_test_score</th>\n",
       "    </tr>\n",
       "  </thead>\n",
       "  <tbody>\n",
       "    <tr>\n",
       "      <th>0</th>\n",
       "      <td>0.877899</td>\n",
       "      <td>0.056521</td>\n",
       "      <td>0.010500</td>\n",
       "      <td>0.000894</td>\n",
       "      <td>0.01</td>\n",
       "      <td>linear</td>\n",
       "      <td>50</td>\n",
       "      <td>{'learning_rate': 0.01, 'loss': 'linear', 'n_e...</td>\n",
       "      <td>0.821176</td>\n",
       "      <td>0.812175</td>\n",
       "      <td>0.805322</td>\n",
       "      <td>0.807937</td>\n",
       "      <td>0.820913</td>\n",
       "      <td>0.813505</td>\n",
       "      <td>0.006534</td>\n",
       "      <td>7</td>\n",
       "    </tr>\n",
       "    <tr>\n",
       "      <th>1</th>\n",
       "      <td>1.701700</td>\n",
       "      <td>0.050587</td>\n",
       "      <td>0.020100</td>\n",
       "      <td>0.001114</td>\n",
       "      <td>0.01</td>\n",
       "      <td>linear</td>\n",
       "      <td>100</td>\n",
       "      <td>{'learning_rate': 0.01, 'loss': 'linear', 'n_e...</td>\n",
       "      <td>0.823522</td>\n",
       "      <td>0.817429</td>\n",
       "      <td>0.809791</td>\n",
       "      <td>0.810704</td>\n",
       "      <td>0.822893</td>\n",
       "      <td>0.816868</td>\n",
       "      <td>0.005813</td>\n",
       "      <td>3</td>\n",
       "    </tr>\n",
       "    <tr>\n",
       "      <th>2</th>\n",
       "      <td>0.859701</td>\n",
       "      <td>0.058843</td>\n",
       "      <td>0.010599</td>\n",
       "      <td>0.000970</td>\n",
       "      <td>0.01</td>\n",
       "      <td>square</td>\n",
       "      <td>50</td>\n",
       "      <td>{'learning_rate': 0.01, 'loss': 'square', 'n_e...</td>\n",
       "      <td>0.816413</td>\n",
       "      <td>0.810588</td>\n",
       "      <td>0.805629</td>\n",
       "      <td>0.808518</td>\n",
       "      <td>0.819915</td>\n",
       "      <td>0.812213</td>\n",
       "      <td>0.005227</td>\n",
       "      <td>9</td>\n",
       "    </tr>\n",
       "    <tr>\n",
       "      <th>3</th>\n",
       "      <td>1.739600</td>\n",
       "      <td>0.081658</td>\n",
       "      <td>0.019600</td>\n",
       "      <td>0.000584</td>\n",
       "      <td>0.01</td>\n",
       "      <td>square</td>\n",
       "      <td>100</td>\n",
       "      <td>{'learning_rate': 0.01, 'loss': 'square', 'n_e...</td>\n",
       "      <td>0.822480</td>\n",
       "      <td>0.822418</td>\n",
       "      <td>0.807526</td>\n",
       "      <td>0.812286</td>\n",
       "      <td>0.821558</td>\n",
       "      <td>0.817254</td>\n",
       "      <td>0.006194</td>\n",
       "      <td>2</td>\n",
       "    </tr>\n",
       "    <tr>\n",
       "      <th>4</th>\n",
       "      <td>0.873699</td>\n",
       "      <td>0.062608</td>\n",
       "      <td>0.009899</td>\n",
       "      <td>0.000374</td>\n",
       "      <td>0.01</td>\n",
       "      <td>exponential</td>\n",
       "      <td>50</td>\n",
       "      <td>{'learning_rate': 0.01, 'loss': 'exponential',...</td>\n",
       "      <td>0.822772</td>\n",
       "      <td>0.815927</td>\n",
       "      <td>0.805827</td>\n",
       "      <td>0.807975</td>\n",
       "      <td>0.821119</td>\n",
       "      <td>0.814724</td>\n",
       "      <td>0.006809</td>\n",
       "      <td>6</td>\n",
       "    </tr>\n",
       "  </tbody>\n",
       "</table>\n",
       "</div>"
      ],
      "text/plain": [
       "   mean_fit_time  std_fit_time  mean_score_time  std_score_time  \\\n",
       "0       0.877899      0.056521         0.010500        0.000894   \n",
       "1       1.701700      0.050587         0.020100        0.001114   \n",
       "2       0.859701      0.058843         0.010599        0.000970   \n",
       "3       1.739600      0.081658         0.019600        0.000584   \n",
       "4       0.873699      0.062608         0.009899        0.000374   \n",
       "\n",
       "  param_learning_rate   param_loss param_n_estimators  \\\n",
       "0                0.01       linear                 50   \n",
       "1                0.01       linear                100   \n",
       "2                0.01       square                 50   \n",
       "3                0.01       square                100   \n",
       "4                0.01  exponential                 50   \n",
       "\n",
       "                                              params  split0_test_score  \\\n",
       "0  {'learning_rate': 0.01, 'loss': 'linear', 'n_e...           0.821176   \n",
       "1  {'learning_rate': 0.01, 'loss': 'linear', 'n_e...           0.823522   \n",
       "2  {'learning_rate': 0.01, 'loss': 'square', 'n_e...           0.816413   \n",
       "3  {'learning_rate': 0.01, 'loss': 'square', 'n_e...           0.822480   \n",
       "4  {'learning_rate': 0.01, 'loss': 'exponential',...           0.822772   \n",
       "\n",
       "   split1_test_score  split2_test_score  split3_test_score  split4_test_score  \\\n",
       "0           0.812175           0.805322           0.807937           0.820913   \n",
       "1           0.817429           0.809791           0.810704           0.822893   \n",
       "2           0.810588           0.805629           0.808518           0.819915   \n",
       "3           0.822418           0.807526           0.812286           0.821558   \n",
       "4           0.815927           0.805827           0.807975           0.821119   \n",
       "\n",
       "   mean_test_score  std_test_score  rank_test_score  \n",
       "0         0.813505        0.006534                7  \n",
       "1         0.816868        0.005813                3  \n",
       "2         0.812213        0.005227                9  \n",
       "3         0.817254        0.006194                2  \n",
       "4         0.814724        0.006809                6  "
      ]
     },
     "execution_count": 62,
     "metadata": {},
     "output_type": "execute_result"
    }
   ],
   "source": [
    "df_grid_search_adb_reg = pd.DataFrame(grid_search_adb_reg.cv_results_)\n",
    "df_grid_search_adb_reg.head(5)"
   ]
  },
  {
   "cell_type": "code",
   "execution_count": 63,
   "id": "empty-vegetable",
   "metadata": {},
   "outputs": [],
   "source": [
    "df_grid_search_adb_reg.sort_values([\"param_loss\", \"param_learning_rate\", \"param_n_estimators\", \"mean_test_score\"], inplace=True)"
   ]
  },
  {
   "cell_type": "code",
   "execution_count": 64,
   "id": "married-currency",
   "metadata": {},
   "outputs": [
    {
     "data": {
      "image/png": "[encoded data removed]",
      "text/plain": [
       "<Figure size 648x216 with 3 Axes>"
      ]
     },
     "metadata": {
      "needs_background": "light"
     },
     "output_type": "display_data"
    }
   ],
   "source": [
    "fig_adb_reg = sns.FacetGrid(df_grid_search_adb_reg, col=\"param_loss\")\n",
    "fig_adb_reg.map(sns.lineplot, \"param_learning_rate\", \"mean_test_score\", \"param_n_estimators\")\n",
    "plt.plot([], [], ' ', label=\"param_n_estimators\")\n",
    "plt.legend()\n",
    "plt.show()"
   ]
  },
  {
   "cell_type": "code",
   "execution_count": 65,
   "id": "simplified-bahamas",
   "metadata": {},
   "outputs": [
    {
     "data": {
      "text/plain": [
       "0.6911967395958438"
      ]
     },
     "execution_count": 65,
     "metadata": {},
     "output_type": "execute_result"
    }
   ],
   "source": [
    "grid_search_adb_reg.score(X_test, y_test)"
   ]
  },
  {
   "cell_type": "code",
   "execution_count": 66,
   "id": "documented-craps",
   "metadata": {},
   "outputs": [
    {
     "name": "stdout",
     "output_type": "stream",
     "text": [
      "RMSE: 0.5254206505315876\n"
     ]
    },
    {
     "data": {
      "image/png": "[encoded data removed]",
      "text/plain": [
       "<Figure size 432x288 with 1 Axes>"
      ]
     },
     "metadata": {
      "needs_background": "light"
     },
     "output_type": "display_data"
    }
   ],
   "source": [
    "plot_test(grid_search_adb_reg, X_test, y_test)"
   ]
  },
  {
   "cell_type": "markdown",
   "id": "increasing-tuesday",
   "metadata": {},
   "source": [
    "## Gradient Boosting Regressor "
   ]
  },
  {
   "cell_type": "code",
   "execution_count": 67,
   "id": "future-assets",
   "metadata": {},
   "outputs": [],
   "source": [
    "from sklearn.ensemble import GradientBoostingRegressor"
   ]
  },
  {
   "cell_type": "code",
   "execution_count": 68,
   "id": "abroad-favorite",
   "metadata": {},
   "outputs": [],
   "source": [
    "param_grid_gb_reg = {\n",
    "    \"n_estimators\": [50, 100, 200, 500],\n",
    "    \"max_depth\": [5, 7, 10]\n",
    "}"
   ]
  },
  {
   "cell_type": "code",
   "execution_count": 69,
   "id": "spanish-piano",
   "metadata": {},
   "outputs": [],
   "source": [
    "grid_search_gb_reg = GridSearchCV(GradientBoostingRegressor(), param_grid_gb_reg, cv=5, n_jobs=-1)"
   ]
  },
  {
   "cell_type": "code",
   "execution_count": 70,
   "id": "ecological-category",
   "metadata": {},
   "outputs": [
    {
     "data": {
      "text/plain": [
       "GridSearchCV(cv=5, estimator=GradientBoostingRegressor(), n_jobs=-1,\n",
       "             param_grid={'max_depth': [5, 7, 10],\n",
       "                         'n_estimators': [50, 100, 200, 500]})"
      ]
     },
     "execution_count": 70,
     "metadata": {},
     "output_type": "execute_result"
    }
   ],
   "source": [
    "grid_search_gb_reg.fit(X_train, y_train)"
   ]
  },
  {
   "cell_type": "code",
   "execution_count": 71,
   "id": "moderate-delta",
   "metadata": {},
   "outputs": [
    {
     "data": {
      "text/plain": [
       "{'max_depth': 10, 'n_estimators': 500}"
      ]
     },
     "execution_count": 71,
     "metadata": {},
     "output_type": "execute_result"
    }
   ],
   "source": [
    "grid_search_gb_reg.best_params_"
   ]
  },
  {
   "cell_type": "code",
   "execution_count": 72,
   "id": "eligible-withdrawal",
   "metadata": {
    "collapsed": true,
    "jupyter": {
     "outputs_hidden": true
    }
   },
   "outputs": [
    {
     "data": {
      "text/plain": [
       "{'mean_fit_time': array([ 1.19009109,  2.44949841,  5.08539953, 13.29389892,  1.6469996 ,\n",
       "         3.69379988,  7.23299961, 17.63239956,  2.33299956,  4.74119883,\n",
       "         9.68859944, 20.49749913]),\n",
       " 'std_fit_time': array([0.00675227, 0.03167134, 0.08051179, 0.16728213, 0.03231561,\n",
       "        0.18332025, 0.14310686, 0.1878336 , 0.11003582, 0.11201754,\n",
       "        0.16579724, 0.76252836]),\n",
       " 'mean_score_time': array([0.00330009, 0.00420055, 0.00669951, 0.01870027, 0.00410023,\n",
       "        0.00980244, 0.0095006 , 0.01930017, 0.00749984, 0.00980005,\n",
       "        0.01509991, 0.02379994]),\n",
       " 'std_score_time': array([8.72121796e-04, 2.44913034e-04, 3.99971293e-04, 5.62682854e-03,\n",
       "        1.99844131e-04, 6.38309111e-03, 5.76164530e-07, 1.86011653e-03,\n",
       "        6.32485129e-04, 2.44775595e-04, 7.34916978e-04, 3.99673272e-04]),\n",
       " 'param_max_depth': masked_array(data=[5, 5, 5, 5, 7, 7, 7, 7, 10, 10, 10, 10],\n",
       "              mask=[False, False, False, False, False, False, False, False,\n",
       "                    False, False, False, False],\n",
       "        fill_value='?',\n",
       "             dtype=object),\n",
       " 'param_n_estimators': masked_array(data=[50, 100, 200, 500, 50, 100, 200, 500, 50, 100, 200,\n",
       "                    500],\n",
       "              mask=[False, False, False, False, False, False, False, False,\n",
       "                    False, False, False, False],\n",
       "        fill_value='?',\n",
       "             dtype=object),\n",
       " 'params': [{'max_depth': 5, 'n_estimators': 50},\n",
       "  {'max_depth': 5, 'n_estimators': 100},\n",
       "  {'max_depth': 5, 'n_estimators': 200},\n",
       "  {'max_depth': 5, 'n_estimators': 500},\n",
       "  {'max_depth': 7, 'n_estimators': 50},\n",
       "  {'max_depth': 7, 'n_estimators': 100},\n",
       "  {'max_depth': 7, 'n_estimators': 200},\n",
       "  {'max_depth': 7, 'n_estimators': 500},\n",
       "  {'max_depth': 10, 'n_estimators': 50},\n",
       "  {'max_depth': 10, 'n_estimators': 100},\n",
       "  {'max_depth': 10, 'n_estimators': 200},\n",
       "  {'max_depth': 10, 'n_estimators': 500}],\n",
       " 'split0_test_score': array([0.89985066, 0.90811243, 0.91687134, 0.92496847, 0.91868702,\n",
       "        0.92449454, 0.9295652 , 0.93418944, 0.93211199, 0.93388549,\n",
       "        0.93509467, 0.93664961]),\n",
       " 'split1_test_score': array([0.89677898, 0.90358518, 0.91113352, 0.91869516, 0.91290286,\n",
       "        0.9181959 , 0.92329204, 0.92696849, 0.92550203, 0.92784551,\n",
       "        0.92887313, 0.93013918]),\n",
       " 'split2_test_score': array([0.89023014, 0.89884154, 0.90854838, 0.91899086, 0.91244   ,\n",
       "        0.91792945, 0.92367228, 0.92893018, 0.92708973, 0.92968997,\n",
       "        0.93155841, 0.93244201]),\n",
       " 'split3_test_score': array([0.90198567, 0.90713998, 0.9139726 , 0.92171028, 0.91546492,\n",
       "        0.92045523, 0.92533139, 0.92965015, 0.92529281, 0.92685331,\n",
       "        0.92823594, 0.9290453 ]),\n",
       " 'split4_test_score': array([0.90348752, 0.91064485, 0.92110987, 0.92939725, 0.92388538,\n",
       "        0.93128542, 0.93592729, 0.93797019, 0.94171958, 0.94345466,\n",
       "        0.94337194, 0.9439575 ]),\n",
       " 'mean_test_score': array([0.89846659, 0.9056648 , 0.91432714, 0.9227524 , 0.91667603,\n",
       "        0.92247211, 0.92755764, 0.93154169, 0.93034323, 0.93234579,\n",
       "        0.93342682, 0.93444672]),\n",
       " 'std_test_score': array([0.0046946 , 0.00409511, 0.00438628, 0.00401899, 0.00423477,\n",
       "        0.00499508, 0.00473981, 0.0039912 , 0.00619805, 0.00605394,\n",
       "        0.00552918, 0.00542322]),\n",
       " 'rank_test_score': array([12, 11, 10,  7,  9,  8,  6,  4,  5,  3,  2,  1])}"
      ]
     },
     "execution_count": 72,
     "metadata": {},
     "output_type": "execute_result"
    }
   ],
   "source": [
    "grid_search_gb_reg.cv_results_"
   ]
  },
  {
   "cell_type": "code",
   "execution_count": 73,
   "id": "little-fellowship",
   "metadata": {},
   "outputs": [
    {
     "data": {
      "text/html": [
       "<div>\n",
       "<style scoped>\n",
       "    .dataframe tbody tr th:only-of-type {\n",
       "        vertical-align: middle;\n",
       "    }\n",
       "\n",
       "    .dataframe tbody tr th {\n",
       "        vertical-align: top;\n",
       "    }\n",
       "\n",
       "    .dataframe thead th {\n",
       "        text-align: right;\n",
       "    }\n",
       "</style>\n",
       "<table border=\"1\" class=\"dataframe\">\n",
       "  <thead>\n",
       "    <tr style=\"text-align: right;\">\n",
       "      <th></th>\n",
       "      <th>mean_fit_time</th>\n",
       "      <th>std_fit_time</th>\n",
       "      <th>mean_score_time</th>\n",
       "      <th>std_score_time</th>\n",
       "      <th>param_max_depth</th>\n",
       "      <th>param_n_estimators</th>\n",
       "      <th>params</th>\n",
       "      <th>split0_test_score</th>\n",
       "      <th>split1_test_score</th>\n",
       "      <th>split2_test_score</th>\n",
       "      <th>split3_test_score</th>\n",
       "      <th>split4_test_score</th>\n",
       "      <th>mean_test_score</th>\n",
       "      <th>std_test_score</th>\n",
       "      <th>rank_test_score</th>\n",
       "    </tr>\n",
       "  </thead>\n",
       "  <tbody>\n",
       "    <tr>\n",
       "      <th>0</th>\n",
       "      <td>1.190091</td>\n",
       "      <td>0.006752</td>\n",
       "      <td>0.003300</td>\n",
       "      <td>0.000872</td>\n",
       "      <td>5</td>\n",
       "      <td>50</td>\n",
       "      <td>{'max_depth': 5, 'n_estimators': 50}</td>\n",
       "      <td>0.899851</td>\n",
       "      <td>0.896779</td>\n",
       "      <td>0.890230</td>\n",
       "      <td>0.901986</td>\n",
       "      <td>0.903488</td>\n",
       "      <td>0.898467</td>\n",
       "      <td>0.004695</td>\n",
       "      <td>12</td>\n",
       "    </tr>\n",
       "    <tr>\n",
       "      <th>1</th>\n",
       "      <td>2.449498</td>\n",
       "      <td>0.031671</td>\n",
       "      <td>0.004201</td>\n",
       "      <td>0.000245</td>\n",
       "      <td>5</td>\n",
       "      <td>100</td>\n",
       "      <td>{'max_depth': 5, 'n_estimators': 100}</td>\n",
       "      <td>0.908112</td>\n",
       "      <td>0.903585</td>\n",
       "      <td>0.898842</td>\n",
       "      <td>0.907140</td>\n",
       "      <td>0.910645</td>\n",
       "      <td>0.905665</td>\n",
       "      <td>0.004095</td>\n",
       "      <td>11</td>\n",
       "    </tr>\n",
       "    <tr>\n",
       "      <th>2</th>\n",
       "      <td>5.085400</td>\n",
       "      <td>0.080512</td>\n",
       "      <td>0.006700</td>\n",
       "      <td>0.000400</td>\n",
       "      <td>5</td>\n",
       "      <td>200</td>\n",
       "      <td>{'max_depth': 5, 'n_estimators': 200}</td>\n",
       "      <td>0.916871</td>\n",
       "      <td>0.911134</td>\n",
       "      <td>0.908548</td>\n",
       "      <td>0.913973</td>\n",
       "      <td>0.921110</td>\n",
       "      <td>0.914327</td>\n",
       "      <td>0.004386</td>\n",
       "      <td>10</td>\n",
       "    </tr>\n",
       "    <tr>\n",
       "      <th>3</th>\n",
       "      <td>13.293899</td>\n",
       "      <td>0.167282</td>\n",
       "      <td>0.018700</td>\n",
       "      <td>0.005627</td>\n",
       "      <td>5</td>\n",
       "      <td>500</td>\n",
       "      <td>{'max_depth': 5, 'n_estimators': 500}</td>\n",
       "      <td>0.924968</td>\n",
       "      <td>0.918695</td>\n",
       "      <td>0.918991</td>\n",
       "      <td>0.921710</td>\n",
       "      <td>0.929397</td>\n",
       "      <td>0.922752</td>\n",
       "      <td>0.004019</td>\n",
       "      <td>7</td>\n",
       "    </tr>\n",
       "    <tr>\n",
       "      <th>4</th>\n",
       "      <td>1.647000</td>\n",
       "      <td>0.032316</td>\n",
       "      <td>0.004100</td>\n",
       "      <td>0.000200</td>\n",
       "      <td>7</td>\n",
       "      <td>50</td>\n",
       "      <td>{'max_depth': 7, 'n_estimators': 50}</td>\n",
       "      <td>0.918687</td>\n",
       "      <td>0.912903</td>\n",
       "      <td>0.912440</td>\n",
       "      <td>0.915465</td>\n",
       "      <td>0.923885</td>\n",
       "      <td>0.916676</td>\n",
       "      <td>0.004235</td>\n",
       "      <td>9</td>\n",
       "    </tr>\n",
       "  </tbody>\n",
       "</table>\n",
       "</div>"
      ],
      "text/plain": [
       "   mean_fit_time  std_fit_time  mean_score_time  std_score_time  \\\n",
       "0       1.190091      0.006752         0.003300        0.000872   \n",
       "1       2.449498      0.031671         0.004201        0.000245   \n",
       "2       5.085400      0.080512         0.006700        0.000400   \n",
       "3      13.293899      0.167282         0.018700        0.005627   \n",
       "4       1.647000      0.032316         0.004100        0.000200   \n",
       "\n",
       "  param_max_depth param_n_estimators                                 params  \\\n",
       "0               5                 50   {'max_depth': 5, 'n_estimators': 50}   \n",
       "1               5                100  {'max_depth': 5, 'n_estimators': 100}   \n",
       "2               5                200  {'max_depth': 5, 'n_estimators': 200}   \n",
       "3               5                500  {'max_depth': 5, 'n_estimators': 500}   \n",
       "4               7                 50   {'max_depth': 7, 'n_estimators': 50}   \n",
       "\n",
       "   split0_test_score  split1_test_score  split2_test_score  split3_test_score  \\\n",
       "0           0.899851           0.896779           0.890230           0.901986   \n",
       "1           0.908112           0.903585           0.898842           0.907140   \n",
       "2           0.916871           0.911134           0.908548           0.913973   \n",
       "3           0.924968           0.918695           0.918991           0.921710   \n",
       "4           0.918687           0.912903           0.912440           0.915465   \n",
       "\n",
       "   split4_test_score  mean_test_score  std_test_score  rank_test_score  \n",
       "0           0.903488         0.898467        0.004695               12  \n",
       "1           0.910645         0.905665        0.004095               11  \n",
       "2           0.921110         0.914327        0.004386               10  \n",
       "3           0.929397         0.922752        0.004019                7  \n",
       "4           0.923885         0.916676        0.004235                9  "
      ]
     },
     "execution_count": 73,
     "metadata": {},
     "output_type": "execute_result"
    }
   ],
   "source": [
    "df_grid_search_gb_reg = pd.DataFrame(grid_search_gb_reg.cv_results_)\n",
    "df_grid_search_gb_reg.head(5)"
   ]
  },
  {
   "cell_type": "code",
   "execution_count": 74,
   "id": "qualified-allen",
   "metadata": {},
   "outputs": [],
   "source": [
    "df_grid_search_gb_reg.sort_values([\"param_max_depth\", \"param_n_estimators\", \"mean_test_score\"], inplace=True)"
   ]
  },
  {
   "cell_type": "code",
   "execution_count": 75,
   "id": "coordinated-asian",
   "metadata": {},
   "outputs": [
    {
     "data": {
      "image/png": "[encoded data removed]",
      "text/plain": [
       "<Figure size 432x288 with 1 Axes>"
      ]
     },
     "metadata": {
      "needs_background": "light"
     },
     "output_type": "display_data"
    }
   ],
   "source": [
    "sns.lineplot(x=\"param_max_depth\", y=\"mean_test_score\", hue=\"param_n_estimators\", data=df_grid_search_gb_reg);"
   ]
  },
  {
   "cell_type": "code",
   "execution_count": 76,
   "id": "normal-bidding",
   "metadata": {},
   "outputs": [
    {
     "data": {
      "text/plain": [
       "0.7688409040553466"
      ]
     },
     "execution_count": 76,
     "metadata": {},
     "output_type": "execute_result"
    }
   ],
   "source": [
    "grid_search_gb_reg.score(X_test, y_test)"
   ]
  },
  {
   "cell_type": "code",
   "execution_count": 77,
   "id": "difficult-auckland",
   "metadata": {},
   "outputs": [
    {
     "name": "stdout",
     "output_type": "stream",
     "text": [
      "RMSE: 0.4545918997851012\n"
     ]
    },
    {
     "data": {
      "image/png": "[encoded data removed]",
      "text/plain": [
       "<Figure size 432x288 with 1 Axes>"
      ]
     },
     "metadata": {
      "needs_background": "light"
     },
     "output_type": "display_data"
    }
   ],
   "source": [
    "plot_test(grid_search_gb_reg, X_test, y_test)"
   ]
  },
  {
   "cell_type": "markdown",
   "id": "sufficient-halifax",
   "metadata": {},
   "source": [
    "## XGBoost Regressor"
   ]
  },
  {
   "cell_type": "code",
   "execution_count": 78,
   "id": "least-snowboard",
   "metadata": {},
   "outputs": [],
   "source": [
    "from xgboost import XGBRegressor"
   ]
  },
  {
   "cell_type": "code",
   "execution_count": 79,
   "id": "advisory-accommodation",
   "metadata": {},
   "outputs": [],
   "source": [
    "param_grid_xgb_reg = {\n",
    "    'min_child_weight': [1, 5, 10],\n",
    "    'subsample': [0.6, 0.8, 1.0],\n",
    "    'max_depth': [3, 4, 5]\n",
    "}"
   ]
  },
  {
   "cell_type": "code",
   "execution_count": 80,
   "id": "compliant-platinum",
   "metadata": {},
   "outputs": [],
   "source": [
    "grid_search_xgb_reg = GridSearchCV(XGBRegressor(), param_grid_xgb_reg, cv=5, n_jobs=-1)"
   ]
  },
  {
   "cell_type": "code",
   "execution_count": 81,
   "id": "oriented-toilet",
   "metadata": {
    "collapsed": true,
    "jupyter": {
     "outputs_hidden": true
    }
   },
   "outputs": [
    {
     "data": {
      "text/plain": [
       "GridSearchCV(cv=5,\n",
       "             estimator=XGBRegressor(base_score=None, booster=None,\n",
       "                                    colsample_bylevel=None,\n",
       "                                    colsample_bynode=None,\n",
       "                                    colsample_bytree=None, gamma=None,\n",
       "                                    gpu_id=None, importance_type='gain',\n",
       "                                    interaction_constraints=None,\n",
       "                                    learning_rate=None, max_delta_step=None,\n",
       "                                    max_depth=None, min_child_weight=None,\n",
       "                                    missing=nan, monotone_constraints=None,\n",
       "                                    n_estimators=100, n_jobs=None,\n",
       "                                    num_parallel_tree=None, random_state=None,\n",
       "                                    reg_alpha=None, reg_lambda=None,\n",
       "                                    scale_pos_weight=None, subsample=None,\n",
       "                                    tree_method=None, validate_parameters=None,\n",
       "                                    verbosity=None),\n",
       "             n_jobs=-1,\n",
       "             param_grid={'max_depth': [3, 4, 5], 'min_child_weight': [1, 5, 10],\n",
       "                         'subsample': [0.6, 0.8, 1.0]})"
      ]
     },
     "execution_count": 81,
     "metadata": {},
     "output_type": "execute_result"
    }
   ],
   "source": [
    "grid_search_xgb_reg.fit(X_train, y_train)"
   ]
  },
  {
   "cell_type": "code",
   "execution_count": 82,
   "id": "ranging-homeless",
   "metadata": {},
   "outputs": [
    {
     "data": {
      "text/plain": [
       "{'max_depth': 5, 'min_child_weight': 5, 'subsample': 1.0}"
      ]
     },
     "execution_count": 82,
     "metadata": {},
     "output_type": "execute_result"
    }
   ],
   "source": [
    "grid_search_xgb_reg.best_params_"
   ]
  },
  {
   "cell_type": "code",
   "execution_count": 83,
   "id": "built-pension",
   "metadata": {
    "collapsed": true,
    "jupyter": {
     "outputs_hidden": true
    }
   },
   "outputs": [
    {
     "data": {
      "text/plain": [
       "{'mean_fit_time': array([0.96949921, 1.00789957, 0.90150003, 0.84789963, 0.84050045,\n",
       "        0.8548996 , 0.88379931, 0.90700006, 0.85840054, 1.14569969,\n",
       "        1.13419895, 1.10969911, 1.15620041, 1.16529994, 1.12539883,\n",
       "        1.07769966, 1.17529993, 1.19399986, 1.58389974, 1.47779989,\n",
       "        1.42729983, 1.47718806, 1.53349977, 1.48399787, 1.35649924,\n",
       "        1.25549917, 0.90749998]),\n",
       " 'std_fit_time': array([0.054112  , 0.05688095, 0.04543876, 0.01883455, 0.01132667,\n",
       "        0.01263483, 0.01335824, 0.00301593, 0.01207645, 0.0389162 ,\n",
       "        0.02024528, 0.0453336 , 0.04891677, 0.02760001, 0.03861992,\n",
       "        0.02975352, 0.02546107, 0.01087164, 0.0081574 , 0.04758695,\n",
       "        0.02013623, 0.03307346, 0.03389212, 0.04882406, 0.02086852,\n",
       "        0.08129199, 0.15063263]),\n",
       " 'mean_score_time': array([0.0041007 , 0.00399995, 0.0030005 , 0.00350032, 0.00359998,\n",
       "        0.0031004 , 0.00550051, 0.00349998, 0.00450015, 0.00320091,\n",
       "        0.00650048, 0.00320005, 0.00650029, 0.00800014, 0.00380054,\n",
       "        0.00440063, 0.00360084, 0.00350094, 0.00320048, 0.00440006,\n",
       "        0.00350075, 0.00470071, 0.00460057, 0.00360012, 0.00440087,\n",
       "        0.00300035, 0.00190043]),\n",
       " 'std_score_time': array([0.00120023, 0.00130431, 0.00044766, 0.00044793, 0.00058285,\n",
       "        0.00019956, 0.00308194, 0.00083643, 0.00144926, 0.00067806,\n",
       "        0.00221354, 0.00024509, 0.00230156, 0.00694996, 0.00081237,\n",
       "        0.00106819, 0.00037327, 0.00054768, 0.00024435, 0.00097002,\n",
       "        0.00054742, 0.00067816, 0.00159372, 0.00020039, 0.0010194 ,\n",
       "        0.00044675, 0.00066318]),\n",
       " 'param_max_depth': masked_array(data=[3, 3, 3, 3, 3, 3, 3, 3, 3, 4, 4, 4, 4, 4, 4, 4, 4, 4,\n",
       "                    5, 5, 5, 5, 5, 5, 5, 5, 5],\n",
       "              mask=[False, False, False, False, False, False, False, False,\n",
       "                    False, False, False, False, False, False, False, False,\n",
       "                    False, False, False, False, False, False, False, False,\n",
       "                    False, False, False],\n",
       "        fill_value='?',\n",
       "             dtype=object),\n",
       " 'param_min_child_weight': masked_array(data=[1, 1, 1, 5, 5, 5, 10, 10, 10, 1, 1, 1, 5, 5, 5, 10, 10,\n",
       "                    10, 1, 1, 1, 5, 5, 5, 10, 10, 10],\n",
       "              mask=[False, False, False, False, False, False, False, False,\n",
       "                    False, False, False, False, False, False, False, False,\n",
       "                    False, False, False, False, False, False, False, False,\n",
       "                    False, False, False],\n",
       "        fill_value='?',\n",
       "             dtype=object),\n",
       " 'param_subsample': masked_array(data=[0.6, 0.8, 1.0, 0.6, 0.8, 1.0, 0.6, 0.8, 1.0, 0.6, 0.8,\n",
       "                    1.0, 0.6, 0.8, 1.0, 0.6, 0.8, 1.0, 0.6, 0.8, 1.0, 0.6,\n",
       "                    0.8, 1.0, 0.6, 0.8, 1.0],\n",
       "              mask=[False, False, False, False, False, False, False, False,\n",
       "                    False, False, False, False, False, False, False, False,\n",
       "                    False, False, False, False, False, False, False, False,\n",
       "                    False, False, False],\n",
       "        fill_value='?',\n",
       "             dtype=object),\n",
       " 'params': [{'max_depth': 3, 'min_child_weight': 1, 'subsample': 0.6},\n",
       "  {'max_depth': 3, 'min_child_weight': 1, 'subsample': 0.8},\n",
       "  {'max_depth': 3, 'min_child_weight': 1, 'subsample': 1.0},\n",
       "  {'max_depth': 3, 'min_child_weight': 5, 'subsample': 0.6},\n",
       "  {'max_depth': 3, 'min_child_weight': 5, 'subsample': 0.8},\n",
       "  {'max_depth': 3, 'min_child_weight': 5, 'subsample': 1.0},\n",
       "  {'max_depth': 3, 'min_child_weight': 10, 'subsample': 0.6},\n",
       "  {'max_depth': 3, 'min_child_weight': 10, 'subsample': 0.8},\n",
       "  {'max_depth': 3, 'min_child_weight': 10, 'subsample': 1.0},\n",
       "  {'max_depth': 4, 'min_child_weight': 1, 'subsample': 0.6},\n",
       "  {'max_depth': 4, 'min_child_weight': 1, 'subsample': 0.8},\n",
       "  {'max_depth': 4, 'min_child_weight': 1, 'subsample': 1.0},\n",
       "  {'max_depth': 4, 'min_child_weight': 5, 'subsample': 0.6},\n",
       "  {'max_depth': 4, 'min_child_weight': 5, 'subsample': 0.8},\n",
       "  {'max_depth': 4, 'min_child_weight': 5, 'subsample': 1.0},\n",
       "  {'max_depth': 4, 'min_child_weight': 10, 'subsample': 0.6},\n",
       "  {'max_depth': 4, 'min_child_weight': 10, 'subsample': 0.8},\n",
       "  {'max_depth': 4, 'min_child_weight': 10, 'subsample': 1.0},\n",
       "  {'max_depth': 5, 'min_child_weight': 1, 'subsample': 0.6},\n",
       "  {'max_depth': 5, 'min_child_weight': 1, 'subsample': 0.8},\n",
       "  {'max_depth': 5, 'min_child_weight': 1, 'subsample': 1.0},\n",
       "  {'max_depth': 5, 'min_child_weight': 5, 'subsample': 0.6},\n",
       "  {'max_depth': 5, 'min_child_weight': 5, 'subsample': 0.8},\n",
       "  {'max_depth': 5, 'min_child_weight': 5, 'subsample': 1.0},\n",
       "  {'max_depth': 5, 'min_child_weight': 10, 'subsample': 0.6},\n",
       "  {'max_depth': 5, 'min_child_weight': 10, 'subsample': 0.8},\n",
       "  {'max_depth': 5, 'min_child_weight': 10, 'subsample': 1.0}],\n",
       " 'split0_test_score': array([0.89613973, 0.89876577, 0.89994822, 0.89640239, 0.89895019,\n",
       "        0.89853705, 0.89479711, 0.89942298, 0.8991922 , 0.90814284,\n",
       "        0.91041573, 0.90891563, 0.90600024, 0.91108092, 0.9097514 ,\n",
       "        0.90356196, 0.90613009, 0.90938791, 0.91639103, 0.91898253,\n",
       "        0.91789166, 0.91502943, 0.92259122, 0.92054472, 0.91627531,\n",
       "        0.91801501, 0.91676091]),\n",
       " 'split1_test_score': array([0.89627889, 0.89629529, 0.89478864, 0.8972044 , 0.89512194,\n",
       "        0.89767298, 0.8952079 , 0.89719689, 0.89588545, 0.90528261,\n",
       "        0.90975262, 0.90672863, 0.90868733, 0.90703801, 0.90734711,\n",
       "        0.9026172 , 0.90983724, 0.9085162 , 0.91386322, 0.91433971,\n",
       "        0.91067165, 0.91256246, 0.91803788, 0.91831246, 0.91165628,\n",
       "        0.91329828, 0.91381133]),\n",
       " 'split2_test_score': array([0.89120881, 0.89038185, 0.88852059, 0.88915677, 0.88991117,\n",
       "        0.88872671, 0.89027796, 0.88913918, 0.88995078, 0.90194321,\n",
       "        0.89988846, 0.90224519, 0.8998774 , 0.90146191, 0.90039173,\n",
       "        0.89832443, 0.9000532 , 0.90253431, 0.90728228, 0.90988351,\n",
       "        0.9124695 , 0.90660176, 0.9127138 , 0.91589369, 0.90892356,\n",
       "        0.91043015, 0.91161863]),\n",
       " 'split3_test_score': array([0.89501992, 0.90069912, 0.89994146, 0.89677674, 0.89891403,\n",
       "        0.89837446, 0.89625371, 0.90056817, 0.90021984, 0.90834276,\n",
       "        0.91033522, 0.91010162, 0.90748975, 0.90959813, 0.9083854 ,\n",
       "        0.9030438 , 0.90660639, 0.90977041, 0.91379323, 0.9144201 ,\n",
       "        0.91627076, 0.91443758, 0.91462563, 0.91544605, 0.91051309,\n",
       "        0.91719255, 0.91265494]),\n",
       " 'split4_test_score': array([0.90231894, 0.90314647, 0.90073402, 0.90463047, 0.9048627 ,\n",
       "        0.90398638, 0.90306706, 0.90234889, 0.90043561, 0.91437907,\n",
       "        0.91510397, 0.91499994, 0.9116995 , 0.91403782, 0.91567181,\n",
       "        0.91155807, 0.91208802, 0.91396106, 0.92359763, 0.92384881,\n",
       "        0.9252351 , 0.91863827, 0.92065745, 0.9210668 , 0.91691188,\n",
       "        0.91802432, 0.92401934]),\n",
       " 'mean_test_score': array([0.89619326, 0.8978577 , 0.89678659, 0.89683415, 0.89755201,\n",
       "        0.89745952, 0.89592075, 0.89773522, 0.89713677, 0.9076181 ,\n",
       "        0.9090992 , 0.9085982 , 0.90675084, 0.90864336, 0.90830949,\n",
       "        0.90382109, 0.90694299, 0.90883398, 0.91498548, 0.91629493,\n",
       "        0.91650773, 0.9134539 , 0.91772519, 0.91825274, 0.91285602,\n",
       "        0.91539206, 0.91577303]),\n",
       " 'std_test_score': array([0.00357087, 0.00436346, 0.00464435, 0.00490003, 0.00493039,\n",
       "        0.00491743, 0.00411807, 0.00461176, 0.00394504, 0.00410293,\n",
       "        0.00499165, 0.00417611, 0.00391389, 0.00424509, 0.00489705,\n",
       "        0.00429406, 0.00407655, 0.00366763, 0.00525671, 0.00474823,\n",
       "        0.00506963, 0.00395156, 0.00366321, 0.00230731, 0.00317913,\n",
       "        0.00303496, 0.00446783]),\n",
       " 'rank_test_score': array([26, 19, 25, 24, 21, 22, 27, 20, 23, 15, 10, 13, 17, 12, 14, 18, 16,\n",
       "        11,  7,  4,  3,  8,  2,  1,  9,  6,  5])}"
      ]
     },
     "execution_count": 83,
     "metadata": {},
     "output_type": "execute_result"
    }
   ],
   "source": [
    "grid_search_xgb_reg.cv_results_"
   ]
  },
  {
   "cell_type": "code",
   "execution_count": 84,
   "id": "regional-belief",
   "metadata": {},
   "outputs": [
    {
     "data": {
      "text/html": [
       "<div>\n",
       "<style scoped>\n",
       "    .dataframe tbody tr th:only-of-type {\n",
       "        vertical-align: middle;\n",
       "    }\n",
       "\n",
       "    .dataframe tbody tr th {\n",
       "        vertical-align: top;\n",
       "    }\n",
       "\n",
       "    .dataframe thead th {\n",
       "        text-align: right;\n",
       "    }\n",
       "</style>\n",
       "<table border=\"1\" class=\"dataframe\">\n",
       "  <thead>\n",
       "    <tr style=\"text-align: right;\">\n",
       "      <th></th>\n",
       "      <th>mean_fit_time</th>\n",
       "      <th>std_fit_time</th>\n",
       "      <th>mean_score_time</th>\n",
       "      <th>std_score_time</th>\n",
       "      <th>param_max_depth</th>\n",
       "      <th>param_min_child_weight</th>\n",
       "      <th>param_subsample</th>\n",
       "      <th>params</th>\n",
       "      <th>split0_test_score</th>\n",
       "      <th>split1_test_score</th>\n",
       "      <th>split2_test_score</th>\n",
       "      <th>split3_test_score</th>\n",
       "      <th>split4_test_score</th>\n",
       "      <th>mean_test_score</th>\n",
       "      <th>std_test_score</th>\n",
       "      <th>rank_test_score</th>\n",
       "    </tr>\n",
       "  </thead>\n",
       "  <tbody>\n",
       "    <tr>\n",
       "      <th>0</th>\n",
       "      <td>0.969499</td>\n",
       "      <td>0.054112</td>\n",
       "      <td>0.004101</td>\n",
       "      <td>0.001200</td>\n",
       "      <td>3</td>\n",
       "      <td>1</td>\n",
       "      <td>0.6</td>\n",
       "      <td>{'max_depth': 3, 'min_child_weight': 1, 'subsa...</td>\n",
       "      <td>0.896140</td>\n",
       "      <td>0.896279</td>\n",
       "      <td>0.891209</td>\n",
       "      <td>0.895020</td>\n",
       "      <td>0.902319</td>\n",
       "      <td>0.896193</td>\n",
       "      <td>0.003571</td>\n",
       "      <td>26</td>\n",
       "    </tr>\n",
       "    <tr>\n",
       "      <th>1</th>\n",
       "      <td>1.007900</td>\n",
       "      <td>0.056881</td>\n",
       "      <td>0.004000</td>\n",
       "      <td>0.001304</td>\n",
       "      <td>3</td>\n",
       "      <td>1</td>\n",
       "      <td>0.8</td>\n",
       "      <td>{'max_depth': 3, 'min_child_weight': 1, 'subsa...</td>\n",
       "      <td>0.898766</td>\n",
       "      <td>0.896295</td>\n",
       "      <td>0.890382</td>\n",
       "      <td>0.900699</td>\n",
       "      <td>0.903146</td>\n",
       "      <td>0.897858</td>\n",
       "      <td>0.004363</td>\n",
       "      <td>19</td>\n",
       "    </tr>\n",
       "    <tr>\n",
       "      <th>2</th>\n",
       "      <td>0.901500</td>\n",
       "      <td>0.045439</td>\n",
       "      <td>0.003000</td>\n",
       "      <td>0.000448</td>\n",
       "      <td>3</td>\n",
       "      <td>1</td>\n",
       "      <td>1.0</td>\n",
       "      <td>{'max_depth': 3, 'min_child_weight': 1, 'subsa...</td>\n",
       "      <td>0.899948</td>\n",
       "      <td>0.894789</td>\n",
       "      <td>0.888521</td>\n",
       "      <td>0.899941</td>\n",
       "      <td>0.900734</td>\n",
       "      <td>0.896787</td>\n",
       "      <td>0.004644</td>\n",
       "      <td>25</td>\n",
       "    </tr>\n",
       "    <tr>\n",
       "      <th>3</th>\n",
       "      <td>0.847900</td>\n",
       "      <td>0.018835</td>\n",
       "      <td>0.003500</td>\n",
       "      <td>0.000448</td>\n",
       "      <td>3</td>\n",
       "      <td>5</td>\n",
       "      <td>0.6</td>\n",
       "      <td>{'max_depth': 3, 'min_child_weight': 5, 'subsa...</td>\n",
       "      <td>0.896402</td>\n",
       "      <td>0.897204</td>\n",
       "      <td>0.889157</td>\n",
       "      <td>0.896777</td>\n",
       "      <td>0.904630</td>\n",
       "      <td>0.896834</td>\n",
       "      <td>0.004900</td>\n",
       "      <td>24</td>\n",
       "    </tr>\n",
       "    <tr>\n",
       "      <th>4</th>\n",
       "      <td>0.840500</td>\n",
       "      <td>0.011327</td>\n",
       "      <td>0.003600</td>\n",
       "      <td>0.000583</td>\n",
       "      <td>3</td>\n",
       "      <td>5</td>\n",
       "      <td>0.8</td>\n",
       "      <td>{'max_depth': 3, 'min_child_weight': 5, 'subsa...</td>\n",
       "      <td>0.898950</td>\n",
       "      <td>0.895122</td>\n",
       "      <td>0.889911</td>\n",
       "      <td>0.898914</td>\n",
       "      <td>0.904863</td>\n",
       "      <td>0.897552</td>\n",
       "      <td>0.004930</td>\n",
       "      <td>21</td>\n",
       "    </tr>\n",
       "  </tbody>\n",
       "</table>\n",
       "</div>"
      ],
      "text/plain": [
       "   mean_fit_time  std_fit_time  mean_score_time  std_score_time  \\\n",
       "0       0.969499      0.054112         0.004101        0.001200   \n",
       "1       1.007900      0.056881         0.004000        0.001304   \n",
       "2       0.901500      0.045439         0.003000        0.000448   \n",
       "3       0.847900      0.018835         0.003500        0.000448   \n",
       "4       0.840500      0.011327         0.003600        0.000583   \n",
       "\n",
       "  param_max_depth param_min_child_weight param_subsample  \\\n",
       "0               3                      1             0.6   \n",
       "1               3                      1             0.8   \n",
       "2               3                      1             1.0   \n",
       "3               3                      5             0.6   \n",
       "4               3                      5             0.8   \n",
       "\n",
       "                                              params  split0_test_score  \\\n",
       "0  {'max_depth': 3, 'min_child_weight': 1, 'subsa...           0.896140   \n",
       "1  {'max_depth': 3, 'min_child_weight': 1, 'subsa...           0.898766   \n",
       "2  {'max_depth': 3, 'min_child_weight': 1, 'subsa...           0.899948   \n",
       "3  {'max_depth': 3, 'min_child_weight': 5, 'subsa...           0.896402   \n",
       "4  {'max_depth': 3, 'min_child_weight': 5, 'subsa...           0.898950   \n",
       "\n",
       "   split1_test_score  split2_test_score  split3_test_score  split4_test_score  \\\n",
       "0           0.896279           0.891209           0.895020           0.902319   \n",
       "1           0.896295           0.890382           0.900699           0.903146   \n",
       "2           0.894789           0.888521           0.899941           0.900734   \n",
       "3           0.897204           0.889157           0.896777           0.904630   \n",
       "4           0.895122           0.889911           0.898914           0.904863   \n",
       "\n",
       "   mean_test_score  std_test_score  rank_test_score  \n",
       "0         0.896193        0.003571               26  \n",
       "1         0.897858        0.004363               19  \n",
       "2         0.896787        0.004644               25  \n",
       "3         0.896834        0.004900               24  \n",
       "4         0.897552        0.004930               21  "
      ]
     },
     "execution_count": 84,
     "metadata": {},
     "output_type": "execute_result"
    }
   ],
   "source": [
    "df_grid_search_xgb_reg = pd.DataFrame(grid_search_xgb_reg.cv_results_)\n",
    "df_grid_search_xgb_reg.head(5)"
   ]
  },
  {
   "cell_type": "code",
   "execution_count": 85,
   "id": "auburn-issue",
   "metadata": {},
   "outputs": [],
   "source": [
    "df_grid_search_xgb_reg.sort_values([\"param_min_child_weight\", \"param_subsample\", \"param_max_depth\", \"mean_test_score\"], inplace=True)"
   ]
  },
  {
   "cell_type": "code",
   "execution_count": 86,
   "id": "elegant-discretion",
   "metadata": {},
   "outputs": [
    {
     "data": {
      "image/png": "[encoded data removed]",
      "text/plain": [
       "<Figure size 648x216 with 3 Axes>"
      ]
     },
     "metadata": {
      "needs_background": "light"
     },
     "output_type": "display_data"
    }
   ],
   "source": [
    "fig_xgb_reg = sns.FacetGrid(df_grid_search_xgb_reg, col=\"param_min_child_weight\")\n",
    "fig_xgb_reg.map(sns.lineplot, \"param_subsample\", \"mean_test_score\", \"param_max_depth\")\n",
    "plt.plot([], [], ' ', label=\"param_max_depth\")\n",
    "plt.legend()\n",
    "plt.show()"
   ]
  },
  {
   "cell_type": "code",
   "execution_count": 87,
   "id": "voluntary-values",
   "metadata": {},
   "outputs": [
    {
     "data": {
      "text/plain": [
       "0.8103144834477073"
      ]
     },
     "execution_count": 87,
     "metadata": {},
     "output_type": "execute_result"
    }
   ],
   "source": [
    "grid_search_xgb_reg.score(X_test, y_test)"
   ]
  },
  {
   "cell_type": "code",
   "execution_count": 88,
   "id": "impressive-asbestos",
   "metadata": {},
   "outputs": [
    {
     "name": "stdout",
     "output_type": "stream",
     "text": [
      "RMSE: 0.41179710113879536\n"
     ]
    },
    {
     "data": {
      "image/png": "[encoded data removed]",
      "text/plain": [
       "<Figure size 432x288 with 1 Axes>"
      ]
     },
     "metadata": {
      "needs_background": "light"
     },
     "output_type": "display_data"
    }
   ],
   "source": [
    "plot_test(grid_search_xgb_reg, X_test, y_test)"
   ]
  }
 ],
 "metadata": {
  "kernelspec": {
   "display_name": "Python 3",
   "language": "python",
   "name": "python3"
  },
  "language_info": {
   "codemirror_mode": {
    "name": "ipython",
    "version": 3
   },
   "file_extension": ".py",
   "mimetype": "text/x-python",
   "name": "python",
   "nbconvert_exporter": "python",
   "pygments_lexer": "ipython3",
   "version": "3.8.6"
  }
 },
 "nbformat": 4,
 "nbformat_minor": 5
}
