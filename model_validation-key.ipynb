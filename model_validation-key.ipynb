{
 "cells": [
  {
   "cell_type": "markdown",
   "metadata": {},
   "source": [
    "# Libraries "
   ]
  },
  {
   "cell_type": "code",
   "execution_count": 1,
   "metadata": {},
   "outputs": [],
   "source": [
    "# trio!\n",
    "import pandas as pd\n",
    "import numpy as np\n",
    "import matplotlib.pyplot as plt\n",
    "\n",
    "import seaborn as sns\n",
    "import timeit\n",
    "\n",
    "# ML\n",
    "from sklearn.preprocessing import MinMaxScaler\n",
    "from sklearn.metrics import mean_squared_error\n",
    "from sklearn.model_selection import learning_curve"
   ]
  },
  {
   "cell_type": "markdown",
   "metadata": {},
   "source": [
    "# Import Train/Test Set"
   ]
  },
  {
   "cell_type": "markdown",
   "metadata": {},
   "source": [
    "This time we use sampling to reduce training time."
   ]
  },
  {
   "cell_type": "code",
   "execution_count": 2,
   "metadata": {},
   "outputs": [],
   "source": [
    "df_train = pd.read_csv('train.csv').sample(10000, random_state=2021)\n",
    "df_test = pd.read_csv('test.csv').sample(3000, random_state=2021)"
   ]
  },
  {
   "cell_type": "code",
   "execution_count": 3,
   "metadata": {},
   "outputs": [],
   "source": [
    "features_list = ['ambient', 'coolant', 'u_d', 'u_q', 'motor_speed', 'i_d', 'i_q']\n",
    "target = 'stator_yoke'"
   ]
  },
  {
   "cell_type": "code",
   "execution_count": 4,
   "metadata": {},
   "outputs": [],
   "source": [
    "X_train = df_train[features_list].to_numpy()\n",
    "y_train = df_train[target].to_numpy()"
   ]
  },
  {
   "cell_type": "code",
   "execution_count": 5,
   "metadata": {},
   "outputs": [
    {
     "data": {
      "text/plain": [
       "((10000, 7), (10000,))"
      ]
     },
     "execution_count": 5,
     "metadata": {},
     "output_type": "execute_result"
    }
   ],
   "source": [
    "X_train.shape, y_train.shape"
   ]
  },
  {
   "cell_type": "code",
   "execution_count": 6,
   "metadata": {},
   "outputs": [],
   "source": [
    "X_test = df_test[features_list].to_numpy()\n",
    "y_test = df_test[target].to_numpy()"
   ]
  },
  {
   "cell_type": "code",
   "execution_count": 7,
   "metadata": {},
   "outputs": [
    {
     "data": {
      "text/plain": [
       "((3000, 7), (3000,))"
      ]
     },
     "execution_count": 7,
     "metadata": {},
     "output_type": "execute_result"
    }
   ],
   "source": [
    "X_test.shape, y_test.shape"
   ]
  },
  {
   "cell_type": "markdown",
   "metadata": {},
   "source": [
    "# Data Preprocessing"
   ]
  },
  {
   "cell_type": "code",
   "execution_count": 8,
   "metadata": {},
   "outputs": [],
   "source": [
    "X_scaler = MinMaxScaler()"
   ]
  },
  {
   "cell_type": "code",
   "execution_count": 9,
   "metadata": {},
   "outputs": [],
   "source": [
    "X_train_scaled = X_scaler.fit_transform(X_train)\n",
    "X_test_scaled = X_scaler.transform(X_test)"
   ]
  },
  {
   "cell_type": "markdown",
   "metadata": {},
   "source": [
    "# Learning Curve Plot"
   ]
  },
  {
   "cell_type": "markdown",
   "metadata": {},
   "source": [
    "https://scikit-learn.org/stable/auto_examples/model_selection/plot_learning_curve.html"
   ]
  },
  {
   "cell_type": "code",
   "execution_count": 10,
   "metadata": {},
   "outputs": [],
   "source": [
    "def plot_learning_curve(estimator, title, X, y, axes=None, ylim=None, cv=None,\n",
    "                        n_jobs=None, train_sizes=np.linspace(.1, 1.0, 5)):\n",
    "    \"\"\"\n",
    "    Generate 3 plots: the test and training learning curve, the training\n",
    "    samples vs fit times curve, the fit times vs score curve.\n",
    "\n",
    "    Parameters\n",
    "    ----------\n",
    "    estimator : estimator instance\n",
    "        An estimator instance implementing `fit` and `predict` methods which\n",
    "        will be cloned for each validation.\n",
    "\n",
    "    title : str\n",
    "        Title for the chart.\n",
    "\n",
    "    X : array-like of shape (n_samples, n_features)\n",
    "        Training vector, where ``n_samples`` is the number of samples and\n",
    "        ``n_features`` is the number of features.\n",
    "\n",
    "    y : array-like of shape (n_samples) or (n_samples, n_features)\n",
    "        Target relative to ``X`` for classification or regression;\n",
    "        None for unsupervised learning.\n",
    "\n",
    "    axes : array-like of shape (3,), default=None\n",
    "        Axes to use for plotting the curves.\n",
    "\n",
    "    ylim : tuple of shape (2,), default=None\n",
    "        Defines minimum and maximum y-values plotted, e.g. (ymin, ymax).\n",
    "\n",
    "    cv : int, cross-validation generator or an iterable, default=None\n",
    "        Determines the cross-validation splitting strategy.\n",
    "        Possible inputs for cv are:\n",
    "\n",
    "          - None, to use the default 5-fold cross-validation,\n",
    "          - integer, to specify the number of folds.\n",
    "          - :term:`CV splitter`,\n",
    "          - An iterable yielding (train, test) splits as arrays of indices.\n",
    "\n",
    "        For integer/None inputs, if ``y`` is binary or multiclass,\n",
    "        :class:`StratifiedKFold` used. If the estimator is not a classifier\n",
    "        or if ``y`` is neither binary nor multiclass, :class:`KFold` is used.\n",
    "\n",
    "        Refer :ref:`User Guide <cross_validation>` for the various\n",
    "        cross-validators that can be used here.\n",
    "\n",
    "    n_jobs : int or None, default=None\n",
    "        Number of jobs to run in parallel.\n",
    "        ``None`` means 1 unless in a :obj:`joblib.parallel_backend` context.\n",
    "        ``-1`` means using all processors. See :term:`Glossary <n_jobs>`\n",
    "        for more details.\n",
    "\n",
    "    train_sizes : array-like of shape (n_ticks,)\n",
    "        Relative or absolute numbers of training examples that will be used to\n",
    "        generate the learning curve. If the ``dtype`` is float, it is regarded\n",
    "        as a fraction of the maximum size of the training set (that is\n",
    "        determined by the selected validation method), i.e. it has to be within\n",
    "        (0, 1]. Otherwise it is interpreted as absolute sizes of the training\n",
    "        sets. Note that for classification the number of samples usually have\n",
    "        to be big enough to contain at least one sample from each class.\n",
    "        (default: np.linspace(0.1, 1.0, 5))\n",
    "    \"\"\"\n",
    "    if axes is None:\n",
    "        _, axes = plt.subplots(1, 3, figsize=(20, 5))\n",
    "\n",
    "    axes[0].set_title(title)\n",
    "    if ylim is not None:\n",
    "        axes[0].set_ylim(*ylim)\n",
    "    axes[0].set_xlabel(\"Training examples\")\n",
    "    axes[0].set_ylabel(\"Score\")\n",
    "\n",
    "    train_sizes, train_scores, test_scores, fit_times, _ = \\\n",
    "        learning_curve(estimator, X, y, cv=cv, n_jobs=n_jobs,\n",
    "                       train_sizes=train_sizes,\n",
    "                       return_times=True)\n",
    "    train_scores_mean = np.mean(train_scores, axis=1)\n",
    "    train_scores_std = np.std(train_scores, axis=1)\n",
    "    test_scores_mean = np.mean(test_scores, axis=1)\n",
    "    test_scores_std = np.std(test_scores, axis=1)\n",
    "    fit_times_mean = np.mean(fit_times, axis=1)\n",
    "    fit_times_std = np.std(fit_times, axis=1)\n",
    "\n",
    "    # Plot learning curve\n",
    "    axes[0].grid()\n",
    "    axes[0].fill_between(train_sizes, train_scores_mean - train_scores_std,\n",
    "                         train_scores_mean + train_scores_std, alpha=0.1,\n",
    "                         color=\"r\")\n",
    "    axes[0].fill_between(train_sizes, test_scores_mean - test_scores_std,\n",
    "                         test_scores_mean + test_scores_std, alpha=0.1,\n",
    "                         color=\"g\")\n",
    "    axes[0].plot(train_sizes, train_scores_mean, 'o-', color=\"r\",\n",
    "                 label=\"Training score\")\n",
    "    axes[0].plot(train_sizes, test_scores_mean, 'o-', color=\"g\",\n",
    "                 label=\"Cross-validation score\")\n",
    "    axes[0].legend(loc=\"best\")\n",
    "\n",
    "    # Plot n_samples vs fit_times\n",
    "    axes[1].grid()\n",
    "    axes[1].plot(train_sizes, fit_times_mean, 'o-')\n",
    "    axes[1].fill_between(train_sizes, fit_times_mean - fit_times_std,\n",
    "                         fit_times_mean + fit_times_std, alpha=0.1)\n",
    "    axes[1].set_xlabel(\"Training examples\")\n",
    "    axes[1].set_ylabel(\"fit_times\")\n",
    "    axes[1].set_title(\"Scalability of the model\")\n",
    "\n",
    "    # Plot fit_time vs score\n",
    "    axes[2].grid()\n",
    "    axes[2].plot(fit_times_mean, test_scores_mean, 'o-')\n",
    "    axes[2].fill_between(fit_times_mean, test_scores_mean - test_scores_std,\n",
    "                         test_scores_mean + test_scores_std, alpha=0.1)\n",
    "    axes[2].set_xlabel(\"fit_times\")\n",
    "    axes[2].set_ylabel(\"Score\")\n",
    "    axes[2].set_title(\"Performance of the model\")\n",
    "\n",
    "    return plt"
   ]
  },
  {
   "cell_type": "markdown",
   "metadata": {},
   "source": [
    "#  Predictive Models"
   ]
  },
  {
   "cell_type": "code",
   "execution_count": 11,
   "metadata": {},
   "outputs": [],
   "source": [
    "from sklearn.model_selection import GridSearchCV, RandomizedSearchCV"
   ]
  },
  {
   "cell_type": "code",
   "execution_count": 12,
   "metadata": {},
   "outputs": [],
   "source": [
    "def plot_test(reg, X, y):\n",
    "    y_pred = reg.predict(X)\n",
    "    plt.scatter(y, y_pred)\n",
    "    rmse = mean_squared_error(y, y_pred, squared=False)\n",
    "    print(f'RMSE: {rmse}')"
   ]
  },
  {
   "cell_type": "markdown",
   "metadata": {},
   "source": [
    "## Ridge "
   ]
  },
  {
   "cell_type": "code",
   "execution_count": 13,
   "metadata": {},
   "outputs": [],
   "source": [
    "from sklearn.linear_model import Ridge"
   ]
  },
  {
   "cell_type": "markdown",
   "metadata": {},
   "source": [
    "https://scikit-learn.org/stable/modules/generated/sklearn.linear_model.Ridge.html"
   ]
  },
  {
   "cell_type": "code",
   "execution_count": 14,
   "metadata": {},
   "outputs": [],
   "source": [
    "param_grid_ridge = {\n",
    "    \"alpha\": [0.01, 0.2, 0.4, 0.6, 0.8, 1],\n",
    "    \"solver\": [\"cholesky\", \"saga\"]\n",
    "}"
   ]
  },
  {
   "cell_type": "markdown",
   "metadata": {},
   "source": [
    "### Grid Search"
   ]
  },
  {
   "cell_type": "code",
   "execution_count": 15,
   "metadata": {},
   "outputs": [],
   "source": [
    "grid_search_ridge = GridSearchCV(Ridge(), param_grid_ridge, cv=5, n_jobs=-1)"
   ]
  },
  {
   "cell_type": "code",
   "execution_count": 16,
   "metadata": {},
   "outputs": [
    {
     "name": "stdout",
     "output_type": "stream",
     "text": [
      "80 ms ± 3.92 ms per loop (mean ± std. dev. of 7 runs, 1 loop each)\n"
     ]
    }
   ],
   "source": [
    "%timeit grid_search_ridge.fit(X_train_scaled, y_train)"
   ]
  },
  {
   "cell_type": "code",
   "execution_count": 17,
   "metadata": {},
   "outputs": [
    {
     "data": {
      "text/plain": [
       "{'alpha': 0.01, 'solver': 'saga'}"
      ]
     },
     "execution_count": 17,
     "metadata": {},
     "output_type": "execute_result"
    }
   ],
   "source": [
    "grid_search_ridge.best_params_"
   ]
  },
  {
   "cell_type": "code",
   "execution_count": 18,
   "metadata": {},
   "outputs": [
    {
     "data": {
      "text/plain": [
       "{'mean_fit_time': array([0.00160027, 0.01350117, 0.00210056, 0.01530075, 0.00209966,\n",
       "        0.0138999 , 0.00179935, 0.01689935, 0.00189834, 0.01570015,\n",
       "        0.00210004, 0.01319947]),\n",
       " 'std_fit_time': array([0.0001998 , 0.00164301, 0.00019987, 0.00143516, 0.00019984,\n",
       "        0.00128012, 0.00074833, 0.00601135, 0.00058227, 0.00380182,\n",
       "        0.00019965, 0.00143492]),\n",
       " 'mean_score_time': array([0.00029969, 0.00059934, 0.00029998, 0.00079885, 0.00029984,\n",
       "        0.00049939, 0.00020041, 0.00059986, 0.00029936, 0.00059962,\n",
       "        0.00030007, 0.00020008]),\n",
       " 'std_score_time': array([2.44697619e-04, 1.98865015e-04, 2.44931545e-04, 6.00625466e-04,\n",
       "        2.44814745e-04, 8.60951905e-07, 2.45457391e-04, 2.00033273e-04,\n",
       "        2.44427425e-04, 2.00036001e-04, 2.45009196e-04, 2.45048764e-04]),\n",
       " 'param_alpha': masked_array(data=[0.01, 0.01, 0.2, 0.2, 0.4, 0.4, 0.6, 0.6, 0.8, 0.8, 1,\n",
       "                    1],\n",
       "              mask=[False, False, False, False, False, False, False, False,\n",
       "                    False, False, False, False],\n",
       "        fill_value='?',\n",
       "             dtype=object),\n",
       " 'param_solver': masked_array(data=['cholesky', 'saga', 'cholesky', 'saga', 'cholesky',\n",
       "                    'saga', 'cholesky', 'saga', 'cholesky', 'saga',\n",
       "                    'cholesky', 'saga'],\n",
       "              mask=[False, False, False, False, False, False, False, False,\n",
       "                    False, False, False, False],\n",
       "        fill_value='?',\n",
       "             dtype=object),\n",
       " 'params': [{'alpha': 0.01, 'solver': 'cholesky'},\n",
       "  {'alpha': 0.01, 'solver': 'saga'},\n",
       "  {'alpha': 0.2, 'solver': 'cholesky'},\n",
       "  {'alpha': 0.2, 'solver': 'saga'},\n",
       "  {'alpha': 0.4, 'solver': 'cholesky'},\n",
       "  {'alpha': 0.4, 'solver': 'saga'},\n",
       "  {'alpha': 0.6, 'solver': 'cholesky'},\n",
       "  {'alpha': 0.6, 'solver': 'saga'},\n",
       "  {'alpha': 0.8, 'solver': 'cholesky'},\n",
       "  {'alpha': 0.8, 'solver': 'saga'},\n",
       "  {'alpha': 1, 'solver': 'cholesky'},\n",
       "  {'alpha': 1, 'solver': 'saga'}],\n",
       " 'split0_test_score': array([0.84259326, 0.84259924, 0.84259853, 0.84260919, 0.84260358,\n",
       "        0.8425878 , 0.84260813, 0.84260741, 0.84261221, 0.84260916,\n",
       "        0.8426158 , 0.84261218]),\n",
       " 'split1_test_score': array([0.84573335, 0.84572936, 0.845727  , 0.84572575, 0.84571996,\n",
       "        0.84572592, 0.84571255, 0.84571258, 0.84570478, 0.84570377,\n",
       "        0.84569666, 0.84569237]),\n",
       " 'split2_test_score': array([0.83223441, 0.83223216, 0.83223703, 0.8322403 , 0.8322394 ,\n",
       "        0.83225076, 0.83224137, 0.83222841, 0.83224296, 0.83224577,\n",
       "        0.83224417, 0.8322396 ]),\n",
       " 'split3_test_score': array([0.84949559, 0.84948697, 0.8494993 , 0.84950278, 0.8495028 ,\n",
       "        0.84950792, 0.84950589, 0.84949921, 0.84950859, 0.84951519,\n",
       "        0.84951089, 0.84950679]),\n",
       " 'split4_test_score': array([0.8502147 , 0.85023968, 0.85021121, 0.85020058, 0.85020713,\n",
       "        0.85020597, 0.85020264, 0.85020352, 0.85019774, 0.85019813,\n",
       "        0.85019245, 0.85019079]),\n",
       " 'mean_test_score': array([0.84405426, 0.84405748, 0.84405461, 0.84405572, 0.84405457,\n",
       "        0.84405568, 0.84405412, 0.84405023, 0.84405326, 0.8440544 ,\n",
       "        0.84405199, 0.84404835]),\n",
       " 'std_test_score': array([0.00651493, 0.00651857, 0.00651338, 0.00651023, 0.00651175,\n",
       "        0.00650928, 0.00651012, 0.00651391, 0.0065085 , 0.00650874,\n",
       "        0.00650688, 0.00650747]),\n",
       " 'rank_test_score': array([ 7,  1,  4,  2,  5,  3,  8, 11,  9,  6, 10, 12])}"
      ]
     },
     "execution_count": 18,
     "metadata": {},
     "output_type": "execute_result"
    }
   ],
   "source": [
    "grid_search_ridge.cv_results_"
   ]
  },
  {
   "cell_type": "code",
   "execution_count": 19,
   "metadata": {},
   "outputs": [
    {
     "data": {
      "text/html": [
       "<div>\n",
       "<style scoped>\n",
       "    .dataframe tbody tr th:only-of-type {\n",
       "        vertical-align: middle;\n",
       "    }\n",
       "\n",
       "    .dataframe tbody tr th {\n",
       "        vertical-align: top;\n",
       "    }\n",
       "\n",
       "    .dataframe thead th {\n",
       "        text-align: right;\n",
       "    }\n",
       "</style>\n",
       "<table border=\"1\" class=\"dataframe\">\n",
       "  <thead>\n",
       "    <tr style=\"text-align: right;\">\n",
       "      <th></th>\n",
       "      <th>mean_fit_time</th>\n",
       "      <th>std_fit_time</th>\n",
       "      <th>mean_score_time</th>\n",
       "      <th>std_score_time</th>\n",
       "      <th>param_alpha</th>\n",
       "      <th>param_solver</th>\n",
       "      <th>params</th>\n",
       "      <th>split0_test_score</th>\n",
       "      <th>split1_test_score</th>\n",
       "      <th>split2_test_score</th>\n",
       "      <th>split3_test_score</th>\n",
       "      <th>split4_test_score</th>\n",
       "      <th>mean_test_score</th>\n",
       "      <th>std_test_score</th>\n",
       "      <th>rank_test_score</th>\n",
       "    </tr>\n",
       "  </thead>\n",
       "  <tbody>\n",
       "    <tr>\n",
       "      <th>0</th>\n",
       "      <td>0.001600</td>\n",
       "      <td>0.000200</td>\n",
       "      <td>0.000300</td>\n",
       "      <td>0.000245</td>\n",
       "      <td>0.01</td>\n",
       "      <td>cholesky</td>\n",
       "      <td>{'alpha': 0.01, 'solver': 'cholesky'}</td>\n",
       "      <td>0.842593</td>\n",
       "      <td>0.845733</td>\n",
       "      <td>0.832234</td>\n",
       "      <td>0.849496</td>\n",
       "      <td>0.850215</td>\n",
       "      <td>0.844054</td>\n",
       "      <td>0.006515</td>\n",
       "      <td>7</td>\n",
       "    </tr>\n",
       "    <tr>\n",
       "      <th>1</th>\n",
       "      <td>0.013501</td>\n",
       "      <td>0.001643</td>\n",
       "      <td>0.000599</td>\n",
       "      <td>0.000199</td>\n",
       "      <td>0.01</td>\n",
       "      <td>saga</td>\n",
       "      <td>{'alpha': 0.01, 'solver': 'saga'}</td>\n",
       "      <td>0.842599</td>\n",
       "      <td>0.845729</td>\n",
       "      <td>0.832232</td>\n",
       "      <td>0.849487</td>\n",
       "      <td>0.850240</td>\n",
       "      <td>0.844057</td>\n",
       "      <td>0.006519</td>\n",
       "      <td>1</td>\n",
       "    </tr>\n",
       "    <tr>\n",
       "      <th>2</th>\n",
       "      <td>0.002101</td>\n",
       "      <td>0.000200</td>\n",
       "      <td>0.000300</td>\n",
       "      <td>0.000245</td>\n",
       "      <td>0.2</td>\n",
       "      <td>cholesky</td>\n",
       "      <td>{'alpha': 0.2, 'solver': 'cholesky'}</td>\n",
       "      <td>0.842599</td>\n",
       "      <td>0.845727</td>\n",
       "      <td>0.832237</td>\n",
       "      <td>0.849499</td>\n",
       "      <td>0.850211</td>\n",
       "      <td>0.844055</td>\n",
       "      <td>0.006513</td>\n",
       "      <td>4</td>\n",
       "    </tr>\n",
       "    <tr>\n",
       "      <th>3</th>\n",
       "      <td>0.015301</td>\n",
       "      <td>0.001435</td>\n",
       "      <td>0.000799</td>\n",
       "      <td>0.000601</td>\n",
       "      <td>0.2</td>\n",
       "      <td>saga</td>\n",
       "      <td>{'alpha': 0.2, 'solver': 'saga'}</td>\n",
       "      <td>0.842609</td>\n",
       "      <td>0.845726</td>\n",
       "      <td>0.832240</td>\n",
       "      <td>0.849503</td>\n",
       "      <td>0.850201</td>\n",
       "      <td>0.844056</td>\n",
       "      <td>0.006510</td>\n",
       "      <td>2</td>\n",
       "    </tr>\n",
       "    <tr>\n",
       "      <th>4</th>\n",
       "      <td>0.002100</td>\n",
       "      <td>0.000200</td>\n",
       "      <td>0.000300</td>\n",
       "      <td>0.000245</td>\n",
       "      <td>0.4</td>\n",
       "      <td>cholesky</td>\n",
       "      <td>{'alpha': 0.4, 'solver': 'cholesky'}</td>\n",
       "      <td>0.842604</td>\n",
       "      <td>0.845720</td>\n",
       "      <td>0.832239</td>\n",
       "      <td>0.849503</td>\n",
       "      <td>0.850207</td>\n",
       "      <td>0.844055</td>\n",
       "      <td>0.006512</td>\n",
       "      <td>5</td>\n",
       "    </tr>\n",
       "  </tbody>\n",
       "</table>\n",
       "</div>"
      ],
      "text/plain": [
       "   mean_fit_time  std_fit_time  mean_score_time  std_score_time param_alpha  \\\n",
       "0       0.001600      0.000200         0.000300        0.000245        0.01   \n",
       "1       0.013501      0.001643         0.000599        0.000199        0.01   \n",
       "2       0.002101      0.000200         0.000300        0.000245         0.2   \n",
       "3       0.015301      0.001435         0.000799        0.000601         0.2   \n",
       "4       0.002100      0.000200         0.000300        0.000245         0.4   \n",
       "\n",
       "  param_solver                                 params  split0_test_score  \\\n",
       "0     cholesky  {'alpha': 0.01, 'solver': 'cholesky'}           0.842593   \n",
       "1         saga      {'alpha': 0.01, 'solver': 'saga'}           0.842599   \n",
       "2     cholesky   {'alpha': 0.2, 'solver': 'cholesky'}           0.842599   \n",
       "3         saga       {'alpha': 0.2, 'solver': 'saga'}           0.842609   \n",
       "4     cholesky   {'alpha': 0.4, 'solver': 'cholesky'}           0.842604   \n",
       "\n",
       "   split1_test_score  split2_test_score  split3_test_score  split4_test_score  \\\n",
       "0           0.845733           0.832234           0.849496           0.850215   \n",
       "1           0.845729           0.832232           0.849487           0.850240   \n",
       "2           0.845727           0.832237           0.849499           0.850211   \n",
       "3           0.845726           0.832240           0.849503           0.850201   \n",
       "4           0.845720           0.832239           0.849503           0.850207   \n",
       "\n",
       "   mean_test_score  std_test_score  rank_test_score  \n",
       "0         0.844054        0.006515                7  \n",
       "1         0.844057        0.006519                1  \n",
       "2         0.844055        0.006513                4  \n",
       "3         0.844056        0.006510                2  \n",
       "4         0.844055        0.006512                5  "
      ]
     },
     "execution_count": 19,
     "metadata": {},
     "output_type": "execute_result"
    }
   ],
   "source": [
    "df_grid_search_ridge = pd.DataFrame(grid_search_ridge.cv_results_)\n",
    "df_grid_search_ridge.head(5)"
   ]
  },
  {
   "cell_type": "code",
   "execution_count": 20,
   "metadata": {},
   "outputs": [],
   "source": [
    "df_grid_search_ridge.sort_values([\"param_solver\", \"param_alpha\", \"mean_test_score\"], inplace=True)"
   ]
  },
  {
   "cell_type": "code",
   "execution_count": 21,
   "metadata": {},
   "outputs": [
    {
     "data": {
      "text/plain": [
       "<AxesSubplot:xlabel='param_alpha', ylabel='mean_test_score'>"
      ]
     },
     "execution_count": 21,
     "metadata": {},
     "output_type": "execute_result"
    },
    {
     "data": {
      "image/png": "[encoded data removed]",
      "text/plain": [
       "<Figure size 432x288 with 1 Axes>"
      ]
     },
     "metadata": {
      "needs_background": "light"
     },
     "output_type": "display_data"
    }
   ],
   "source": [
    "sns.lineplot(x=\"param_alpha\", y=\"mean_test_score\", hue=\"param_solver\", data=df_grid_search_ridge)"
   ]
  },
  {
   "cell_type": "code",
   "execution_count": 22,
   "metadata": {},
   "outputs": [
    {
     "data": {
      "text/plain": [
       "0.8331646544452916"
      ]
     },
     "execution_count": 22,
     "metadata": {},
     "output_type": "execute_result"
    }
   ],
   "source": [
    "grid_search_ridge.score(X_test_scaled, y_test)"
   ]
  },
  {
   "cell_type": "code",
   "execution_count": 23,
   "metadata": {},
   "outputs": [
    {
     "name": "stdout",
     "output_type": "stream",
     "text": [
      "RMSE: 0.38619818807965783\n"
     ]
    },
    {
     "data": {
      "image/png": "[encoded data removed]",
      "text/plain": [
       "<Figure size 432x288 with 1 Axes>"
      ]
     },
     "metadata": {
      "needs_background": "light"
     },
     "output_type": "display_data"
    }
   ],
   "source": [
    "plot_test(grid_search_ridge, X_test_scaled, y_test)"
   ]
  },
  {
   "cell_type": "code",
   "execution_count": 24,
   "metadata": {},
   "outputs": [
    {
     "data": {
      "image/png": "[encoded data removed]",
      "text/plain": [
       "<Figure size 1440x360 with 3 Axes>"
      ]
     },
     "metadata": {
      "needs_background": "light"
     },
     "output_type": "display_data"
    }
   ],
   "source": [
    "plot_learning_curve(grid_search_ridge, \"Ridge\", X_train_scaled, y_train, cv=5, n_jobs=-1);"
   ]
  },
  {
   "cell_type": "markdown",
   "metadata": {},
   "source": [
    "### Randomized Search"
   ]
  },
  {
   "cell_type": "code",
   "execution_count": 25,
   "metadata": {},
   "outputs": [],
   "source": [
    "rand_search_ridge = RandomizedSearchCV(Ridge(), param_grid_ridge, cv=5, n_jobs=-1)"
   ]
  },
  {
   "cell_type": "code",
   "execution_count": 26,
   "metadata": {},
   "outputs": [
    {
     "name": "stdout",
     "output_type": "stream",
     "text": [
      "74.5 ms ± 2.89 ms per loop (mean ± std. dev. of 7 runs, 10 loops each)\n"
     ]
    }
   ],
   "source": [
    "%timeit rand_search_ridge.fit(X_train_scaled, y_train)"
   ]
  },
  {
   "cell_type": "code",
   "execution_count": 27,
   "metadata": {},
   "outputs": [
    {
     "data": {
      "text/plain": [
       "{'solver': 'saga', 'alpha': 0.6}"
      ]
     },
     "execution_count": 27,
     "metadata": {},
     "output_type": "execute_result"
    }
   ],
   "source": [
    "rand_search_ridge.best_params_"
   ]
  },
  {
   "cell_type": "code",
   "execution_count": 28,
   "metadata": {},
   "outputs": [
    {
     "data": {
      "text/plain": [
       "{'mean_fit_time': array([0.01220083, 0.00160012, 0.01439934, 0.01579981, 0.01710029,\n",
       "        0.00129952, 0.00160036, 0.00129972, 0.00899963, 0.00129972]),\n",
       " 'std_fit_time': array([0.00174913, 0.00019903, 0.00171475, 0.00180557, 0.00281741,\n",
       "        0.00040008, 0.00037414, 0.00040059, 0.00144851, 0.00024478]),\n",
       " 'mean_score_time': array([0.0006    , 0.00029993, 0.00069985, 0.00049977, 0.00059972,\n",
       "        0.0004004 , 0.00040021, 0.00050044, 0.00039983, 0.00020008]),\n",
       " 'std_score_time': array([2.00557765e-04, 2.44892395e-04, 2.45496433e-04, 5.30983387e-07,\n",
       "        2.00820387e-04, 2.00201011e-04, 2.00105076e-04, 7.07263802e-07,\n",
       "        1.99914512e-04, 2.45048021e-04]),\n",
       " 'param_solver': masked_array(data=['saga', 'cholesky', 'saga', 'saga', 'saga', 'cholesky',\n",
       "                    'cholesky', 'cholesky', 'saga', 'cholesky'],\n",
       "              mask=[False, False, False, False, False, False, False, False,\n",
       "                    False, False],\n",
       "        fill_value='?',\n",
       "             dtype=object),\n",
       " 'param_alpha': masked_array(data=[0.4, 0.01, 1, 0.01, 0.8, 1, 0.8, 0.6, 0.6, 0.2],\n",
       "              mask=[False, False, False, False, False, False, False, False,\n",
       "                    False, False],\n",
       "        fill_value='?',\n",
       "             dtype=object),\n",
       " 'params': [{'solver': 'saga', 'alpha': 0.4},\n",
       "  {'solver': 'cholesky', 'alpha': 0.01},\n",
       "  {'solver': 'saga', 'alpha': 1},\n",
       "  {'solver': 'saga', 'alpha': 0.01},\n",
       "  {'solver': 'saga', 'alpha': 0.8},\n",
       "  {'solver': 'cholesky', 'alpha': 1},\n",
       "  {'solver': 'cholesky', 'alpha': 0.8},\n",
       "  {'solver': 'cholesky', 'alpha': 0.6},\n",
       "  {'solver': 'saga', 'alpha': 0.6},\n",
       "  {'solver': 'cholesky', 'alpha': 0.2}],\n",
       " 'split0_test_score': array([0.84260066, 0.84259326, 0.84261294, 0.84257646, 0.8426147 ,\n",
       "        0.8426158 , 0.84261221, 0.84260813, 0.8426082 , 0.84259853]),\n",
       " 'split1_test_score': array([0.84571911, 0.84573335, 0.84569745, 0.84574418, 0.84570514,\n",
       "        0.84569666, 0.84570478, 0.84571255, 0.84571654, 0.845727  ]),\n",
       " 'split2_test_score': array([0.83225396, 0.83223441, 0.8322358 , 0.83223419, 0.83224484,\n",
       "        0.83224417, 0.83224296, 0.83224137, 0.83224334, 0.83223703]),\n",
       " 'split3_test_score': array([0.84950792, 0.84949559, 0.8495128 , 0.84951066, 0.84950566,\n",
       "        0.84951089, 0.84950859, 0.84950589, 0.84950712, 0.8494993 ]),\n",
       " 'split4_test_score': array([0.85020241, 0.8502147 , 0.85018145, 0.85021756, 0.85021516,\n",
       "        0.85019245, 0.85019774, 0.85020264, 0.85021659, 0.85021121]),\n",
       " 'mean_test_score': array([0.84405681, 0.84405426, 0.84404809, 0.84405661, 0.8440571 ,\n",
       "        0.84405199, 0.84405326, 0.84405412, 0.84405836, 0.84405461]),\n",
       " 'std_test_score': array([0.00650652, 0.00651493, 0.00650833, 0.00651939, 0.00651052,\n",
       "        0.00650688, 0.0065085 , 0.00651012, 0.00651245, 0.00651338]),\n",
       " 'rank_test_score': array([ 3,  6, 10,  4,  2,  9,  8,  7,  1,  5])}"
      ]
     },
     "execution_count": 28,
     "metadata": {},
     "output_type": "execute_result"
    }
   ],
   "source": [
    "rand_search_ridge.cv_results_"
   ]
  },
  {
   "cell_type": "code",
   "execution_count": 29,
   "metadata": {},
   "outputs": [
    {
     "data": {
      "text/html": [
       "<div>\n",
       "<style scoped>\n",
       "    .dataframe tbody tr th:only-of-type {\n",
       "        vertical-align: middle;\n",
       "    }\n",
       "\n",
       "    .dataframe tbody tr th {\n",
       "        vertical-align: top;\n",
       "    }\n",
       "\n",
       "    .dataframe thead th {\n",
       "        text-align: right;\n",
       "    }\n",
       "</style>\n",
       "<table border=\"1\" class=\"dataframe\">\n",
       "  <thead>\n",
       "    <tr style=\"text-align: right;\">\n",
       "      <th></th>\n",
       "      <th>mean_fit_time</th>\n",
       "      <th>std_fit_time</th>\n",
       "      <th>mean_score_time</th>\n",
       "      <th>std_score_time</th>\n",
       "      <th>param_solver</th>\n",
       "      <th>param_alpha</th>\n",
       "      <th>params</th>\n",
       "      <th>split0_test_score</th>\n",
       "      <th>split1_test_score</th>\n",
       "      <th>split2_test_score</th>\n",
       "      <th>split3_test_score</th>\n",
       "      <th>split4_test_score</th>\n",
       "      <th>mean_test_score</th>\n",
       "      <th>std_test_score</th>\n",
       "      <th>rank_test_score</th>\n",
       "    </tr>\n",
       "  </thead>\n",
       "  <tbody>\n",
       "    <tr>\n",
       "      <th>0</th>\n",
       "      <td>0.012201</td>\n",
       "      <td>0.001749</td>\n",
       "      <td>0.0006</td>\n",
       "      <td>2.005578e-04</td>\n",
       "      <td>saga</td>\n",
       "      <td>0.4</td>\n",
       "      <td>{'solver': 'saga', 'alpha': 0.4}</td>\n",
       "      <td>0.842601</td>\n",
       "      <td>0.845719</td>\n",
       "      <td>0.832254</td>\n",
       "      <td>0.849508</td>\n",
       "      <td>0.850202</td>\n",
       "      <td>0.844057</td>\n",
       "      <td>0.006507</td>\n",
       "      <td>3</td>\n",
       "    </tr>\n",
       "    <tr>\n",
       "      <th>1</th>\n",
       "      <td>0.001600</td>\n",
       "      <td>0.000199</td>\n",
       "      <td>0.0003</td>\n",
       "      <td>2.448924e-04</td>\n",
       "      <td>cholesky</td>\n",
       "      <td>0.01</td>\n",
       "      <td>{'solver': 'cholesky', 'alpha': 0.01}</td>\n",
       "      <td>0.842593</td>\n",
       "      <td>0.845733</td>\n",
       "      <td>0.832234</td>\n",
       "      <td>0.849496</td>\n",
       "      <td>0.850215</td>\n",
       "      <td>0.844054</td>\n",
       "      <td>0.006515</td>\n",
       "      <td>6</td>\n",
       "    </tr>\n",
       "    <tr>\n",
       "      <th>2</th>\n",
       "      <td>0.014399</td>\n",
       "      <td>0.001715</td>\n",
       "      <td>0.0007</td>\n",
       "      <td>2.454964e-04</td>\n",
       "      <td>saga</td>\n",
       "      <td>1</td>\n",
       "      <td>{'solver': 'saga', 'alpha': 1}</td>\n",
       "      <td>0.842613</td>\n",
       "      <td>0.845697</td>\n",
       "      <td>0.832236</td>\n",
       "      <td>0.849513</td>\n",
       "      <td>0.850181</td>\n",
       "      <td>0.844048</td>\n",
       "      <td>0.006508</td>\n",
       "      <td>10</td>\n",
       "    </tr>\n",
       "    <tr>\n",
       "      <th>3</th>\n",
       "      <td>0.015800</td>\n",
       "      <td>0.001806</td>\n",
       "      <td>0.0005</td>\n",
       "      <td>5.309834e-07</td>\n",
       "      <td>saga</td>\n",
       "      <td>0.01</td>\n",
       "      <td>{'solver': 'saga', 'alpha': 0.01}</td>\n",
       "      <td>0.842576</td>\n",
       "      <td>0.845744</td>\n",
       "      <td>0.832234</td>\n",
       "      <td>0.849511</td>\n",
       "      <td>0.850218</td>\n",
       "      <td>0.844057</td>\n",
       "      <td>0.006519</td>\n",
       "      <td>4</td>\n",
       "    </tr>\n",
       "    <tr>\n",
       "      <th>4</th>\n",
       "      <td>0.017100</td>\n",
       "      <td>0.002817</td>\n",
       "      <td>0.0006</td>\n",
       "      <td>2.008204e-04</td>\n",
       "      <td>saga</td>\n",
       "      <td>0.8</td>\n",
       "      <td>{'solver': 'saga', 'alpha': 0.8}</td>\n",
       "      <td>0.842615</td>\n",
       "      <td>0.845705</td>\n",
       "      <td>0.832245</td>\n",
       "      <td>0.849506</td>\n",
       "      <td>0.850215</td>\n",
       "      <td>0.844057</td>\n",
       "      <td>0.006511</td>\n",
       "      <td>2</td>\n",
       "    </tr>\n",
       "  </tbody>\n",
       "</table>\n",
       "</div>"
      ],
      "text/plain": [
       "   mean_fit_time  std_fit_time  mean_score_time  std_score_time param_solver  \\\n",
       "0       0.012201      0.001749           0.0006    2.005578e-04         saga   \n",
       "1       0.001600      0.000199           0.0003    2.448924e-04     cholesky   \n",
       "2       0.014399      0.001715           0.0007    2.454964e-04         saga   \n",
       "3       0.015800      0.001806           0.0005    5.309834e-07         saga   \n",
       "4       0.017100      0.002817           0.0006    2.008204e-04         saga   \n",
       "\n",
       "  param_alpha                                 params  split0_test_score  \\\n",
       "0         0.4       {'solver': 'saga', 'alpha': 0.4}           0.842601   \n",
       "1        0.01  {'solver': 'cholesky', 'alpha': 0.01}           0.842593   \n",
       "2           1         {'solver': 'saga', 'alpha': 1}           0.842613   \n",
       "3        0.01      {'solver': 'saga', 'alpha': 0.01}           0.842576   \n",
       "4         0.8       {'solver': 'saga', 'alpha': 0.8}           0.842615   \n",
       "\n",
       "   split1_test_score  split2_test_score  split3_test_score  split4_test_score  \\\n",
       "0           0.845719           0.832254           0.849508           0.850202   \n",
       "1           0.845733           0.832234           0.849496           0.850215   \n",
       "2           0.845697           0.832236           0.849513           0.850181   \n",
       "3           0.845744           0.832234           0.849511           0.850218   \n",
       "4           0.845705           0.832245           0.849506           0.850215   \n",
       "\n",
       "   mean_test_score  std_test_score  rank_test_score  \n",
       "0         0.844057        0.006507                3  \n",
       "1         0.844054        0.006515                6  \n",
       "2         0.844048        0.006508               10  \n",
       "3         0.844057        0.006519                4  \n",
       "4         0.844057        0.006511                2  "
      ]
     },
     "execution_count": 29,
     "metadata": {},
     "output_type": "execute_result"
    }
   ],
   "source": [
    "df_rand_search_ridge = pd.DataFrame(rand_search_ridge.cv_results_)\n",
    "df_rand_search_ridge.head(5)"
   ]
  },
  {
   "cell_type": "code",
   "execution_count": 30,
   "metadata": {},
   "outputs": [],
   "source": [
    "df_rand_search_ridge.sort_values([\"param_solver\", \"param_alpha\", \"mean_test_score\"], inplace=True)"
   ]
  },
  {
   "cell_type": "code",
   "execution_count": 31,
   "metadata": {},
   "outputs": [
    {
     "data": {
      "text/plain": [
       "<AxesSubplot:xlabel='param_alpha', ylabel='mean_test_score'>"
      ]
     },
     "execution_count": 31,
     "metadata": {},
     "output_type": "execute_result"
    },
    {
     "data": {
      "image/png": "[encoded data removed]",
      "text/plain": [
       "<Figure size 432x288 with 1 Axes>"
      ]
     },
     "metadata": {
      "needs_background": "light"
     },
     "output_type": "display_data"
    }
   ],
   "source": [
    "sns.lineplot(x=\"param_alpha\", y=\"mean_test_score\", hue=\"param_solver\", data=df_rand_search_ridge)"
   ]
  },
  {
   "cell_type": "code",
   "execution_count": 32,
   "metadata": {},
   "outputs": [
    {
     "data": {
      "text/plain": [
       "0.8329269154546733"
      ]
     },
     "execution_count": 32,
     "metadata": {},
     "output_type": "execute_result"
    }
   ],
   "source": [
    "rand_search_ridge.score(X_test_scaled, y_test)"
   ]
  },
  {
   "cell_type": "code",
   "execution_count": 33,
   "metadata": {},
   "outputs": [
    {
     "name": "stdout",
     "output_type": "stream",
     "text": [
      "RMSE: 0.3864732547380827\n"
     ]
    },
    {
     "data": {
      "image/png": "[encoded data removed]",
      "text/plain": [
       "<Figure size 432x288 with 1 Axes>"
      ]
     },
     "metadata": {
      "needs_background": "light"
     },
     "output_type": "display_data"
    }
   ],
   "source": [
    "plot_test(rand_search_ridge, X_test_scaled, y_test)"
   ]
  },
  {
   "cell_type": "markdown",
   "metadata": {},
   "source": [
    "## Lasso"
   ]
  },
  {
   "cell_type": "code",
   "execution_count": 34,
   "metadata": {},
   "outputs": [],
   "source": [
    "from sklearn.linear_model import Lasso"
   ]
  },
  {
   "cell_type": "markdown",
   "metadata": {},
   "source": [
    "https://scikit-learn.org/stable/modules/generated/sklearn.linear_model.Lasso.html"
   ]
  },
  {
   "cell_type": "code",
   "execution_count": 35,
   "metadata": {},
   "outputs": [],
   "source": [
    "param_grid_lasso = {\n",
    "    \"alpha\": [0.01, 0.2, 0.4, 0.6, 0.8, 1]\n",
    "}"
   ]
  },
  {
   "cell_type": "code",
   "execution_count": 36,
   "metadata": {},
   "outputs": [],
   "source": [
    "grid_search_lasso = GridSearchCV(Lasso(), param_grid=param_grid_lasso, cv=5, n_jobs=-1)"
   ]
  },
  {
   "cell_type": "code",
   "execution_count": 37,
   "metadata": {},
   "outputs": [
    {
     "data": {
      "text/plain": [
       "GridSearchCV(cv=5, estimator=Lasso(), n_jobs=-1,\n",
       "             param_grid={'alpha': [0.01, 0.2, 0.4, 0.6, 0.8, 1]})"
      ]
     },
     "execution_count": 37,
     "metadata": {},
     "output_type": "execute_result"
    }
   ],
   "source": [
    "grid_search_lasso.fit(X_train_scaled, y_train)"
   ]
  },
  {
   "cell_type": "code",
   "execution_count": 38,
   "metadata": {},
   "outputs": [
    {
     "data": {
      "text/plain": [
       "{'alpha': 0.01}"
      ]
     },
     "execution_count": 38,
     "metadata": {},
     "output_type": "execute_result"
    }
   ],
   "source": [
    "grid_search_lasso.best_params_"
   ]
  },
  {
   "cell_type": "code",
   "execution_count": 39,
   "metadata": {},
   "outputs": [
    {
     "data": {
      "text/plain": [
       "{'mean_fit_time': array([0.00140014, 0.00129976, 0.00120006, 0.00129933, 0.00119972,\n",
       "        0.00109954]),\n",
       " 'std_fit_time': array([0.00037414, 0.00024482, 0.00024569, 0.00024427, 0.00050994,\n",
       "        0.0001997 ]),\n",
       " 'mean_score_time': array([2.00176239e-04, 4.00018692e-04, 4.99868393e-04, 2.00128555e-04,\n",
       "        9.99927521e-05, 3.00502777e-04]),\n",
       " 'std_score_time': array([2.45165008e-04, 2.00010788e-04, 8.60951905e-07, 2.45106433e-04,\n",
       "        1.99985504e-04, 2.45360525e-04]),\n",
       " 'param_alpha': masked_array(data=[0.01, 0.2, 0.4, 0.6, 0.8, 1],\n",
       "              mask=[False, False, False, False, False, False],\n",
       "        fill_value='?',\n",
       "             dtype=object),\n",
       " 'params': [{'alpha': 0.01},\n",
       "  {'alpha': 0.2},\n",
       "  {'alpha': 0.4},\n",
       "  {'alpha': 0.6},\n",
       "  {'alpha': 0.8},\n",
       "  {'alpha': 1}],\n",
       " 'split0_test_score': array([ 8.31758611e-01,  1.99375939e-01, -1.58310342e-05, -1.58310342e-05,\n",
       "        -1.58310342e-05, -1.58310342e-05]),\n",
       " 'split1_test_score': array([ 0.83686056,  0.20393506, -0.00144456, -0.00144456, -0.00144456,\n",
       "        -0.00144456]),\n",
       " 'split2_test_score': array([ 0.82503798,  0.2135546 , -0.00173945, -0.00173945, -0.00173945,\n",
       "        -0.00173945]),\n",
       " 'split3_test_score': array([ 8.43773498e-01,  2.07348361e-01, -4.23970452e-06, -4.23970452e-06,\n",
       "        -4.23970452e-06, -4.23970452e-06]),\n",
       " 'split4_test_score': array([ 8.45184022e-01,  2.03507762e-01, -1.02007693e-06, -1.02007693e-06,\n",
       "        -1.02007693e-06, -1.02007693e-06]),\n",
       " 'mean_test_score': array([ 8.36522935e-01,  2.05544345e-01, -6.41020172e-04, -6.41020172e-04,\n",
       "        -6.41020172e-04, -6.41020172e-04]),\n",
       " 'std_test_score': array([0.00751401, 0.0047372 , 0.00078207, 0.00078207, 0.00078207,\n",
       "        0.00078207]),\n",
       " 'rank_test_score': array([1, 2, 3, 3, 3, 3])}"
      ]
     },
     "execution_count": 39,
     "metadata": {},
     "output_type": "execute_result"
    }
   ],
   "source": [
    "grid_search_lasso.cv_results_"
   ]
  },
  {
   "cell_type": "code",
   "execution_count": 40,
   "metadata": {},
   "outputs": [
    {
     "data": {
      "text/html": [
       "<div>\n",
       "<style scoped>\n",
       "    .dataframe tbody tr th:only-of-type {\n",
       "        vertical-align: middle;\n",
       "    }\n",
       "\n",
       "    .dataframe tbody tr th {\n",
       "        vertical-align: top;\n",
       "    }\n",
       "\n",
       "    .dataframe thead th {\n",
       "        text-align: right;\n",
       "    }\n",
       "</style>\n",
       "<table border=\"1\" class=\"dataframe\">\n",
       "  <thead>\n",
       "    <tr style=\"text-align: right;\">\n",
       "      <th></th>\n",
       "      <th>mean_fit_time</th>\n",
       "      <th>std_fit_time</th>\n",
       "      <th>mean_score_time</th>\n",
       "      <th>std_score_time</th>\n",
       "      <th>param_alpha</th>\n",
       "      <th>params</th>\n",
       "      <th>split0_test_score</th>\n",
       "      <th>split1_test_score</th>\n",
       "      <th>split2_test_score</th>\n",
       "      <th>split3_test_score</th>\n",
       "      <th>split4_test_score</th>\n",
       "      <th>mean_test_score</th>\n",
       "      <th>std_test_score</th>\n",
       "      <th>rank_test_score</th>\n",
       "    </tr>\n",
       "  </thead>\n",
       "  <tbody>\n",
       "    <tr>\n",
       "      <th>0</th>\n",
       "      <td>0.001400</td>\n",
       "      <td>0.000374</td>\n",
       "      <td>0.0002</td>\n",
       "      <td>2.451650e-04</td>\n",
       "      <td>0.01</td>\n",
       "      <td>{'alpha': 0.01}</td>\n",
       "      <td>0.831759</td>\n",
       "      <td>0.836861</td>\n",
       "      <td>0.825038</td>\n",
       "      <td>0.843773</td>\n",
       "      <td>0.845184</td>\n",
       "      <td>0.836523</td>\n",
       "      <td>0.007514</td>\n",
       "      <td>1</td>\n",
       "    </tr>\n",
       "    <tr>\n",
       "      <th>1</th>\n",
       "      <td>0.001300</td>\n",
       "      <td>0.000245</td>\n",
       "      <td>0.0004</td>\n",
       "      <td>2.000108e-04</td>\n",
       "      <td>0.2</td>\n",
       "      <td>{'alpha': 0.2}</td>\n",
       "      <td>0.199376</td>\n",
       "      <td>0.203935</td>\n",
       "      <td>0.213555</td>\n",
       "      <td>0.207348</td>\n",
       "      <td>0.203508</td>\n",
       "      <td>0.205544</td>\n",
       "      <td>0.004737</td>\n",
       "      <td>2</td>\n",
       "    </tr>\n",
       "    <tr>\n",
       "      <th>2</th>\n",
       "      <td>0.001200</td>\n",
       "      <td>0.000246</td>\n",
       "      <td>0.0005</td>\n",
       "      <td>8.609519e-07</td>\n",
       "      <td>0.4</td>\n",
       "      <td>{'alpha': 0.4}</td>\n",
       "      <td>-0.000016</td>\n",
       "      <td>-0.001445</td>\n",
       "      <td>-0.001739</td>\n",
       "      <td>-0.000004</td>\n",
       "      <td>-0.000001</td>\n",
       "      <td>-0.000641</td>\n",
       "      <td>0.000782</td>\n",
       "      <td>3</td>\n",
       "    </tr>\n",
       "    <tr>\n",
       "      <th>3</th>\n",
       "      <td>0.001299</td>\n",
       "      <td>0.000244</td>\n",
       "      <td>0.0002</td>\n",
       "      <td>2.451064e-04</td>\n",
       "      <td>0.6</td>\n",
       "      <td>{'alpha': 0.6}</td>\n",
       "      <td>-0.000016</td>\n",
       "      <td>-0.001445</td>\n",
       "      <td>-0.001739</td>\n",
       "      <td>-0.000004</td>\n",
       "      <td>-0.000001</td>\n",
       "      <td>-0.000641</td>\n",
       "      <td>0.000782</td>\n",
       "      <td>3</td>\n",
       "    </tr>\n",
       "    <tr>\n",
       "      <th>4</th>\n",
       "      <td>0.001200</td>\n",
       "      <td>0.000510</td>\n",
       "      <td>0.0001</td>\n",
       "      <td>1.999855e-04</td>\n",
       "      <td>0.8</td>\n",
       "      <td>{'alpha': 0.8}</td>\n",
       "      <td>-0.000016</td>\n",
       "      <td>-0.001445</td>\n",
       "      <td>-0.001739</td>\n",
       "      <td>-0.000004</td>\n",
       "      <td>-0.000001</td>\n",
       "      <td>-0.000641</td>\n",
       "      <td>0.000782</td>\n",
       "      <td>3</td>\n",
       "    </tr>\n",
       "  </tbody>\n",
       "</table>\n",
       "</div>"
      ],
      "text/plain": [
       "   mean_fit_time  std_fit_time  mean_score_time  std_score_time param_alpha  \\\n",
       "0       0.001400      0.000374           0.0002    2.451650e-04        0.01   \n",
       "1       0.001300      0.000245           0.0004    2.000108e-04         0.2   \n",
       "2       0.001200      0.000246           0.0005    8.609519e-07         0.4   \n",
       "3       0.001299      0.000244           0.0002    2.451064e-04         0.6   \n",
       "4       0.001200      0.000510           0.0001    1.999855e-04         0.8   \n",
       "\n",
       "            params  split0_test_score  split1_test_score  split2_test_score  \\\n",
       "0  {'alpha': 0.01}           0.831759           0.836861           0.825038   \n",
       "1   {'alpha': 0.2}           0.199376           0.203935           0.213555   \n",
       "2   {'alpha': 0.4}          -0.000016          -0.001445          -0.001739   \n",
       "3   {'alpha': 0.6}          -0.000016          -0.001445          -0.001739   \n",
       "4   {'alpha': 0.8}          -0.000016          -0.001445          -0.001739   \n",
       "\n",
       "   split3_test_score  split4_test_score  mean_test_score  std_test_score  \\\n",
       "0           0.843773           0.845184         0.836523        0.007514   \n",
       "1           0.207348           0.203508         0.205544        0.004737   \n",
       "2          -0.000004          -0.000001        -0.000641        0.000782   \n",
       "3          -0.000004          -0.000001        -0.000641        0.000782   \n",
       "4          -0.000004          -0.000001        -0.000641        0.000782   \n",
       "\n",
       "   rank_test_score  \n",
       "0                1  \n",
       "1                2  \n",
       "2                3  \n",
       "3                3  \n",
       "4                3  "
      ]
     },
     "execution_count": 40,
     "metadata": {},
     "output_type": "execute_result"
    }
   ],
   "source": [
    "df_grid_search_lasso = pd.DataFrame(grid_search_lasso.cv_results_)\n",
    "df_grid_search_lasso.head(5)"
   ]
  },
  {
   "cell_type": "code",
   "execution_count": 41,
   "metadata": {},
   "outputs": [],
   "source": [
    "df_grid_search_lasso.sort_values([\"param_alpha\", \"mean_test_score\"], inplace=True)"
   ]
  },
  {
   "cell_type": "code",
   "execution_count": 42,
   "metadata": {},
   "outputs": [
    {
     "data": {
      "text/plain": [
       "<AxesSubplot:xlabel='param_alpha', ylabel='mean_test_score'>"
      ]
     },
     "execution_count": 42,
     "metadata": {},
     "output_type": "execute_result"
    },
    {
     "data": {
      "image/png": "[encoded data removed]",
      "text/plain": [
       "<Figure size 432x288 with 1 Axes>"
      ]
     },
     "metadata": {
      "needs_background": "light"
     },
     "output_type": "display_data"
    }
   ],
   "source": [
    "sns.lineplot(x=\"param_alpha\", y=\"mean_test_score\", data=df_grid_search_lasso)"
   ]
  },
  {
   "cell_type": "code",
   "execution_count": 43,
   "metadata": {},
   "outputs": [
    {
     "data": {
      "text/plain": [
       "0.8262217629318773"
      ]
     },
     "execution_count": 43,
     "metadata": {},
     "output_type": "execute_result"
    }
   ],
   "source": [
    "grid_search_lasso.score(X_test_scaled, y_test)"
   ]
  },
  {
   "cell_type": "code",
   "execution_count": 44,
   "metadata": {},
   "outputs": [
    {
     "name": "stdout",
     "output_type": "stream",
     "text": [
      "RMSE: 0.3941521436079015\n"
     ]
    },
    {
     "data": {
      "image/png": "[encoded data removed]",
      "text/plain": [
       "<Figure size 432x288 with 1 Axes>"
      ]
     },
     "metadata": {
      "needs_background": "light"
     },
     "output_type": "display_data"
    }
   ],
   "source": [
    "plot_test(grid_search_lasso, X_test_scaled, y_test)"
   ]
  },
  {
   "cell_type": "code",
   "execution_count": 45,
   "metadata": {},
   "outputs": [
    {
     "data": {
      "image/png": "[encoded data removed]",
      "text/plain": [
       "<Figure size 1440x360 with 3 Axes>"
      ]
     },
     "metadata": {
      "needs_background": "light"
     },
     "output_type": "display_data"
    }
   ],
   "source": [
    "plot_learning_curve(grid_search_lasso, \"Lasso\", X_train_scaled, y_train, cv=5, n_jobs=-1);"
   ]
  },
  {
   "cell_type": "markdown",
   "metadata": {},
   "source": [
    "## Decision Tree Regressor "
   ]
  },
  {
   "cell_type": "code",
   "execution_count": 46,
   "metadata": {},
   "outputs": [],
   "source": [
    "from sklearn.tree import DecisionTreeRegressor"
   ]
  },
  {
   "cell_type": "markdown",
   "metadata": {},
   "source": [
    "https://scikit-learn.org/stable/modules/generated/sklearn.tree.DecisionTreeRegressor.html"
   ]
  },
  {
   "cell_type": "code",
   "execution_count": 47,
   "metadata": {},
   "outputs": [],
   "source": [
    "param_grid_dt_reg = {\n",
    "    \"max_depth\": [5, 7, 10, 15, 30],\n",
    "    \"min_samples_split\": [2, 5, 10],\n",
    "    \"min_samples_leaf\": [1, 10, 20],\n",
    "}"
   ]
  },
  {
   "cell_type": "code",
   "execution_count": 48,
   "metadata": {},
   "outputs": [],
   "source": [
    "grid_search_dt_reg = GridSearchCV(DecisionTreeRegressor(), param_grid_dt_reg, cv=5, n_jobs=-1)"
   ]
  },
  {
   "cell_type": "code",
   "execution_count": 49,
   "metadata": {},
   "outputs": [
    {
     "data": {
      "text/plain": [
       "GridSearchCV(cv=5, estimator=DecisionTreeRegressor(), n_jobs=-1,\n",
       "             param_grid={'max_depth': [5, 7, 10, 15, 30],\n",
       "                         'min_samples_leaf': [1, 10, 20],\n",
       "                         'min_samples_split': [2, 5, 10]})"
      ]
     },
     "execution_count": 49,
     "metadata": {},
     "output_type": "execute_result"
    }
   ],
   "source": [
    "grid_search_dt_reg.fit(X_train, y_train)"
   ]
  },
  {
   "cell_type": "code",
   "execution_count": 50,
   "metadata": {},
   "outputs": [
    {
     "data": {
      "text/plain": [
       "{'max_depth': 30, 'min_samples_leaf': 10, 'min_samples_split': 5}"
      ]
     },
     "execution_count": 50,
     "metadata": {},
     "output_type": "execute_result"
    }
   ],
   "source": [
    "grid_search_dt_reg.best_params_"
   ]
  },
  {
   "cell_type": "code",
   "execution_count": 51,
   "metadata": {},
   "outputs": [
    {
     "data": {
      "text/plain": [
       "{'mean_fit_time': array([0.0260983 , 0.0234992 , 0.02350025, 0.02319951, 0.02519932,\n",
       "        0.02369919, 0.02349925, 0.02390041, 0.02380013, 0.03179941,\n",
       "        0.03049941, 0.03029852, 0.02979975, 0.03029971, 0.03139987,\n",
       "        0.03000035, 0.02969975, 0.02950001, 0.04199953, 0.04379907,\n",
       "        0.04030046, 0.03839898, 0.03840003, 0.03839993, 0.03709989,\n",
       "        0.03909898, 0.03649902, 0.05489955, 0.05249901, 0.0502995 ,\n",
       "        0.04279919, 0.04099956, 0.04170055, 0.03799901, 0.03799939,\n",
       "        0.03860011, 0.06660028, 0.07730026, 0.08190007, 0.05319986,\n",
       "        0.04529943, 0.0548996 , 0.04100003, 0.03899903, 0.03369927]),\n",
       " 'std_fit_time': array([0.00326233, 0.00070709, 0.00083646, 0.00074885, 0.00258045,\n",
       "        0.0006775 , 0.00094949, 0.000969  , 0.00261908, 0.00300992,\n",
       "        0.00077439, 0.00081229, 0.00050898, 0.00174908, 0.00390327,\n",
       "        0.00083671, 0.00087142, 0.00044772, 0.00225927, 0.00693966,\n",
       "        0.00140002, 0.00149715, 0.0015293 , 0.00128056, 0.00168515,\n",
       "        0.004726  , 0.00109524, 0.00142781, 0.00230204, 0.00297647,\n",
       "        0.00206324, 0.00070702, 0.00128859, 0.00144872, 0.00070672,\n",
       "        0.0018559 , 0.00283515, 0.01927592, 0.0283236 , 0.01079639,\n",
       "        0.00250289, 0.01075777, 0.00566607, 0.00234478, 0.00185999]),\n",
       " 'mean_score_time': array([0.00080028, 0.00069985, 0.00050068, 0.00050015, 0.00089989,\n",
       "        0.00049992, 0.00060034, 0.00049987, 0.0005002 , 0.00050039,\n",
       "        0.0005003 , 0.00060062, 0.00080028, 0.00050011, 0.00070019,\n",
       "        0.00049973, 0.00059981, 0.0005002 , 0.00060048, 0.00070047,\n",
       "        0.0006    , 0.00070095, 0.00060015, 0.00070009, 0.00060029,\n",
       "        0.00070019, 0.00060086, 0.00080009, 0.00090055, 0.0008009 ,\n",
       "        0.0006    , 0.00070057, 0.00059986, 0.00080075, 0.00060024,\n",
       "        0.00089993, 0.0013998 , 0.00100017, 0.00069981, 0.00089993,\n",
       "        0.00290017, 0.0010004 , 0.00050025, 0.0007    , 0.00050006]),\n",
       " 'std_score_time': array([2.45106572e-04, 2.44912059e-04, 5.84003864e-07, 2.78041453e-07,\n",
       "        2.00200159e-04, 1.78416128e-07, 1.99556721e-04, 2.43140197e-07,\n",
       "        3.37174788e-07, 4.62310777e-07, 5.76164530e-07, 1.99891160e-04,\n",
       "        6.00385940e-04, 6.67572021e-07, 2.44834192e-04, 3.01578299e-07,\n",
       "        2.00177716e-04, 6.39744180e-07, 1.99724119e-04, 2.45185336e-04,\n",
       "        1.99724062e-04, 2.44990329e-04, 2.00367598e-04, 2.45009289e-04,\n",
       "        2.00295810e-04, 2.45516012e-04, 2.00487055e-04, 3.99625653e-04,\n",
       "        1.99341852e-04, 2.44641507e-04, 2.00796665e-04, 2.44620790e-04,\n",
       "        1.99680364e-04, 6.00505166e-04, 1.99961854e-04, 3.73565307e-04,\n",
       "        5.83363881e-04, 3.15903520e-04, 2.44756635e-04, 5.83299298e-04,\n",
       "        4.80053432e-03, 1.01152436e-06, 4.62310777e-07, 2.44989818e-04,\n",
       "        3.23406696e-07]),\n",
       " 'param_max_depth': masked_array(data=[5, 5, 5, 5, 5, 5, 5, 5, 5, 7, 7, 7, 7, 7, 7, 7, 7, 7,\n",
       "                    10, 10, 10, 10, 10, 10, 10, 10, 10, 15, 15, 15, 15, 15,\n",
       "                    15, 15, 15, 15, 30, 30, 30, 30, 30, 30, 30, 30, 30],\n",
       "              mask=[False, False, False, False, False, False, False, False,\n",
       "                    False, False, False, False, False, False, False, False,\n",
       "                    False, False, False, False, False, False, False, False,\n",
       "                    False, False, False, False, False, False, False, False,\n",
       "                    False, False, False, False, False, False, False, False,\n",
       "                    False, False, False, False, False],\n",
       "        fill_value='?',\n",
       "             dtype=object),\n",
       " 'param_min_samples_leaf': masked_array(data=[1, 1, 1, 10, 10, 10, 20, 20, 20, 1, 1, 1, 10, 10, 10,\n",
       "                    20, 20, 20, 1, 1, 1, 10, 10, 10, 20, 20, 20, 1, 1, 1,\n",
       "                    10, 10, 10, 20, 20, 20, 1, 1, 1, 10, 10, 10, 20, 20,\n",
       "                    20],\n",
       "              mask=[False, False, False, False, False, False, False, False,\n",
       "                    False, False, False, False, False, False, False, False,\n",
       "                    False, False, False, False, False, False, False, False,\n",
       "                    False, False, False, False, False, False, False, False,\n",
       "                    False, False, False, False, False, False, False, False,\n",
       "                    False, False, False, False, False],\n",
       "        fill_value='?',\n",
       "             dtype=object),\n",
       " 'param_min_samples_split': masked_array(data=[2, 5, 10, 2, 5, 10, 2, 5, 10, 2, 5, 10, 2, 5, 10, 2, 5,\n",
       "                    10, 2, 5, 10, 2, 5, 10, 2, 5, 10, 2, 5, 10, 2, 5, 10,\n",
       "                    2, 5, 10, 2, 5, 10, 2, 5, 10, 2, 5, 10],\n",
       "              mask=[False, False, False, False, False, False, False, False,\n",
       "                    False, False, False, False, False, False, False, False,\n",
       "                    False, False, False, False, False, False, False, False,\n",
       "                    False, False, False, False, False, False, False, False,\n",
       "                    False, False, False, False, False, False, False, False,\n",
       "                    False, False, False, False, False],\n",
       "        fill_value='?',\n",
       "             dtype=object),\n",
       " 'params': [{'max_depth': 5, 'min_samples_leaf': 1, 'min_samples_split': 2},\n",
       "  {'max_depth': 5, 'min_samples_leaf': 1, 'min_samples_split': 5},\n",
       "  {'max_depth': 5, 'min_samples_leaf': 1, 'min_samples_split': 10},\n",
       "  {'max_depth': 5, 'min_samples_leaf': 10, 'min_samples_split': 2},\n",
       "  {'max_depth': 5, 'min_samples_leaf': 10, 'min_samples_split': 5},\n",
       "  {'max_depth': 5, 'min_samples_leaf': 10, 'min_samples_split': 10},\n",
       "  {'max_depth': 5, 'min_samples_leaf': 20, 'min_samples_split': 2},\n",
       "  {'max_depth': 5, 'min_samples_leaf': 20, 'min_samples_split': 5},\n",
       "  {'max_depth': 5, 'min_samples_leaf': 20, 'min_samples_split': 10},\n",
       "  {'max_depth': 7, 'min_samples_leaf': 1, 'min_samples_split': 2},\n",
       "  {'max_depth': 7, 'min_samples_leaf': 1, 'min_samples_split': 5},\n",
       "  {'max_depth': 7, 'min_samples_leaf': 1, 'min_samples_split': 10},\n",
       "  {'max_depth': 7, 'min_samples_leaf': 10, 'min_samples_split': 2},\n",
       "  {'max_depth': 7, 'min_samples_leaf': 10, 'min_samples_split': 5},\n",
       "  {'max_depth': 7, 'min_samples_leaf': 10, 'min_samples_split': 10},\n",
       "  {'max_depth': 7, 'min_samples_leaf': 20, 'min_samples_split': 2},\n",
       "  {'max_depth': 7, 'min_samples_leaf': 20, 'min_samples_split': 5},\n",
       "  {'max_depth': 7, 'min_samples_leaf': 20, 'min_samples_split': 10},\n",
       "  {'max_depth': 10, 'min_samples_leaf': 1, 'min_samples_split': 2},\n",
       "  {'max_depth': 10, 'min_samples_leaf': 1, 'min_samples_split': 5},\n",
       "  {'max_depth': 10, 'min_samples_leaf': 1, 'min_samples_split': 10},\n",
       "  {'max_depth': 10, 'min_samples_leaf': 10, 'min_samples_split': 2},\n",
       "  {'max_depth': 10, 'min_samples_leaf': 10, 'min_samples_split': 5},\n",
       "  {'max_depth': 10, 'min_samples_leaf': 10, 'min_samples_split': 10},\n",
       "  {'max_depth': 10, 'min_samples_leaf': 20, 'min_samples_split': 2},\n",
       "  {'max_depth': 10, 'min_samples_leaf': 20, 'min_samples_split': 5},\n",
       "  {'max_depth': 10, 'min_samples_leaf': 20, 'min_samples_split': 10},\n",
       "  {'max_depth': 15, 'min_samples_leaf': 1, 'min_samples_split': 2},\n",
       "  {'max_depth': 15, 'min_samples_leaf': 1, 'min_samples_split': 5},\n",
       "  {'max_depth': 15, 'min_samples_leaf': 1, 'min_samples_split': 10},\n",
       "  {'max_depth': 15, 'min_samples_leaf': 10, 'min_samples_split': 2},\n",
       "  {'max_depth': 15, 'min_samples_leaf': 10, 'min_samples_split': 5},\n",
       "  {'max_depth': 15, 'min_samples_leaf': 10, 'min_samples_split': 10},\n",
       "  {'max_depth': 15, 'min_samples_leaf': 20, 'min_samples_split': 2},\n",
       "  {'max_depth': 15, 'min_samples_leaf': 20, 'min_samples_split': 5},\n",
       "  {'max_depth': 15, 'min_samples_leaf': 20, 'min_samples_split': 10},\n",
       "  {'max_depth': 30, 'min_samples_leaf': 1, 'min_samples_split': 2},\n",
       "  {'max_depth': 30, 'min_samples_leaf': 1, 'min_samples_split': 5},\n",
       "  {'max_depth': 30, 'min_samples_leaf': 1, 'min_samples_split': 10},\n",
       "  {'max_depth': 30, 'min_samples_leaf': 10, 'min_samples_split': 2},\n",
       "  {'max_depth': 30, 'min_samples_leaf': 10, 'min_samples_split': 5},\n",
       "  {'max_depth': 30, 'min_samples_leaf': 10, 'min_samples_split': 10},\n",
       "  {'max_depth': 30, 'min_samples_leaf': 20, 'min_samples_split': 2},\n",
       "  {'max_depth': 30, 'min_samples_leaf': 20, 'min_samples_split': 5},\n",
       "  {'max_depth': 30, 'min_samples_leaf': 20, 'min_samples_split': 10}],\n",
       " 'split0_test_score': array([0.86538371, 0.86538371, 0.86538371, 0.86461593, 0.86461593,\n",
       "        0.86461593, 0.8636333 , 0.8636333 , 0.8636333 , 0.88523126,\n",
       "        0.88670162, 0.88706735, 0.88566673, 0.88566673, 0.88566673,\n",
       "        0.88338776, 0.88338776, 0.88338776, 0.8954514 , 0.89476898,\n",
       "        0.89441738, 0.89235074, 0.89235074, 0.89235074, 0.89129835,\n",
       "        0.89129835, 0.89129835, 0.87701988, 0.88416856, 0.89202212,\n",
       "        0.89450059, 0.89461188, 0.89462243, 0.89370858, 0.89370858,\n",
       "        0.89370858, 0.8733987 , 0.88438429, 0.89379269, 0.89518819,\n",
       "        0.89523639, 0.89517764, 0.89380738, 0.89380738, 0.89380738]),\n",
       " 'split1_test_score': array([0.8593845 , 0.8593845 , 0.8593845 , 0.85909814, 0.85909814,\n",
       "        0.85909814, 0.85924801, 0.85924801, 0.85924801, 0.87308138,\n",
       "        0.87309029, 0.873708  , 0.87655443, 0.87655443, 0.87655443,\n",
       "        0.87355148, 0.87355148, 0.87355148, 0.88074944, 0.87779203,\n",
       "        0.88052717, 0.88789057, 0.88803568, 0.88796063, 0.8834731 ,\n",
       "        0.8834731 , 0.8834731 , 0.87309794, 0.87774635, 0.87806785,\n",
       "        0.8895007 , 0.88960008, 0.88956186, 0.88368788, 0.88368788,\n",
       "        0.88368788, 0.8681693 , 0.8761209 , 0.87697804, 0.88977435,\n",
       "        0.8897854 , 0.88991746, 0.88373406, 0.88373406, 0.88373406]),\n",
       " 'split2_test_score': array([0.85029033, 0.85029033, 0.85029033, 0.84972859, 0.84972859,\n",
       "        0.84972859, 0.84847886, 0.84847886, 0.84847886, 0.87281001,\n",
       "        0.87246254, 0.87217823, 0.86832825, 0.86832825, 0.86832825,\n",
       "        0.86592834, 0.86592834, 0.86592834, 0.87851061, 0.8777279 ,\n",
       "        0.88065052, 0.88767898, 0.88770853, 0.88779281, 0.88176362,\n",
       "        0.88176362, 0.88176362, 0.87337464, 0.872378  , 0.8740355 ,\n",
       "        0.89193421, 0.89184901, 0.89193421, 0.88520236, 0.88520236,\n",
       "        0.88520236, 0.87090344, 0.87466319, 0.8755667 , 0.89212371,\n",
       "        0.89201574, 0.89217224, 0.88522216, 0.88522216, 0.88522216]),\n",
       " 'split3_test_score': array([0.86231241, 0.86231241, 0.86231241, 0.86693846, 0.86693846,\n",
       "        0.86693846, 0.86698711, 0.86698711, 0.86698711, 0.87646564,\n",
       "        0.87640294, 0.87636772, 0.88003484, 0.88003484, 0.88003484,\n",
       "        0.88211402, 0.88211402, 0.88211402, 0.87715731, 0.87669026,\n",
       "        0.87991258, 0.89277808, 0.89268715, 0.89269527, 0.89404456,\n",
       "        0.89404456, 0.89404456, 0.86659595, 0.87000471, 0.87702843,\n",
       "        0.893358  , 0.89338   , 0.89337189, 0.89620402, 0.89620402,\n",
       "        0.89620402, 0.85772206, 0.86603408, 0.87722172, 0.89329652,\n",
       "        0.89337934, 0.89324056, 0.89620017, 0.89620017, 0.89620017]),\n",
       " 'split4_test_score': array([0.86990798, 0.86990798, 0.86990798, 0.86998648, 0.86998648,\n",
       "        0.86998648, 0.86852325, 0.86852325, 0.86852325, 0.88685833,\n",
       "        0.88722209, 0.88731759, 0.88932731, 0.88942765, 0.88941073,\n",
       "        0.88659917, 0.88659917, 0.88659917, 0.89450331, 0.89486847,\n",
       "        0.89717604, 0.90011241, 0.89997288, 0.9000614 , 0.89321884,\n",
       "        0.89348089, 0.89321884, 0.88708645, 0.89183395, 0.89557869,\n",
       "        0.90426252, 0.90413075, 0.90420669, 0.8971779 , 0.89743995,\n",
       "        0.89713544, 0.88749795, 0.8901605 , 0.89751661, 0.90516627,\n",
       "        0.90516757, 0.90502044, 0.89743995, 0.89739748, 0.89743995]),\n",
       " 'mean_test_score': array([0.86145579, 0.86145579, 0.86145579, 0.86207352, 0.86207352,\n",
       "        0.86207352, 0.86137411, 0.86137411, 0.86137411, 0.87888933,\n",
       "        0.8791759 , 0.87932778, 0.87998231, 0.88000238, 0.879999  ,\n",
       "        0.87831615, 0.87831615, 0.87831615, 0.88527441, 0.88436953,\n",
       "        0.88653674, 0.89216216, 0.892151  , 0.89217217, 0.88875969,\n",
       "        0.8888121 , 0.88875969, 0.87543497, 0.87922631, 0.88334652,\n",
       "        0.8947112 , 0.89471434, 0.89473941, 0.89119615, 0.89124856,\n",
       "        0.89118766, 0.87153829, 0.87827259, 0.88421515, 0.89510981,\n",
       "        0.89511689, 0.89510567, 0.89128074, 0.89127225, 0.89128074]),\n",
       " 'std_test_score': array([0.00658118, 0.00658118, 0.00658118, 0.00712736, 0.00712736,\n",
       "        0.00712736, 0.00719065, 0.00719065, 0.00719065, 0.00600483,\n",
       "        0.00649878, 0.00656046, 0.00731043, 0.00733615, 0.0073318 ,\n",
       "        0.00754869, 0.00754869, 0.00754869, 0.00801069, 0.00854075,\n",
       "        0.007615  , 0.0045159 , 0.00443126, 0.00446007, 0.00512156,\n",
       "        0.00516805, 0.00512156, 0.00672464, 0.00796876, 0.00871057,\n",
       "        0.00505894, 0.00499651, 0.00502373, 0.00564751, 0.00570372,\n",
       "        0.00563854, 0.00960014, 0.00832002, 0.0094312 , 0.00532561,\n",
       "        0.00533088, 0.0052404 , 0.00569525, 0.00568608, 0.00569525]),\n",
       " 'rank_test_score': array([40, 40, 40, 37, 37, 37, 43, 45, 43, 30, 29, 27, 26, 24, 25, 33, 31,\n",
       "        31, 20, 21, 19,  8,  9,  7, 17, 16, 17, 35, 28, 23,  6,  5,  4, 14,\n",
       "        13, 15, 36, 34, 22,  2,  1,  3, 10, 12, 10])}"
      ]
     },
     "execution_count": 51,
     "metadata": {},
     "output_type": "execute_result"
    }
   ],
   "source": [
    "grid_search_dt_reg.cv_results_"
   ]
  },
  {
   "cell_type": "code",
   "execution_count": 52,
   "metadata": {},
   "outputs": [
    {
     "data": {
      "text/html": [
       "<div>\n",
       "<style scoped>\n",
       "    .dataframe tbody tr th:only-of-type {\n",
       "        vertical-align: middle;\n",
       "    }\n",
       "\n",
       "    .dataframe tbody tr th {\n",
       "        vertical-align: top;\n",
       "    }\n",
       "\n",
       "    .dataframe thead th {\n",
       "        text-align: right;\n",
       "    }\n",
       "</style>\n",
       "<table border=\"1\" class=\"dataframe\">\n",
       "  <thead>\n",
       "    <tr style=\"text-align: right;\">\n",
       "      <th></th>\n",
       "      <th>mean_fit_time</th>\n",
       "      <th>std_fit_time</th>\n",
       "      <th>mean_score_time</th>\n",
       "      <th>std_score_time</th>\n",
       "      <th>param_max_depth</th>\n",
       "      <th>param_min_samples_leaf</th>\n",
       "      <th>param_min_samples_split</th>\n",
       "      <th>params</th>\n",
       "      <th>split0_test_score</th>\n",
       "      <th>split1_test_score</th>\n",
       "      <th>split2_test_score</th>\n",
       "      <th>split3_test_score</th>\n",
       "      <th>split4_test_score</th>\n",
       "      <th>mean_test_score</th>\n",
       "      <th>std_test_score</th>\n",
       "      <th>rank_test_score</th>\n",
       "    </tr>\n",
       "  </thead>\n",
       "  <tbody>\n",
       "    <tr>\n",
       "      <th>0</th>\n",
       "      <td>0.026098</td>\n",
       "      <td>0.003262</td>\n",
       "      <td>0.000800</td>\n",
       "      <td>2.451066e-04</td>\n",
       "      <td>5</td>\n",
       "      <td>1</td>\n",
       "      <td>2</td>\n",
       "      <td>{'max_depth': 5, 'min_samples_leaf': 1, 'min_s...</td>\n",
       "      <td>0.865384</td>\n",
       "      <td>0.859384</td>\n",
       "      <td>0.850290</td>\n",
       "      <td>0.862312</td>\n",
       "      <td>0.869908</td>\n",
       "      <td>0.861456</td>\n",
       "      <td>0.006581</td>\n",
       "      <td>40</td>\n",
       "    </tr>\n",
       "    <tr>\n",
       "      <th>1</th>\n",
       "      <td>0.023499</td>\n",
       "      <td>0.000707</td>\n",
       "      <td>0.000700</td>\n",
       "      <td>2.449121e-04</td>\n",
       "      <td>5</td>\n",
       "      <td>1</td>\n",
       "      <td>5</td>\n",
       "      <td>{'max_depth': 5, 'min_samples_leaf': 1, 'min_s...</td>\n",
       "      <td>0.865384</td>\n",
       "      <td>0.859384</td>\n",
       "      <td>0.850290</td>\n",
       "      <td>0.862312</td>\n",
       "      <td>0.869908</td>\n",
       "      <td>0.861456</td>\n",
       "      <td>0.006581</td>\n",
       "      <td>40</td>\n",
       "    </tr>\n",
       "    <tr>\n",
       "      <th>2</th>\n",
       "      <td>0.023500</td>\n",
       "      <td>0.000836</td>\n",
       "      <td>0.000501</td>\n",
       "      <td>5.840039e-07</td>\n",
       "      <td>5</td>\n",
       "      <td>1</td>\n",
       "      <td>10</td>\n",
       "      <td>{'max_depth': 5, 'min_samples_leaf': 1, 'min_s...</td>\n",
       "      <td>0.865384</td>\n",
       "      <td>0.859384</td>\n",
       "      <td>0.850290</td>\n",
       "      <td>0.862312</td>\n",
       "      <td>0.869908</td>\n",
       "      <td>0.861456</td>\n",
       "      <td>0.006581</td>\n",
       "      <td>40</td>\n",
       "    </tr>\n",
       "    <tr>\n",
       "      <th>3</th>\n",
       "      <td>0.023200</td>\n",
       "      <td>0.000749</td>\n",
       "      <td>0.000500</td>\n",
       "      <td>2.780415e-07</td>\n",
       "      <td>5</td>\n",
       "      <td>10</td>\n",
       "      <td>2</td>\n",
       "      <td>{'max_depth': 5, 'min_samples_leaf': 10, 'min_...</td>\n",
       "      <td>0.864616</td>\n",
       "      <td>0.859098</td>\n",
       "      <td>0.849729</td>\n",
       "      <td>0.866938</td>\n",
       "      <td>0.869986</td>\n",
       "      <td>0.862074</td>\n",
       "      <td>0.007127</td>\n",
       "      <td>37</td>\n",
       "    </tr>\n",
       "    <tr>\n",
       "      <th>4</th>\n",
       "      <td>0.025199</td>\n",
       "      <td>0.002580</td>\n",
       "      <td>0.000900</td>\n",
       "      <td>2.002002e-04</td>\n",
       "      <td>5</td>\n",
       "      <td>10</td>\n",
       "      <td>5</td>\n",
       "      <td>{'max_depth': 5, 'min_samples_leaf': 10, 'min_...</td>\n",
       "      <td>0.864616</td>\n",
       "      <td>0.859098</td>\n",
       "      <td>0.849729</td>\n",
       "      <td>0.866938</td>\n",
       "      <td>0.869986</td>\n",
       "      <td>0.862074</td>\n",
       "      <td>0.007127</td>\n",
       "      <td>37</td>\n",
       "    </tr>\n",
       "  </tbody>\n",
       "</table>\n",
       "</div>"
      ],
      "text/plain": [
       "   mean_fit_time  std_fit_time  mean_score_time  std_score_time  \\\n",
       "0       0.026098      0.003262         0.000800    2.451066e-04   \n",
       "1       0.023499      0.000707         0.000700    2.449121e-04   \n",
       "2       0.023500      0.000836         0.000501    5.840039e-07   \n",
       "3       0.023200      0.000749         0.000500    2.780415e-07   \n",
       "4       0.025199      0.002580         0.000900    2.002002e-04   \n",
       "\n",
       "  param_max_depth param_min_samples_leaf param_min_samples_split  \\\n",
       "0               5                      1                       2   \n",
       "1               5                      1                       5   \n",
       "2               5                      1                      10   \n",
       "3               5                     10                       2   \n",
       "4               5                     10                       5   \n",
       "\n",
       "                                              params  split0_test_score  \\\n",
       "0  {'max_depth': 5, 'min_samples_leaf': 1, 'min_s...           0.865384   \n",
       "1  {'max_depth': 5, 'min_samples_leaf': 1, 'min_s...           0.865384   \n",
       "2  {'max_depth': 5, 'min_samples_leaf': 1, 'min_s...           0.865384   \n",
       "3  {'max_depth': 5, 'min_samples_leaf': 10, 'min_...           0.864616   \n",
       "4  {'max_depth': 5, 'min_samples_leaf': 10, 'min_...           0.864616   \n",
       "\n",
       "   split1_test_score  split2_test_score  split3_test_score  split4_test_score  \\\n",
       "0           0.859384           0.850290           0.862312           0.869908   \n",
       "1           0.859384           0.850290           0.862312           0.869908   \n",
       "2           0.859384           0.850290           0.862312           0.869908   \n",
       "3           0.859098           0.849729           0.866938           0.869986   \n",
       "4           0.859098           0.849729           0.866938           0.869986   \n",
       "\n",
       "   mean_test_score  std_test_score  rank_test_score  \n",
       "0         0.861456        0.006581               40  \n",
       "1         0.861456        0.006581               40  \n",
       "2         0.861456        0.006581               40  \n",
       "3         0.862074        0.007127               37  \n",
       "4         0.862074        0.007127               37  "
      ]
     },
     "execution_count": 52,
     "metadata": {},
     "output_type": "execute_result"
    }
   ],
   "source": [
    "df_grid_search_dt_reg = pd.DataFrame(grid_search_dt_reg.cv_results_)\n",
    "df_grid_search_dt_reg.head(5)"
   ]
  },
  {
   "cell_type": "code",
   "execution_count": 53,
   "metadata": {},
   "outputs": [],
   "source": [
    "df_grid_search_dt_reg.sort_values([\"param_max_depth\", \"param_min_samples_leaf\", \"param_min_samples_split\", \"mean_test_score\"], inplace=True)"
   ]
  },
  {
   "cell_type": "code",
   "execution_count": 54,
   "metadata": {},
   "outputs": [
    {
     "data": {
      "image/png": "[encoded data removed]",
      "text/plain": [
       "<Figure size 648x216 with 3 Axes>"
      ]
     },
     "metadata": {
      "needs_background": "light"
     },
     "output_type": "display_data"
    }
   ],
   "source": [
    "fig_dt_reg = sns.FacetGrid(df_grid_search_dt_reg, col=\"param_min_samples_split\")\n",
    "fig_dt_reg.map(sns.lineplot, \"param_max_depth\", \"mean_test_score\", \"param_min_samples_leaf\")\n",
    "plt.plot([], [], ' ', label=\"min_samples_leaf\")\n",
    "plt.legend()\n",
    "plt.show()"
   ]
  },
  {
   "cell_type": "code",
   "execution_count": 55,
   "metadata": {},
   "outputs": [
    {
     "data": {
      "text/plain": [
       "0.6621964380107025"
      ]
     },
     "execution_count": 55,
     "metadata": {},
     "output_type": "execute_result"
    }
   ],
   "source": [
    "grid_search_dt_reg.score(X_test, y_test)"
   ]
  },
  {
   "cell_type": "code",
   "execution_count": 56,
   "metadata": {},
   "outputs": [
    {
     "name": "stdout",
     "output_type": "stream",
     "text": [
      "RMSE: 0.549538737449912\n"
     ]
    },
    {
     "data": {
      "image/png": "[encoded data removed]",
      "text/plain": [
       "<Figure size 432x288 with 1 Axes>"
      ]
     },
     "metadata": {
      "needs_background": "light"
     },
     "output_type": "display_data"
    }
   ],
   "source": [
    "plot_test(grid_search_dt_reg, X_test, y_test)"
   ]
  },
  {
   "cell_type": "code",
   "execution_count": 57,
   "metadata": {},
   "outputs": [
    {
     "data": {
      "image/png": "[encoded data removed]",
      "text/plain": [
       "<Figure size 1440x360 with 3 Axes>"
      ]
     },
     "metadata": {
      "needs_background": "light"
     },
     "output_type": "display_data"
    }
   ],
   "source": [
    "plot_learning_curve(grid_search_dt_reg, \"Decision Tree Regressor\", X_train_scaled, y_train, cv=5, n_jobs=-1);"
   ]
  },
  {
   "cell_type": "markdown",
   "metadata": {},
   "source": [
    "## Random Forest Regressor"
   ]
  },
  {
   "cell_type": "code",
   "execution_count": 58,
   "metadata": {},
   "outputs": [],
   "source": [
    "from sklearn.ensemble import RandomForestRegressor"
   ]
  },
  {
   "cell_type": "code",
   "execution_count": 59,
   "metadata": {},
   "outputs": [],
   "source": [
    "param_grid_rf_reg = {\n",
    "    \"max_depth\": [5, 7, 10, 20],\n",
    "    \"min_samples_split\": [2, 5, 10],\n",
    "    \"min_samples_leaf\": [1, 10, 20],\n",
    "}"
   ]
  },
  {
   "cell_type": "code",
   "execution_count": 60,
   "metadata": {},
   "outputs": [],
   "source": [
    "grid_search_rf_reg = GridSearchCV(RandomForestRegressor(), param_grid_rf_reg, cv=5, n_jobs=-1)"
   ]
  },
  {
   "cell_type": "code",
   "execution_count": 61,
   "metadata": {},
   "outputs": [
    {
     "data": {
      "text/plain": [
       "GridSearchCV(cv=5, estimator=RandomForestRegressor(), n_jobs=-1,\n",
       "             param_grid={'max_depth': [5, 7, 10, 20],\n",
       "                         'min_samples_leaf': [1, 10, 20],\n",
       "                         'min_samples_split': [2, 5, 10]})"
      ]
     },
     "execution_count": 61,
     "metadata": {},
     "output_type": "execute_result"
    }
   ],
   "source": [
    "grid_search_rf_reg.fit(X_train, y_train)"
   ]
  },
  {
   "cell_type": "code",
   "execution_count": 62,
   "metadata": {},
   "outputs": [
    {
     "data": {
      "text/plain": [
       "{'max_depth': 20, 'min_samples_leaf': 1, 'min_samples_split': 2}"
      ]
     },
     "execution_count": 62,
     "metadata": {},
     "output_type": "execute_result"
    }
   ],
   "source": [
    "grid_search_rf_reg.best_params_"
   ]
  },
  {
   "cell_type": "code",
   "execution_count": 63,
   "metadata": {},
   "outputs": [
    {
     "data": {
      "text/plain": [
       "{'mean_fit_time': array([1.664499  , 1.68289943, 1.61979904, 1.65259991, 1.60899963,\n",
       "        1.58899961, 1.56990128, 1.65550041, 1.61490016, 2.13469996,\n",
       "        2.00620022, 1.9900003 , 1.98159966, 1.97450042, 1.9478992 ,\n",
       "        1.93110037, 1.90739994, 1.90529957, 2.56800089, 2.60070033,\n",
       "        2.55379977, 2.39739933, 2.36209993, 2.37239919, 2.26070018,\n",
       "        2.19540014, 2.2294992 , 3.74749966, 3.49570017, 3.34929938,\n",
       "        2.59630027, 2.69179988, 2.73439994, 2.38649926, 2.19449949,\n",
       "        2.05519996]),\n",
       " 'std_fit_time': array([0.10763851, 0.10070944, 0.07030934, 0.08076984, 0.05855959,\n",
       "        0.07971032, 0.04774635, 0.05625162, 0.08846901, 0.11645195,\n",
       "        0.02933012, 0.05057435, 0.03608744, 0.03197129, 0.02241237,\n",
       "        0.02684325, 0.01476562, 0.01955471, 0.01955976, 0.0441631 ,\n",
       "        0.02909016, 0.03734439, 0.02311336, 0.03375612, 0.05296547,\n",
       "        0.01455052, 0.04227449, 0.03197945, 0.05556853, 0.03668002,\n",
       "        0.06125766, 0.15286846, 0.15561289, 0.09293586, 0.09302975,\n",
       "        0.03314373]),\n",
       " 'mean_score_time': array([0.01249981, 0.01249933, 0.01339989, 0.01340017, 0.01280031,\n",
       "        0.01460056, 0.01499925, 0.01340065, 0.01369982, 0.01489987,\n",
       "        0.01489978, 0.01569991, 0.01580029, 0.0155992 , 0.01560073,\n",
       "        0.01549926, 0.01589928, 0.01569977, 0.02179904, 0.02139974,\n",
       "        0.02039986, 0.01930013, 0.01960011, 0.01980038, 0.01940026,\n",
       "        0.01849976, 0.01850028, 0.04729981, 0.03440037, 0.02920127,\n",
       "        0.02199993, 0.02280064, 0.02460022, 0.01880045, 0.01680002,\n",
       "        0.01579924]),\n",
       " 'std_score_time': array([0.00044686, 0.0003156 , 0.00182778, 0.0013568 , 0.00097939,\n",
       "        0.00272761, 0.00346296, 0.00049044, 0.00215858, 0.0003735 ,\n",
       "        0.0001997 , 0.00116593, 0.00039997, 0.00037335, 0.00037415,\n",
       "        0.0005476 , 0.00156213, 0.00074791, 0.00067805, 0.00139358,\n",
       "        0.00091665, 0.00050939, 0.0004897 , 0.00067875, 0.00171499,\n",
       "        0.00063294, 0.00089407, 0.00180556, 0.00283566, 0.0006787 ,\n",
       "        0.00063233, 0.00146941, 0.00265366, 0.00040022, 0.00067799,\n",
       "        0.00081112]),\n",
       " 'param_max_depth': masked_array(data=[5, 5, 5, 5, 5, 5, 5, 5, 5, 7, 7, 7, 7, 7, 7, 7, 7, 7,\n",
       "                    10, 10, 10, 10, 10, 10, 10, 10, 10, 20, 20, 20, 20, 20,\n",
       "                    20, 20, 20, 20],\n",
       "              mask=[False, False, False, False, False, False, False, False,\n",
       "                    False, False, False, False, False, False, False, False,\n",
       "                    False, False, False, False, False, False, False, False,\n",
       "                    False, False, False, False, False, False, False, False,\n",
       "                    False, False, False, False],\n",
       "        fill_value='?',\n",
       "             dtype=object),\n",
       " 'param_min_samples_leaf': masked_array(data=[1, 1, 1, 10, 10, 10, 20, 20, 20, 1, 1, 1, 10, 10, 10,\n",
       "                    20, 20, 20, 1, 1, 1, 10, 10, 10, 20, 20, 20, 1, 1, 1,\n",
       "                    10, 10, 10, 20, 20, 20],\n",
       "              mask=[False, False, False, False, False, False, False, False,\n",
       "                    False, False, False, False, False, False, False, False,\n",
       "                    False, False, False, False, False, False, False, False,\n",
       "                    False, False, False, False, False, False, False, False,\n",
       "                    False, False, False, False],\n",
       "        fill_value='?',\n",
       "             dtype=object),\n",
       " 'param_min_samples_split': masked_array(data=[2, 5, 10, 2, 5, 10, 2, 5, 10, 2, 5, 10, 2, 5, 10, 2, 5,\n",
       "                    10, 2, 5, 10, 2, 5, 10, 2, 5, 10, 2, 5, 10, 2, 5, 10,\n",
       "                    2, 5, 10],\n",
       "              mask=[False, False, False, False, False, False, False, False,\n",
       "                    False, False, False, False, False, False, False, False,\n",
       "                    False, False, False, False, False, False, False, False,\n",
       "                    False, False, False, False, False, False, False, False,\n",
       "                    False, False, False, False],\n",
       "        fill_value='?',\n",
       "             dtype=object),\n",
       " 'params': [{'max_depth': 5, 'min_samples_leaf': 1, 'min_samples_split': 2},\n",
       "  {'max_depth': 5, 'min_samples_leaf': 1, 'min_samples_split': 5},\n",
       "  {'max_depth': 5, 'min_samples_leaf': 1, 'min_samples_split': 10},\n",
       "  {'max_depth': 5, 'min_samples_leaf': 10, 'min_samples_split': 2},\n",
       "  {'max_depth': 5, 'min_samples_leaf': 10, 'min_samples_split': 5},\n",
       "  {'max_depth': 5, 'min_samples_leaf': 10, 'min_samples_split': 10},\n",
       "  {'max_depth': 5, 'min_samples_leaf': 20, 'min_samples_split': 2},\n",
       "  {'max_depth': 5, 'min_samples_leaf': 20, 'min_samples_split': 5},\n",
       "  {'max_depth': 5, 'min_samples_leaf': 20, 'min_samples_split': 10},\n",
       "  {'max_depth': 7, 'min_samples_leaf': 1, 'min_samples_split': 2},\n",
       "  {'max_depth': 7, 'min_samples_leaf': 1, 'min_samples_split': 5},\n",
       "  {'max_depth': 7, 'min_samples_leaf': 1, 'min_samples_split': 10},\n",
       "  {'max_depth': 7, 'min_samples_leaf': 10, 'min_samples_split': 2},\n",
       "  {'max_depth': 7, 'min_samples_leaf': 10, 'min_samples_split': 5},\n",
       "  {'max_depth': 7, 'min_samples_leaf': 10, 'min_samples_split': 10},\n",
       "  {'max_depth': 7, 'min_samples_leaf': 20, 'min_samples_split': 2},\n",
       "  {'max_depth': 7, 'min_samples_leaf': 20, 'min_samples_split': 5},\n",
       "  {'max_depth': 7, 'min_samples_leaf': 20, 'min_samples_split': 10},\n",
       "  {'max_depth': 10, 'min_samples_leaf': 1, 'min_samples_split': 2},\n",
       "  {'max_depth': 10, 'min_samples_leaf': 1, 'min_samples_split': 5},\n",
       "  {'max_depth': 10, 'min_samples_leaf': 1, 'min_samples_split': 10},\n",
       "  {'max_depth': 10, 'min_samples_leaf': 10, 'min_samples_split': 2},\n",
       "  {'max_depth': 10, 'min_samples_leaf': 10, 'min_samples_split': 5},\n",
       "  {'max_depth': 10, 'min_samples_leaf': 10, 'min_samples_split': 10},\n",
       "  {'max_depth': 10, 'min_samples_leaf': 20, 'min_samples_split': 2},\n",
       "  {'max_depth': 10, 'min_samples_leaf': 20, 'min_samples_split': 5},\n",
       "  {'max_depth': 10, 'min_samples_leaf': 20, 'min_samples_split': 10},\n",
       "  {'max_depth': 20, 'min_samples_leaf': 1, 'min_samples_split': 2},\n",
       "  {'max_depth': 20, 'min_samples_leaf': 1, 'min_samples_split': 5},\n",
       "  {'max_depth': 20, 'min_samples_leaf': 1, 'min_samples_split': 10},\n",
       "  {'max_depth': 20, 'min_samples_leaf': 10, 'min_samples_split': 2},\n",
       "  {'max_depth': 20, 'min_samples_leaf': 10, 'min_samples_split': 5},\n",
       "  {'max_depth': 20, 'min_samples_leaf': 10, 'min_samples_split': 10},\n",
       "  {'max_depth': 20, 'min_samples_leaf': 20, 'min_samples_split': 2},\n",
       "  {'max_depth': 20, 'min_samples_leaf': 20, 'min_samples_split': 5},\n",
       "  {'max_depth': 20, 'min_samples_leaf': 20, 'min_samples_split': 10}],\n",
       " 'split0_test_score': array([0.87409745, 0.87379332, 0.87426958, 0.87436333, 0.87439781,\n",
       "        0.87452226, 0.87390433, 0.87367375, 0.87371071, 0.89899189,\n",
       "        0.89776198, 0.89786397, 0.8962914 , 0.89688849, 0.89712785,\n",
       "        0.89364513, 0.89284886, 0.89266274, 0.91984189, 0.9198868 ,\n",
       "        0.9175374 , 0.9110132 , 0.91179723, 0.91100131, 0.90160551,\n",
       "        0.90165869, 0.90122657, 0.93396489, 0.93389114, 0.9306558 ,\n",
       "        0.91491909, 0.91498071, 0.91537598, 0.90241149, 0.90232902,\n",
       "        0.9020905 ]),\n",
       " 'split1_test_score': array([0.87070163, 0.87138231, 0.87163636, 0.87150763, 0.87158461,\n",
       "        0.87119045, 0.87064208, 0.87086643, 0.87048742, 0.8933971 ,\n",
       "        0.89362646, 0.89412804, 0.89172065, 0.89222918, 0.89128596,\n",
       "        0.88886993, 0.88891534, 0.88890981, 0.91555752, 0.91475971,\n",
       "        0.91392292, 0.90719036, 0.90779272, 0.90764276, 0.8971422 ,\n",
       "        0.896334  , 0.89722668, 0.92999797, 0.92839097, 0.9257504 ,\n",
       "        0.91032601, 0.91145406, 0.91040498, 0.89858387, 0.8987064 ,\n",
       "        0.89833198]),\n",
       " 'split2_test_score': array([0.86295561, 0.8616813 , 0.86297427, 0.86284301, 0.86282287,\n",
       "        0.86117059, 0.86185432, 0.86180155, 0.86067062, 0.88894631,\n",
       "        0.88798889, 0.88818777, 0.88620405, 0.88562087, 0.88578401,\n",
       "        0.88211735, 0.88164572, 0.88139696, 0.91303537, 0.91212153,\n",
       "        0.91190271, 0.90456616, 0.90450125, 0.90446022, 0.89409495,\n",
       "        0.8935894 , 0.89338589, 0.9285017 , 0.92940264, 0.9248351 ,\n",
       "        0.90962122, 0.90893283, 0.91002503, 0.89541071, 0.89536675,\n",
       "        0.89525241]),\n",
       " 'split3_test_score': array([0.87856739, 0.87875427, 0.87893051, 0.8798387 , 0.87870466,\n",
       "        0.87882328, 0.88014563, 0.87977981, 0.87965041, 0.89716977,\n",
       "        0.89777591, 0.89689133, 0.89819657, 0.89755927, 0.89777768,\n",
       "        0.89784839, 0.89742101, 0.89761559, 0.91837708, 0.91827062,\n",
       "        0.91676588, 0.91414085, 0.91380901, 0.91474153, 0.9070176 ,\n",
       "        0.90723301, 0.90727856, 0.93349887, 0.93235296, 0.92971291,\n",
       "        0.91850917, 0.91800504, 0.91730171, 0.90726233, 0.90771775,\n",
       "        0.90731812]),\n",
       " 'split4_test_score': array([0.87813386, 0.87834652, 0.87827118, 0.87822706, 0.87805398,\n",
       "        0.87779908, 0.87796699, 0.87741144, 0.87827369, 0.90128318,\n",
       "        0.90206942, 0.90097568, 0.89915913, 0.89884689, 0.89862959,\n",
       "        0.89575965, 0.89604341, 0.89533464, 0.92471296, 0.92544697,\n",
       "        0.92262659, 0.91516614, 0.91502146, 0.91432112, 0.90535404,\n",
       "        0.90473741, 0.90442445, 0.94256383, 0.94158022, 0.9383052 ,\n",
       "        0.91982929, 0.92028701, 0.9197957 , 0.90652711, 0.90684486,\n",
       "        0.90552443]),\n",
       " 'mean_test_score': array([0.87289119, 0.87279154, 0.87321638, 0.87335595, 0.87311279,\n",
       "        0.87270113, 0.87290267, 0.87270659, 0.87255857, 0.89595765,\n",
       "        0.89584453, 0.89560936, 0.89431436, 0.89422894, 0.89412102,\n",
       "        0.89164809, 0.89137487, 0.89118395, 0.91830496, 0.91809713,\n",
       "        0.9165511 , 0.91041534, 0.91058434, 0.91043339, 0.90104286,\n",
       "        0.9007105 , 0.90070843, 0.93370545, 0.93312359, 0.92985188,\n",
       "        0.91464096, 0.91473193, 0.91458068, 0.9020391 , 0.90219296,\n",
       "        0.90170349]),\n",
       " 'std_test_score': array([0.00573881, 0.0062103 , 0.00577423, 0.00601177, 0.00575419,\n",
       "        0.00635644, 0.0064232 , 0.00625152, 0.00678081, 0.00435321,\n",
       "        0.00474946, 0.0043081 , 0.00479493, 0.00484949, 0.00490474,\n",
       "        0.00561943, 0.00567854, 0.00568749, 0.00396855, 0.00456288,\n",
       "        0.00364542, 0.00403535, 0.00390781, 0.00393607, 0.00485981,\n",
       "        0.00508964, 0.00495956, 0.00488683, 0.00466778, 0.00477733,\n",
       "        0.00414188, 0.00414748, 0.00383206, 0.00454834, 0.00471031,\n",
       "        0.00445549]),\n",
       " 'rank_test_score': array([32, 33, 29, 28, 30, 35, 31, 34, 36, 19, 20, 21, 22, 23, 24, 25, 26,\n",
       "        27,  4,  5,  6, 12, 10, 11, 16, 17, 18,  1,  2,  3,  8,  7,  9, 14,\n",
       "        13, 15])}"
      ]
     },
     "execution_count": 63,
     "metadata": {},
     "output_type": "execute_result"
    }
   ],
   "source": [
    "grid_search_rf_reg.cv_results_"
   ]
  },
  {
   "cell_type": "code",
   "execution_count": 64,
   "metadata": {},
   "outputs": [
    {
     "data": {
      "text/html": [
       "<div>\n",
       "<style scoped>\n",
       "    .dataframe tbody tr th:only-of-type {\n",
       "        vertical-align: middle;\n",
       "    }\n",
       "\n",
       "    .dataframe tbody tr th {\n",
       "        vertical-align: top;\n",
       "    }\n",
       "\n",
       "    .dataframe thead th {\n",
       "        text-align: right;\n",
       "    }\n",
       "</style>\n",
       "<table border=\"1\" class=\"dataframe\">\n",
       "  <thead>\n",
       "    <tr style=\"text-align: right;\">\n",
       "      <th></th>\n",
       "      <th>mean_fit_time</th>\n",
       "      <th>std_fit_time</th>\n",
       "      <th>mean_score_time</th>\n",
       "      <th>std_score_time</th>\n",
       "      <th>param_max_depth</th>\n",
       "      <th>param_min_samples_leaf</th>\n",
       "      <th>param_min_samples_split</th>\n",
       "      <th>params</th>\n",
       "      <th>split0_test_score</th>\n",
       "      <th>split1_test_score</th>\n",
       "      <th>split2_test_score</th>\n",
       "      <th>split3_test_score</th>\n",
       "      <th>split4_test_score</th>\n",
       "      <th>mean_test_score</th>\n",
       "      <th>std_test_score</th>\n",
       "      <th>rank_test_score</th>\n",
       "    </tr>\n",
       "  </thead>\n",
       "  <tbody>\n",
       "    <tr>\n",
       "      <th>0</th>\n",
       "      <td>1.664499</td>\n",
       "      <td>0.107639</td>\n",
       "      <td>0.012500</td>\n",
       "      <td>0.000447</td>\n",
       "      <td>5</td>\n",
       "      <td>1</td>\n",
       "      <td>2</td>\n",
       "      <td>{'max_depth': 5, 'min_samples_leaf': 1, 'min_s...</td>\n",
       "      <td>0.874097</td>\n",
       "      <td>0.870702</td>\n",
       "      <td>0.862956</td>\n",
       "      <td>0.878567</td>\n",
       "      <td>0.878134</td>\n",
       "      <td>0.872891</td>\n",
       "      <td>0.005739</td>\n",
       "      <td>32</td>\n",
       "    </tr>\n",
       "    <tr>\n",
       "      <th>1</th>\n",
       "      <td>1.682899</td>\n",
       "      <td>0.100709</td>\n",
       "      <td>0.012499</td>\n",
       "      <td>0.000316</td>\n",
       "      <td>5</td>\n",
       "      <td>1</td>\n",
       "      <td>5</td>\n",
       "      <td>{'max_depth': 5, 'min_samples_leaf': 1, 'min_s...</td>\n",
       "      <td>0.873793</td>\n",
       "      <td>0.871382</td>\n",
       "      <td>0.861681</td>\n",
       "      <td>0.878754</td>\n",
       "      <td>0.878347</td>\n",
       "      <td>0.872792</td>\n",
       "      <td>0.006210</td>\n",
       "      <td>33</td>\n",
       "    </tr>\n",
       "    <tr>\n",
       "      <th>2</th>\n",
       "      <td>1.619799</td>\n",
       "      <td>0.070309</td>\n",
       "      <td>0.013400</td>\n",
       "      <td>0.001828</td>\n",
       "      <td>5</td>\n",
       "      <td>1</td>\n",
       "      <td>10</td>\n",
       "      <td>{'max_depth': 5, 'min_samples_leaf': 1, 'min_s...</td>\n",
       "      <td>0.874270</td>\n",
       "      <td>0.871636</td>\n",
       "      <td>0.862974</td>\n",
       "      <td>0.878931</td>\n",
       "      <td>0.878271</td>\n",
       "      <td>0.873216</td>\n",
       "      <td>0.005774</td>\n",
       "      <td>29</td>\n",
       "    </tr>\n",
       "    <tr>\n",
       "      <th>3</th>\n",
       "      <td>1.652600</td>\n",
       "      <td>0.080770</td>\n",
       "      <td>0.013400</td>\n",
       "      <td>0.001357</td>\n",
       "      <td>5</td>\n",
       "      <td>10</td>\n",
       "      <td>2</td>\n",
       "      <td>{'max_depth': 5, 'min_samples_leaf': 10, 'min_...</td>\n",
       "      <td>0.874363</td>\n",
       "      <td>0.871508</td>\n",
       "      <td>0.862843</td>\n",
       "      <td>0.879839</td>\n",
       "      <td>0.878227</td>\n",
       "      <td>0.873356</td>\n",
       "      <td>0.006012</td>\n",
       "      <td>28</td>\n",
       "    </tr>\n",
       "    <tr>\n",
       "      <th>4</th>\n",
       "      <td>1.609000</td>\n",
       "      <td>0.058560</td>\n",
       "      <td>0.012800</td>\n",
       "      <td>0.000979</td>\n",
       "      <td>5</td>\n",
       "      <td>10</td>\n",
       "      <td>5</td>\n",
       "      <td>{'max_depth': 5, 'min_samples_leaf': 10, 'min_...</td>\n",
       "      <td>0.874398</td>\n",
       "      <td>0.871585</td>\n",
       "      <td>0.862823</td>\n",
       "      <td>0.878705</td>\n",
       "      <td>0.878054</td>\n",
       "      <td>0.873113</td>\n",
       "      <td>0.005754</td>\n",
       "      <td>30</td>\n",
       "    </tr>\n",
       "  </tbody>\n",
       "</table>\n",
       "</div>"
      ],
      "text/plain": [
       "   mean_fit_time  std_fit_time  mean_score_time  std_score_time  \\\n",
       "0       1.664499      0.107639         0.012500        0.000447   \n",
       "1       1.682899      0.100709         0.012499        0.000316   \n",
       "2       1.619799      0.070309         0.013400        0.001828   \n",
       "3       1.652600      0.080770         0.013400        0.001357   \n",
       "4       1.609000      0.058560         0.012800        0.000979   \n",
       "\n",
       "  param_max_depth param_min_samples_leaf param_min_samples_split  \\\n",
       "0               5                      1                       2   \n",
       "1               5                      1                       5   \n",
       "2               5                      1                      10   \n",
       "3               5                     10                       2   \n",
       "4               5                     10                       5   \n",
       "\n",
       "                                              params  split0_test_score  \\\n",
       "0  {'max_depth': 5, 'min_samples_leaf': 1, 'min_s...           0.874097   \n",
       "1  {'max_depth': 5, 'min_samples_leaf': 1, 'min_s...           0.873793   \n",
       "2  {'max_depth': 5, 'min_samples_leaf': 1, 'min_s...           0.874270   \n",
       "3  {'max_depth': 5, 'min_samples_leaf': 10, 'min_...           0.874363   \n",
       "4  {'max_depth': 5, 'min_samples_leaf': 10, 'min_...           0.874398   \n",
       "\n",
       "   split1_test_score  split2_test_score  split3_test_score  split4_test_score  \\\n",
       "0           0.870702           0.862956           0.878567           0.878134   \n",
       "1           0.871382           0.861681           0.878754           0.878347   \n",
       "2           0.871636           0.862974           0.878931           0.878271   \n",
       "3           0.871508           0.862843           0.879839           0.878227   \n",
       "4           0.871585           0.862823           0.878705           0.878054   \n",
       "\n",
       "   mean_test_score  std_test_score  rank_test_score  \n",
       "0         0.872891        0.005739               32  \n",
       "1         0.872792        0.006210               33  \n",
       "2         0.873216        0.005774               29  \n",
       "3         0.873356        0.006012               28  \n",
       "4         0.873113        0.005754               30  "
      ]
     },
     "execution_count": 64,
     "metadata": {},
     "output_type": "execute_result"
    }
   ],
   "source": [
    "df_grid_search_rf_reg = pd.DataFrame(grid_search_rf_reg.cv_results_)\n",
    "df_grid_search_rf_reg.head(5)"
   ]
  },
  {
   "cell_type": "code",
   "execution_count": 65,
   "metadata": {},
   "outputs": [],
   "source": [
    "df_grid_search_rf_reg.sort_values([\"param_max_depth\", \"param_min_samples_leaf\", \"param_min_samples_split\", \"mean_test_score\"], inplace=True)"
   ]
  },
  {
   "cell_type": "code",
   "execution_count": 66,
   "metadata": {},
   "outputs": [
    {
     "data": {
      "image/png": "[encoded data removed]",
      "text/plain": [
       "<Figure size 648x216 with 3 Axes>"
      ]
     },
     "metadata": {
      "needs_background": "light"
     },
     "output_type": "display_data"
    }
   ],
   "source": [
    "fig_rf_reg = sns.FacetGrid(df_grid_search_rf_reg, col=\"param_min_samples_split\")\n",
    "fig_rf_reg.map(sns.lineplot, \"param_max_depth\", \"mean_test_score\", \"param_min_samples_leaf\")\n",
    "plt.plot([], [], ' ', label=\"min_samples_leaf\")\n",
    "plt.legend()\n",
    "plt.show()"
   ]
  },
  {
   "cell_type": "code",
   "execution_count": 67,
   "metadata": {},
   "outputs": [
    {
     "data": {
      "text/plain": [
       "0.7635214443831471"
      ]
     },
     "execution_count": 67,
     "metadata": {},
     "output_type": "execute_result"
    }
   ],
   "source": [
    "grid_search_rf_reg.score(X_test, y_test)"
   ]
  },
  {
   "cell_type": "code",
   "execution_count": 68,
   "metadata": {},
   "outputs": [
    {
     "name": "stdout",
     "output_type": "stream",
     "text": [
      "RMSE: 0.45979271006606676\n"
     ]
    },
    {
     "data": {
      "image/png": "[encoded data removed]",
      "text/plain": [
       "<Figure size 432x288 with 1 Axes>"
      ]
     },
     "metadata": {
      "needs_background": "light"
     },
     "output_type": "display_data"
    }
   ],
   "source": [
    "plot_test(grid_search_rf_reg, X_test, y_test)"
   ]
  },
  {
   "cell_type": "markdown",
   "metadata": {},
   "source": [
    "## AdaBoost Regressor"
   ]
  },
  {
   "cell_type": "code",
   "execution_count": 69,
   "metadata": {},
   "outputs": [],
   "source": [
    "from sklearn.ensemble import AdaBoostRegressor"
   ]
  },
  {
   "cell_type": "code",
   "execution_count": 70,
   "metadata": {},
   "outputs": [],
   "source": [
    "param_grid_adb_reg = {\n",
    "    'n_estimators': [50, 100],\n",
    "    'learning_rate' : [0.01, 0.2, 0.5, 1],\n",
    "    'loss' : ['linear', 'square', 'exponential']\n",
    " }"
   ]
  },
  {
   "cell_type": "code",
   "execution_count": 71,
   "metadata": {},
   "outputs": [],
   "source": [
    "grid_search_adb_reg = GridSearchCV(AdaBoostRegressor(), param_grid_adb_reg, cv=5, n_jobs=-1)"
   ]
  },
  {
   "cell_type": "code",
   "execution_count": 72,
   "metadata": {},
   "outputs": [
    {
     "data": {
      "text/plain": [
       "GridSearchCV(cv=5, estimator=AdaBoostRegressor(), n_jobs=-1,\n",
       "             param_grid={'learning_rate': [0.01, 0.2, 0.5, 1],\n",
       "                         'loss': ['linear', 'square', 'exponential'],\n",
       "                         'n_estimators': [50, 100]})"
      ]
     },
     "execution_count": 72,
     "metadata": {},
     "output_type": "execute_result"
    }
   ],
   "source": [
    "grid_search_adb_reg.fit(X_train, y_train)"
   ]
  },
  {
   "cell_type": "code",
   "execution_count": 73,
   "metadata": {},
   "outputs": [
    {
     "data": {
      "text/plain": [
       "{'learning_rate': 0.2, 'loss': 'exponential', 'n_estimators': 50}"
      ]
     },
     "execution_count": 73,
     "metadata": {},
     "output_type": "execute_result"
    }
   ],
   "source": [
    "grid_search_adb_reg.best_params_"
   ]
  },
  {
   "cell_type": "code",
   "execution_count": 74,
   "metadata": {},
   "outputs": [
    {
     "data": {
      "text/plain": [
       "{'mean_fit_time': array([0.87440057, 1.81329994, 0.89799991, 1.87729979, 0.99209952,\n",
       "        1.84509935, 0.81180029, 1.49620018, 0.7990005 , 1.24689975,\n",
       "        0.83589907, 1.48049917, 0.64769945, 1.02240024, 0.62480059,\n",
       "        1.09119959, 0.80780005, 1.26980009, 0.51229949, 0.58229852,\n",
       "        0.51879892, 0.93179941, 0.63179984, 0.88110042]),\n",
       " 'std_fit_time': array([0.04777908, 0.09396758, 0.07772207, 0.14830078, 0.09692959,\n",
       "        0.14082145, 0.06991817, 0.10868069, 0.05044562, 0.05091417,\n",
       "        0.05934842, 0.0414573 , 0.05982275, 0.2295332 , 0.05438048,\n",
       "        0.11638643, 0.0619067 , 0.08738446, 0.0766131 , 0.10260898,\n",
       "        0.04272985, 0.10041659, 0.04033523, 0.0837309 ]),\n",
       " 'mean_score_time': array([0.01310029, 0.02570024, 0.01470022, 0.02379985, 0.00990005,\n",
       "        0.02520027, 0.01050038, 0.02440019, 0.01169982, 0.02450089,\n",
       "        0.01250052, 0.02440028, 0.01449976, 0.01949997, 0.01659918,\n",
       "        0.02509947, 0.01569986, 0.02789989, 0.00849957, 0.0109005 ,\n",
       "        0.01609988, 0.02279963, 0.01140018, 0.01809983]),\n",
       " 'std_score_time': array([0.00523784, 0.0029256 , 0.00510495, 0.00280404, 0.00058302,\n",
       "        0.00591238, 0.00031628, 0.00208291, 0.0004    , 0.00083671,\n",
       "        0.00130442, 0.00079969, 0.0062292 , 0.00484788, 0.00971294,\n",
       "        0.0016857 , 0.00453489, 0.00499405, 0.00216775, 0.00399216,\n",
       "        0.0064678 , 0.00345802, 0.00096927, 0.00257674]),\n",
       " 'param_learning_rate': masked_array(data=[0.01, 0.01, 0.01, 0.01, 0.01, 0.01, 0.2, 0.2, 0.2, 0.2,\n",
       "                    0.2, 0.2, 0.5, 0.5, 0.5, 0.5, 0.5, 0.5, 1, 1, 1, 1, 1,\n",
       "                    1],\n",
       "              mask=[False, False, False, False, False, False, False, False,\n",
       "                    False, False, False, False, False, False, False, False,\n",
       "                    False, False, False, False, False, False, False, False],\n",
       "        fill_value='?',\n",
       "             dtype=object),\n",
       " 'param_loss': masked_array(data=['linear', 'linear', 'square', 'square', 'exponential',\n",
       "                    'exponential', 'linear', 'linear', 'square', 'square',\n",
       "                    'exponential', 'exponential', 'linear', 'linear',\n",
       "                    'square', 'square', 'exponential', 'exponential',\n",
       "                    'linear', 'linear', 'square', 'square', 'exponential',\n",
       "                    'exponential'],\n",
       "              mask=[False, False, False, False, False, False, False, False,\n",
       "                    False, False, False, False, False, False, False, False,\n",
       "                    False, False, False, False, False, False, False, False],\n",
       "        fill_value='?',\n",
       "             dtype=object),\n",
       " 'param_n_estimators': masked_array(data=[50, 100, 50, 100, 50, 100, 50, 100, 50, 100, 50, 100,\n",
       "                    50, 100, 50, 100, 50, 100, 50, 100, 50, 100, 50, 100],\n",
       "              mask=[False, False, False, False, False, False, False, False,\n",
       "                    False, False, False, False, False, False, False, False,\n",
       "                    False, False, False, False, False, False, False, False],\n",
       "        fill_value='?',\n",
       "             dtype=object),\n",
       " 'params': [{'learning_rate': 0.01, 'loss': 'linear', 'n_estimators': 50},\n",
       "  {'learning_rate': 0.01, 'loss': 'linear', 'n_estimators': 100},\n",
       "  {'learning_rate': 0.01, 'loss': 'square', 'n_estimators': 50},\n",
       "  {'learning_rate': 0.01, 'loss': 'square', 'n_estimators': 100},\n",
       "  {'learning_rate': 0.01, 'loss': 'exponential', 'n_estimators': 50},\n",
       "  {'learning_rate': 0.01, 'loss': 'exponential', 'n_estimators': 100},\n",
       "  {'learning_rate': 0.2, 'loss': 'linear', 'n_estimators': 50},\n",
       "  {'learning_rate': 0.2, 'loss': 'linear', 'n_estimators': 100},\n",
       "  {'learning_rate': 0.2, 'loss': 'square', 'n_estimators': 50},\n",
       "  {'learning_rate': 0.2, 'loss': 'square', 'n_estimators': 100},\n",
       "  {'learning_rate': 0.2, 'loss': 'exponential', 'n_estimators': 50},\n",
       "  {'learning_rate': 0.2, 'loss': 'exponential', 'n_estimators': 100},\n",
       "  {'learning_rate': 0.5, 'loss': 'linear', 'n_estimators': 50},\n",
       "  {'learning_rate': 0.5, 'loss': 'linear', 'n_estimators': 100},\n",
       "  {'learning_rate': 0.5, 'loss': 'square', 'n_estimators': 50},\n",
       "  {'learning_rate': 0.5, 'loss': 'square', 'n_estimators': 100},\n",
       "  {'learning_rate': 0.5, 'loss': 'exponential', 'n_estimators': 50},\n",
       "  {'learning_rate': 0.5, 'loss': 'exponential', 'n_estimators': 100},\n",
       "  {'learning_rate': 1, 'loss': 'linear', 'n_estimators': 50},\n",
       "  {'learning_rate': 1, 'loss': 'linear', 'n_estimators': 100},\n",
       "  {'learning_rate': 1, 'loss': 'square', 'n_estimators': 50},\n",
       "  {'learning_rate': 1, 'loss': 'square', 'n_estimators': 100},\n",
       "  {'learning_rate': 1, 'loss': 'exponential', 'n_estimators': 50},\n",
       "  {'learning_rate': 1, 'loss': 'exponential', 'n_estimators': 100}],\n",
       " 'split0_test_score': array([0.82164382, 0.82559833, 0.82242368, 0.82023251, 0.82049677,\n",
       "        0.82372249, 0.82130198, 0.81027947, 0.79819075, 0.78533981,\n",
       "        0.82612698, 0.81366896, 0.80785347, 0.80196522, 0.78599595,\n",
       "        0.78037399, 0.80585866, 0.779318  , 0.81108063, 0.79236376,\n",
       "        0.77779496, 0.77355957, 0.77602518, 0.76542949]),\n",
       " 'split1_test_score': array([0.80851581, 0.81676589, 0.82277405, 0.82310013, 0.80984595,\n",
       "        0.82195998, 0.81758465, 0.81414652, 0.80382499, 0.78987942,\n",
       "        0.82368363, 0.81470433, 0.81184273, 0.79775396, 0.79067974,\n",
       "        0.78826411, 0.81151754, 0.7849217 , 0.79994747, 0.79111853,\n",
       "        0.79061182, 0.7995852 , 0.78653284, 0.77156799]),\n",
       " 'split2_test_score': array([0.80752148, 0.81617934, 0.80909159, 0.81117797, 0.80393315,\n",
       "        0.81599877, 0.81113802, 0.79767664, 0.78509397, 0.78402045,\n",
       "        0.81263754, 0.80699327, 0.79702354, 0.79339422, 0.78069419,\n",
       "        0.77776318, 0.7962868 , 0.77789899, 0.78616511, 0.78392657,\n",
       "        0.77989417, 0.78148714, 0.77927   , 0.75167032]),\n",
       " 'split3_test_score': array([0.80871574, 0.81214753, 0.8080171 , 0.81839619, 0.80879312,\n",
       "        0.81680853, 0.81846369, 0.8165018 , 0.81153634, 0.79960447,\n",
       "        0.83065702, 0.81699388, 0.811502  , 0.80385621, 0.79959781,\n",
       "        0.79212663, 0.81239559, 0.79615934, 0.81068599, 0.79879112,\n",
       "        0.80894517, 0.80155566, 0.79811984, 0.77348817]),\n",
       " 'split4_test_score': array([0.82038667, 0.82284448, 0.81898254, 0.82130398, 0.82020405,\n",
       "        0.82187053, 0.82163783, 0.81310122, 0.80498301, 0.80745815,\n",
       "        0.82621599, 0.82081569, 0.82095579, 0.80734662, 0.80725362,\n",
       "        0.80249778, 0.81321969, 0.79772083, 0.80310967, 0.80688783,\n",
       "        0.80020405, 0.80306071, 0.79724987, 0.78193542]),\n",
       " 'mean_test_score': array([0.8133567 , 0.81870711, 0.81625779, 0.81884216, 0.81265461,\n",
       "        0.82007206, 0.81802523, 0.81034113, 0.80072581, 0.79326046,\n",
       "        0.82386423, 0.81463523, 0.80983551, 0.80086325, 0.79284426,\n",
       "        0.78820514, 0.80785566, 0.78720377, 0.80219777, 0.79461756,\n",
       "        0.79149003, 0.79184966, 0.78743954, 0.76881828]),\n",
       " 'std_test_score': array([0.00627884, 0.00485372, 0.00643688, 0.00412462, 0.00659329,\n",
       "        0.00307788, 0.00378439, 0.00663997, 0.00889244, 0.00895954,\n",
       "        0.00604754, 0.00454091, 0.00772712, 0.00485099, 0.00951261,\n",
       "        0.00883202, 0.00633435, 0.00830401, 0.00909832, 0.00774078,\n",
       "        0.01186091, 0.01201368, 0.00903507, 0.0100694 ]),\n",
       " 'rank_test_score': array([ 8,  4,  6,  3,  9,  2,  5, 10, 15, 17,  1,  7, 11, 14, 18, 21, 12,\n",
       "        23, 13, 16, 20, 19, 22, 24])}"
      ]
     },
     "execution_count": 74,
     "metadata": {},
     "output_type": "execute_result"
    }
   ],
   "source": [
    "grid_search_adb_reg.cv_results_"
   ]
  },
  {
   "cell_type": "code",
   "execution_count": 75,
   "metadata": {},
   "outputs": [
    {
     "data": {
      "text/html": [
       "<div>\n",
       "<style scoped>\n",
       "    .dataframe tbody tr th:only-of-type {\n",
       "        vertical-align: middle;\n",
       "    }\n",
       "\n",
       "    .dataframe tbody tr th {\n",
       "        vertical-align: top;\n",
       "    }\n",
       "\n",
       "    .dataframe thead th {\n",
       "        text-align: right;\n",
       "    }\n",
       "</style>\n",
       "<table border=\"1\" class=\"dataframe\">\n",
       "  <thead>\n",
       "    <tr style=\"text-align: right;\">\n",
       "      <th></th>\n",
       "      <th>mean_fit_time</th>\n",
       "      <th>std_fit_time</th>\n",
       "      <th>mean_score_time</th>\n",
       "      <th>std_score_time</th>\n",
       "      <th>param_learning_rate</th>\n",
       "      <th>param_loss</th>\n",
       "      <th>param_n_estimators</th>\n",
       "      <th>params</th>\n",
       "      <th>split0_test_score</th>\n",
       "      <th>split1_test_score</th>\n",
       "      <th>split2_test_score</th>\n",
       "      <th>split3_test_score</th>\n",
       "      <th>split4_test_score</th>\n",
       "      <th>mean_test_score</th>\n",
       "      <th>std_test_score</th>\n",
       "      <th>rank_test_score</th>\n",
       "    </tr>\n",
       "  </thead>\n",
       "  <tbody>\n",
       "    <tr>\n",
       "      <th>0</th>\n",
       "      <td>0.874401</td>\n",
       "      <td>0.047779</td>\n",
       "      <td>0.0131</td>\n",
       "      <td>0.005238</td>\n",
       "      <td>0.01</td>\n",
       "      <td>linear</td>\n",
       "      <td>50</td>\n",
       "      <td>{'learning_rate': 0.01, 'loss': 'linear', 'n_e...</td>\n",
       "      <td>0.821644</td>\n",
       "      <td>0.808516</td>\n",
       "      <td>0.807521</td>\n",
       "      <td>0.808716</td>\n",
       "      <td>0.820387</td>\n",
       "      <td>0.813357</td>\n",
       "      <td>0.006279</td>\n",
       "      <td>8</td>\n",
       "    </tr>\n",
       "    <tr>\n",
       "      <th>1</th>\n",
       "      <td>1.813300</td>\n",
       "      <td>0.093968</td>\n",
       "      <td>0.0257</td>\n",
       "      <td>0.002926</td>\n",
       "      <td>0.01</td>\n",
       "      <td>linear</td>\n",
       "      <td>100</td>\n",
       "      <td>{'learning_rate': 0.01, 'loss': 'linear', 'n_e...</td>\n",
       "      <td>0.825598</td>\n",
       "      <td>0.816766</td>\n",
       "      <td>0.816179</td>\n",
       "      <td>0.812148</td>\n",
       "      <td>0.822844</td>\n",
       "      <td>0.818707</td>\n",
       "      <td>0.004854</td>\n",
       "      <td>4</td>\n",
       "    </tr>\n",
       "    <tr>\n",
       "      <th>2</th>\n",
       "      <td>0.898000</td>\n",
       "      <td>0.077722</td>\n",
       "      <td>0.0147</td>\n",
       "      <td>0.005105</td>\n",
       "      <td>0.01</td>\n",
       "      <td>square</td>\n",
       "      <td>50</td>\n",
       "      <td>{'learning_rate': 0.01, 'loss': 'square', 'n_e...</td>\n",
       "      <td>0.822424</td>\n",
       "      <td>0.822774</td>\n",
       "      <td>0.809092</td>\n",
       "      <td>0.808017</td>\n",
       "      <td>0.818983</td>\n",
       "      <td>0.816258</td>\n",
       "      <td>0.006437</td>\n",
       "      <td>6</td>\n",
       "    </tr>\n",
       "    <tr>\n",
       "      <th>3</th>\n",
       "      <td>1.877300</td>\n",
       "      <td>0.148301</td>\n",
       "      <td>0.0238</td>\n",
       "      <td>0.002804</td>\n",
       "      <td>0.01</td>\n",
       "      <td>square</td>\n",
       "      <td>100</td>\n",
       "      <td>{'learning_rate': 0.01, 'loss': 'square', 'n_e...</td>\n",
       "      <td>0.820233</td>\n",
       "      <td>0.823100</td>\n",
       "      <td>0.811178</td>\n",
       "      <td>0.818396</td>\n",
       "      <td>0.821304</td>\n",
       "      <td>0.818842</td>\n",
       "      <td>0.004125</td>\n",
       "      <td>3</td>\n",
       "    </tr>\n",
       "    <tr>\n",
       "      <th>4</th>\n",
       "      <td>0.992100</td>\n",
       "      <td>0.096930</td>\n",
       "      <td>0.0099</td>\n",
       "      <td>0.000583</td>\n",
       "      <td>0.01</td>\n",
       "      <td>exponential</td>\n",
       "      <td>50</td>\n",
       "      <td>{'learning_rate': 0.01, 'loss': 'exponential',...</td>\n",
       "      <td>0.820497</td>\n",
       "      <td>0.809846</td>\n",
       "      <td>0.803933</td>\n",
       "      <td>0.808793</td>\n",
       "      <td>0.820204</td>\n",
       "      <td>0.812655</td>\n",
       "      <td>0.006593</td>\n",
       "      <td>9</td>\n",
       "    </tr>\n",
       "  </tbody>\n",
       "</table>\n",
       "</div>"
      ],
      "text/plain": [
       "   mean_fit_time  std_fit_time  mean_score_time  std_score_time  \\\n",
       "0       0.874401      0.047779           0.0131        0.005238   \n",
       "1       1.813300      0.093968           0.0257        0.002926   \n",
       "2       0.898000      0.077722           0.0147        0.005105   \n",
       "3       1.877300      0.148301           0.0238        0.002804   \n",
       "4       0.992100      0.096930           0.0099        0.000583   \n",
       "\n",
       "  param_learning_rate   param_loss param_n_estimators  \\\n",
       "0                0.01       linear                 50   \n",
       "1                0.01       linear                100   \n",
       "2                0.01       square                 50   \n",
       "3                0.01       square                100   \n",
       "4                0.01  exponential                 50   \n",
       "\n",
       "                                              params  split0_test_score  \\\n",
       "0  {'learning_rate': 0.01, 'loss': 'linear', 'n_e...           0.821644   \n",
       "1  {'learning_rate': 0.01, 'loss': 'linear', 'n_e...           0.825598   \n",
       "2  {'learning_rate': 0.01, 'loss': 'square', 'n_e...           0.822424   \n",
       "3  {'learning_rate': 0.01, 'loss': 'square', 'n_e...           0.820233   \n",
       "4  {'learning_rate': 0.01, 'loss': 'exponential',...           0.820497   \n",
       "\n",
       "   split1_test_score  split2_test_score  split3_test_score  split4_test_score  \\\n",
       "0           0.808516           0.807521           0.808716           0.820387   \n",
       "1           0.816766           0.816179           0.812148           0.822844   \n",
       "2           0.822774           0.809092           0.808017           0.818983   \n",
       "3           0.823100           0.811178           0.818396           0.821304   \n",
       "4           0.809846           0.803933           0.808793           0.820204   \n",
       "\n",
       "   mean_test_score  std_test_score  rank_test_score  \n",
       "0         0.813357        0.006279                8  \n",
       "1         0.818707        0.004854                4  \n",
       "2         0.816258        0.006437                6  \n",
       "3         0.818842        0.004125                3  \n",
       "4         0.812655        0.006593                9  "
      ]
     },
     "execution_count": 75,
     "metadata": {},
     "output_type": "execute_result"
    }
   ],
   "source": [
    "df_grid_search_adb_reg = pd.DataFrame(grid_search_adb_reg.cv_results_)\n",
    "df_grid_search_adb_reg.head(5)"
   ]
  },
  {
   "cell_type": "code",
   "execution_count": 76,
   "metadata": {},
   "outputs": [],
   "source": [
    "df_grid_search_adb_reg.sort_values([\"param_loss\", \"param_learning_rate\", \"param_n_estimators\", \"mean_test_score\"], inplace=True)"
   ]
  },
  {
   "cell_type": "code",
   "execution_count": 77,
   "metadata": {},
   "outputs": [
    {
     "data": {
      "image/png": "[encoded data removed]",
      "text/plain": [
       "<Figure size 648x216 with 3 Axes>"
      ]
     },
     "metadata": {
      "needs_background": "light"
     },
     "output_type": "display_data"
    }
   ],
   "source": [
    "fig_adb_reg = sns.FacetGrid(df_grid_search_adb_reg, col=\"param_loss\")\n",
    "fig_adb_reg.map(sns.lineplot, \"param_learning_rate\", \"mean_test_score\", \"param_n_estimators\")\n",
    "plt.plot([], [], ' ', label=\"param_n_estimators\")\n",
    "plt.legend()\n",
    "plt.show()"
   ]
  },
  {
   "cell_type": "code",
   "execution_count": 78,
   "metadata": {},
   "outputs": [
    {
     "data": {
      "text/plain": [
       "0.7053345953622785"
      ]
     },
     "execution_count": 78,
     "metadata": {},
     "output_type": "execute_result"
    }
   ],
   "source": [
    "grid_search_adb_reg.score(X_test, y_test)"
   ]
  },
  {
   "cell_type": "code",
   "execution_count": 79,
   "metadata": {},
   "outputs": [
    {
     "name": "stdout",
     "output_type": "stream",
     "text": [
      "RMSE: 0.5132521465744666\n"
     ]
    },
    {
     "data": {
      "image/png": "[encoded data removed]",
      "text/plain": [
       "<Figure size 432x288 with 1 Axes>"
      ]
     },
     "metadata": {
      "needs_background": "light"
     },
     "output_type": "display_data"
    }
   ],
   "source": [
    "plot_test(grid_search_adb_reg, X_test, y_test)"
   ]
  },
  {
   "cell_type": "markdown",
   "metadata": {},
   "source": [
    "## Gradient Boosting Regressor "
   ]
  },
  {
   "cell_type": "code",
   "execution_count": 80,
   "metadata": {},
   "outputs": [],
   "source": [
    "from sklearn.ensemble import GradientBoostingRegressor"
   ]
  },
  {
   "cell_type": "code",
   "execution_count": 81,
   "metadata": {},
   "outputs": [],
   "source": [
    "param_grid_gb_reg = {\n",
    "    \"n_estimators\": [50, 100, 200, 500],\n",
    "    \"max_depth\": [5, 7, 10]\n",
    "}"
   ]
  },
  {
   "cell_type": "code",
   "execution_count": 82,
   "metadata": {},
   "outputs": [],
   "source": [
    "grid_search_gb_reg = GridSearchCV(GradientBoostingRegressor(), param_grid_gb_reg, cv=5, n_jobs=-1)"
   ]
  },
  {
   "cell_type": "code",
   "execution_count": 83,
   "metadata": {},
   "outputs": [
    {
     "data": {
      "text/plain": [
       "GridSearchCV(cv=5, estimator=GradientBoostingRegressor(), n_jobs=-1,\n",
       "             param_grid={'max_depth': [5, 7, 10],\n",
       "                         'n_estimators': [50, 100, 200, 500]})"
      ]
     },
     "execution_count": 83,
     "metadata": {},
     "output_type": "execute_result"
    }
   ],
   "source": [
    "grid_search_gb_reg.fit(X_train, y_train)"
   ]
  },
  {
   "cell_type": "code",
   "execution_count": 84,
   "metadata": {},
   "outputs": [
    {
     "data": {
      "text/plain": [
       "{'max_depth': 10, 'n_estimators': 500}"
      ]
     },
     "execution_count": 84,
     "metadata": {},
     "output_type": "execute_result"
    }
   ],
   "source": [
    "grid_search_gb_reg.best_params_"
   ]
  },
  {
   "cell_type": "code",
   "execution_count": 85,
   "metadata": {},
   "outputs": [
    {
     "data": {
      "text/plain": [
       "{'mean_fit_time': array([ 1.21049886,  2.50219984,  5.06089945, 12.64259977,  1.61780009,\n",
       "         3.37540021,  6.89129877, 17.4396996 ,  2.13570056,  4.57679992,\n",
       "         9.54040031, 21.29809961]),\n",
       " 'std_fit_time': array([0.01368598, 0.0278798 , 0.03725639, 0.07461732, 0.01129477,\n",
       "        0.04860834, 0.05240515, 0.07210501, 0.01925792, 0.02425438,\n",
       "        0.04618502, 0.52722695]),\n",
       " 'mean_score_time': array([0.00290003, 0.00429974, 0.00750012, 0.01590037, 0.00409951,\n",
       "        0.0066    , 0.01030107, 0.02060027, 0.00729995, 0.01039972,\n",
       "        0.02030001, 0.02730002]),\n",
       " 'std_score_time': array([0.00019999, 0.00024536, 0.00031628, 0.00019991, 0.00020032,\n",
       "        0.00049011, 0.00040034, 0.0015933 , 0.00060055, 0.00019987,\n",
       "        0.00665227, 0.00112273]),\n",
       " 'param_max_depth': masked_array(data=[5, 5, 5, 5, 7, 7, 7, 7, 10, 10, 10, 10],\n",
       "              mask=[False, False, False, False, False, False, False, False,\n",
       "                    False, False, False, False],\n",
       "        fill_value='?',\n",
       "             dtype=object),\n",
       " 'param_n_estimators': masked_array(data=[50, 100, 200, 500, 50, 100, 200, 500, 50, 100, 200,\n",
       "                    500],\n",
       "              mask=[False, False, False, False, False, False, False, False,\n",
       "                    False, False, False, False],\n",
       "        fill_value='?',\n",
       "             dtype=object),\n",
       " 'params': [{'max_depth': 5, 'n_estimators': 50},\n",
       "  {'max_depth': 5, 'n_estimators': 100},\n",
       "  {'max_depth': 5, 'n_estimators': 200},\n",
       "  {'max_depth': 5, 'n_estimators': 500},\n",
       "  {'max_depth': 7, 'n_estimators': 50},\n",
       "  {'max_depth': 7, 'n_estimators': 100},\n",
       "  {'max_depth': 7, 'n_estimators': 200},\n",
       "  {'max_depth': 7, 'n_estimators': 500},\n",
       "  {'max_depth': 10, 'n_estimators': 50},\n",
       "  {'max_depth': 10, 'n_estimators': 100},\n",
       "  {'max_depth': 10, 'n_estimators': 200},\n",
       "  {'max_depth': 10, 'n_estimators': 500}],\n",
       " 'split0_test_score': array([0.89978397, 0.90834879, 0.91688005, 0.92478584, 0.91885486,\n",
       "        0.9242362 , 0.92929798, 0.93407505, 0.93154984, 0.93403466,\n",
       "        0.9352383 , 0.93678733]),\n",
       " 'split1_test_score': array([0.89659246, 0.90369388, 0.911137  , 0.91868112, 0.91334653,\n",
       "        0.9173056 , 0.92292593, 0.92711689, 0.92548476, 0.92754446,\n",
       "        0.92924428, 0.92995123]),\n",
       " 'split2_test_score': array([0.89038223, 0.8993424 , 0.9089266 , 0.9187822 , 0.91236999,\n",
       "        0.91788343, 0.92337882, 0.92850848, 0.92729369, 0.92963776,\n",
       "        0.93074339, 0.9327838 ]),\n",
       " 'split3_test_score': array([0.90194451, 0.9071762 , 0.91399246, 0.9218321 , 0.91530748,\n",
       "        0.92111315, 0.92622136, 0.92998946, 0.92566147, 0.92713357,\n",
       "        0.9288692 , 0.92905254]),\n",
       " 'split4_test_score': array([0.90354456, 0.91083592, 0.92097908, 0.92951969, 0.92381377,\n",
       "        0.9309356 , 0.93569019, 0.93803128, 0.94151579, 0.94319006,\n",
       "        0.94401819, 0.94404095]),\n",
       " 'mean_test_score': array([0.89844955, 0.90587944, 0.91438304, 0.92272019, 0.91673853,\n",
       "        0.9222948 , 0.92750286, 0.93154423, 0.93030111, 0.9323081 ,\n",
       "        0.93362267, 0.93452317]),\n",
       " 'std_test_score': array([0.004658  , 0.00399639, 0.00424747, 0.00407703, 0.00417554,\n",
       "        0.00498359, 0.00468728, 0.00399303, 0.00601825, 0.00596652,\n",
       "        0.0056698 , 0.00546937]),\n",
       " 'rank_test_score': array([12, 11, 10,  7,  9,  8,  6,  4,  5,  3,  2,  1])}"
      ]
     },
     "execution_count": 85,
     "metadata": {},
     "output_type": "execute_result"
    }
   ],
   "source": [
    "grid_search_gb_reg.cv_results_"
   ]
  },
  {
   "cell_type": "code",
   "execution_count": 86,
   "metadata": {},
   "outputs": [
    {
     "data": {
      "text/html": [
       "<div>\n",
       "<style scoped>\n",
       "    .dataframe tbody tr th:only-of-type {\n",
       "        vertical-align: middle;\n",
       "    }\n",
       "\n",
       "    .dataframe tbody tr th {\n",
       "        vertical-align: top;\n",
       "    }\n",
       "\n",
       "    .dataframe thead th {\n",
       "        text-align: right;\n",
       "    }\n",
       "</style>\n",
       "<table border=\"1\" class=\"dataframe\">\n",
       "  <thead>\n",
       "    <tr style=\"text-align: right;\">\n",
       "      <th></th>\n",
       "      <th>mean_fit_time</th>\n",
       "      <th>std_fit_time</th>\n",
       "      <th>mean_score_time</th>\n",
       "      <th>std_score_time</th>\n",
       "      <th>param_max_depth</th>\n",
       "      <th>param_n_estimators</th>\n",
       "      <th>params</th>\n",
       "      <th>split0_test_score</th>\n",
       "      <th>split1_test_score</th>\n",
       "      <th>split2_test_score</th>\n",
       "      <th>split3_test_score</th>\n",
       "      <th>split4_test_score</th>\n",
       "      <th>mean_test_score</th>\n",
       "      <th>std_test_score</th>\n",
       "      <th>rank_test_score</th>\n",
       "    </tr>\n",
       "  </thead>\n",
       "  <tbody>\n",
       "    <tr>\n",
       "      <th>0</th>\n",
       "      <td>1.210499</td>\n",
       "      <td>0.013686</td>\n",
       "      <td>0.0029</td>\n",
       "      <td>0.000200</td>\n",
       "      <td>5</td>\n",
       "      <td>50</td>\n",
       "      <td>{'max_depth': 5, 'n_estimators': 50}</td>\n",
       "      <td>0.899784</td>\n",
       "      <td>0.896592</td>\n",
       "      <td>0.890382</td>\n",
       "      <td>0.901945</td>\n",
       "      <td>0.903545</td>\n",
       "      <td>0.898450</td>\n",
       "      <td>0.004658</td>\n",
       "      <td>12</td>\n",
       "    </tr>\n",
       "    <tr>\n",
       "      <th>1</th>\n",
       "      <td>2.502200</td>\n",
       "      <td>0.027880</td>\n",
       "      <td>0.0043</td>\n",
       "      <td>0.000245</td>\n",
       "      <td>5</td>\n",
       "      <td>100</td>\n",
       "      <td>{'max_depth': 5, 'n_estimators': 100}</td>\n",
       "      <td>0.908349</td>\n",
       "      <td>0.903694</td>\n",
       "      <td>0.899342</td>\n",
       "      <td>0.907176</td>\n",
       "      <td>0.910836</td>\n",
       "      <td>0.905879</td>\n",
       "      <td>0.003996</td>\n",
       "      <td>11</td>\n",
       "    </tr>\n",
       "    <tr>\n",
       "      <th>2</th>\n",
       "      <td>5.060899</td>\n",
       "      <td>0.037256</td>\n",
       "      <td>0.0075</td>\n",
       "      <td>0.000316</td>\n",
       "      <td>5</td>\n",
       "      <td>200</td>\n",
       "      <td>{'max_depth': 5, 'n_estimators': 200}</td>\n",
       "      <td>0.916880</td>\n",
       "      <td>0.911137</td>\n",
       "      <td>0.908927</td>\n",
       "      <td>0.913992</td>\n",
       "      <td>0.920979</td>\n",
       "      <td>0.914383</td>\n",
       "      <td>0.004247</td>\n",
       "      <td>10</td>\n",
       "    </tr>\n",
       "    <tr>\n",
       "      <th>3</th>\n",
       "      <td>12.642600</td>\n",
       "      <td>0.074617</td>\n",
       "      <td>0.0159</td>\n",
       "      <td>0.000200</td>\n",
       "      <td>5</td>\n",
       "      <td>500</td>\n",
       "      <td>{'max_depth': 5, 'n_estimators': 500}</td>\n",
       "      <td>0.924786</td>\n",
       "      <td>0.918681</td>\n",
       "      <td>0.918782</td>\n",
       "      <td>0.921832</td>\n",
       "      <td>0.929520</td>\n",
       "      <td>0.922720</td>\n",
       "      <td>0.004077</td>\n",
       "      <td>7</td>\n",
       "    </tr>\n",
       "    <tr>\n",
       "      <th>4</th>\n",
       "      <td>1.617800</td>\n",
       "      <td>0.011295</td>\n",
       "      <td>0.0041</td>\n",
       "      <td>0.000200</td>\n",
       "      <td>7</td>\n",
       "      <td>50</td>\n",
       "      <td>{'max_depth': 7, 'n_estimators': 50}</td>\n",
       "      <td>0.918855</td>\n",
       "      <td>0.913347</td>\n",
       "      <td>0.912370</td>\n",
       "      <td>0.915307</td>\n",
       "      <td>0.923814</td>\n",
       "      <td>0.916739</td>\n",
       "      <td>0.004176</td>\n",
       "      <td>9</td>\n",
       "    </tr>\n",
       "  </tbody>\n",
       "</table>\n",
       "</div>"
      ],
      "text/plain": [
       "   mean_fit_time  std_fit_time  mean_score_time  std_score_time  \\\n",
       "0       1.210499      0.013686           0.0029        0.000200   \n",
       "1       2.502200      0.027880           0.0043        0.000245   \n",
       "2       5.060899      0.037256           0.0075        0.000316   \n",
       "3      12.642600      0.074617           0.0159        0.000200   \n",
       "4       1.617800      0.011295           0.0041        0.000200   \n",
       "\n",
       "  param_max_depth param_n_estimators                                 params  \\\n",
       "0               5                 50   {'max_depth': 5, 'n_estimators': 50}   \n",
       "1               5                100  {'max_depth': 5, 'n_estimators': 100}   \n",
       "2               5                200  {'max_depth': 5, 'n_estimators': 200}   \n",
       "3               5                500  {'max_depth': 5, 'n_estimators': 500}   \n",
       "4               7                 50   {'max_depth': 7, 'n_estimators': 50}   \n",
       "\n",
       "   split0_test_score  split1_test_score  split2_test_score  split3_test_score  \\\n",
       "0           0.899784           0.896592           0.890382           0.901945   \n",
       "1           0.908349           0.903694           0.899342           0.907176   \n",
       "2           0.916880           0.911137           0.908927           0.913992   \n",
       "3           0.924786           0.918681           0.918782           0.921832   \n",
       "4           0.918855           0.913347           0.912370           0.915307   \n",
       "\n",
       "   split4_test_score  mean_test_score  std_test_score  rank_test_score  \n",
       "0           0.903545         0.898450        0.004658               12  \n",
       "1           0.910836         0.905879        0.003996               11  \n",
       "2           0.920979         0.914383        0.004247               10  \n",
       "3           0.929520         0.922720        0.004077                7  \n",
       "4           0.923814         0.916739        0.004176                9  "
      ]
     },
     "execution_count": 86,
     "metadata": {},
     "output_type": "execute_result"
    }
   ],
   "source": [
    "df_grid_search_gb_reg = pd.DataFrame(grid_search_gb_reg.cv_results_)\n",
    "df_grid_search_gb_reg.head(5)"
   ]
  },
  {
   "cell_type": "code",
   "execution_count": 87,
   "metadata": {},
   "outputs": [],
   "source": [
    "df_grid_search_gb_reg.sort_values([\"param_max_depth\", \"param_n_estimators\", \"mean_test_score\"], inplace=True)"
   ]
  },
  {
   "cell_type": "code",
   "execution_count": 88,
   "metadata": {},
   "outputs": [
    {
     "data": {
      "image/png": "[encoded data removed]",
      "text/plain": [
       "<Figure size 432x288 with 1 Axes>"
      ]
     },
     "metadata": {
      "needs_background": "light"
     },
     "output_type": "display_data"
    }
   ],
   "source": [
    "sns.lineplot(x=\"param_max_depth\", y=\"mean_test_score\", hue=\"param_n_estimators\", data=df_grid_search_gb_reg);"
   ]
  },
  {
   "cell_type": "code",
   "execution_count": 89,
   "metadata": {},
   "outputs": [
    {
     "data": {
      "text/plain": [
       "0.7666378329119824"
      ]
     },
     "execution_count": 89,
     "metadata": {},
     "output_type": "execute_result"
    }
   ],
   "source": [
    "grid_search_gb_reg.score(X_test, y_test)"
   ]
  },
  {
   "cell_type": "code",
   "execution_count": 90,
   "metadata": {},
   "outputs": [
    {
     "name": "stdout",
     "output_type": "stream",
     "text": [
      "RMSE: 0.45675301611697594\n"
     ]
    },
    {
     "data": {
      "image/png": "[encoded data removed]",
      "text/plain": [
       "<Figure size 432x288 with 1 Axes>"
      ]
     },
     "metadata": {
      "needs_background": "light"
     },
     "output_type": "display_data"
    }
   ],
   "source": [
    "plot_test(grid_search_gb_reg, X_test, y_test)"
   ]
  },
  {
   "cell_type": "markdown",
   "metadata": {},
   "source": [
    "## XGBoost Regressor"
   ]
  },
  {
   "cell_type": "code",
   "execution_count": 91,
   "metadata": {},
   "outputs": [],
   "source": [
    "from xgboost import XGBRegressor"
   ]
  },
  {
   "cell_type": "code",
   "execution_count": 92,
   "metadata": {},
   "outputs": [],
   "source": [
    "param_grid_xgb_reg = {\n",
    "    'min_child_weight': [1, 5, 10],\n",
    "    'subsample': [0.6, 0.8, 1.0],\n",
    "    'max_depth': [3, 4, 5]\n",
    "}"
   ]
  },
  {
   "cell_type": "code",
   "execution_count": 93,
   "metadata": {},
   "outputs": [],
   "source": [
    "grid_search_xgb_reg = GridSearchCV(XGBRegressor(), param_grid_xgb_reg, cv=5, n_jobs=-1)"
   ]
  },
  {
   "cell_type": "code",
   "execution_count": 94,
   "metadata": {},
   "outputs": [
    {
     "data": {
      "text/plain": [
       "GridSearchCV(cv=5,\n",
       "             estimator=XGBRegressor(base_score=None, booster=None,\n",
       "                                    colsample_bylevel=None,\n",
       "                                    colsample_bynode=None,\n",
       "                                    colsample_bytree=None, gamma=None,\n",
       "                                    gpu_id=None, importance_type='gain',\n",
       "                                    interaction_constraints=None,\n",
       "                                    learning_rate=None, max_delta_step=None,\n",
       "                                    max_depth=None, min_child_weight=None,\n",
       "                                    missing=nan, monotone_constraints=None,\n",
       "                                    n_estimators=100, n_jobs=None,\n",
       "                                    num_parallel_tree=None, random_state=None,\n",
       "                                    reg_alpha=None, reg_lambda=None,\n",
       "                                    scale_pos_weight=None, subsample=None,\n",
       "                                    tree_method=None, validate_parameters=None,\n",
       "                                    verbosity=None),\n",
       "             n_jobs=-1,\n",
       "             param_grid={'max_depth': [3, 4, 5], 'min_child_weight': [1, 5, 10],\n",
       "                         'subsample': [0.6, 0.8, 1.0]})"
      ]
     },
     "execution_count": 94,
     "metadata": {},
     "output_type": "execute_result"
    }
   ],
   "source": [
    "grid_search_xgb_reg.fit(X_train, y_train)"
   ]
  },
  {
   "cell_type": "code",
   "execution_count": 95,
   "metadata": {},
   "outputs": [
    {
     "data": {
      "text/plain": [
       "{'max_depth': 5, 'min_child_weight': 5, 'subsample': 1.0}"
      ]
     },
     "execution_count": 95,
     "metadata": {},
     "output_type": "execute_result"
    }
   ],
   "source": [
    "grid_search_xgb_reg.best_params_"
   ]
  },
  {
   "cell_type": "code",
   "execution_count": 96,
   "metadata": {},
   "outputs": [
    {
     "data": {
      "text/plain": [
       "{'mean_fit_time': array([1.01389914, 1.01429944, 0.91449981, 0.89409842, 0.87379975,\n",
       "        0.85169783, 0.86140008, 0.8576004 , 0.84129992, 1.14649982,\n",
       "        1.16230016, 1.14079981, 1.11709981, 1.14059978, 1.11479993,\n",
       "        1.10850048, 1.13109941, 1.08879986, 1.47269869, 1.42939949,\n",
       "        1.42549872, 1.3921    , 1.46939969, 1.46149979, 1.37069955,\n",
       "        1.3272994 , 1.05669951]),\n",
       " 'std_fit_time': array([0.04546482, 0.04106445, 0.07507206, 0.00478841, 0.02798698,\n",
       "        0.01186355, 0.01020485, 0.02037516, 0.00598877, 0.03883771,\n",
       "        0.00873883, 0.02394088, 0.02194642, 0.00684373, 0.02791866,\n",
       "        0.00710587, 0.02471113, 0.01284413, 0.0133348 , 0.04173653,\n",
       "        0.02420153, 0.02594131, 0.00891845, 0.00882696, 0.04319441,\n",
       "        0.06145703, 0.18318623]),\n",
       " 'mean_score_time': array([0.00320044, 0.00340037, 0.00490012, 0.0036006 , 0.00360112,\n",
       "        0.00330009, 0.00370021, 0.00309968, 0.0037004 , 0.00350008,\n",
       "        0.00400019, 0.00410023, 0.00400023, 0.00329981, 0.00370045,\n",
       "        0.00469995, 0.00329981, 0.00380001, 0.00360017, 0.00410037,\n",
       "        0.00360026, 0.00410004, 0.00320044, 0.00350027, 0.00359969,\n",
       "        0.00270052, 0.00220032]),\n",
       " 'std_score_time': array([0.00040053, 0.0005832 , 0.00285276, 0.0001992 , 0.00020049,\n",
       "        0.00050986, 0.00040045, 0.00037448, 0.00112196, 0.00031598,\n",
       "        0.00054764, 0.00102043, 0.00154907, 0.0004    , 0.00124912,\n",
       "        0.00102855, 0.00024507, 0.00039952, 0.00049026, 0.00106728,\n",
       "        0.00058329, 0.00115722, 0.00024526, 0.00044766, 0.00058327,\n",
       "        0.00040003, 0.00050977]),\n",
       " 'param_max_depth': masked_array(data=[3, 3, 3, 3, 3, 3, 3, 3, 3, 4, 4, 4, 4, 4, 4, 4, 4, 4,\n",
       "                    5, 5, 5, 5, 5, 5, 5, 5, 5],\n",
       "              mask=[False, False, False, False, False, False, False, False,\n",
       "                    False, False, False, False, False, False, False, False,\n",
       "                    False, False, False, False, False, False, False, False,\n",
       "                    False, False, False],\n",
       "        fill_value='?',\n",
       "             dtype=object),\n",
       " 'param_min_child_weight': masked_array(data=[1, 1, 1, 5, 5, 5, 10, 10, 10, 1, 1, 1, 5, 5, 5, 10, 10,\n",
       "                    10, 1, 1, 1, 5, 5, 5, 10, 10, 10],\n",
       "              mask=[False, False, False, False, False, False, False, False,\n",
       "                    False, False, False, False, False, False, False, False,\n",
       "                    False, False, False, False, False, False, False, False,\n",
       "                    False, False, False],\n",
       "        fill_value='?',\n",
       "             dtype=object),\n",
       " 'param_subsample': masked_array(data=[0.6, 0.8, 1.0, 0.6, 0.8, 1.0, 0.6, 0.8, 1.0, 0.6, 0.8,\n",
       "                    1.0, 0.6, 0.8, 1.0, 0.6, 0.8, 1.0, 0.6, 0.8, 1.0, 0.6,\n",
       "                    0.8, 1.0, 0.6, 0.8, 1.0],\n",
       "              mask=[False, False, False, False, False, False, False, False,\n",
       "                    False, False, False, False, False, False, False, False,\n",
       "                    False, False, False, False, False, False, False, False,\n",
       "                    False, False, False],\n",
       "        fill_value='?',\n",
       "             dtype=object),\n",
       " 'params': [{'max_depth': 3, 'min_child_weight': 1, 'subsample': 0.6},\n",
       "  {'max_depth': 3, 'min_child_weight': 1, 'subsample': 0.8},\n",
       "  {'max_depth': 3, 'min_child_weight': 1, 'subsample': 1.0},\n",
       "  {'max_depth': 3, 'min_child_weight': 5, 'subsample': 0.6},\n",
       "  {'max_depth': 3, 'min_child_weight': 5, 'subsample': 0.8},\n",
       "  {'max_depth': 3, 'min_child_weight': 5, 'subsample': 1.0},\n",
       "  {'max_depth': 3, 'min_child_weight': 10, 'subsample': 0.6},\n",
       "  {'max_depth': 3, 'min_child_weight': 10, 'subsample': 0.8},\n",
       "  {'max_depth': 3, 'min_child_weight': 10, 'subsample': 1.0},\n",
       "  {'max_depth': 4, 'min_child_weight': 1, 'subsample': 0.6},\n",
       "  {'max_depth': 4, 'min_child_weight': 1, 'subsample': 0.8},\n",
       "  {'max_depth': 4, 'min_child_weight': 1, 'subsample': 1.0},\n",
       "  {'max_depth': 4, 'min_child_weight': 5, 'subsample': 0.6},\n",
       "  {'max_depth': 4, 'min_child_weight': 5, 'subsample': 0.8},\n",
       "  {'max_depth': 4, 'min_child_weight': 5, 'subsample': 1.0},\n",
       "  {'max_depth': 4, 'min_child_weight': 10, 'subsample': 0.6},\n",
       "  {'max_depth': 4, 'min_child_weight': 10, 'subsample': 0.8},\n",
       "  {'max_depth': 4, 'min_child_weight': 10, 'subsample': 1.0},\n",
       "  {'max_depth': 5, 'min_child_weight': 1, 'subsample': 0.6},\n",
       "  {'max_depth': 5, 'min_child_weight': 1, 'subsample': 0.8},\n",
       "  {'max_depth': 5, 'min_child_weight': 1, 'subsample': 1.0},\n",
       "  {'max_depth': 5, 'min_child_weight': 5, 'subsample': 0.6},\n",
       "  {'max_depth': 5, 'min_child_weight': 5, 'subsample': 0.8},\n",
       "  {'max_depth': 5, 'min_child_weight': 5, 'subsample': 1.0},\n",
       "  {'max_depth': 5, 'min_child_weight': 10, 'subsample': 0.6},\n",
       "  {'max_depth': 5, 'min_child_weight': 10, 'subsample': 0.8},\n",
       "  {'max_depth': 5, 'min_child_weight': 10, 'subsample': 1.0}],\n",
       " 'split0_test_score': array([0.89613973, 0.89876577, 0.89994822, 0.89640239, 0.89895019,\n",
       "        0.89853705, 0.89479711, 0.89942298, 0.8991922 , 0.90814284,\n",
       "        0.91041573, 0.90891563, 0.90600024, 0.91108092, 0.9097514 ,\n",
       "        0.90356196, 0.90613009, 0.90938791, 0.91639103, 0.91898253,\n",
       "        0.91789166, 0.91502943, 0.92259122, 0.92054472, 0.91627531,\n",
       "        0.91801501, 0.91676091]),\n",
       " 'split1_test_score': array([0.89627889, 0.89629529, 0.89478864, 0.8972044 , 0.89512194,\n",
       "        0.89767298, 0.8952079 , 0.89719689, 0.89588545, 0.90528261,\n",
       "        0.90975262, 0.90672863, 0.90868733, 0.90703801, 0.90734711,\n",
       "        0.9026172 , 0.90983724, 0.9085162 , 0.91386322, 0.91433971,\n",
       "        0.91067165, 0.91256246, 0.91803788, 0.91831246, 0.91165628,\n",
       "        0.91329828, 0.91381133]),\n",
       " 'split2_test_score': array([0.89120881, 0.89038185, 0.88852059, 0.88915677, 0.88991117,\n",
       "        0.88872671, 0.89027796, 0.88913918, 0.88995078, 0.90194321,\n",
       "        0.89988846, 0.90224519, 0.8998774 , 0.90146191, 0.90039173,\n",
       "        0.89832443, 0.9000532 , 0.90253431, 0.90728228, 0.90988351,\n",
       "        0.9124695 , 0.90660176, 0.9127138 , 0.91589369, 0.90892356,\n",
       "        0.91043015, 0.91161863]),\n",
       " 'split3_test_score': array([0.89501992, 0.90069912, 0.89994146, 0.89677674, 0.89891403,\n",
       "        0.89837446, 0.89625371, 0.90056817, 0.90021984, 0.90834276,\n",
       "        0.91033522, 0.91010162, 0.90748975, 0.90959813, 0.9083854 ,\n",
       "        0.9030438 , 0.90660639, 0.90977041, 0.91379323, 0.9144201 ,\n",
       "        0.91627076, 0.91443758, 0.91462563, 0.91544605, 0.91051309,\n",
       "        0.91719255, 0.91265494]),\n",
       " 'split4_test_score': array([0.90231894, 0.90314647, 0.90073402, 0.90463047, 0.9048627 ,\n",
       "        0.90398638, 0.90306706, 0.90234889, 0.90043561, 0.91437907,\n",
       "        0.91510397, 0.91499994, 0.9116995 , 0.91403782, 0.91567181,\n",
       "        0.91155807, 0.91208802, 0.91396106, 0.92359763, 0.92384881,\n",
       "        0.9252351 , 0.91863827, 0.92065745, 0.9210668 , 0.91691188,\n",
       "        0.91802432, 0.92401934]),\n",
       " 'mean_test_score': array([0.89619326, 0.8978577 , 0.89678659, 0.89683415, 0.89755201,\n",
       "        0.89745952, 0.89592075, 0.89773522, 0.89713677, 0.9076181 ,\n",
       "        0.9090992 , 0.9085982 , 0.90675084, 0.90864336, 0.90830949,\n",
       "        0.90382109, 0.90694299, 0.90883398, 0.91498548, 0.91629493,\n",
       "        0.91650773, 0.9134539 , 0.91772519, 0.91825274, 0.91285602,\n",
       "        0.91539206, 0.91577303]),\n",
       " 'std_test_score': array([0.00357087, 0.00436346, 0.00464435, 0.00490003, 0.00493039,\n",
       "        0.00491743, 0.00411807, 0.00461176, 0.00394504, 0.00410293,\n",
       "        0.00499165, 0.00417611, 0.00391389, 0.00424509, 0.00489705,\n",
       "        0.00429406, 0.00407655, 0.00366763, 0.00525671, 0.00474823,\n",
       "        0.00506963, 0.00395156, 0.00366321, 0.00230731, 0.00317913,\n",
       "        0.00303496, 0.00446783]),\n",
       " 'rank_test_score': array([26, 19, 25, 24, 21, 22, 27, 20, 23, 15, 10, 13, 17, 12, 14, 18, 16,\n",
       "        11,  7,  4,  3,  8,  2,  1,  9,  6,  5])}"
      ]
     },
     "execution_count": 96,
     "metadata": {},
     "output_type": "execute_result"
    }
   ],
   "source": [
    "grid_search_xgb_reg.cv_results_"
   ]
  },
  {
   "cell_type": "code",
   "execution_count": 97,
   "metadata": {},
   "outputs": [
    {
     "data": {
      "text/html": [
       "<div>\n",
       "<style scoped>\n",
       "    .dataframe tbody tr th:only-of-type {\n",
       "        vertical-align: middle;\n",
       "    }\n",
       "\n",
       "    .dataframe tbody tr th {\n",
       "        vertical-align: top;\n",
       "    }\n",
       "\n",
       "    .dataframe thead th {\n",
       "        text-align: right;\n",
       "    }\n",
       "</style>\n",
       "<table border=\"1\" class=\"dataframe\">\n",
       "  <thead>\n",
       "    <tr style=\"text-align: right;\">\n",
       "      <th></th>\n",
       "      <th>mean_fit_time</th>\n",
       "      <th>std_fit_time</th>\n",
       "      <th>mean_score_time</th>\n",
       "      <th>std_score_time</th>\n",
       "      <th>param_max_depth</th>\n",
       "      <th>param_min_child_weight</th>\n",
       "      <th>param_subsample</th>\n",
       "      <th>params</th>\n",
       "      <th>split0_test_score</th>\n",
       "      <th>split1_test_score</th>\n",
       "      <th>split2_test_score</th>\n",
       "      <th>split3_test_score</th>\n",
       "      <th>split4_test_score</th>\n",
       "      <th>mean_test_score</th>\n",
       "      <th>std_test_score</th>\n",
       "      <th>rank_test_score</th>\n",
       "    </tr>\n",
       "  </thead>\n",
       "  <tbody>\n",
       "    <tr>\n",
       "      <th>0</th>\n",
       "      <td>1.013899</td>\n",
       "      <td>0.045465</td>\n",
       "      <td>0.003200</td>\n",
       "      <td>0.000401</td>\n",
       "      <td>3</td>\n",
       "      <td>1</td>\n",
       "      <td>0.6</td>\n",
       "      <td>{'max_depth': 3, 'min_child_weight': 1, 'subsa...</td>\n",
       "      <td>0.896140</td>\n",
       "      <td>0.896279</td>\n",
       "      <td>0.891209</td>\n",
       "      <td>0.895020</td>\n",
       "      <td>0.902319</td>\n",
       "      <td>0.896193</td>\n",
       "      <td>0.003571</td>\n",
       "      <td>26</td>\n",
       "    </tr>\n",
       "    <tr>\n",
       "      <th>1</th>\n",
       "      <td>1.014299</td>\n",
       "      <td>0.041064</td>\n",
       "      <td>0.003400</td>\n",
       "      <td>0.000583</td>\n",
       "      <td>3</td>\n",
       "      <td>1</td>\n",
       "      <td>0.8</td>\n",
       "      <td>{'max_depth': 3, 'min_child_weight': 1, 'subsa...</td>\n",
       "      <td>0.898766</td>\n",
       "      <td>0.896295</td>\n",
       "      <td>0.890382</td>\n",
       "      <td>0.900699</td>\n",
       "      <td>0.903146</td>\n",
       "      <td>0.897858</td>\n",
       "      <td>0.004363</td>\n",
       "      <td>19</td>\n",
       "    </tr>\n",
       "    <tr>\n",
       "      <th>2</th>\n",
       "      <td>0.914500</td>\n",
       "      <td>0.075072</td>\n",
       "      <td>0.004900</td>\n",
       "      <td>0.002853</td>\n",
       "      <td>3</td>\n",
       "      <td>1</td>\n",
       "      <td>1</td>\n",
       "      <td>{'max_depth': 3, 'min_child_weight': 1, 'subsa...</td>\n",
       "      <td>0.899948</td>\n",
       "      <td>0.894789</td>\n",
       "      <td>0.888521</td>\n",
       "      <td>0.899941</td>\n",
       "      <td>0.900734</td>\n",
       "      <td>0.896787</td>\n",
       "      <td>0.004644</td>\n",
       "      <td>25</td>\n",
       "    </tr>\n",
       "    <tr>\n",
       "      <th>3</th>\n",
       "      <td>0.894098</td>\n",
       "      <td>0.004788</td>\n",
       "      <td>0.003601</td>\n",
       "      <td>0.000199</td>\n",
       "      <td>3</td>\n",
       "      <td>5</td>\n",
       "      <td>0.6</td>\n",
       "      <td>{'max_depth': 3, 'min_child_weight': 5, 'subsa...</td>\n",
       "      <td>0.896402</td>\n",
       "      <td>0.897204</td>\n",
       "      <td>0.889157</td>\n",
       "      <td>0.896777</td>\n",
       "      <td>0.904630</td>\n",
       "      <td>0.896834</td>\n",
       "      <td>0.004900</td>\n",
       "      <td>24</td>\n",
       "    </tr>\n",
       "    <tr>\n",
       "      <th>4</th>\n",
       "      <td>0.873800</td>\n",
       "      <td>0.027987</td>\n",
       "      <td>0.003601</td>\n",
       "      <td>0.000200</td>\n",
       "      <td>3</td>\n",
       "      <td>5</td>\n",
       "      <td>0.8</td>\n",
       "      <td>{'max_depth': 3, 'min_child_weight': 5, 'subsa...</td>\n",
       "      <td>0.898950</td>\n",
       "      <td>0.895122</td>\n",
       "      <td>0.889911</td>\n",
       "      <td>0.898914</td>\n",
       "      <td>0.904863</td>\n",
       "      <td>0.897552</td>\n",
       "      <td>0.004930</td>\n",
       "      <td>21</td>\n",
       "    </tr>\n",
       "  </tbody>\n",
       "</table>\n",
       "</div>"
      ],
      "text/plain": [
       "   mean_fit_time  std_fit_time  mean_score_time  std_score_time  \\\n",
       "0       1.013899      0.045465         0.003200        0.000401   \n",
       "1       1.014299      0.041064         0.003400        0.000583   \n",
       "2       0.914500      0.075072         0.004900        0.002853   \n",
       "3       0.894098      0.004788         0.003601        0.000199   \n",
       "4       0.873800      0.027987         0.003601        0.000200   \n",
       "\n",
       "  param_max_depth param_min_child_weight param_subsample  \\\n",
       "0               3                      1             0.6   \n",
       "1               3                      1             0.8   \n",
       "2               3                      1               1   \n",
       "3               3                      5             0.6   \n",
       "4               3                      5             0.8   \n",
       "\n",
       "                                              params  split0_test_score  \\\n",
       "0  {'max_depth': 3, 'min_child_weight': 1, 'subsa...           0.896140   \n",
       "1  {'max_depth': 3, 'min_child_weight': 1, 'subsa...           0.898766   \n",
       "2  {'max_depth': 3, 'min_child_weight': 1, 'subsa...           0.899948   \n",
       "3  {'max_depth': 3, 'min_child_weight': 5, 'subsa...           0.896402   \n",
       "4  {'max_depth': 3, 'min_child_weight': 5, 'subsa...           0.898950   \n",
       "\n",
       "   split1_test_score  split2_test_score  split3_test_score  split4_test_score  \\\n",
       "0           0.896279           0.891209           0.895020           0.902319   \n",
       "1           0.896295           0.890382           0.900699           0.903146   \n",
       "2           0.894789           0.888521           0.899941           0.900734   \n",
       "3           0.897204           0.889157           0.896777           0.904630   \n",
       "4           0.895122           0.889911           0.898914           0.904863   \n",
       "\n",
       "   mean_test_score  std_test_score  rank_test_score  \n",
       "0         0.896193        0.003571               26  \n",
       "1         0.897858        0.004363               19  \n",
       "2         0.896787        0.004644               25  \n",
       "3         0.896834        0.004900               24  \n",
       "4         0.897552        0.004930               21  "
      ]
     },
     "execution_count": 97,
     "metadata": {},
     "output_type": "execute_result"
    }
   ],
   "source": [
    "df_grid_search_xgb_reg = pd.DataFrame(grid_search_xgb_reg.cv_results_)\n",
    "df_grid_search_xgb_reg.head(5)"
   ]
  },
  {
   "cell_type": "code",
   "execution_count": 98,
   "metadata": {},
   "outputs": [],
   "source": [
    "df_grid_search_xgb_reg.sort_values([\"param_min_child_weight\", \"param_subsample\", \"param_max_depth\", \"mean_test_score\"], inplace=True)"
   ]
  },
  {
   "cell_type": "code",
   "execution_count": 99,
   "metadata": {},
   "outputs": [
    {
     "data": {
      "image/png": "[encoded data removed]",
      "text/plain": [
       "<Figure size 648x216 with 3 Axes>"
      ]
     },
     "metadata": {
      "needs_background": "light"
     },
     "output_type": "display_data"
    }
   ],
   "source": [
    "fig_xgb_reg = sns.FacetGrid(df_grid_search_xgb_reg, col=\"param_min_child_weight\")\n",
    "fig_xgb_reg.map(sns.lineplot, \"param_subsample\", \"mean_test_score\", \"param_max_depth\")\n",
    "plt.plot([], [], ' ', label=\"param_max_depth\")\n",
    "plt.legend()\n",
    "plt.show()"
   ]
  },
  {
   "cell_type": "code",
   "execution_count": 100,
   "metadata": {},
   "outputs": [
    {
     "data": {
      "text/plain": [
       "0.8103144834477073"
      ]
     },
     "execution_count": 100,
     "metadata": {},
     "output_type": "execute_result"
    }
   ],
   "source": [
    "grid_search_xgb_reg.score(X_test, y_test)"
   ]
  },
  {
   "cell_type": "code",
   "execution_count": 101,
   "metadata": {},
   "outputs": [
    {
     "name": "stdout",
     "output_type": "stream",
     "text": [
      "RMSE: 0.41179710113879536\n"
     ]
    },
    {
     "data": {
      "image/png": "[encoded data removed]",
      "text/plain": [
       "<Figure size 432x288 with 1 Axes>"
      ]
     },
     "metadata": {
      "needs_background": "light"
     },
     "output_type": "display_data"
    }
   ],
   "source": [
    "plot_test(grid_search_xgb_reg, X_test, y_test)"
   ]
  }
 ],
 "metadata": {
  "kernelspec": {
   "display_name": "Python 3",
   "language": "python",
   "name": "python3"
  },
  "language_info": {
   "codemirror_mode": {
    "name": "ipython",
    "version": 3
   },
   "file_extension": ".py",
   "mimetype": "text/x-python",
   "name": "python",
   "nbconvert_exporter": "python",
   "pygments_lexer": "ipython3",
   "version": "3.8.6"
  }
 },
 "nbformat": 4,
 "nbformat_minor": 5
}
